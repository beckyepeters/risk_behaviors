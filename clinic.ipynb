{
 "cells": [
  {
   "cell_type": "markdown",
   "id": "df078422-5f28-4192-8b87-6d6dfede73bf",
   "metadata": {},
   "source": [
    "Clinic 2016 to 2021"
   ]
  },
  {
   "cell_type": "code",
   "execution_count": 69,
   "id": "e023381c-d9b3-47d9-9e19-4b9a4b74d5b0",
   "metadata": {},
   "outputs": [],
   "source": [
    "import pandas as pd\n",
    "import numpy as np\n",
    "import seaborn as sns\n",
    "import matplotlib.pyplot as plt\n",
    "plt.style.use('ggplot')\n",
    "%matplotlib inline\n",
    "import seaborn as sns\n",
    "colors = ['#b166eb', '#8858D4', '#664CC1', '#4B43B2', '#072B8B']\n",
    "sns.set_palette(colors)\n",
    "\n",
    "from sklearn.model_selection import train_test_split, KFold\n",
    "from sklearn.linear_model import LogisticRegression\n",
    "\\\n",
    "from sklearn.neighbors import KNeighborsClassifier\n",
    "from sklearn.svm import SVC\n",
    "from sklearn.ensemble import RandomForestClassifier\n",
    "from sklearn.naive_bayes import GaussianNB\n",
    "from xgboost import XGBClassifier\n",
    "from sklearn import model_selection \n",
    "from sklearn.utils import class_weight\n",
    "from sklearn.metrics import classification_report, confusion_matrix, accuracy_score, precision_score, f1_score, recall_score\n",
    "\n",
    "from sklearn.preprocessing import LabelEncoder\n",
    "\n",
    "# from scipy.stats import \n",
    "# import statsmodels.api as sm"
   ]
  },
  {
   "cell_type": "code",
   "execution_count": 70,
   "id": "01060dea-5c22-413c-84c3-5325daf2dd75",
   "metadata": {},
   "outputs": [],
   "source": [
    "cln = pd.read_csv('data/cln_2016_21.csv')"
   ]
  },
  {
   "cell_type": "code",
   "execution_count": 71,
   "id": "a2aa9f50-7110-4e4f-8468-a55d5d4b56a9",
   "metadata": {},
   "outputs": [
    {
     "name": "stdout",
     "output_type": "stream",
     "text": [
      "<class 'pandas.core.frame.DataFrame'>\n",
      "RangeIndex: 76106 entries, 0 to 76105\n",
      "Data columns (total 28 columns):\n",
      " #   Column                            Non-Null Count  Dtype  \n",
      "---  ------                            --------------  -----  \n",
      " 0   patientid                         76106 non-null  object \n",
      " 1   patientdob                        76106 non-null  object \n",
      " 2   patient_age                       76106 non-null  int64  \n",
      " 3   patient_zip                       76106 non-null  object \n",
      " 4   race                              76094 non-null  object \n",
      " 5   multiple_races                    76094 non-null  object \n",
      " 6   ethnicity                         76089 non-null  object \n",
      " 7   _cncrns_bt_mtng_bsc_nds__fd_____  32179 non-null  object \n",
      " 8   cln_enc_id                        76106 non-null  int64  \n",
      " 9   enc_Ht_date                       76106 non-null  object \n",
      " 10  enc_Ht                            76106 non-null  object \n",
      " 11  enc_Wt_date                       76106 non-null  object \n",
      " 12  enc_Wt                            76047 non-null  object \n",
      " 13  enc_BMI_date                      76106 non-null  object \n",
      " 14  enc_BMI                           76029 non-null  float64\n",
      " 15  chrt_epsd_id                      0 non-null      float64\n",
      " 16  order_id                          76106 non-null  int64  \n",
      " 17  labrdocid                         73713 non-null  float64\n",
      " 18  order_chartdate                   76106 non-null  object \n",
      " 19  order_name__single_               76106 non-null  object \n",
      " 20  labvalue                          72658 non-null  object \n",
      " 21  labanalyte                        0 non-null      float64\n",
      " 22  labinterpretation                 0 non-null      float64\n",
      " 23  svc_dprtmnt                       76106 non-null  object \n",
      " 24  age_at_dos                        76106 non-null  int64  \n",
      " 25  primary_clm_ins_pkg_name          76106 non-null  object \n",
      " 26  primary_clm_ins_pkg_name.1        76106 non-null  object \n",
      " 27  clm_sldng_fee_ins_pkg_name        0 non-null      float64\n",
      "dtypes: float64(6), int64(4), object(18)\n",
      "memory usage: 16.3+ MB\n"
     ]
    }
   ],
   "source": [
    "cln.info()"
   ]
  },
  {
   "cell_type": "code",
   "execution_count": 72,
   "id": "f53720bc-b133-4776-9488-c8e85d8ebf31",
   "metadata": {},
   "outputs": [
    {
     "data": {
      "text/plain": [
       "40682"
      ]
     },
     "execution_count": 72,
     "metadata": {},
     "output_type": "execute_result"
    }
   ],
   "source": [
    "len(cln.labrdocid.unique())"
   ]
  },
  {
   "cell_type": "code",
   "execution_count": 73,
   "id": "23266f54-4b27-4ba0-a7dc-9808f10580dc",
   "metadata": {},
   "outputs": [
    {
     "data": {
      "text/plain": [
       "(array(['negative', nan, 'positive'], dtype=object),\n",
       " negative    13643\n",
       " positive     1136\n",
       " Name: labvalue, dtype: int64,\n",
       " 343)"
      ]
     },
     "execution_count": 73,
     "metadata": {},
     "output_type": "execute_result"
    }
   ],
   "source": [
    "crafft = cln.loc[(cln['order_name__single_']=='CRAFFT, SUBSTANCE ABUSE SCREENING FOR ADOLESCENTS*')]\n",
    "crafft.labvalue.unique(), crafft.labvalue.value_counts(), crafft.labvalue.isnull().sum()"
   ]
  },
  {
   "cell_type": "code",
   "execution_count": 74,
   "id": "a33b0935-8a72-4e40-b282-f3c10e93b5b2",
   "metadata": {
    "scrolled": true,
    "tags": []
   },
   "outputs": [],
   "source": [
    "phq = cln.loc[(cln['order_name__single_']=='PATIENT HEALTH QUESTIONNAIRE-9*')]\n",
    "responses = phq.labvalue.unique()"
   ]
  },
  {
   "cell_type": "code",
   "execution_count": 75,
   "id": "3a0d4913-e966-4d74-83f2-075c73b41b29",
   "metadata": {},
   "outputs": [
    {
     "data": {
      "text/plain": [
       "negative       6325\n",
       "0              3255\n",
       "1               819\n",
       "2               746\n",
       "3               505\n",
       "positive        501\n",
       "4               320\n",
       "6               199\n",
       "5               193\n",
       "7               156\n",
       "8                99\n",
       "9                98\n",
       "11               77\n",
       "10               66\n",
       "12               64\n",
       "13               41\n",
       "14               40\n",
       "15               31\n",
       "16               18\n",
       "18               17\n",
       "19               13\n",
       "o                12\n",
       "20               10\n",
       "17                6\n",
       "21                6\n",
       "O                 2\n",
       "22                2\n",
       "26                2\n",
       "25                2\n",
       "24                2\n",
       "23                1\n",
       "27                1\n",
       "18 - severe       1\n",
       "1.5               1\n",
       "18/20             1\n",
       "Name: labvalue, dtype: int64"
      ]
     },
     "execution_count": 75,
     "metadata": {},
     "output_type": "execute_result"
    }
   ],
   "source": [
    "phq.labvalue.value_counts()"
   ]
  },
  {
   "cell_type": "code",
   "execution_count": 76,
   "id": "4ddb1e40-ae23-4687-aaeb-8e005f9e7123",
   "metadata": {},
   "outputs": [
    {
     "data": {
      "text/plain": [
       "Text(0.5, 1.0, '35 Unique Responses for PHQ Survey LabValue')"
      ]
     },
     "execution_count": 76,
     "metadata": {},
     "output_type": "execute_result"
    },
    {
     "data": {
      "image/png": "[encoded data removed]",
      "text/plain": [
       "<Figure size 1080x576 with 1 Axes>"
      ]
     },
     "metadata": {
      "needs_background": "light"
     },
     "output_type": "display_data"
    }
   ],
   "source": [
    "fig, ax = plt.subplots(figsize=(15, 8))\n",
    "sns.countplot(data=phq, y='labvalue', ax = ax, palette = colors)\n",
    "ax.set_title('35 Unique Responses for PHQ Survey LabValue')"
   ]
  },
  {
   "cell_type": "code",
   "execution_count": 77,
   "id": "63b6743f-c776-4da1-9301-2a84d9b18ba9",
   "metadata": {
    "scrolled": true,
    "tags": []
   },
   "outputs": [
    {
     "data": {
      "text/plain": [
       "510"
      ]
     },
     "execution_count": 77,
     "metadata": {},
     "output_type": "execute_result"
    }
   ],
   "source": [
    "phq_mfa = cln.loc[(cln['order_name__single_']=='PATIENT HEALTH QUESTIONNAIRE MODIFIED FOR ADOLESCENTS*')]\n",
    "len(phq_mfa.labvalue.unique())\n",
    "#510 unique responses for the PHQMFA"
   ]
  },
  {
   "cell_type": "code",
   "execution_count": 78,
   "id": "b9d9b3f8-595d-4cfc-9007-9759352a9a9a",
   "metadata": {
    "scrolled": true,
    "tags": []
   },
   "outputs": [
    {
     "data": {
      "text/plain": [
       "array(['0', 'negative', '3', '1', 'INCOMPLETE', '10', 'positive', '2',\n",
       "       '8', '4', '19', '21', 'Just Health', '4/0/5', '11/0/10', nan, '13',\n",
       "       'Positive for anxiety; long discussion with patient re: resources. He wants to re-engage with this in the fall. He will f/u sooner if any questions or concerns.',\n",
       "       '9', '6/0/5', '17', '18', 'gad 7 = 18', '5', '14',\n",
       "       'CRAFFT 1, GAD7 result 0', 'CRAFFT 0, GAD7 result 0', 'gad7 = 0',\n",
       "       'gad 7 = 0', '15', 'Refer to BHP',\n",
       "       'Scared = 75. Saw BHP yestereday and will see BHP tomorrow.', '24',\n",
       "       '25', 'CRAFFT 1, GAD 7 result 5', 'PHQ 0', '6',\n",
       "       'CRAFFT 0, GAD7 result 1', 'CRAFFT 2, GAD 7results 13', '16',\n",
       "       'Mild improvement from 16 last month', '12',\n",
       "       'CRAFFT 1, GAD7 result 11; After discussion, feel more tied to sleep issues and physical symptoms.',\n",
       "       '7', 'Mild', 'CRAFFT 1, GAD7 results 12',\n",
       "       'CRAFFT 3, GAD7 result 10', 'Gad 7= 3.', 'Mild Depression',\n",
       "       'Gad7 =  6', 'CRAFFT 3, GAD7 result 4',\n",
       "       'CRAFFT 1, GAD7result of 3', 'hx SA, denies SI in the past month',\n",
       "       'Negative', 'mild', '23', '11', '3`',\n",
       "       'teen will ask for BHC at her school',\n",
       "       'item 9 is zero, feels happy, no SI, no hx SA',\n",
       "       'no SI/HI, no SA or self harm',\n",
       "       'item 9 is zero, no SI/HI, doing well', 'item 9 is zero',\n",
       "       'score shows \"\"mild depresion\"\" on Just Health. discussed.',\n",
       "       'item 9 is zero - no SI, no history of attempts, possible mild depression',\n",
       "       'no SI or self harm, no hx SA. Scored 3 for little interest (but enjoys coloring and sports, busy with school but not withdrawn)',\n",
       "       'score of 8: trouble concentrating 3, moving fast 3. No SI, no safety concerns',\n",
       "       'mild depression', 'neg', 'p',\n",
       "       'Item 9 is zero, pt reports symptoms improving over spring break -attributes to school stress',\n",
       "       'item 9 is zero, no SI/HI, positive for concentration/appetite/sleep',\n",
       "       'Item 9 is zero', 'o', 'SA', '22',\n",
       "       'reviewed w/ pt - she scored 3 for little interest and when asked she says she meant nearly every day she enoys doing things (no anhedonia)',\n",
       "       'no SI/HI/self harm/SA', '3n', 'cutting vein, 2yrs ago', '26',\n",
       "       'item 9 is zero, no hx SA, no self harming behaviors, no SI', '20',\n",
       "       'n', 'GAD + (6)',\n",
       "       '2 high scores were for poor sleep and poor attn.  already working with AuMH',\n",
       "       'pt admitted to cutting himself in 2019',\n",
       "       'for sleep issues, feels tired and low concentration',\n",
       "       'Item 9 is zero, no SI/HI, feels happy',\n",
       "       'item 9 is zero, no si, denies hx self harm', '8-Jul',\n",
       "       'total of 9', '1/0/5', 'Mild concern', '7-Jul',\n",
       "       'no si/hi, no hx sa, no self harm',\n",
       "       'Item 9 is zero - pt reports decreased focus this summer, sleeping more because of the summer schedule, picked on by brothers but denies feeling sad/bothered, denies feeling threatened/hurt/unsafe/overwhelmed',\n",
       "       'no si, item 9 is zero', '#NAME?', '0/0/0', '8/0/4', '6/0/10',\n",
       "       'J/H reviewed', '17/13', '#9 NO', 'no SI/self harm, no hx SA',\n",
       "       'answered a yes question', 'met with BHC (Ashley)',\n",
       "       'PHQ13 completed and no referral desired', 'Mild symptoms',\n",
       "       '19/0/12', 'some trouble sleeping, no SI',\n",
       "       'Item 9 is zero, no SI/HI or history of SA',\n",
       "       'Just Health reviewed', 'CRAFFT 2, GAD7 result 10',\n",
       "       'item 9 is zero, no SI/HI or history of suicidal attempt',\n",
       "       'Pt has history of depression and is in remission on meds at this time. GAD 7 results 7',\n",
       "       'Met with Rebecca Gostlin, BHP', '25/17',\n",
       "       'item 9 is zero, no hx SA/SI, no self harming',\n",
       "       'no SI/HI, no hx harm', 'depressed most days', 'decreased score',\n",
       "       'no SI/HI',\n",
       "       'item 9 is zero, no HI/SI/SA, scored 3 for little interest/pleasure but reports enjoying same things as always - soccer, cooking',\n",
       "       'CRAFFT 0, GAD 7 result 0', 'CRAFFT 0 GAD7 result 0',\n",
       "       'borderline positive, no SI/HI, no SA, no self harm',\n",
       "       'improved from previous', 'Gad 7 = 7, SCARED = 8',\n",
       "       'positive on yes questions', '0/0/1',\n",
       "       'Item 9 is zero. No SI/HI. Reports can talk to FOC and friends',\n",
       "       'referred to BHC for school bullying',\n",
       "       'F/u visit planned with BHP in the SBHC',\n",
       "       'item 9 is zero. Scored 2 points for sleep. No SI/HI/SA',\n",
       "       'ppsitive for depressed feeling most days', 'GAD 7 results 20',\n",
       "       'Discussed with Rebecca Gostlin, BHP',\n",
       "       'Discussed with D.Archer, NP', 'gad 7 = 1', '2n',\n",
       "       'CRAFFT 0  GAD7 results of 1', '20/21', 'denies SI/HI, no hx SA',\n",
       "       'item 9 is zero, no SI/HI/SA',\n",
       "       'Responded that it has been somewhat difficult to do work, take care of things at home, or get along with other people',\n",
       "       'item 9 is zero. 1 point each for sleep and troule concentrating',\n",
       "       'Reviewed score of 3 for item 2: pt misread question and states he enjoys things still as much as ever. 2 points for stuttering and 2 points for trouble concentrating on school work sometimes. Item 9 is zero. No depressed mood, SI/HI, or SA',\n",
       "       'f/u at WCC in 2wk', 'suicidal thoughts', 'for self harm',\n",
       "       'no safety concerns', 'score=0',\n",
       "       'Responded yes to feeling depressed/sad most days in the past year',\n",
       "       'Yes for depression', 'recent death of her best friend',\n",
       "       'Cassidy aware', 'positive self harm', '0.5', 'O',\n",
       "       'ITEM 9 IS ZERO', 'no SI, no concerns',\n",
       "       'No concerns, pt reports doing well', 'did not complete',\n",
       "       'total of 0', 'had a yes', 'yes to depressed within the last year',\n",
       "       '2w', 'yes on #10', 'Alfie aware', 'Mild depression', 'pass',\n",
       "       'could not locate results - done on Apex ipad but not in system',\n",
       "       'interviewed, score by interview, no SI/HI',\n",
       "       'negative for SI and negative for self harm, no hx SA',\n",
       "       'Talked to provider', '2 yes questions', 'total of 5',\n",
       "       \"MOC didn't complete\", '8 (mild)',\n",
       "       'see just health and visit note', 'GAD 7 positive', '`', '15.5',\n",
       "       'pt forgot to do PHQ/A. Forgot to finish ASQ',\n",
       "       'pt did not complete',\n",
       "       'item 9 is negative, no SI, no self harm, no hx SA, no desire to die, has goals/plans',\n",
       "       'no SI/SA or self harm', 'did not answe ASQ', 'not compeleted',\n",
       "       '27', 'pt did not fill out screenings',\n",
       "       'No SI/HI, happy most days', 'positive to harm question',\n",
       "       'answered 1 yes question', 'agrees to see Bri here in our office',\n",
       "       'Item 9 is zero, no SI/HI', 'no SI/HI, no hx SA',\n",
       "       'positive but not concerning', 'mom filled it out for him',\n",
       "       'no SI, no self harm, no hx SA, no safety concerns. +prev dx ADHD',\n",
       "       'neg PHQ, pos ASQ for history of SI/SA',\n",
       "       'PHQ-2 completed, no SI/HI, no hx SA. Reports doing well',\n",
       "       'could not find hard copy/score',\n",
       "       'no recent SI, self harm. Remote hx SA. Reviewed with pt and plan formulated, strict precautions given',\n",
       "       'Pt monitored at AMH',\n",
       "       'Item 9 is zero. Highest points for difficulty concentrating and being overly active',\n",
       "       'Scored 1 point each for tired, feeling bad. Negative to all others including item 9. Supplemental questions negative',\n",
       "       'PHQ score from JustHealth. Pt also completed paper PHQ and score=12',\n",
       "       'did not answer ASQ', 'no SI/HI, no self harm, no safety concerns',\n",
       "       'item 9 is zero, no SI/HI or history of SA, no self harm. Feels stressed by weight and school. Was sad and stressed about friend moving but this is no longer happening. Confides in friend. Has interests',\n",
       "       'history of cutting, no history of SA, no SI/plan/intent',\n",
       "       'History of self harm behavior - reviewed, see notes',\n",
       "       'Answered \"\"yes\"\" questions', 'she and dad deny depression',\n",
       "       'score by paper PHQ, tablet PHQ is 0',\n",
       "       'item 9 is zero, no SI/HI, denies s/sx depression',\n",
       "       'never\"\" for suicide questions',\n",
       "       'item 9 is zero. Hx cutting, no SI/HI/SA', 'ASQ not completed',\n",
       "       'Answered a yes questions', 'answered yes to 1 question', 'no si',\n",
       "       '+ for \"\"end life this month\"\", but when I discussed results with her, she states she pressed the wrong thing',\n",
       "       'total of 3', 'never SI',\n",
       "       'for previous suicide ideation. denies problems now.',\n",
       "       'tried to stab self 5-6 yrs ago', 'blank',\n",
       "       'Teen was locked out of the ipad, left before staff aware', '30',\n",
       "       '55', 'Answered 2 to question 9',\n",
       "       'item 9 is zero, no hx SA, no SI. Pt reports some symptoms including fatigue related to not feeling well',\n",
       "       'Total of 14',\n",
       "       'no SI, no self harm, no hx SA, no acute safety concerns',\n",
       "       'ASQ negative upon review and further discussion',\n",
       "       'All responses are zero', 'no SI', 'PHQ 9-11, GAD 7-11',\n",
       "       'Total of 0', '0/0',\n",
       "       'Negative as no SI/HI, item 9 is zero. However, reports depressed most days in the past year and very difficult',\n",
       "       'item 9 is zero, not feeling sad or overwhelmed, no SI/SA, denies stress or concerns at home or school',\n",
       "       'Accidently hurt himself', 'yes question',\n",
       "       'item 9 is zero, all supplemental questions are negative',\n",
       "       'already in therapy and on zoloft', 'yes to sad',\n",
       "       'done via JustHealth tablet',\n",
       "       'Answered yes to tried to kill yourself or made suicidal attempts',\n",
       "       'depressed or sad most days',\n",
       "       'PHQ-A Positive per Sophia (pt did not answer)',\n",
       "       'patient not finshed it', 'unknown, not entered at time of appt',\n",
       "       '+ previous SI 2 years ago', 'no current SI, but + history of SI',\n",
       "       'teen declines BHC referral',\n",
       "       'school stress, sadness sometimes, denies SI/HI/SA, denies safety concerns',\n",
       "       'no SI/HI, SA, or self harm', 'on medication',\n",
       "       'Item 9 is zero. Pt scored 2 points for feeling tied and 1 point for feeling bad',\n",
       "       'yes for depressed in past year',\n",
       "       'item 9 is zero, no SI, no hx SA or safety concerns',\n",
       "       'referred to AuMH', 'Answered yes to the harm questions',\n",
       "       'total of 2',\n",
       "       'somewhat difficult to do work, take care of things, or get along with people',\n",
       "       'severe depression', '18 total and yes to all the harm questions',\n",
       "       'Item 9 is zero. Pt denies any SI/HI or SA. Points mostly for feeling tired after school and for trouble concentrating. Pt feels he is happy the vast majority of days',\n",
       "       \"see Rochelle's notes\", 'total of 4', 'pt did not finish packet',\n",
       "       'item 9 is zero, no safety concerns, no SI/HI, no hx suicidal attempts',\n",
       "       'consistent with moderate depression',\n",
       "       'discussed/assessed, warm handoff',\n",
       "       'no SI/HI, no concerns by interview',\n",
       "       'much improved from previous score!', 'see ROS',\n",
       "       'no SI, no hx SA, no self harm, no safety concerns',\n",
       "       'borderline positive, discussed with teen. offered BHC. she declined today.',\n",
       "       'responded yes to feeling sad or depressed most days in the past year',\n",
       "       'Responded yes to feeling sad or depressed most days',\n",
       "       'no SI, feels happy most days', 'no PHQA',\n",
       "       'Item 9 is zero, feels happy, no SI/HI, has a lot of interests',\n",
       "       'history of suicidal ideation age 11y, no recent/current SI/HI, denies plan/intent',\n",
       "       'see JustHealth', 'no SI, no SA, denies any history of abuse',\n",
       "       \"PT didn't turn  packet in\", 'no SI/HI, self harm, SA',\n",
       "       'item 9 is zero, feels happy, denies concerns',\n",
       "       'item 9 is zero, consistent with possible mild depression',\n",
       "       \"Pt didn't complete\", 'neg SI/self harm/SA', 'GAD 17', 'Dr aware',\n",
       "       'no safety concerns, no SI, SA, or self harm', '4-Apr',\n",
       "       'was PHQ13', 'Item 9 is zero. Happy, no SI/HI, doing well per pt',\n",
       "       'pt has h/o SI >1 year ago, prev at AuMHC, none since',\n",
       "       'SI requiring hospitalization last month', '20/19', 'severe',\n",
       "       'item 9 is negative, no self harm, no ideation for harm, no feelings of not wanting to live (happy with life, has goals and plans)',\n",
       "       'no SI/HI, happy majority of days', 'GAD 7 = 6',\n",
       "       'teen already working with BHC',\n",
       "       'Item 9 is zero. Supplemental questions negative',\n",
       "       'PHQ on tablet negative. Reviewed paper asq, see scanned for notes, overall assessment negative',\n",
       "       'referral made',\n",
       "       'No interim suicidal ideation, no suicidal attempt',\n",
       "       'Item 9 is zero, no SI/HI/SA', 'item 9 is zeo', '0/1/19',\n",
       "       '4 anxiety', 'item 9 is zero, supplemental questions negative',\n",
       "       '15/15', 'moderate',\n",
       "       'Item 9 is zero. Feels happy, no SI/HI. Feeling tired the past week but also has had some SN/RN. No trouble sleeping otherwise. Enjoys playing with brother and hanging out with friends',\n",
       "       'Item 9 is zero, no SI/SA, feels happy most days',\n",
       "       'denies SI, no hx SA, denies self harm',\n",
       "       'item 9 is zero, no SI/HI, no safety concerns, no hx SA attempt/self harm, reports good support',\n",
       "       '11 (initially 15- reviewed and she changed answers to 2 questions)',\n",
       "       'Will contact BHC',\n",
       "       'POSITIVE history of SA age 12y. Denies any attempts or ideation since',\n",
       "       'patient continuing therapy, denies SI/HI', 'Gad7 = 11.',\n",
       "       'Much improvement!', 'Gad -7= 1',\n",
       "       'Is connected with mental health counseling at Axis. SWOS BHP spoke with her counselor, Annie, to discuss care. She is closely monitored and is on waiting list for inpatient care at this time.',\n",
       "       'CRAFFT 4, GAD7 result 6', 'gad7=0',\n",
       "       'Saw BHP yesterday and is scheduled for repeat next week with BHP. No current SI. GAD 7 results 19',\n",
       "       'BHP reviewed screening with pt at time of visit. No concerns. Wording of questions affected responses.',\n",
       "       'gad7=5', 'CRAFFT 2, GAD7 result 1', 'discussed',\n",
       "       'DID NOT FILL OUT FORMS', 'CRAFT 1', '0/0/6', 'anxiety',\n",
       "       '?not saved - could not locate', 'UNK',\n",
       "       'Mild Depression and GAD score 6 (mild concern)',\n",
       "       'does not wish therapy',\n",
       "       'Item 9 is zero. Denies SI or history of SA. +depression/sadness most days in the past year marked \"\"yes\"\"',\n",
       "       'GAD 7- Results 0', 'GAD 7 results of 2',\n",
       "       'Immediate handoff to BHP for safety evaluation, plan established',\n",
       "       'c/w mild depression, no SI/HI, item 9 is zero',\n",
       "       'mom helped her since pt has mild delays',\n",
       "       'CRAFFT 0, GAD7 result 4', 'Gad 7 = 8',\n",
       "       'GAD 7 results 14. CRAFFT 0', 'Item 9 is zero.', 'Gad-7= 2',\n",
       "       'Provider notified', 'CRAFFT 0, GAD7 results 6',\n",
       "       'CRAFFT 0, GAD7 results 0', 'gad 7 = 0.', '2/1/00',\n",
       "       'no SI/HI, no hx SA, no self harm, feels safe and supported',\n",
       "       'Just moved in with aunt and uncle here in US.  Misses his family and friends back in Mexico.',\n",
       "       'item 9 is zero, no SI/HI. 1 point each for eating and sleep',\n",
       "       'Item 9 is zero, no SI/HI or history of SA. Score of 5 boerderline of normal vs. consider mild depression',\n",
       "       'CRAFFT 1, GAD7 result 12', 'mild concern',\n",
       "       'CRAFFT 0, GAD7 result 17',\n",
       "       \"already working with a counselor regularly.  feels like it's helping.  no need for additional help at this time.  NO SI at this time.\",\n",
       "       'no plan ideation, history of cutting, denies suicidal intent/ideation, wants a different life sometimes but does not want to end life or die, no acute safety concerns',\n",
       "       'referral but refused',\n",
       "       'no SI, feels happy, no behavioral/emotional concerns', 'CRAFFT 0',\n",
       "       'Discussed with Debrah Archer, N.P.',\n",
       "       'Negative for recent symptoms but positive history of suicidal attempt',\n",
       "       'provider notified_ JM',\n",
       "       'marked yes for feeling depressed most days, and that these problems have made it somewhat difficult to take care of things at home',\n",
       "       'no SI/HI or SA, no self harm, in therapy once weekly',\n",
       "       'teen just left mother in Mexico and moved here with aunt and uncle.  feels sad and misses his mom.',\n",
       "       'Administered in French, completed by patient',\n",
       "       'Item 9 is zero, no h/o SA, no SI/HI',\n",
       "       'Item 9 is more than half the days, denies SA or SI this month, screen will be scanned into CONF chart',\n",
       "       'item 9 was marked several days, clarified with patient who reports hurting himself when play fighting with friends/wrestling with friends, no self-harm, no suicidal ideation/plan/intent/attempt ever per patient. Thus, negative on review with pt and MOC. Deny safety concerns. Pt feels happy most days',\n",
       "       'teen will look into BHC at her school', 'CRAFT 0, GAD7 result 2',\n",
       "       'see A/P', 'no SI/HI, item 9 is zero',\n",
       "       'in therapies, denied SI/HI/safety concerns in interview',\n",
       "       '8 - incomplete', 'did not finish',\n",
       "       'no SI, no intent, no acute safety concerns, BHP appt scheduled 7/19/18',\n",
       "       'Scared = 49.',\n",
       "       'Discussed with patient by NP with motivational interviewing, including warm hand-off to BHP at the end of this visit.',\n",
       "       'CRAFT 0, GAD7 result 0', 'CRAFT 2, GAD7 results 12',\n",
       "       'CRAFT 0, GAD7 results 0', 'Reviewed with Rebecca Gostlin, BHP',\n",
       "       'Gad 7 Results 9',\n",
       "       'Improvement from last screening- was 17. On Zoloft 50mg for past 3 weeks',\n",
       "       'SCARED- significant for GAD at 9, and SAD at 11, is currently in treatment',\n",
       "       'This is a great improvement from score of 16 2 weeks ago, when new med was added. SCARED scores remained consistent, with GAD 10 and SAD 12',\n",
       "       'CRAFT 0, GAD7 results 14', 'GAD 7 15, Aces 8', '27-Sep', 'J/H',\n",
       "       'item 9 is zero, no history of SA/self harm or SI in the past month',\n",
       "       '1/0/9', 'when asked further misinterpreted data',\n",
       "       'Appt made to see BHP Monday morning.',\n",
       "       'Very mild depression - improving', 'yes to harm question',\n",
       "       'yes to the harm questions', 'Gad - 7 = 0',\n",
       "       'positive for mild depression and mild concer for anxiety on the GAD 7 today',\n",
       "       'GAD7=13', 'Gad7 = 14',\n",
       "       'Pt seen by BHP and will F/u with BHP again this week',\n",
       "       'Patient seen by BHP in an integrataed visit with f/u.', '16-Feb',\n",
       "       'SCARED 65, ACES 3, Connected with BHP in Dove Creek',\n",
       "       'Gad 7 = 13.', 'F/u with BHP', 'Gad 7 = 3.',\n",
       "       'This is on medication- so depression controlled',\n",
       "       'item 9 is zero, no self harm or SI, no hx SA',\n",
       "       'No SI/SA/self harm',\n",
       "       'referred to Axis Health for crisis evaluation.',\n",
       "       'no SI/HI, no self harm, no anhedonia, happy most days',\n",
       "       'GAD 7 score of 11. With discussion, depression and anxiety is closely tied to past trauma.',\n",
       "       'via JustHealth, no SI/HI/SA/self harm',\n",
       "       'no SI/HI, no self harm or safety concerns',\n",
       "       'Followed by Axis Health Systems', 'gad7 = 13', '10/0/0', '24/15',\n",
       "       'item 9 is zero, no SI/self harm or history of SA', '0/0/7',\n",
       "       'GAD 7 = 0.', 'Gad7 = 13.', 'Gad7 = 0', '1/1/00',\n",
       "       'Pos PHQ2, PHQ9 score 3', '+SI, +hx SA',\n",
       "       'hx SA within the past month (see HPI), no SI in past 2 weeks per pt, no suicidal intent per pt',\n",
       "       'Not completed', '13/0/13', 'just Health',\n",
       "       'item 9 is zero, no hx SA or self harm', 'Gad 7 = 2.',\n",
       "       'no si/hi, no self harm or safety concerns', '0/0/4',\n",
       "       'pt reports suicidal ideation/\"\"attempt\"\" age 6y, none since, safety assessment done and plan made',\n",
       "       'item 9 is zero, no SI/HI, no hx of SA or self harm',\n",
       "       'patient declined', 'Last 2 Qs negative',\n",
       "       'answered yes to feeling depressed or sad most days',\n",
       "       'struggling with depression', 'no SI/SA/self harm',\n",
       "       'no SI/self harm/SA',\n",
       "       'Mild concern- after discussion, feel this is negative at this time.',\n",
       "       'nl screen',\n",
       "       'item 9 is zero, no SI or intent, history of SA in the past, reports in a better place now',\n",
       "       'item 9 is zero, no SI or safety concerns', 'positive for SI',\n",
       "       'Discussed with BHP at visit today.', '0 on JH, 1 on paper',\n",
       "       'no si/hi/sa', 'no SI, no hx SI/SA',\n",
       "       'item 9 is zero, no suicidal ideation or intent, hx suicidal attempt in past',\n",
       "       'Patient completed, then accidentally deleted before submitted. Pt declined completing tablet screen again. Meeting with BHP 11/6/18',\n",
       "       'On meds', 'Mild Depression. Warm Handoff to BHP today.',\n",
       "       'no SI, item 9 is zero', 'self harm questions answered yes',\n",
       "       'Discussed with Rebecca Gostling, BHP', 'past SI currently neg',\n",
       "       'item 9 is zero, no SI/HI/self harm', 'autism',\n",
       "       'MOC declined today, states pt has support, denies any concerns, pt also without concerns on interview',\n",
       "       'Improved from 14 prior to start of Wellbutrin 3 weeks ago',\n",
       "       'Answered 1 to question 9', \"Didn't fill out ASQ\",\n",
       "       'no SI/HI, no SA, no self harm', 'done on JustHealth',\n",
       "       'thoughts of cutting, no suicidal plan/intent', '17 mo',\n",
       "       'Discussed with Debrah Archer, N.P',\n",
       "       'This is an increase from 15 in April 2019', 'GAD POSITIVE',\n",
       "       'disregard score on APEX, redid verbally',\n",
       "       'Paper PHQ score is 1 for sleep, tablet score is 0',\n",
       "       'pt has NOT had previous suicidal attempt, has had fleeting thoughts of wanting to stab himself when he is angry without plan/motion/intent. Denies ideation of suicide, denies desire to die or kill himself/others, denies intent',\n",
       "       'score=4', 'positve GAD', 'paper PHQ/ASQ', 'referred to BHP',\n",
       "       'completed on tablet',\n",
       "       'denies interference with ADLs, reports coping well', 'Q#9: 0',\n",
       "       'due to prev SI', \"didn't finish language\",\n",
       "       'Denies depressed mood, guilt, hopelessness, anhedonia, trouble concentrating, changes in sleep/appetite, SI or other concerns by interview',\n",
       "       'Not saved on tablet', 'Positive on ADHD related questions',\n",
       "       'Score = 0'], dtype=object)"
      ]
     },
     "execution_count": 78,
     "metadata": {},
     "output_type": "execute_result"
    }
   ],
   "source": [
    "phq_mfa.labvalue.unique()"
   ]
  },
  {
   "cell_type": "code",
   "execution_count": 79,
   "id": "efe8dcd7-affa-48fe-bd83-c08d8b6b691f",
   "metadata": {},
   "outputs": [
    {
     "data": {
      "text/plain": [
       "(array(['No', nan, 'Patient did not answer question', 'Yes', \"Don't Know\"],\n",
       "       dtype=object),\n",
       " No                                 1442\n",
       " Patient did not answer question      43\n",
       " Don't Know                           24\n",
       " Yes                                  15\n",
       " Name: labvalue, dtype: int64)"
      ]
     },
     "execution_count": 79,
     "metadata": {},
     "output_type": "execute_result"
    }
   ],
   "source": [
    "ts = cln.loc[(cln['order_name__single_']=='TEENSCREEN QUESTIONNAIRE*')]\n",
    "ts.labvalue.unique(), ts.labvalue.value_counts()"
   ]
  },
  {
   "cell_type": "code",
   "execution_count": 80,
   "id": "d872332e-511e-4fb2-bec9-5669bf2e578e",
   "metadata": {},
   "outputs": [
    {
     "data": {
      "text/plain": [
       "Text(0.5, 1.0, 'Four Unique Responses for TeenScreen Questionnaire LabValue')"
      ]
     },
     "execution_count": 80,
     "metadata": {},
     "output_type": "execute_result"
    },
    {
     "data": {
      "image/png": "[encoded data removed]",
      "text/plain": [
       "<Figure size 1080x576 with 1 Axes>"
      ]
     },
     "metadata": {
      "needs_background": "light"
     },
     "output_type": "display_data"
    }
   ],
   "source": [
    "fig, ax = plt.subplots(figsize=(15, 8))\n",
    "sns.countplot(data=ts, y='labvalue', ax = ax, palette = colors)\n",
    "ax.set_title('Four Unique Responses for TeenScreen Questionnaire LabValue')"
   ]
  },
  {
   "cell_type": "code",
   "execution_count": 81,
   "id": "37ff7e1a-175c-4585-af99-1cc22844c45e",
   "metadata": {},
   "outputs": [
    {
     "name": "stdout",
     "output_type": "stream",
     "text": [
      "<class 'pandas.core.frame.DataFrame'>\n",
      "Int64Index: 15122 entries, 0 to 76103\n",
      "Data columns (total 28 columns):\n",
      " #   Column                            Non-Null Count  Dtype  \n",
      "---  ------                            --------------  -----  \n",
      " 0   patientid                         15122 non-null  object \n",
      " 1   patientdob                        15122 non-null  object \n",
      " 2   patient_age                       15122 non-null  int64  \n",
      " 3   patient_zip                       15122 non-null  object \n",
      " 4   race                              15121 non-null  object \n",
      " 5   multiple_races                    15121 non-null  object \n",
      " 6   ethnicity                         15118 non-null  object \n",
      " 7   _cncrns_bt_mtng_bsc_nds__fd_____  6439 non-null   object \n",
      " 8   cln_enc_id                        15122 non-null  int64  \n",
      " 9   enc_Ht_date                       15122 non-null  object \n",
      " 10  enc_Ht                            15122 non-null  object \n",
      " 11  enc_Wt_date                       15122 non-null  object \n",
      " 12  enc_Wt                            15111 non-null  object \n",
      " 13  enc_BMI_date                      15122 non-null  object \n",
      " 14  enc_BMI                           15106 non-null  float64\n",
      " 15  chrt_epsd_id                      0 non-null      float64\n",
      " 16  order_id                          15122 non-null  int64  \n",
      " 17  labrdocid                         15087 non-null  float64\n",
      " 18  order_chartdate                   15122 non-null  object \n",
      " 19  order_name__single_               15122 non-null  object \n",
      " 20  labvalue                          14779 non-null  object \n",
      " 21  labanalyte                        0 non-null      float64\n",
      " 22  labinterpretation                 0 non-null      float64\n",
      " 23  svc_dprtmnt                       15122 non-null  object \n",
      " 24  age_at_dos                        15122 non-null  int64  \n",
      " 25  primary_clm_ins_pkg_name          15122 non-null  object \n",
      " 26  primary_clm_ins_pkg_name.1        15122 non-null  object \n",
      " 27  clm_sldng_fee_ins_pkg_name        0 non-null      float64\n",
      "dtypes: float64(6), int64(4), object(18)\n",
      "memory usage: 3.3+ MB\n"
     ]
    }
   ],
   "source": [
    "crafft.info()"
   ]
  },
  {
   "cell_type": "code",
   "execution_count": 83,
   "id": "c2bdd49f-8c49-4a8c-9a6a-21cc449a2807",
   "metadata": {},
   "outputs": [
    {
     "data": {
      "text/plain": [
       "[Text(0, 0, '13643'), Text(0, 0, '1136')]"
      ]
     },
     "execution_count": 83,
     "metadata": {},
     "output_type": "execute_result"
    },
    {
     "data": {
      "image/png": "[encoded data removed]",
      "text/plain": [
       "<Figure size 1080x576 with 1 Axes>"
      ]
     },
     "metadata": {
      "needs_background": "light"
     },
     "output_type": "display_data"
    }
   ],
   "source": [
    "fig, ax = plt.subplots(figsize=(15, 8))\n",
    "sns.countplot(data=crafft, y='labvalue', ax = ax, palette = colors)\n",
    "ax.set_title('Two Unique Responses for CRAFFT Questionnaire LabValue')\n",
    "ax.bar_label(ax.containers[0], fontsize=15, fmt='%d')\n"
   ]
  },
  {
   "cell_type": "code",
   "execution_count": 84,
   "id": "bba23e42-57c1-43f7-893d-1476a3e8492d",
   "metadata": {},
   "outputs": [
    {
     "name": "stderr",
     "output_type": "stream",
     "text": [
      "/opt/anaconda3/lib/python3.7/site-packages/pandas/core/frame.py:4908: SettingWithCopyWarning: \n",
      "A value is trying to be set on a copy of a slice from a DataFrame\n",
      "\n",
      "See the caveats in the documentation: https://pandas.pydata.org/pandas-docs/stable/user_guide/indexing.html#returning-a-view-versus-a-copy\n",
      "  errors=errors,\n"
     ]
    }
   ],
   "source": [
    "# Remove empty columns\n",
    "crafft.drop(columns=['chrt_epsd_id', 'labanalyte', 'labinterpretation', 'clm_sldng_fee_ins_pkg_name', 'enc_Ht', 'enc_Wt'], inplace=True)"
   ]
  },
  {
   "cell_type": "code",
   "execution_count": 85,
   "id": "a19d5d60-a71d-46c3-9f86-a8247623cf32",
   "metadata": {},
   "outputs": [
    {
     "data": {
      "text/plain": [
       "patientid                            0.000000\n",
       "patientdob                           0.000000\n",
       "patient_age                          0.000000\n",
       "patient_zip                          0.000000\n",
       "race                                 0.006613\n",
       "multiple_races                       0.006613\n",
       "ethnicity                            0.026452\n",
       "_cncrns_bt_mtng_bsc_nds__fd_____    57.419653\n",
       "cln_enc_id                           0.000000\n",
       "enc_Ht_date                          0.000000\n",
       "enc_Wt_date                          0.000000\n",
       "enc_BMI_date                         0.000000\n",
       "enc_BMI                              0.105806\n",
       "order_id                             0.000000\n",
       "labrdocid                            0.231451\n",
       "order_chartdate                      0.000000\n",
       "order_name__single_                  0.000000\n",
       "labvalue                             2.268218\n",
       "svc_dprtmnt                          0.000000\n",
       "age_at_dos                           0.000000\n",
       "primary_clm_ins_pkg_name             0.000000\n",
       "primary_clm_ins_pkg_name.1           0.000000\n",
       "dtype: float64"
      ]
     },
     "execution_count": 85,
     "metadata": {},
     "output_type": "execute_result"
    }
   ],
   "source": [
    "# Inspect columns with high NaNs\n",
    "crafft.isnull().sum() / len(crafft) * 100"
   ]
  },
  {
   "cell_type": "code",
   "execution_count": 86,
   "id": "3a7c3486-916e-4932-b74b-7fe4e8f32f24",
   "metadata": {},
   "outputs": [
    {
     "data": {
      "text/plain": [
       "array([ True,  True,  True,  True,  True,  True,  True,  True,  True,\n",
       "        True,  True,  True,  True,  True,  True,  True,  True,  True,\n",
       "        True,  True,  True,  True,  True,  True,  True,  True,  True,\n",
       "        True,  True,  True,  True,  True,  True,  True,  True,  True,\n",
       "        True,  True,  True,  True,  True,  True,  True,  True,  True,\n",
       "        True,  True,  True,  True,  True,  True,  True,  True,  True,\n",
       "        True,  True,  True,  True,  True,  True,  True,  True,  True,\n",
       "        True,  True,  True,  True,  True,  True,  True,  True,  True,\n",
       "        True,  True,  True,  True,  True,  True,  True,  True,  True,\n",
       "        True,  True,  True,  True,  True,  True,  True,  True,  True,\n",
       "        True,  True,  True,  True,  True,  True,  True,  True,  True,\n",
       "        True,  True,  True,  True,  True,  True,  True,  True,  True,\n",
       "        True,  True,  True,  True,  True,  True,  True,  True,  True,\n",
       "        True,  True,  True,  True,  True,  True,  True,  True,  True,\n",
       "        True,  True,  True,  True,  True,  True,  True,  True,  True,\n",
       "        True,  True,  True,  True,  True,  True,  True,  True,  True,\n",
       "        True,  True,  True,  True,  True,  True,  True,  True,  True,\n",
       "        True,  True,  True,  True])"
      ]
     },
     "execution_count": 86,
     "metadata": {},
     "output_type": "execute_result"
    }
   ],
   "source": [
    "crafft.primary_clm_ins_pkg_name.unique() == crafft['primary_clm_ins_pkg_name.1'].unique()"
   ]
  },
  {
   "cell_type": "code",
   "execution_count": 87,
   "id": "21db296b-2c50-478f-b44f-2ca11ed13626",
   "metadata": {},
   "outputs": [],
   "source": [
    "crafft.drop(columns=['patientid', 'patientdob', 'patient_zip', 'enc_Ht_date', \n",
    "                 'enc_Wt_date', 'enc_BMI_date', 'enc_BMI', 'order_id', 'labrdocid', \n",
    "                 'order_chartdate', 'primary_clm_ins_pkg_name', 'multiple_races', 'cln_enc_id'], inplace=True)"
   ]
  },
  {
   "cell_type": "code",
   "execution_count": 88,
   "id": "9fcd6968-81ec-49f2-b263-858f562ca47a",
   "metadata": {},
   "outputs": [
    {
     "name": "stdout",
     "output_type": "stream",
     "text": [
      "<class 'pandas.core.frame.DataFrame'>\n",
      "Int64Index: 15122 entries, 0 to 76103\n",
      "Data columns (total 9 columns):\n",
      " #   Column                            Non-Null Count  Dtype \n",
      "---  ------                            --------------  ----- \n",
      " 0   patient_age                       15122 non-null  int64 \n",
      " 1   race                              15121 non-null  object\n",
      " 2   ethnicity                         15118 non-null  object\n",
      " 3   _cncrns_bt_mtng_bsc_nds__fd_____  6439 non-null   object\n",
      " 4   order_name__single_               15122 non-null  object\n",
      " 5   labvalue                          14779 non-null  object\n",
      " 6   svc_dprtmnt                       15122 non-null  object\n",
      " 7   age_at_dos                        15122 non-null  int64 \n",
      " 8   primary_clm_ins_pkg_name.1        15122 non-null  object\n",
      "dtypes: int64(2), object(7)\n",
      "memory usage: 1.7+ MB\n"
     ]
    }
   ],
   "source": [
    "crafft.info()"
   ]
  },
  {
   "cell_type": "code",
   "execution_count": 89,
   "id": "a7f9fc79-9fa7-4f9b-870d-efa3d16ac97c",
   "metadata": {},
   "outputs": [],
   "source": [
    "crafft.drop(columns=['_cncrns_bt_mtng_bsc_nds__fd_____'], inplace=True)"
   ]
  },
  {
   "cell_type": "code",
   "execution_count": 90,
   "id": "a2ed49bd-0c0b-4937-9508-730374fbf7e2",
   "metadata": {},
   "outputs": [],
   "source": [
    "crafft.drop(columns=['patient_age'], inplace=True)"
   ]
  },
  {
   "cell_type": "code",
   "execution_count": 91,
   "id": "e9138ca8-5d31-4b53-8dd8-ff5c282d8bfd",
   "metadata": {},
   "outputs": [
    {
     "name": "stderr",
     "output_type": "stream",
     "text": [
      "/opt/anaconda3/lib/python3.7/site-packages/pandas/core/generic.py:6610: SettingWithCopyWarning: \n",
      "A value is trying to be set on a copy of a slice from a DataFrame\n",
      "\n",
      "See the caveats in the documentation: https://pandas.pydata.org/pandas-docs/stable/user_guide/indexing.html#returning-a-view-versus-a-copy\n",
      "  return self._update_inplace(result)\n"
     ]
    }
   ],
   "source": [
    "crafft.race.replace(to_replace={'Black': 'Black or African American', 'African American': 'Black or African American', \n",
    "                               'American Indian': 'American Indian or Alaska Native', \n",
    "                               'Arab': 'Asian', 'Mexican American Indian': 'American Indian or Alaska Native'}, inplace=True)"
   ]
  },
  {
   "cell_type": "code",
   "execution_count": 92,
   "id": "a3937740-9be2-4e0a-a4b4-dba7b169ad36",
   "metadata": {},
   "outputs": [
    {
     "data": {
      "text/plain": [
       "array(['Patient Declined', 'White', 'American Indian or Alaska Native',\n",
       "       'Black or African American', 'Asian',\n",
       "       'Native Hawaiian or Other Pacific Islander', 'Other Race', nan],\n",
       "      dtype=object)"
      ]
     },
     "execution_count": 92,
     "metadata": {},
     "output_type": "execute_result"
    }
   ],
   "source": [
    "crafft.race.unique()"
   ]
  },
  {
   "cell_type": "code",
   "execution_count": 93,
   "id": "4923f1bf-9790-445e-86e0-e8681c6f5bdf",
   "metadata": {},
   "outputs": [
    {
     "name": "stdout",
     "output_type": "stream",
     "text": [
      "<class 'pandas.core.frame.DataFrame'>\n",
      "Int64Index: 15122 entries, 0 to 76103\n",
      "Data columns (total 7 columns):\n",
      " #   Column                      Non-Null Count  Dtype \n",
      "---  ------                      --------------  ----- \n",
      " 0   race                        15121 non-null  object\n",
      " 1   ethnicity                   15118 non-null  object\n",
      " 2   order_name__single_         15122 non-null  object\n",
      " 3   labvalue                    14779 non-null  object\n",
      " 4   svc_dprtmnt                 15122 non-null  object\n",
      " 5   age_at_dos                  15122 non-null  int64 \n",
      " 6   primary_clm_ins_pkg_name.1  15122 non-null  object\n",
      "dtypes: int64(1), object(6)\n",
      "memory usage: 1.4+ MB\n"
     ]
    }
   ],
   "source": [
    "crafft.info()"
   ]
  },
  {
   "cell_type": "code",
   "execution_count": 94,
   "id": "26bc80ed-0b11-4bdf-82fc-23dc07605b9e",
   "metadata": {
    "tags": []
   },
   "outputs": [
    {
     "name": "stderr",
     "output_type": "stream",
     "text": [
      "/opt/anaconda3/lib/python3.7/site-packages/pandas/util/_decorators.py:311: SettingWithCopyWarning: \n",
      "A value is trying to be set on a copy of a slice from a DataFrame\n",
      "\n",
      "See the caveats in the documentation: https://pandas.pydata.org/pandas-docs/stable/user_guide/indexing.html#returning-a-view-versus-a-copy\n",
      "  return func(*args, **kwargs)\n"
     ]
    }
   ],
   "source": [
    "crafft.dropna(axis=0, inplace=True)"
   ]
  },
  {
   "cell_type": "code",
   "execution_count": 95,
   "id": "8e649428-c0c7-4345-882a-b1e6a6a9d4c3",
   "metadata": {},
   "outputs": [
    {
     "name": "stdout",
     "output_type": "stream",
     "text": [
      "<class 'pandas.core.frame.DataFrame'>\n",
      "Int64Index: 14775 entries, 0 to 76103\n",
      "Data columns (total 7 columns):\n",
      " #   Column                      Non-Null Count  Dtype \n",
      "---  ------                      --------------  ----- \n",
      " 0   race                        14775 non-null  object\n",
      " 1   ethnicity                   14775 non-null  object\n",
      " 2   order_name__single_         14775 non-null  object\n",
      " 3   labvalue                    14775 non-null  object\n",
      " 4   svc_dprtmnt                 14775 non-null  object\n",
      " 5   age_at_dos                  14775 non-null  int64 \n",
      " 6   primary_clm_ins_pkg_name.1  14775 non-null  object\n",
      "dtypes: int64(1), object(6)\n",
      "memory usage: 923.4+ KB\n"
     ]
    }
   ],
   "source": [
    "crafft.info()"
   ]
  },
  {
   "cell_type": "code",
   "execution_count": 96,
   "id": "bef8feaa-8395-4aba-901d-df4ba78f5d57",
   "metadata": {},
   "outputs": [],
   "source": [
    "crafft.drop(columns='ethnicity', inplace=True)"
   ]
  },
  {
   "cell_type": "code",
   "execution_count": 97,
   "id": "37254ac7-8301-4aff-8190-eb4687357ab4",
   "metadata": {},
   "outputs": [
    {
     "name": "stdout",
     "output_type": "stream",
     "text": [
      "<class 'pandas.core.frame.DataFrame'>\n",
      "Int64Index: 14775 entries, 0 to 76103\n",
      "Data columns (total 6 columns):\n",
      " #   Column                      Non-Null Count  Dtype \n",
      "---  ------                      --------------  ----- \n",
      " 0   race                        14775 non-null  object\n",
      " 1   order_name__single_         14775 non-null  object\n",
      " 2   labvalue                    14775 non-null  object\n",
      " 3   svc_dprtmnt                 14775 non-null  object\n",
      " 4   age_at_dos                  14775 non-null  int64 \n",
      " 5   primary_clm_ins_pkg_name.1  14775 non-null  object\n",
      "dtypes: int64(1), object(5)\n",
      "memory usage: 808.0+ KB\n"
     ]
    }
   ],
   "source": [
    "crafft.info()"
   ]
  },
  {
   "cell_type": "code",
   "execution_count": 98,
   "id": "24434218-0de5-4dcf-983e-0da9e3e45077",
   "metadata": {},
   "outputs": [],
   "source": [
    "crafft.svc_dprtmnt.replace(to_replace= {'Aurora CONF': 'Aurora', 'Health & Wellness Center at Centennial High School': 'Centennial High School', 'CHS CONF': 'Centennial High School',\n",
    "                           'Dolores CONF': 'Dolores', 'Laredo CONF': 'Laredo', \n",
    "                           'Thornton CONF': 'Thornton', 'Thornton Telehealth': 'Thornton', \n",
    "                           'RFHS CONF': 'Roaring Fork High School', 'Dental- Aurora': 'Aurora', \n",
    "                           'Denver CONF': 'Denver', 'Aurora Telehealth': 'Aurora', \n",
    "                           'BES CONF': 'Basalt Elementary School', 'Dental - Denver': 'Denver', \n",
    "                           'Laredo CONF': 'Laredo', 'BHS CONF': 'Basalt High School', \n",
    "                           'BMS CONF': 'Basalt Middle School', 'Central CONF': 'Central', \n",
    "                                       'SWOS CONF': 'SWOS', 'Dental- Thornton': 'Thornton',\n",
    "                                       'Gateway CONF': 'Gateway'}, inplace=True)"
   ]
  },
  {
   "cell_type": "code",
   "execution_count": 99,
   "id": "10b503bb-e0b6-4186-a5c7-98da7e4d2b84",
   "metadata": {},
   "outputs": [],
   "source": [
    "crafft.labvalue.value_counts()\n",
    "crafft.labvalue.replace(to_replace= {'negative': 0, 'positive': 1}, inplace=True)"
   ]
  },
  {
   "cell_type": "code",
   "execution_count": 100,
   "id": "b9a9b02e-ca5d-4876-97b3-cd7792acd375",
   "metadata": {},
   "outputs": [],
   "source": [
    "crafft.drop(columns='order_name__single_', inplace=True)"
   ]
  },
  {
   "cell_type": "code",
   "execution_count": 101,
   "id": "373b59c2-3738-4214-ad7f-7d523f928476",
   "metadata": {},
   "outputs": [
    {
     "name": "stdout",
     "output_type": "stream",
     "text": [
      "<class 'pandas.core.frame.DataFrame'>\n",
      "Int64Index: 14775 entries, 0 to 76103\n",
      "Data columns (total 5 columns):\n",
      " #   Column                      Non-Null Count  Dtype \n",
      "---  ------                      --------------  ----- \n",
      " 0   race                        14775 non-null  object\n",
      " 1   labvalue                    14775 non-null  int64 \n",
      " 2   svc_dprtmnt                 14775 non-null  object\n",
      " 3   age_at_dos                  14775 non-null  int64 \n",
      " 4   primary_clm_ins_pkg_name.1  14775 non-null  object\n",
      "dtypes: int64(2), object(3)\n",
      "memory usage: 692.6+ KB\n"
     ]
    }
   ],
   "source": [
    "crafft.info()"
   ]
  },
  {
   "cell_type": "code",
   "execution_count": 102,
   "id": "5246b3c0-ca78-4a7c-b3ef-52e12ea87930",
   "metadata": {},
   "outputs": [
    {
     "data": {
      "text/plain": [
       "array(['Patient Declined', 'White', 'American Indian or Alaska Native',\n",
       "       'Black or African American', 'Asian',\n",
       "       'Native Hawaiian or Other Pacific Islander', 'Other Race'],\n",
       "      dtype=object)"
      ]
     },
     "execution_count": 102,
     "metadata": {},
     "output_type": "execute_result"
    }
   ],
   "source": [
    "crafft.race.unique()"
   ]
  },
  {
   "cell_type": "code",
   "execution_count": 103,
   "id": "c7e532c3-315c-4b47-9d55-010a82b858b2",
   "metadata": {},
   "outputs": [],
   "source": [
    "le = LabelEncoder()"
   ]
  },
  {
   "cell_type": "code",
   "execution_count": 104,
   "id": "49833826-023e-4f74-a8ae-7ac554ef6859",
   "metadata": {},
   "outputs": [
    {
     "name": "stderr",
     "output_type": "stream",
     "text": [
      "/opt/anaconda3/lib/python3.7/site-packages/ipykernel_launcher.py:1: SettingWithCopyWarning: \n",
      "A value is trying to be set on a copy of a slice from a DataFrame.\n",
      "Try using .loc[row_indexer,col_indexer] = value instead\n",
      "\n",
      "See the caveats in the documentation: https://pandas.pydata.org/pandas-docs/stable/user_guide/indexing.html#returning-a-view-versus-a-copy\n",
      "  \"\"\"Entry point for launching an IPython kernel.\n"
     ]
    }
   ],
   "source": [
    "crafft['race'] = le.fit_transform(crafft.race.values)"
   ]
  },
  {
   "cell_type": "code",
   "execution_count": 105,
   "id": "9b27b677-a9a7-4004-8532-d2c740671ed1",
   "metadata": {},
   "outputs": [],
   "source": [
    "race_dict = {i: l for (i, l) in enumerate(le.classes_)}\n"
   ]
  },
  {
   "cell_type": "code",
   "execution_count": 106,
   "id": "fd7257ee-9cf6-4a09-9370-1f86dbc8ac8a",
   "metadata": {},
   "outputs": [
    {
     "data": {
      "text/plain": [
       "{0: 'American Indian or Alaska Native',\n",
       " 1: 'Asian',\n",
       " 2: 'Black or African American',\n",
       " 3: 'Native Hawaiian or Other Pacific Islander',\n",
       " 4: 'Other Race',\n",
       " 5: 'Patient Declined',\n",
       " 6: 'White'}"
      ]
     },
     "execution_count": 106,
     "metadata": {},
     "output_type": "execute_result"
    }
   ],
   "source": [
    "race_dict"
   ]
  },
  {
   "cell_type": "code",
   "execution_count": 107,
   "id": "afb299e7-48bf-4e2d-a32a-40fa4d9fc638",
   "metadata": {},
   "outputs": [
    {
     "name": "stderr",
     "output_type": "stream",
     "text": [
      "/opt/anaconda3/lib/python3.7/site-packages/ipykernel_launcher.py:1: SettingWithCopyWarning: \n",
      "A value is trying to be set on a copy of a slice from a DataFrame.\n",
      "Try using .loc[row_indexer,col_indexer] = value instead\n",
      "\n",
      "See the caveats in the documentation: https://pandas.pydata.org/pandas-docs/stable/user_guide/indexing.html#returning-a-view-versus-a-copy\n",
      "  \"\"\"Entry point for launching an IPython kernel.\n"
     ]
    }
   ],
   "source": [
    "crafft['svc_dprtmnt'] = le.fit_transform(crafft.svc_dprtmnt.values)"
   ]
  },
  {
   "cell_type": "code",
   "execution_count": 108,
   "id": "7c2d0043-700f-4aae-b74a-02a1a2f0143b",
   "metadata": {},
   "outputs": [],
   "source": [
    "svcdept_dict = {i: l for (i, l) in enumerate(le.classes_)}\n"
   ]
  },
  {
   "cell_type": "code",
   "execution_count": 109,
   "id": "ec43b573-c13f-4820-9a22-3f7b2515e0b2",
   "metadata": {},
   "outputs": [
    {
     "data": {
      "text/plain": [
       "{0: 'Aurora',\n",
       " 1: 'Basalt Elementary School',\n",
       " 2: 'Basalt High School',\n",
       " 3: 'Basalt Middle School',\n",
       " 4: 'Centennial High School',\n",
       " 5: 'Central',\n",
       " 6: 'Crawford',\n",
       " 7: 'Denver',\n",
       " 8: 'Dolores',\n",
       " 9: 'Gateway',\n",
       " 10: 'Lakewood',\n",
       " 11: 'Laredo',\n",
       " 12: 'Roaring Fork High School',\n",
       " 13: 'SWOS',\n",
       " 14: 'Thornton'}"
      ]
     },
     "execution_count": 109,
     "metadata": {},
     "output_type": "execute_result"
    }
   ],
   "source": [
    "svcdept_dict"
   ]
  },
  {
   "cell_type": "code",
   "execution_count": 174,
   "id": "fa8a9d67-c30d-4f79-b3fc-b702fd8d137c",
   "metadata": {},
   "outputs": [
    {
     "data": {
      "text/plain": [
       "['Aurora',\n",
       " 'Basalt Elementary School',\n",
       " 'Basalt High School',\n",
       " 'Basalt Middle School',\n",
       " 'Centennial High School',\n",
       " 'Central',\n",
       " 'Crawford',\n",
       " 'Denver',\n",
       " 'Dolores',\n",
       " 'Gateway',\n",
       " 'Lakewood',\n",
       " 'Laredo',\n",
       " 'Roaring Fork High School',\n",
       " 'SWOS',\n",
       " 'Thornton']"
      ]
     },
     "execution_count": 174,
     "metadata": {},
     "output_type": "execute_result"
    }
   ],
   "source": [
    "svc_labels = [v for k, v in svcdept_dict.items()]\n",
    "svc_labels"
   ]
  },
  {
   "cell_type": "code",
   "execution_count": 182,
   "id": "b6d77913-e8ad-4897-afe8-89b311bb4c4c",
   "metadata": {},
   "outputs": [
    {
     "data": {
      "text/plain": [
       "Text(0.5, 1.0, 'CRAFFT Lab Value Responses by Race')"
      ]
     },
     "execution_count": 182,
     "metadata": {},
     "output_type": "execute_result"
    },
    {
     "data": {
      "image/png": "[encoded data removed]",
      "text/plain": [
       "<Figure size 1080x576 with 1 Axes>"
      ]
     },
     "metadata": {
      "needs_background": "light"
     },
     "output_type": "display_data"
    }
   ],
   "source": [
    "fig, ax = plt.subplots(figsize=(15, 8))\n",
    "sns.countplot(data=crafft, y='race', hue='labvalue')\n",
    "ax.set_yticklabels(labels = [v for k, v in race_dict.items()])\n",
    "ax.set_title('CRAFFT Lab Value Responses by Race')"
   ]
  },
  {
   "cell_type": "code",
   "execution_count": 110,
   "id": "cc39bd24-13eb-409d-9a74-4d45e3bf1864",
   "metadata": {},
   "outputs": [
    {
     "name": "stderr",
     "output_type": "stream",
     "text": [
      "/opt/anaconda3/lib/python3.7/site-packages/ipykernel_launcher.py:1: SettingWithCopyWarning: \n",
      "A value is trying to be set on a copy of a slice from a DataFrame.\n",
      "Try using .loc[row_indexer,col_indexer] = value instead\n",
      "\n",
      "See the caveats in the documentation: https://pandas.pydata.org/pandas-docs/stable/user_guide/indexing.html#returning-a-view-versus-a-copy\n",
      "  \"\"\"Entry point for launching an IPython kernel.\n"
     ]
    }
   ],
   "source": [
    "crafft['primary_clm_ins_pkg_name.1'] = le.fit_transform(crafft['primary_clm_ins_pkg_name.1'].values)"
   ]
  },
  {
   "cell_type": "code",
   "execution_count": 111,
   "id": "c7c8c71e-4157-46e9-94fa-b8119845936f",
   "metadata": {},
   "outputs": [],
   "source": [
    "ins_dict = {i: l for (i, l) in enumerate(le.classes_)}\n"
   ]
  },
  {
   "cell_type": "code",
   "execution_count": 112,
   "id": "ce9312c2-6dea-4e26-9001-be1db67787ea",
   "metadata": {
    "scrolled": true,
    "tags": []
   },
   "outputs": [
    {
     "data": {
      "text/plain": [
       "{0: '*SELF PAY*',\n",
       " 1: 'ABC GRANT',\n",
       " 2: 'ASRM - MultiPlan',\n",
       " 3: 'Administrative Concepts',\n",
       " 4: 'Administrative Concepts (PPO)',\n",
       " 5: 'Administrative Concepts - First Health (PPO)',\n",
       " 6: 'Aetna',\n",
       " 7: 'Aetna (EPO)',\n",
       " 8: 'Aetna (HMO)',\n",
       " 9: 'Aetna (Indemnity)',\n",
       " 10: 'Aetna (POS II)',\n",
       " 11: 'Aetna (POS)',\n",
       " 12: 'Aetna (PPO)',\n",
       " 13: 'Aetna International - Aetna (PPO)',\n",
       " 14: 'Aetna Signature Administrators - GEHA - GEHA (PPO)',\n",
       " 15: 'Aliera Healthcare - MultiPlan (PPO)',\n",
       " 16: 'Aliera Healthcare - PHCS (PPO)',\n",
       " 17: 'All Savers - United Healthcare (EPO)',\n",
       " 18: 'All Savers - United Healthcare (PPO)',\n",
       " 19: 'BCBS-AL (PPO)',\n",
       " 20: 'BCBS-CA Blue Cross of California',\n",
       " 21: 'BCBS-CA Blue Cross of California (PPO)',\n",
       " 22: 'BCBS-CA Blue Shield of California',\n",
       " 23: 'BCBS-CA Blue Shield of California - FEP',\n",
       " 24: 'BCBS-CO',\n",
       " 25: 'BCBS-CO (HMO)',\n",
       " 26: 'BCBS-CO (POS)',\n",
       " 27: 'BCBS-CO (PPO)',\n",
       " 28: 'BCBS-CO - FEP',\n",
       " 29: 'BCBS-GA',\n",
       " 30: 'BCBS-GA (PPO)',\n",
       " 31: 'BCBS-ID Blue Cross',\n",
       " 32: 'BCBS-ID Blue Cross - FEP',\n",
       " 33: 'BCBS-ID Blue Shield',\n",
       " 34: 'BCBS-ID Blue Shield (PPO)',\n",
       " 35: 'BCBS-ID Blue Shield - FEP',\n",
       " 36: 'BCBS-IL',\n",
       " 37: 'BCBS-IL (PPO)',\n",
       " 38: 'BCBS-IN (PPO)',\n",
       " 39: 'BCBS-MA (PPO)',\n",
       " 40: 'BCBS-MD (PPO)',\n",
       " 41: 'BCBS-MI',\n",
       " 42: 'BCBS-MN',\n",
       " 43: 'BCBS-MO (PPO)',\n",
       " 44: 'BCBS-NC (PPO)',\n",
       " 45: 'BCBS-ND',\n",
       " 46: 'BCBS-NJ',\n",
       " 47: 'BCBS-NJ (PPO)',\n",
       " 48: 'BCBS-NM (PPO)',\n",
       " 49: 'BCBS-NY Empire',\n",
       " 50: 'BCBS-OH (PPO)',\n",
       " 51: 'BCBS-PA Highmark BCBS (EPO)',\n",
       " 52: 'BCBS-PA Highmark Blue Shield',\n",
       " 53: 'BCBS-TN',\n",
       " 54: 'BCBS-TN (PPO)',\n",
       " 55: 'BCBS-TX',\n",
       " 56: 'BCBS-TX (PPO)',\n",
       " 57: 'BCBS-WY (PPO)',\n",
       " 58: 'BEACON HEALTH OPTIONS',\n",
       " 59: 'BEACON HEALTH OPTIONS - MEDICAID CO',\n",
       " 60: 'BEHAVIORAL HEALTHCARE INC',\n",
       " 61: 'Beazley Insurance Company',\n",
       " 62: 'Bind Insurance - UnitedHealth Shared Services - United Healthcare (PPO)',\n",
       " 63: 'Bright Health (EPO)',\n",
       " 64: 'Bright Health - Centura Health (EPO)',\n",
       " 65: 'CHAMPVA (CHAMPVA)',\n",
       " 66: 'CNIC Health Solutions',\n",
       " 67: 'COLORADO COMMUNITY HEALTH ALLIANCE (BEHAVIORAL HEALTH)',\n",
       " 68: 'COVID19 HRSA UNINSURED TESTING AND TREATMENT FUND',\n",
       " 69: 'Christian Care Ministry - MultiPlan (PPO)',\n",
       " 70: 'CieloStar - Cofinity (PPO)',\n",
       " 71: 'Cigna',\n",
       " 72: 'Cigna (HMO)',\n",
       " 73: 'Cigna (PPO)',\n",
       " 74: 'Cigna - BayCare Exclusive Network',\n",
       " 75: 'Cigna - Colorado Laborers Health and Welfare Fund (PPO)',\n",
       " 76: 'Cigna - LocalPlus',\n",
       " 77: 'Cigna - Operating Engineers Health & Welfare Fund - Zenith Administrators (PPO)',\n",
       " 78: 'Cofinity (PPO)',\n",
       " 79: 'Cofinity - EBMS (PPO)',\n",
       " 80: 'Cofinity - Meritain Health (PPO)',\n",
       " 81: 'Cofinity - Summit Administration Services (PPO)',\n",
       " 82: 'Cofinity - UCHealth Plan Administrators (PPO)',\n",
       " 83: 'Colorado Access (Medicaid Replacement - Behavioral health)',\n",
       " 84: 'Colorado Access (Medicaid Replacement - HMO)',\n",
       " 85: 'Colorado Access - CHIP - Child Health Plan Plus (CHP+)',\n",
       " 86: 'Denver Health (HMO)',\n",
       " 87: 'Denver Health (Medicaid Replacement - HMO)',\n",
       " 88: 'Denver Health - CHIP - Child Health Plan Plus (CHP+)',\n",
       " 89: 'EBMS',\n",
       " 90: 'EMPLOYER PLAN SERVICES',\n",
       " 91: 'Empire BCBS HealthPlus (Medicaid Replacement - HMO)',\n",
       " 92: 'Freedom Life Insurance Company of America',\n",
       " 93: 'Friday Health Plans of Colorado (PPO)',\n",
       " 94: 'GEHA (PPO)',\n",
       " 95: 'GWH-Cigna - Allegiance Benefit Plan Management - Cigna',\n",
       " 96: 'GWH-Cigna - Cigna',\n",
       " 97: 'GWH-Cigna - Cigna (PPO)',\n",
       " 98: 'GWH-Cigna - Freedom Life Insurance Company of America - Cigna (PPO)',\n",
       " 99: 'GWH-Cigna - HealthPartners - Cigna',\n",
       " 100: 'GWH-Cigna - Healthgram - Cigna (PPO)',\n",
       " 101: 'GWH-Cigna - Lucent Health - Cigna (PPO)',\n",
       " 102: 'GWH-Cigna - Trustmark Small Business - Cigna (PPO)',\n",
       " 103: 'Humana (POS)',\n",
       " 104: 'IBA - PHCS',\n",
       " 105: 'Insurance TPA - PHCS - LifeShield National Insurance Company (PPO)',\n",
       " 106: 'Kaiser Permanente of Colorado',\n",
       " 107: 'Kaiser Permanente of Colorado (HMO)',\n",
       " 108: 'Kaiser Permanente of Colorado - CHIP',\n",
       " 109: 'Kemper Health',\n",
       " 110: 'Key Solutions - Key Benefit Administrators - MultiPlan',\n",
       " 111: 'Liberty Health (Medicare Replacement/Advantage - HMO)',\n",
       " 112: 'Mayo Clinic Health Solutions (PPO)',\n",
       " 113: 'Medicaid-CO (Medicaid)',\n",
       " 114: 'Meritain Health',\n",
       " 115: 'Meritain Health (Indemnity)',\n",
       " 116: 'Meritain Health (PPO)',\n",
       " 117: 'Meritain Health - Aetna (POS II)',\n",
       " 118: 'Meritain Health - National General Accident and Health - Aetna - Minneapolis (PPO)',\n",
       " 119: 'Presbyterian - MultiPlan (PPO)',\n",
       " 120: 'Providence Health Plan',\n",
       " 121: 'ROCKY MOUNTAIN HEALTH PLAN BEHAVIORAL HEALTH',\n",
       " 122: 'Rocky Mountain Health Plans',\n",
       " 123: 'Rocky Mountain Health Plans (HMO)',\n",
       " 124: 'Rocky Mountain Health Plans (Medicaid Replacement - HMO)',\n",
       " 125: 'Rocky Mountain Health Plans - CHIP - Child Health Plan Plus (CHP+)',\n",
       " 126: 'SLIDING FEE SCHEDULE - DISCOUNT',\n",
       " 127: 'Seven Corners - First Health (PPO)',\n",
       " 128: 'Summit Administration Services',\n",
       " 129: 'Summit Administration Services (PPO)',\n",
       " 130: 'TEEN CLINIC (MOVED-BILLED)',\n",
       " 131: 'Tall Tree Administrators (PPO)',\n",
       " 132: 'The Loomis Company',\n",
       " 133: 'The Loomis Company - One Share Health - PHCS (PPO)',\n",
       " 134: 'Tricare West (TRICARE)',\n",
       " 135: 'Tricare West - Health Net Federal Services (TRICARE)',\n",
       " 136: 'Tricare West - Health Net Federal Services - Select (TRICARE - PPO)',\n",
       " 137: 'UCHealth Plan Administrators (PPO)',\n",
       " 138: 'UMR',\n",
       " 139: 'UMR (PPO)',\n",
       " 140: 'UMR - Deseret - United Healthcare (PPO)',\n",
       " 141: 'UMR - United Healthcare',\n",
       " 142: 'UMR - United Healthcare (PPO)',\n",
       " 143: 'United Healthcare',\n",
       " 144: 'United Healthcare (EPO)',\n",
       " 145: 'United Healthcare (HMO)',\n",
       " 146: 'United Healthcare (PPO)',\n",
       " 147: 'United Healthcare - Medica',\n",
       " 148: 'UnitedHealth Shared Services - GEHA (PPO)',\n",
       " 149: 'UnitedHealth Shared Services - United Healthcare',\n",
       " 150: 'UnitedHealth Shared Services - United Healthcare (PPO)',\n",
       " 151: 'UnitedHealthOne',\n",
       " 152: 'UnitedHealthOne - United Healthcare',\n",
       " 153: 'WEB-TPA (PPO)',\n",
       " 154: 'WEB-TPA - First Health (PPO)'}"
      ]
     },
     "execution_count": 112,
     "metadata": {},
     "output_type": "execute_result"
    }
   ],
   "source": [
    "ins_dict"
   ]
  },
  {
   "cell_type": "code",
   "execution_count": 113,
   "id": "672e5264-abda-4358-9031-414d04cee0fc",
   "metadata": {},
   "outputs": [],
   "source": [
    "df = crafft.copy()"
   ]
  },
  {
   "cell_type": "code",
   "execution_count": 122,
   "id": "10bbbe4a-6fb3-4b5e-825d-b7099a4a469e",
   "metadata": {},
   "outputs": [
    {
     "data": {
      "text/plain": [
       "array([12, 13, 14, 15, 18, 17, 16, 21, 19, 20, 11, 22])"
      ]
     },
     "execution_count": 122,
     "metadata": {},
     "output_type": "execute_result"
    }
   ],
   "source": [
    "df.age_at_dos.unique()"
   ]
  },
  {
   "cell_type": "code",
   "execution_count": null,
   "id": "155288f4-0dc6-4d37-96d3-5a1e91533156",
   "metadata": {},
   "outputs": [],
   "source": []
  },
  {
   "cell_type": "code",
   "execution_count": 115,
   "id": "713c02b8-2f59-4a37-a284-f5d33438803f",
   "metadata": {},
   "outputs": [],
   "source": [
    "y = df.pop('labvalue')"
   ]
  },
  {
   "cell_type": "code",
   "execution_count": 120,
   "id": "df27257a-1557-462b-b644-91f9e03e4a2c",
   "metadata": {},
   "outputs": [
    {
     "data": {
      "text/html": [
       "<div>\n",
       "<style scoped>\n",
       "    .dataframe tbody tr th:only-of-type {\n",
       "        vertical-align: middle;\n",
       "    }\n",
       "\n",
       "    .dataframe tbody tr th {\n",
       "        vertical-align: top;\n",
       "    }\n",
       "\n",
       "    .dataframe thead th {\n",
       "        text-align: right;\n",
       "    }\n",
       "</style>\n",
       "<table border=\"1\" class=\"dataframe\">\n",
       "  <thead>\n",
       "    <tr style=\"text-align: right;\">\n",
       "      <th></th>\n",
       "      <th>race</th>\n",
       "      <th>svc_dprtmnt</th>\n",
       "      <th>age_at_dos</th>\n",
       "      <th>primary_clm_ins_pkg_name.1</th>\n",
       "    </tr>\n",
       "  </thead>\n",
       "  <tbody>\n",
       "    <tr>\n",
       "      <th>0</th>\n",
       "      <td>5</td>\n",
       "      <td>0</td>\n",
       "      <td>12</td>\n",
       "      <td>113</td>\n",
       "    </tr>\n",
       "    <tr>\n",
       "      <th>3</th>\n",
       "      <td>6</td>\n",
       "      <td>14</td>\n",
       "      <td>12</td>\n",
       "      <td>113</td>\n",
       "    </tr>\n",
       "    <tr>\n",
       "      <th>14</th>\n",
       "      <td>5</td>\n",
       "      <td>7</td>\n",
       "      <td>12</td>\n",
       "      <td>113</td>\n",
       "    </tr>\n",
       "    <tr>\n",
       "      <th>22</th>\n",
       "      <td>5</td>\n",
       "      <td>14</td>\n",
       "      <td>13</td>\n",
       "      <td>113</td>\n",
       "    </tr>\n",
       "    <tr>\n",
       "      <th>25</th>\n",
       "      <td>5</td>\n",
       "      <td>14</td>\n",
       "      <td>14</td>\n",
       "      <td>113</td>\n",
       "    </tr>\n",
       "    <tr>\n",
       "      <th>...</th>\n",
       "      <td>...</td>\n",
       "      <td>...</td>\n",
       "      <td>...</td>\n",
       "      <td>...</td>\n",
       "    </tr>\n",
       "    <tr>\n",
       "      <th>76087</th>\n",
       "      <td>5</td>\n",
       "      <td>9</td>\n",
       "      <td>15</td>\n",
       "      <td>126</td>\n",
       "    </tr>\n",
       "    <tr>\n",
       "      <th>76092</th>\n",
       "      <td>6</td>\n",
       "      <td>9</td>\n",
       "      <td>16</td>\n",
       "      <td>113</td>\n",
       "    </tr>\n",
       "    <tr>\n",
       "      <th>76096</th>\n",
       "      <td>2</td>\n",
       "      <td>9</td>\n",
       "      <td>15</td>\n",
       "      <td>126</td>\n",
       "    </tr>\n",
       "    <tr>\n",
       "      <th>76100</th>\n",
       "      <td>2</td>\n",
       "      <td>9</td>\n",
       "      <td>16</td>\n",
       "      <td>126</td>\n",
       "    </tr>\n",
       "    <tr>\n",
       "      <th>76103</th>\n",
       "      <td>6</td>\n",
       "      <td>11</td>\n",
       "      <td>13</td>\n",
       "      <td>113</td>\n",
       "    </tr>\n",
       "  </tbody>\n",
       "</table>\n",
       "<p>14775 rows × 4 columns</p>\n",
       "</div>"
      ],
      "text/plain": [
       "       race  svc_dprtmnt  age_at_dos  primary_clm_ins_pkg_name.1\n",
       "0         5            0          12                         113\n",
       "3         6           14          12                         113\n",
       "14        5            7          12                         113\n",
       "22        5           14          13                         113\n",
       "25        5           14          14                         113\n",
       "...     ...          ...         ...                         ...\n",
       "76087     5            9          15                         126\n",
       "76092     6            9          16                         113\n",
       "76096     2            9          15                         126\n",
       "76100     2            9          16                         126\n",
       "76103     6           11          13                         113\n",
       "\n",
       "[14775 rows x 4 columns]"
      ]
     },
     "execution_count": 120,
     "metadata": {},
     "output_type": "execute_result"
    }
   ],
   "source": [
    "X"
   ]
  },
  {
   "cell_type": "code",
   "execution_count": 116,
   "id": "ca724876-d0bd-47f8-93a0-5ab33f006487",
   "metadata": {},
   "outputs": [],
   "source": [
    "X = df.copy()"
   ]
  },
  {
   "cell_type": "code",
   "execution_count": 117,
   "id": "41141db4-72fa-4fff-a4d0-26247b49c577",
   "metadata": {},
   "outputs": [
    {
     "data": {
      "text/plain": [
       "(1136, 14775)"
      ]
     },
     "execution_count": 117,
     "metadata": {},
     "output_type": "execute_result"
    }
   ],
   "source": [
    "y.sum(), len(X)"
   ]
  },
  {
   "cell_type": "code",
   "execution_count": 118,
   "id": "25c1fd2f-9a65-4edb-a1bc-36cac679c060",
   "metadata": {},
   "outputs": [],
   "source": [
    "X_train, X_test, y_train, y_test = train_test_split(X, y, stratify=y, random_state=42, test_size=.2)"
   ]
  },
  {
   "cell_type": "code",
   "execution_count": 119,
   "id": "bce211ff-a579-416e-a3d2-906bfa053248",
   "metadata": {},
   "outputs": [
    {
     "data": {
      "text/plain": [
       "(0.07690355329949239, 0.07681895093062606)"
      ]
     },
     "execution_count": 119,
     "metadata": {},
     "output_type": "execute_result"
    }
   ],
   "source": [
    "y_train.sum() / len(X_train), y_test.sum() / len(X_test)"
   ]
  },
  {
   "cell_type": "code",
   "execution_count": null,
   "id": "c508a83e-8f46-49fa-952a-bf057ff144c4",
   "metadata": {},
   "outputs": [],
   "source": []
  },
  {
   "cell_type": "code",
   "execution_count": 147,
   "id": "942ef6fd-3f08-45f8-bb3d-00e54922a785",
   "metadata": {},
   "outputs": [],
   "source": [
    "def run_experiments(X_train: pd.DataFrame, y_train: pd.DataFrame, \n",
    "                   X_test: pd.DataFrame, y_test: pd.DataFrame) -> pd.DataFrame: \n",
    "    dfs = []\n",
    "    models = [\n",
    "        ('LogReg', LogisticRegression()),\n",
    "        ('RF', RandomForestClassifier(class_weight='balanced')), \n",
    "        ('KNN', KNeighborsClassifier()), \n",
    "        ('SVM', SVC()), \n",
    "        ('GNB', GaussianNB()), \n",
    "        ('XGB', XGBClassifier())\n",
    "    ]\n",
    "    results = []\n",
    "    names = []\n",
    "    scoring = ['accuracy', 'precision', 'recall', \n",
    "               'f1', 'roc_auc']\n",
    "    target_names = ['Negative CRAFFT', 'Positive CRAFFT']\n",
    "    for name, model in models: \n",
    "        kfold = model_selection.KFold(n_splits=5, shuffle=True, random_state=42)\n",
    "        cv_results = model_selection.cross_validate(model, X_train, y_train, cv=kfold, scoring=scoring)\n",
    "        clf = model.fit(X_train, y_train)\n",
    "        y_pred = clf.predict(X_test)\n",
    "        print(name)\n",
    "        print(classification_report(y_test, y_pred, \n",
    "                                   target_names = target_names))\n",
    "        results.append(cv_results)\n",
    "        this_df = pd.DataFrame(cv_results)\n",
    "        this_df['model'] = name\n",
    "        dfs.append(this_df)\n",
    "    \n",
    "    final = pd.concat(dfs, ignore_index=True)\n",
    "    return final"
   ]
  },
  {
   "cell_type": "code",
   "execution_count": 76,
   "id": "ee3733be-ee84-4952-97db-f9072faefae9",
   "metadata": {
    "scrolled": true,
    "tags": []
   },
   "outputs": [
    {
     "name": "stdout",
     "output_type": "stream",
     "text": [
      "LogReg\n",
      "                 precision    recall  f1-score   support\n",
      "\n",
      "Negative CRAFFT       0.64      0.60      0.62      2728\n",
      "Positive CRAFFT       0.63      0.67      0.65      2728\n",
      "\n",
      "       accuracy                           0.64      5456\n",
      "      macro avg       0.64      0.64      0.63      5456\n",
      "   weighted avg       0.64      0.64      0.63      5456\n",
      "\n",
      "RF\n",
      "                 precision    recall  f1-score   support\n",
      "\n",
      "Negative CRAFFT       0.78      0.69      0.74      2728\n",
      "Positive CRAFFT       0.73      0.81      0.76      2728\n",
      "\n",
      "       accuracy                           0.75      5456\n",
      "      macro avg       0.75      0.75      0.75      5456\n",
      "   weighted avg       0.75      0.75      0.75      5456\n",
      "\n",
      "KNN\n",
      "                 precision    recall  f1-score   support\n",
      "\n",
      "Negative CRAFFT       0.71      0.66      0.68      2728\n",
      "Positive CRAFFT       0.68      0.73      0.71      2728\n",
      "\n",
      "       accuracy                           0.70      5456\n",
      "      macro avg       0.70      0.70      0.70      5456\n",
      "   weighted avg       0.70      0.70      0.70      5456\n",
      "\n",
      "SVM\n",
      "                 precision    recall  f1-score   support\n",
      "\n",
      "Negative CRAFFT       0.64      0.61      0.63      2728\n",
      "Positive CRAFFT       0.63      0.66      0.64      2728\n",
      "\n",
      "       accuracy                           0.64      5456\n",
      "      macro avg       0.64      0.64      0.64      5456\n",
      "   weighted avg       0.64      0.64      0.64      5456\n",
      "\n",
      "GNB\n",
      "                 precision    recall  f1-score   support\n",
      "\n",
      "Negative CRAFFT       0.61      0.64      0.62      2728\n",
      "Positive CRAFFT       0.62      0.59      0.60      2728\n",
      "\n",
      "       accuracy                           0.61      5456\n",
      "      macro avg       0.61      0.61      0.61      5456\n",
      "   weighted avg       0.61      0.61      0.61      5456\n",
      "\n",
      "[16:12:35] WARNING: /Users/travis/build/dmlc/xgboost/src/learner.cc:1095: Starting in XGBoost 1.3.0, the default evaluation metric used with the objective 'binary:logistic' was changed from 'error' to 'logloss'. Explicitly set eval_metric if you'd like to restore the old behavior.\n"
     ]
    },
    {
     "name": "stderr",
     "output_type": "stream",
     "text": [
      "/opt/anaconda3/lib/python3.7/site-packages/xgboost/sklearn.py:1146: UserWarning: The use of label encoder in XGBClassifier is deprecated and will be removed in a future release. To remove this warning, do the following: 1) Pass option use_label_encoder=False when constructing XGBClassifier object; and 2) Encode your labels (y) as integers starting with 0, i.e. 0, 1, 2, ..., [num_class - 1].\n",
      "  warnings.warn(label_encoder_deprecation_msg, UserWarning)\n",
      "/opt/anaconda3/lib/python3.7/site-packages/xgboost/sklearn.py:1146: UserWarning: The use of label encoder in XGBClassifier is deprecated and will be removed in a future release. To remove this warning, do the following: 1) Pass option use_label_encoder=False when constructing XGBClassifier object; and 2) Encode your labels (y) as integers starting with 0, i.e. 0, 1, 2, ..., [num_class - 1].\n",
      "  warnings.warn(label_encoder_deprecation_msg, UserWarning)\n"
     ]
    },
    {
     "name": "stdout",
     "output_type": "stream",
     "text": [
      "[16:12:35] WARNING: /Users/travis/build/dmlc/xgboost/src/learner.cc:1095: Starting in XGBoost 1.3.0, the default evaluation metric used with the objective 'binary:logistic' was changed from 'error' to 'logloss'. Explicitly set eval_metric if you'd like to restore the old behavior.\n"
     ]
    },
    {
     "name": "stderr",
     "output_type": "stream",
     "text": [
      "/opt/anaconda3/lib/python3.7/site-packages/xgboost/sklearn.py:1146: UserWarning: The use of label encoder in XGBClassifier is deprecated and will be removed in a future release. To remove this warning, do the following: 1) Pass option use_label_encoder=False when constructing XGBClassifier object; and 2) Encode your labels (y) as integers starting with 0, i.e. 0, 1, 2, ..., [num_class - 1].\n",
      "  warnings.warn(label_encoder_deprecation_msg, UserWarning)\n"
     ]
    },
    {
     "name": "stdout",
     "output_type": "stream",
     "text": [
      "[16:12:36] WARNING: /Users/travis/build/dmlc/xgboost/src/learner.cc:1095: Starting in XGBoost 1.3.0, the default evaluation metric used with the objective 'binary:logistic' was changed from 'error' to 'logloss'. Explicitly set eval_metric if you'd like to restore the old behavior.\n"
     ]
    },
    {
     "name": "stderr",
     "output_type": "stream",
     "text": [
      "/opt/anaconda3/lib/python3.7/site-packages/xgboost/sklearn.py:1146: UserWarning: The use of label encoder in XGBClassifier is deprecated and will be removed in a future release. To remove this warning, do the following: 1) Pass option use_label_encoder=False when constructing XGBClassifier object; and 2) Encode your labels (y) as integers starting with 0, i.e. 0, 1, 2, ..., [num_class - 1].\n",
      "  warnings.warn(label_encoder_deprecation_msg, UserWarning)\n"
     ]
    },
    {
     "name": "stdout",
     "output_type": "stream",
     "text": [
      "[16:12:36] WARNING: /Users/travis/build/dmlc/xgboost/src/learner.cc:1095: Starting in XGBoost 1.3.0, the default evaluation metric used with the objective 'binary:logistic' was changed from 'error' to 'logloss'. Explicitly set eval_metric if you'd like to restore the old behavior.\n"
     ]
    },
    {
     "name": "stderr",
     "output_type": "stream",
     "text": [
      "/opt/anaconda3/lib/python3.7/site-packages/xgboost/sklearn.py:1146: UserWarning: The use of label encoder in XGBClassifier is deprecated and will be removed in a future release. To remove this warning, do the following: 1) Pass option use_label_encoder=False when constructing XGBClassifier object; and 2) Encode your labels (y) as integers starting with 0, i.e. 0, 1, 2, ..., [num_class - 1].\n",
      "  warnings.warn(label_encoder_deprecation_msg, UserWarning)\n"
     ]
    },
    {
     "name": "stdout",
     "output_type": "stream",
     "text": [
      "[16:12:36] WARNING: /Users/travis/build/dmlc/xgboost/src/learner.cc:1095: Starting in XGBoost 1.3.0, the default evaluation metric used with the objective 'binary:logistic' was changed from 'error' to 'logloss'. Explicitly set eval_metric if you'd like to restore the old behavior.\n"
     ]
    },
    {
     "name": "stderr",
     "output_type": "stream",
     "text": [
      "/opt/anaconda3/lib/python3.7/site-packages/xgboost/sklearn.py:1146: UserWarning: The use of label encoder in XGBClassifier is deprecated and will be removed in a future release. To remove this warning, do the following: 1) Pass option use_label_encoder=False when constructing XGBClassifier object; and 2) Encode your labels (y) as integers starting with 0, i.e. 0, 1, 2, ..., [num_class - 1].\n",
      "  warnings.warn(label_encoder_deprecation_msg, UserWarning)\n"
     ]
    },
    {
     "name": "stdout",
     "output_type": "stream",
     "text": [
      "[16:12:37] WARNING: /Users/travis/build/dmlc/xgboost/src/learner.cc:1095: Starting in XGBoost 1.3.0, the default evaluation metric used with the objective 'binary:logistic' was changed from 'error' to 'logloss'. Explicitly set eval_metric if you'd like to restore the old behavior.\n",
      "XGB\n",
      "                 precision    recall  f1-score   support\n",
      "\n",
      "Negative CRAFFT       0.77      0.70      0.73      2728\n",
      "Positive CRAFFT       0.72      0.79      0.75      2728\n",
      "\n",
      "       accuracy                           0.74      5456\n",
      "      macro avg       0.75      0.74      0.74      5456\n",
      "   weighted avg       0.75      0.74      0.74      5456\n",
      "\n"
     ]
    }
   ],
   "source": [
    "exps = run_experiments(X_train, y_train, X_test, y_test)"
   ]
  },
  {
   "cell_type": "code",
   "execution_count": 49,
   "id": "a409088d-1edc-4824-b7df-7482fb8631a9",
   "metadata": {},
   "outputs": [
    {
     "data": {
      "text/html": [
       "<div>\n",
       "<style scoped>\n",
       "    .dataframe tbody tr th:only-of-type {\n",
       "        vertical-align: middle;\n",
       "    }\n",
       "\n",
       "    .dataframe tbody tr th {\n",
       "        vertical-align: top;\n",
       "    }\n",
       "\n",
       "    .dataframe thead th {\n",
       "        text-align: right;\n",
       "    }\n",
       "</style>\n",
       "<table border=\"1\" class=\"dataframe\">\n",
       "  <thead>\n",
       "    <tr style=\"text-align: right;\">\n",
       "      <th></th>\n",
       "      <th>fit_time</th>\n",
       "      <th>score_time</th>\n",
       "      <th>test_accuracy</th>\n",
       "      <th>test_precision</th>\n",
       "      <th>test_recall</th>\n",
       "      <th>test_f1</th>\n",
       "      <th>test_roc_auc</th>\n",
       "      <th>model</th>\n",
       "    </tr>\n",
       "  </thead>\n",
       "  <tbody>\n",
       "    <tr>\n",
       "      <th>0</th>\n",
       "      <td>0.052081</td>\n",
       "      <td>0.011275</td>\n",
       "      <td>0.928511</td>\n",
       "      <td>1.000000</td>\n",
       "      <td>0.005882</td>\n",
       "      <td>0.011696</td>\n",
       "      <td>0.692827</td>\n",
       "      <td>LogReg</td>\n",
       "    </tr>\n",
       "    <tr>\n",
       "      <th>1</th>\n",
       "      <td>0.047628</td>\n",
       "      <td>0.007245</td>\n",
       "      <td>0.916244</td>\n",
       "      <td>0.000000</td>\n",
       "      <td>0.000000</td>\n",
       "      <td>0.000000</td>\n",
       "      <td>0.706329</td>\n",
       "      <td>LogReg</td>\n",
       "    </tr>\n",
       "    <tr>\n",
       "      <th>2</th>\n",
       "      <td>0.046527</td>\n",
       "      <td>0.011768</td>\n",
       "      <td>0.926396</td>\n",
       "      <td>0.000000</td>\n",
       "      <td>0.000000</td>\n",
       "      <td>0.000000</td>\n",
       "      <td>0.711952</td>\n",
       "      <td>LogReg</td>\n",
       "    </tr>\n",
       "    <tr>\n",
       "      <th>3</th>\n",
       "      <td>0.031253</td>\n",
       "      <td>0.008152</td>\n",
       "      <td>0.931049</td>\n",
       "      <td>0.000000</td>\n",
       "      <td>0.000000</td>\n",
       "      <td>0.000000</td>\n",
       "      <td>0.674840</td>\n",
       "      <td>LogReg</td>\n",
       "    </tr>\n",
       "    <tr>\n",
       "      <th>4</th>\n",
       "      <td>0.046955</td>\n",
       "      <td>0.010513</td>\n",
       "      <td>0.913283</td>\n",
       "      <td>0.000000</td>\n",
       "      <td>0.000000</td>\n",
       "      <td>0.000000</td>\n",
       "      <td>0.709639</td>\n",
       "      <td>LogReg</td>\n",
       "    </tr>\n",
       "    <tr>\n",
       "      <th>5</th>\n",
       "      <td>0.556504</td>\n",
       "      <td>0.102122</td>\n",
       "      <td>0.758037</td>\n",
       "      <td>0.144876</td>\n",
       "      <td>0.482353</td>\n",
       "      <td>0.222826</td>\n",
       "      <td>0.683515</td>\n",
       "      <td>RF</td>\n",
       "    </tr>\n",
       "    <tr>\n",
       "      <th>6</th>\n",
       "      <td>0.426969</td>\n",
       "      <td>0.082325</td>\n",
       "      <td>0.746193</td>\n",
       "      <td>0.160202</td>\n",
       "      <td>0.482234</td>\n",
       "      <td>0.240506</td>\n",
       "      <td>0.677721</td>\n",
       "      <td>RF</td>\n",
       "    </tr>\n",
       "    <tr>\n",
       "      <th>7</th>\n",
       "      <td>0.472604</td>\n",
       "      <td>0.084676</td>\n",
       "      <td>0.758883</td>\n",
       "      <td>0.140000</td>\n",
       "      <td>0.442529</td>\n",
       "      <td>0.212707</td>\n",
       "      <td>0.675194</td>\n",
       "      <td>RF</td>\n",
       "    </tr>\n",
       "    <tr>\n",
       "      <th>8</th>\n",
       "      <td>0.460102</td>\n",
       "      <td>0.104223</td>\n",
       "      <td>0.741963</td>\n",
       "      <td>0.128120</td>\n",
       "      <td>0.472393</td>\n",
       "      <td>0.201571</td>\n",
       "      <td>0.677375</td>\n",
       "      <td>RF</td>\n",
       "    </tr>\n",
       "    <tr>\n",
       "      <th>9</th>\n",
       "      <td>0.597309</td>\n",
       "      <td>0.109164</td>\n",
       "      <td>0.728426</td>\n",
       "      <td>0.154818</td>\n",
       "      <td>0.478049</td>\n",
       "      <td>0.233890</td>\n",
       "      <td>0.675171</td>\n",
       "      <td>RF</td>\n",
       "    </tr>\n",
       "    <tr>\n",
       "      <th>10</th>\n",
       "      <td>0.030393</td>\n",
       "      <td>0.113885</td>\n",
       "      <td>0.928088</td>\n",
       "      <td>0.500000</td>\n",
       "      <td>0.105882</td>\n",
       "      <td>0.174757</td>\n",
       "      <td>0.657144</td>\n",
       "      <td>KNN</td>\n",
       "    </tr>\n",
       "    <tr>\n",
       "      <th>11</th>\n",
       "      <td>0.043059</td>\n",
       "      <td>0.107297</td>\n",
       "      <td>0.913283</td>\n",
       "      <td>0.423077</td>\n",
       "      <td>0.111675</td>\n",
       "      <td>0.176707</td>\n",
       "      <td>0.649070</td>\n",
       "      <td>KNN</td>\n",
       "    </tr>\n",
       "    <tr>\n",
       "      <th>12</th>\n",
       "      <td>0.028802</td>\n",
       "      <td>0.100627</td>\n",
       "      <td>0.922166</td>\n",
       "      <td>0.375000</td>\n",
       "      <td>0.086207</td>\n",
       "      <td>0.140187</td>\n",
       "      <td>0.641686</td>\n",
       "      <td>KNN</td>\n",
       "    </tr>\n",
       "    <tr>\n",
       "      <th>13</th>\n",
       "      <td>0.037807</td>\n",
       "      <td>0.118567</td>\n",
       "      <td>0.926819</td>\n",
       "      <td>0.380952</td>\n",
       "      <td>0.098160</td>\n",
       "      <td>0.156098</td>\n",
       "      <td>0.643957</td>\n",
       "      <td>KNN</td>\n",
       "    </tr>\n",
       "    <tr>\n",
       "      <th>14</th>\n",
       "      <td>0.035156</td>\n",
       "      <td>0.117161</td>\n",
       "      <td>0.912860</td>\n",
       "      <td>0.487179</td>\n",
       "      <td>0.092683</td>\n",
       "      <td>0.155738</td>\n",
       "      <td>0.633202</td>\n",
       "      <td>KNN</td>\n",
       "    </tr>\n",
       "    <tr>\n",
       "      <th>15</th>\n",
       "      <td>0.672011</td>\n",
       "      <td>0.907803</td>\n",
       "      <td>0.928088</td>\n",
       "      <td>0.000000</td>\n",
       "      <td>0.000000</td>\n",
       "      <td>0.000000</td>\n",
       "      <td>0.552422</td>\n",
       "      <td>SVM</td>\n",
       "    </tr>\n",
       "    <tr>\n",
       "      <th>16</th>\n",
       "      <td>0.515281</td>\n",
       "      <td>0.691311</td>\n",
       "      <td>0.916667</td>\n",
       "      <td>0.000000</td>\n",
       "      <td>0.000000</td>\n",
       "      <td>0.000000</td>\n",
       "      <td>0.545616</td>\n",
       "      <td>SVM</td>\n",
       "    </tr>\n",
       "    <tr>\n",
       "      <th>17</th>\n",
       "      <td>0.506219</td>\n",
       "      <td>0.830506</td>\n",
       "      <td>0.926396</td>\n",
       "      <td>0.000000</td>\n",
       "      <td>0.000000</td>\n",
       "      <td>0.000000</td>\n",
       "      <td>0.475695</td>\n",
       "      <td>SVM</td>\n",
       "    </tr>\n",
       "    <tr>\n",
       "      <th>18</th>\n",
       "      <td>0.606485</td>\n",
       "      <td>0.767137</td>\n",
       "      <td>0.931049</td>\n",
       "      <td>0.000000</td>\n",
       "      <td>0.000000</td>\n",
       "      <td>0.000000</td>\n",
       "      <td>0.414085</td>\n",
       "      <td>SVM</td>\n",
       "    </tr>\n",
       "    <tr>\n",
       "      <th>19</th>\n",
       "      <td>0.517997</td>\n",
       "      <td>0.799638</td>\n",
       "      <td>0.913283</td>\n",
       "      <td>0.000000</td>\n",
       "      <td>0.000000</td>\n",
       "      <td>0.000000</td>\n",
       "      <td>0.470275</td>\n",
       "      <td>SVM</td>\n",
       "    </tr>\n",
       "    <tr>\n",
       "      <th>20</th>\n",
       "      <td>0.003586</td>\n",
       "      <td>0.007179</td>\n",
       "      <td>0.918782</td>\n",
       "      <td>0.133333</td>\n",
       "      <td>0.023529</td>\n",
       "      <td>0.040000</td>\n",
       "      <td>0.672370</td>\n",
       "      <td>GNB</td>\n",
       "    </tr>\n",
       "    <tr>\n",
       "      <th>21</th>\n",
       "      <td>0.003256</td>\n",
       "      <td>0.006919</td>\n",
       "      <td>0.915398</td>\n",
       "      <td>0.444444</td>\n",
       "      <td>0.060914</td>\n",
       "      <td>0.107143</td>\n",
       "      <td>0.688826</td>\n",
       "      <td>GNB</td>\n",
       "    </tr>\n",
       "    <tr>\n",
       "      <th>22</th>\n",
       "      <td>0.003045</td>\n",
       "      <td>0.007397</td>\n",
       "      <td>0.919628</td>\n",
       "      <td>0.192308</td>\n",
       "      <td>0.028736</td>\n",
       "      <td>0.050000</td>\n",
       "      <td>0.693884</td>\n",
       "      <td>GNB</td>\n",
       "    </tr>\n",
       "    <tr>\n",
       "      <th>23</th>\n",
       "      <td>0.003115</td>\n",
       "      <td>0.009528</td>\n",
       "      <td>0.926396</td>\n",
       "      <td>0.260870</td>\n",
       "      <td>0.036810</td>\n",
       "      <td>0.064516</td>\n",
       "      <td>0.663788</td>\n",
       "      <td>GNB</td>\n",
       "    </tr>\n",
       "    <tr>\n",
       "      <th>24</th>\n",
       "      <td>0.003946</td>\n",
       "      <td>0.008188</td>\n",
       "      <td>0.913283</td>\n",
       "      <td>0.500000</td>\n",
       "      <td>0.039024</td>\n",
       "      <td>0.072398</td>\n",
       "      <td>0.697519</td>\n",
       "      <td>GNB</td>\n",
       "    </tr>\n",
       "    <tr>\n",
       "      <th>25</th>\n",
       "      <td>0.451029</td>\n",
       "      <td>0.013375</td>\n",
       "      <td>0.928088</td>\n",
       "      <td>0.500000</td>\n",
       "      <td>0.070588</td>\n",
       "      <td>0.123711</td>\n",
       "      <td>0.766738</td>\n",
       "      <td>XGB</td>\n",
       "    </tr>\n",
       "    <tr>\n",
       "      <th>26</th>\n",
       "      <td>0.554883</td>\n",
       "      <td>0.018624</td>\n",
       "      <td>0.914975</td>\n",
       "      <td>0.444444</td>\n",
       "      <td>0.081218</td>\n",
       "      <td>0.137339</td>\n",
       "      <td>0.739044</td>\n",
       "      <td>XGB</td>\n",
       "    </tr>\n",
       "    <tr>\n",
       "      <th>27</th>\n",
       "      <td>0.440470</td>\n",
       "      <td>0.017575</td>\n",
       "      <td>0.922166</td>\n",
       "      <td>0.343750</td>\n",
       "      <td>0.063218</td>\n",
       "      <td>0.106796</td>\n",
       "      <td>0.747493</td>\n",
       "      <td>XGB</td>\n",
       "    </tr>\n",
       "    <tr>\n",
       "      <th>28</th>\n",
       "      <td>0.434810</td>\n",
       "      <td>0.014576</td>\n",
       "      <td>0.927665</td>\n",
       "      <td>0.394737</td>\n",
       "      <td>0.092025</td>\n",
       "      <td>0.149254</td>\n",
       "      <td>0.739545</td>\n",
       "      <td>XGB</td>\n",
       "    </tr>\n",
       "    <tr>\n",
       "      <th>29</th>\n",
       "      <td>0.386659</td>\n",
       "      <td>0.014980</td>\n",
       "      <td>0.913283</td>\n",
       "      <td>0.500000</td>\n",
       "      <td>0.092683</td>\n",
       "      <td>0.156379</td>\n",
       "      <td>0.742695</td>\n",
       "      <td>XGB</td>\n",
       "    </tr>\n",
       "  </tbody>\n",
       "</table>\n",
       "</div>"
      ],
      "text/plain": [
       "    fit_time  score_time  test_accuracy  test_precision  test_recall  \\\n",
       "0   0.052081    0.011275       0.928511        1.000000     0.005882   \n",
       "1   0.047628    0.007245       0.916244        0.000000     0.000000   \n",
       "2   0.046527    0.011768       0.926396        0.000000     0.000000   \n",
       "3   0.031253    0.008152       0.931049        0.000000     0.000000   \n",
       "4   0.046955    0.010513       0.913283        0.000000     0.000000   \n",
       "5   0.556504    0.102122       0.758037        0.144876     0.482353   \n",
       "6   0.426969    0.082325       0.746193        0.160202     0.482234   \n",
       "7   0.472604    0.084676       0.758883        0.140000     0.442529   \n",
       "8   0.460102    0.104223       0.741963        0.128120     0.472393   \n",
       "9   0.597309    0.109164       0.728426        0.154818     0.478049   \n",
       "10  0.030393    0.113885       0.928088        0.500000     0.105882   \n",
       "11  0.043059    0.107297       0.913283        0.423077     0.111675   \n",
       "12  0.028802    0.100627       0.922166        0.375000     0.086207   \n",
       "13  0.037807    0.118567       0.926819        0.380952     0.098160   \n",
       "14  0.035156    0.117161       0.912860        0.487179     0.092683   \n",
       "15  0.672011    0.907803       0.928088        0.000000     0.000000   \n",
       "16  0.515281    0.691311       0.916667        0.000000     0.000000   \n",
       "17  0.506219    0.830506       0.926396        0.000000     0.000000   \n",
       "18  0.606485    0.767137       0.931049        0.000000     0.000000   \n",
       "19  0.517997    0.799638       0.913283        0.000000     0.000000   \n",
       "20  0.003586    0.007179       0.918782        0.133333     0.023529   \n",
       "21  0.003256    0.006919       0.915398        0.444444     0.060914   \n",
       "22  0.003045    0.007397       0.919628        0.192308     0.028736   \n",
       "23  0.003115    0.009528       0.926396        0.260870     0.036810   \n",
       "24  0.003946    0.008188       0.913283        0.500000     0.039024   \n",
       "25  0.451029    0.013375       0.928088        0.500000     0.070588   \n",
       "26  0.554883    0.018624       0.914975        0.444444     0.081218   \n",
       "27  0.440470    0.017575       0.922166        0.343750     0.063218   \n",
       "28  0.434810    0.014576       0.927665        0.394737     0.092025   \n",
       "29  0.386659    0.014980       0.913283        0.500000     0.092683   \n",
       "\n",
       "     test_f1  test_roc_auc   model  \n",
       "0   0.011696      0.692827  LogReg  \n",
       "1   0.000000      0.706329  LogReg  \n",
       "2   0.000000      0.711952  LogReg  \n",
       "3   0.000000      0.674840  LogReg  \n",
       "4   0.000000      0.709639  LogReg  \n",
       "5   0.222826      0.683515      RF  \n",
       "6   0.240506      0.677721      RF  \n",
       "7   0.212707      0.675194      RF  \n",
       "8   0.201571      0.677375      RF  \n",
       "9   0.233890      0.675171      RF  \n",
       "10  0.174757      0.657144     KNN  \n",
       "11  0.176707      0.649070     KNN  \n",
       "12  0.140187      0.641686     KNN  \n",
       "13  0.156098      0.643957     KNN  \n",
       "14  0.155738      0.633202     KNN  \n",
       "15  0.000000      0.552422     SVM  \n",
       "16  0.000000      0.545616     SVM  \n",
       "17  0.000000      0.475695     SVM  \n",
       "18  0.000000      0.414085     SVM  \n",
       "19  0.000000      0.470275     SVM  \n",
       "20  0.040000      0.672370     GNB  \n",
       "21  0.107143      0.688826     GNB  \n",
       "22  0.050000      0.693884     GNB  \n",
       "23  0.064516      0.663788     GNB  \n",
       "24  0.072398      0.697519     GNB  \n",
       "25  0.123711      0.766738     XGB  \n",
       "26  0.137339      0.739044     XGB  \n",
       "27  0.106796      0.747493     XGB  \n",
       "28  0.149254      0.739545     XGB  \n",
       "29  0.156379      0.742695     XGB  "
      ]
     },
     "execution_count": 49,
     "metadata": {},
     "output_type": "execute_result"
    }
   ],
   "source": [
    "exps"
   ]
  },
  {
   "cell_type": "code",
   "execution_count": null,
   "id": "c0fcb0f0-8c28-457b-aeea-cb3fce4b7c65",
   "metadata": {},
   "outputs": [],
   "source": []
  },
  {
   "cell_type": "code",
   "execution_count": 56,
   "id": "6ba74b71-396f-4751-b393-20c54bf604c6",
   "metadata": {},
   "outputs": [],
   "source": [
    "#### Next step (9.8.21): USE SMOTE TO OVERSAMPLE SMALLER CLASS"
   ]
  },
  {
   "cell_type": "code",
   "execution_count": 123,
   "id": "1c210a7b-4d30-4cdc-9468-94833d55d85f",
   "metadata": {},
   "outputs": [],
   "source": [
    "from imblearn.over_sampling import SMOTE\n",
    "from collections import Counter"
   ]
  },
  {
   "cell_type": "code",
   "execution_count": 124,
   "id": "f87a61cb-08f0-466f-91ea-3134f6edf89a",
   "metadata": {},
   "outputs": [],
   "source": [
    "oversample = SMOTE()"
   ]
  },
  {
   "cell_type": "code",
   "execution_count": 125,
   "id": "6fb70f4f-1178-4d70-8a90-bf96a1e5108f",
   "metadata": {},
   "outputs": [],
   "source": [
    "X, y = oversample.fit_resample(X, y)"
   ]
  },
  {
   "cell_type": "code",
   "execution_count": 126,
   "id": "9caf3385-3eae-4861-9968-dba43ce08efd",
   "metadata": {},
   "outputs": [],
   "source": [
    "counter = Counter(y)"
   ]
  },
  {
   "cell_type": "code",
   "execution_count": 127,
   "id": "d6e21707-31ab-433d-8915-5cb8906b59bf",
   "metadata": {},
   "outputs": [
    {
     "name": "stdout",
     "output_type": "stream",
     "text": [
      "Counter({0: 13639, 1: 13639})\n"
     ]
    }
   ],
   "source": [
    "print(counter)"
   ]
  },
  {
   "cell_type": "code",
   "execution_count": null,
   "id": "8edb8404-8e0c-4e79-ab12-c779edd61f4b",
   "metadata": {},
   "outputs": [],
   "source": []
  },
  {
   "cell_type": "code",
   "execution_count": null,
   "id": "99001a85-739f-4af8-84aa-f9014e140b46",
   "metadata": {},
   "outputs": [],
   "source": []
  },
  {
   "cell_type": "code",
   "execution_count": null,
   "id": "f27770e2-48ee-4537-9445-30cfe1e1bd20",
   "metadata": {},
   "outputs": [],
   "source": []
  },
  {
   "cell_type": "code",
   "execution_count": null,
   "id": "c1896bb3-3125-4641-b0eb-d2317e015117",
   "metadata": {},
   "outputs": [],
   "source": []
  },
  {
   "cell_type": "code",
   "execution_count": null,
   "id": "475cd8d2-7a67-4189-88b0-35e1ad69f7c5",
   "metadata": {},
   "outputs": [],
   "source": []
  },
  {
   "cell_type": "code",
   "execution_count": null,
   "id": "32db0f8c-e9b0-44e7-abb7-dd531fee551b",
   "metadata": {},
   "outputs": [],
   "source": []
  },
  {
   "cell_type": "code",
   "execution_count": 50,
   "id": "946fb0bc-c911-48f4-9f04-2f70451a3193",
   "metadata": {},
   "outputs": [],
   "source": [
    "# Logistic Regression wins for training speed and metrics"
   ]
  },
  {
   "cell_type": "code",
   "execution_count": 128,
   "id": "5a7bfa3a-d1c6-42b2-b34c-95443bb69d34",
   "metadata": {},
   "outputs": [],
   "source": [
    "lr = LogisticRegression(random_state=42)"
   ]
  },
  {
   "cell_type": "code",
   "execution_count": 129,
   "id": "e6459c6d-d5d2-42e9-810f-c9e86b7fb528",
   "metadata": {},
   "outputs": [],
   "source": [
    "kfold = model_selection.KFold(n_splits=5, shuffle=True, random_state=42)\n",
    "scoring = ['accuracy', 'precision_weighted', 'recall_weighted', \n",
    "               'f1_weighted', 'roc_auc']"
   ]
  },
  {
   "cell_type": "code",
   "execution_count": 130,
   "id": "23d47f50-eee4-4cec-b9c7-1f6154a3720c",
   "metadata": {},
   "outputs": [
    {
     "name": "stderr",
     "output_type": "stream",
     "text": [
      "/opt/anaconda3/lib/python3.7/site-packages/sklearn/metrics/_classification.py:1248: UndefinedMetricWarning: Precision is ill-defined and being set to 0.0 in labels with no predicted samples. Use `zero_division` parameter to control this behavior.\n",
      "  _warn_prf(average, modifier, msg_start, len(result))\n",
      "/opt/anaconda3/lib/python3.7/site-packages/sklearn/metrics/_classification.py:1248: UndefinedMetricWarning: Precision is ill-defined and being set to 0.0 in labels with no predicted samples. Use `zero_division` parameter to control this behavior.\n",
      "  _warn_prf(average, modifier, msg_start, len(result))\n",
      "/opt/anaconda3/lib/python3.7/site-packages/sklearn/metrics/_classification.py:1248: UndefinedMetricWarning: Precision is ill-defined and being set to 0.0 in labels with no predicted samples. Use `zero_division` parameter to control this behavior.\n",
      "  _warn_prf(average, modifier, msg_start, len(result))\n"
     ]
    }
   ],
   "source": [
    "lr_cv_results = model_selection.cross_validate(lr, X_train, y_train, cv=kfold, scoring=scoring)\n",
    "clf = lr.fit(X_train, y_train)\n",
    "y_pred = clf.predict(X_test)"
   ]
  },
  {
   "cell_type": "code",
   "execution_count": 131,
   "id": "372823a5-8a87-456b-9472-929dc4193ca0",
   "metadata": {},
   "outputs": [
    {
     "name": "stdout",
     "output_type": "stream",
     "text": [
      "Accuracy: 0.9238578680203046\n",
      "Precision: 1.0\n",
      "Recall: 0.00881057268722467\n",
      "F1: 0.017467248908296942\n"
     ]
    }
   ],
   "source": [
    "print(\"Accuracy:\", accuracy_score(y_test, y_pred))\n",
    "print(\"Precision:\", precision_score(y_test, y_pred))\n",
    "print(\"Recall:\", recall_score(y_test, y_pred))\n",
    "print(\"F1:\", f1_score(y_test, y_pred))"
   ]
  },
  {
   "cell_type": "code",
   "execution_count": null,
   "id": "a27c9b0c-3f97-4b49-8ff4-621a96597887",
   "metadata": {},
   "outputs": [],
   "source": []
  },
  {
   "cell_type": "code",
   "execution_count": 132,
   "id": "5cb7659c-9fa1-462d-90c2-690a66fe0918",
   "metadata": {},
   "outputs": [
    {
     "data": {
      "text/plain": [
       "LogisticRegression(random_state=42)"
      ]
     },
     "execution_count": 132,
     "metadata": {},
     "output_type": "execute_result"
    }
   ],
   "source": [
    "lr.fit(X_train, y_train)"
   ]
  },
  {
   "cell_type": "code",
   "execution_count": 133,
   "id": "005d352d-8af2-442a-9a8d-fad95dabea4a",
   "metadata": {},
   "outputs": [],
   "source": [
    "preds = lr.predict(X_test)"
   ]
  },
  {
   "cell_type": "code",
   "execution_count": 134,
   "id": "bd088c68-1ff5-4d72-96a1-48c3090e2187",
   "metadata": {},
   "outputs": [
    {
     "name": "stdout",
     "output_type": "stream",
     "text": [
      "Accuracy: 0.9238578680203046\n",
      "Precision: 1.0\n",
      "Recall: 0.00881057268722467\n",
      "F1: 0.017467248908296942\n"
     ]
    }
   ],
   "source": [
    "print(\"Accuracy:\", accuracy_score(y_test, preds))\n",
    "print(\"Precision:\", precision_score(y_test, preds))\n",
    "print(\"Recall:\", recall_score(y_test, preds))\n",
    "print(\"F1:\", f1_score(y_test, preds))"
   ]
  },
  {
   "cell_type": "code",
   "execution_count": 90,
   "id": "9589fe0a-4ec4-433f-8e02-8e5873a00525",
   "metadata": {},
   "outputs": [],
   "source": [
    "xgb = XGBClassifier(random_state=42)"
   ]
  },
  {
   "cell_type": "code",
   "execution_count": 91,
   "id": "5a41f1e6-ee65-4f81-819d-702643ea7578",
   "metadata": {},
   "outputs": [
    {
     "name": "stderr",
     "output_type": "stream",
     "text": [
      "/opt/anaconda3/lib/python3.7/site-packages/xgboost/sklearn.py:1146: UserWarning: The use of label encoder in XGBClassifier is deprecated and will be removed in a future release. To remove this warning, do the following: 1) Pass option use_label_encoder=False when constructing XGBClassifier object; and 2) Encode your labels (y) as integers starting with 0, i.e. 0, 1, 2, ..., [num_class - 1].\n",
      "  warnings.warn(label_encoder_deprecation_msg, UserWarning)\n"
     ]
    },
    {
     "name": "stdout",
     "output_type": "stream",
     "text": [
      "[21:34:50] WARNING: /Users/travis/build/dmlc/xgboost/src/learner.cc:1095: Starting in XGBoost 1.3.0, the default evaluation metric used with the objective 'binary:logistic' was changed from 'error' to 'logloss'. Explicitly set eval_metric if you'd like to restore the old behavior.\n"
     ]
    },
    {
     "data": {
      "text/plain": [
       "XGBClassifier(base_score=0.5, booster='gbtree', colsample_bylevel=1,\n",
       "              colsample_bynode=1, colsample_bytree=1, gamma=0, gpu_id=-1,\n",
       "              importance_type='gain', interaction_constraints='',\n",
       "              learning_rate=0.300000012, max_delta_step=0, max_depth=6,\n",
       "              min_child_weight=1, missing=nan, monotone_constraints='()',\n",
       "              n_estimators=100, n_jobs=8, num_parallel_tree=1, random_state=42,\n",
       "              reg_alpha=0, reg_lambda=1, scale_pos_weight=1, subsample=1,\n",
       "              tree_method='exact', validate_parameters=1, verbosity=None)"
      ]
     },
     "execution_count": 91,
     "metadata": {},
     "output_type": "execute_result"
    }
   ],
   "source": [
    "xgb.fit(X_train, y_train)"
   ]
  },
  {
   "cell_type": "code",
   "execution_count": 92,
   "id": "b83819a6-b571-475d-8690-35ce536d909f",
   "metadata": {},
   "outputs": [],
   "source": [
    "preds = xgb.predict(X_test)"
   ]
  },
  {
   "cell_type": "code",
   "execution_count": 93,
   "id": "6feb5622-2bc3-42d2-81fc-2088678738ba",
   "metadata": {},
   "outputs": [
    {
     "name": "stdout",
     "output_type": "stream",
     "text": [
      "Accuracy: 0.9235194585448393\n",
      "Precision: 0.5116279069767442\n",
      "Recall: 0.09691629955947137\n",
      "F1: 0.16296296296296298\n"
     ]
    }
   ],
   "source": [
    "print(\"Accuracy:\", accuracy_score(y_test, preds))\n",
    "print(\"Precision:\", precision_score(y_test, preds))\n",
    "print(\"Recall:\", recall_score(y_test, preds))\n",
    "print(\"F1:\", f1_score(y_test, preds))"
   ]
  },
  {
   "cell_type": "code",
   "execution_count": 135,
   "id": "362e4839-73dd-4d19-a912-0967e303b55c",
   "metadata": {},
   "outputs": [],
   "source": [
    "import imblearn\n",
    "from imblearn.over_sampling import SMOTE\n",
    "from imblearn.pipeline import Pipeline\n",
    "from imblearn.under_sampling import RandomUnderSampler"
   ]
  },
  {
   "cell_type": "code",
   "execution_count": 136,
   "id": "e12d3702-bf4a-48cf-bd8c-54ec449c4231",
   "metadata": {},
   "outputs": [],
   "source": [
    "over = SMOTE(sampling_strategy=0.1)\n",
    "under = RandomUnderSampler(sampling_strategy=0.5)"
   ]
  },
  {
   "cell_type": "code",
   "execution_count": 137,
   "id": "bbcf323d-1ac1-4961-9d1b-7776d7154578",
   "metadata": {},
   "outputs": [],
   "source": [
    "steps = [('o', over), ('u', under)]"
   ]
  },
  {
   "cell_type": "code",
   "execution_count": 138,
   "id": "5245a665-7372-47e6-9b34-25067b32ed6d",
   "metadata": {},
   "outputs": [],
   "source": [
    "pipeline = Pipeline(steps=steps)"
   ]
  },
  {
   "cell_type": "code",
   "execution_count": 139,
   "id": "bbf18737-d71d-44be-8a54-4a750c89a07f",
   "metadata": {},
   "outputs": [
    {
     "ename": "ValueError",
     "evalue": "The specified ratio required to remove samples from the minority class while trying to generate new samples. Please increase the ratio.",
     "output_type": "error",
     "traceback": [
      "\u001b[0;31m---------------------------------------------------------------------------\u001b[0m",
      "\u001b[0;31mValueError\u001b[0m                                Traceback (most recent call last)",
      "\u001b[0;32m<ipython-input-139-b11b8d309b94>\u001b[0m in \u001b[0;36m<module>\u001b[0;34m\u001b[0m\n\u001b[0;32m----> 1\u001b[0;31m \u001b[0mX\u001b[0m\u001b[0;34m,\u001b[0m \u001b[0my\u001b[0m \u001b[0;34m=\u001b[0m \u001b[0mpipeline\u001b[0m\u001b[0;34m.\u001b[0m\u001b[0mfit_resample\u001b[0m\u001b[0;34m(\u001b[0m\u001b[0mX\u001b[0m\u001b[0;34m,\u001b[0m \u001b[0my\u001b[0m\u001b[0;34m)\u001b[0m\u001b[0;34m\u001b[0m\u001b[0;34m\u001b[0m\u001b[0m\n\u001b[0m",
      "\u001b[0;32m/opt/anaconda3/lib/python3.7/site-packages/imblearn/pipeline.py\u001b[0m in \u001b[0;36mfit_resample\u001b[0;34m(self, X, y, **fit_params)\u001b[0m\n\u001b[1;32m    338\u001b[0m         \"\"\"\n\u001b[1;32m    339\u001b[0m         \u001b[0mfit_params_steps\u001b[0m \u001b[0;34m=\u001b[0m \u001b[0mself\u001b[0m\u001b[0;34m.\u001b[0m\u001b[0m_check_fit_params\u001b[0m\u001b[0;34m(\u001b[0m\u001b[0;34m**\u001b[0m\u001b[0mfit_params\u001b[0m\u001b[0;34m)\u001b[0m\u001b[0;34m\u001b[0m\u001b[0;34m\u001b[0m\u001b[0m\n\u001b[0;32m--> 340\u001b[0;31m         \u001b[0mXt\u001b[0m\u001b[0;34m,\u001b[0m \u001b[0myt\u001b[0m \u001b[0;34m=\u001b[0m \u001b[0mself\u001b[0m\u001b[0;34m.\u001b[0m\u001b[0m_fit\u001b[0m\u001b[0;34m(\u001b[0m\u001b[0mX\u001b[0m\u001b[0;34m,\u001b[0m \u001b[0my\u001b[0m\u001b[0;34m,\u001b[0m \u001b[0;34m**\u001b[0m\u001b[0mfit_params_steps\u001b[0m\u001b[0;34m)\u001b[0m\u001b[0;34m\u001b[0m\u001b[0;34m\u001b[0m\u001b[0m\n\u001b[0m\u001b[1;32m    341\u001b[0m         \u001b[0mlast_step\u001b[0m \u001b[0;34m=\u001b[0m \u001b[0mself\u001b[0m\u001b[0;34m.\u001b[0m\u001b[0m_final_estimator\u001b[0m\u001b[0;34m\u001b[0m\u001b[0;34m\u001b[0m\u001b[0m\n\u001b[1;32m    342\u001b[0m         \u001b[0;32mwith\u001b[0m \u001b[0m_print_elapsed_time\u001b[0m\u001b[0;34m(\u001b[0m\u001b[0;34m\"Pipeline\"\u001b[0m\u001b[0;34m,\u001b[0m \u001b[0mself\u001b[0m\u001b[0;34m.\u001b[0m\u001b[0m_log_message\u001b[0m\u001b[0;34m(\u001b[0m\u001b[0mlen\u001b[0m\u001b[0;34m(\u001b[0m\u001b[0mself\u001b[0m\u001b[0;34m.\u001b[0m\u001b[0msteps\u001b[0m\u001b[0;34m)\u001b[0m \u001b[0;34m-\u001b[0m \u001b[0;36m1\u001b[0m\u001b[0;34m)\u001b[0m\u001b[0;34m)\u001b[0m\u001b[0;34m:\u001b[0m\u001b[0;34m\u001b[0m\u001b[0;34m\u001b[0m\u001b[0m\n",
      "\u001b[0;32m/opt/anaconda3/lib/python3.7/site-packages/imblearn/pipeline.py\u001b[0m in \u001b[0;36m_fit\u001b[0;34m(self, X, y, **fit_params_steps)\u001b[0m\n\u001b[1;32m    224\u001b[0m                     \u001b[0mmessage_clsname\u001b[0m\u001b[0;34m=\u001b[0m\u001b[0;34m\"Pipeline\"\u001b[0m\u001b[0;34m,\u001b[0m\u001b[0;34m\u001b[0m\u001b[0;34m\u001b[0m\u001b[0m\n\u001b[1;32m    225\u001b[0m                     \u001b[0mmessage\u001b[0m\u001b[0;34m=\u001b[0m\u001b[0mself\u001b[0m\u001b[0;34m.\u001b[0m\u001b[0m_log_message\u001b[0m\u001b[0;34m(\u001b[0m\u001b[0mstep_idx\u001b[0m\u001b[0;34m)\u001b[0m\u001b[0;34m,\u001b[0m\u001b[0;34m\u001b[0m\u001b[0;34m\u001b[0m\u001b[0m\n\u001b[0;32m--> 226\u001b[0;31m                     \u001b[0;34m**\u001b[0m\u001b[0mfit_params_steps\u001b[0m\u001b[0;34m[\u001b[0m\u001b[0mname\u001b[0m\u001b[0;34m]\u001b[0m\u001b[0;34m,\u001b[0m\u001b[0;34m\u001b[0m\u001b[0;34m\u001b[0m\u001b[0m\n\u001b[0m\u001b[1;32m    227\u001b[0m                 )\n\u001b[1;32m    228\u001b[0m             \u001b[0;31m# Replace the transformer of the step with the fitted\u001b[0m\u001b[0;34m\u001b[0m\u001b[0;34m\u001b[0m\u001b[0;34m\u001b[0m\u001b[0m\n",
      "\u001b[0;32m/opt/anaconda3/lib/python3.7/site-packages/joblib/memory.py\u001b[0m in \u001b[0;36m__call__\u001b[0;34m(self, *args, **kwargs)\u001b[0m\n\u001b[1;32m    350\u001b[0m \u001b[0;34m\u001b[0m\u001b[0m\n\u001b[1;32m    351\u001b[0m     \u001b[0;32mdef\u001b[0m \u001b[0m__call__\u001b[0m\u001b[0;34m(\u001b[0m\u001b[0mself\u001b[0m\u001b[0;34m,\u001b[0m \u001b[0;34m*\u001b[0m\u001b[0margs\u001b[0m\u001b[0;34m,\u001b[0m \u001b[0;34m**\u001b[0m\u001b[0mkwargs\u001b[0m\u001b[0;34m)\u001b[0m\u001b[0;34m:\u001b[0m\u001b[0;34m\u001b[0m\u001b[0;34m\u001b[0m\u001b[0m\n\u001b[0;32m--> 352\u001b[0;31m         \u001b[0;32mreturn\u001b[0m \u001b[0mself\u001b[0m\u001b[0;34m.\u001b[0m\u001b[0mfunc\u001b[0m\u001b[0;34m(\u001b[0m\u001b[0;34m*\u001b[0m\u001b[0margs\u001b[0m\u001b[0;34m,\u001b[0m \u001b[0;34m**\u001b[0m\u001b[0mkwargs\u001b[0m\u001b[0;34m)\u001b[0m\u001b[0;34m\u001b[0m\u001b[0;34m\u001b[0m\u001b[0m\n\u001b[0m\u001b[1;32m    353\u001b[0m \u001b[0;34m\u001b[0m\u001b[0m\n\u001b[1;32m    354\u001b[0m     \u001b[0;32mdef\u001b[0m \u001b[0mcall_and_shelve\u001b[0m\u001b[0;34m(\u001b[0m\u001b[0mself\u001b[0m\u001b[0;34m,\u001b[0m \u001b[0;34m*\u001b[0m\u001b[0margs\u001b[0m\u001b[0;34m,\u001b[0m \u001b[0;34m**\u001b[0m\u001b[0mkwargs\u001b[0m\u001b[0;34m)\u001b[0m\u001b[0;34m:\u001b[0m\u001b[0;34m\u001b[0m\u001b[0;34m\u001b[0m\u001b[0m\n",
      "\u001b[0;32m/opt/anaconda3/lib/python3.7/site-packages/imblearn/pipeline.py\u001b[0m in \u001b[0;36m_fit_resample_one\u001b[0;34m(sampler, X, y, message_clsname, message, **fit_params)\u001b[0m\n\u001b[1;32m    386\u001b[0m \u001b[0;32mdef\u001b[0m \u001b[0m_fit_resample_one\u001b[0m\u001b[0;34m(\u001b[0m\u001b[0msampler\u001b[0m\u001b[0;34m,\u001b[0m \u001b[0mX\u001b[0m\u001b[0;34m,\u001b[0m \u001b[0my\u001b[0m\u001b[0;34m,\u001b[0m \u001b[0mmessage_clsname\u001b[0m\u001b[0;34m=\u001b[0m\u001b[0;34m\"\"\u001b[0m\u001b[0;34m,\u001b[0m \u001b[0mmessage\u001b[0m\u001b[0;34m=\u001b[0m\u001b[0;32mNone\u001b[0m\u001b[0;34m,\u001b[0m \u001b[0;34m**\u001b[0m\u001b[0mfit_params\u001b[0m\u001b[0;34m)\u001b[0m\u001b[0;34m:\u001b[0m\u001b[0;34m\u001b[0m\u001b[0;34m\u001b[0m\u001b[0m\n\u001b[1;32m    387\u001b[0m     \u001b[0;32mwith\u001b[0m \u001b[0m_print_elapsed_time\u001b[0m\u001b[0;34m(\u001b[0m\u001b[0mmessage_clsname\u001b[0m\u001b[0;34m,\u001b[0m \u001b[0mmessage\u001b[0m\u001b[0;34m)\u001b[0m\u001b[0;34m:\u001b[0m\u001b[0;34m\u001b[0m\u001b[0;34m\u001b[0m\u001b[0m\n\u001b[0;32m--> 388\u001b[0;31m         \u001b[0mX_res\u001b[0m\u001b[0;34m,\u001b[0m \u001b[0my_res\u001b[0m \u001b[0;34m=\u001b[0m \u001b[0msampler\u001b[0m\u001b[0;34m.\u001b[0m\u001b[0mfit_resample\u001b[0m\u001b[0;34m(\u001b[0m\u001b[0mX\u001b[0m\u001b[0;34m,\u001b[0m \u001b[0my\u001b[0m\u001b[0;34m,\u001b[0m \u001b[0;34m**\u001b[0m\u001b[0mfit_params\u001b[0m\u001b[0;34m)\u001b[0m\u001b[0;34m\u001b[0m\u001b[0;34m\u001b[0m\u001b[0m\n\u001b[0m\u001b[1;32m    389\u001b[0m \u001b[0;34m\u001b[0m\u001b[0m\n\u001b[1;32m    390\u001b[0m         \u001b[0;32mreturn\u001b[0m \u001b[0mX_res\u001b[0m\u001b[0;34m,\u001b[0m \u001b[0my_res\u001b[0m\u001b[0;34m,\u001b[0m \u001b[0msampler\u001b[0m\u001b[0;34m\u001b[0m\u001b[0;34m\u001b[0m\u001b[0m\n",
      "\u001b[0;32m/opt/anaconda3/lib/python3.7/site-packages/imblearn/base.py\u001b[0m in \u001b[0;36mfit_resample\u001b[0;34m(self, X, y)\u001b[0m\n\u001b[1;32m     78\u001b[0m \u001b[0;34m\u001b[0m\u001b[0m\n\u001b[1;32m     79\u001b[0m         self.sampling_strategy_ = check_sampling_strategy(\n\u001b[0;32m---> 80\u001b[0;31m             \u001b[0mself\u001b[0m\u001b[0;34m.\u001b[0m\u001b[0msampling_strategy\u001b[0m\u001b[0;34m,\u001b[0m \u001b[0my\u001b[0m\u001b[0;34m,\u001b[0m \u001b[0mself\u001b[0m\u001b[0;34m.\u001b[0m\u001b[0m_sampling_type\u001b[0m\u001b[0;34m\u001b[0m\u001b[0;34m\u001b[0m\u001b[0m\n\u001b[0m\u001b[1;32m     81\u001b[0m         )\n\u001b[1;32m     82\u001b[0m \u001b[0;34m\u001b[0m\u001b[0m\n",
      "\u001b[0;32m/opt/anaconda3/lib/python3.7/site-packages/imblearn/utils/_validation.py\u001b[0m in \u001b[0;36mcheck_sampling_strategy\u001b[0;34m(sampling_strategy, y, sampling_type, **kwargs)\u001b[0m\n\u001b[1;32m    533\u001b[0m         return OrderedDict(\n\u001b[1;32m    534\u001b[0m             sorted(\n\u001b[0;32m--> 535\u001b[0;31m                 \u001b[0m_sampling_strategy_float\u001b[0m\u001b[0;34m(\u001b[0m\u001b[0msampling_strategy\u001b[0m\u001b[0;34m,\u001b[0m \u001b[0my\u001b[0m\u001b[0;34m,\u001b[0m \u001b[0msampling_type\u001b[0m\u001b[0;34m)\u001b[0m\u001b[0;34m.\u001b[0m\u001b[0mitems\u001b[0m\u001b[0;34m(\u001b[0m\u001b[0;34m)\u001b[0m\u001b[0;34m\u001b[0m\u001b[0;34m\u001b[0m\u001b[0m\n\u001b[0m\u001b[1;32m    536\u001b[0m             )\n\u001b[1;32m    537\u001b[0m         )\n",
      "\u001b[0;32m/opt/anaconda3/lib/python3.7/site-packages/imblearn/utils/_validation.py\u001b[0m in \u001b[0;36m_sampling_strategy_float\u001b[0;34m(sampling_strategy, y, sampling_type)\u001b[0m\n\u001b[1;32m    372\u001b[0m         \u001b[0;32mif\u001b[0m \u001b[0many\u001b[0m\u001b[0;34m(\u001b[0m\u001b[0;34m[\u001b[0m\u001b[0mn_samples\u001b[0m \u001b[0;34m<=\u001b[0m \u001b[0;36m0\u001b[0m \u001b[0;32mfor\u001b[0m \u001b[0mn_samples\u001b[0m \u001b[0;32min\u001b[0m \u001b[0msampling_strategy_\u001b[0m\u001b[0;34m.\u001b[0m\u001b[0mvalues\u001b[0m\u001b[0;34m(\u001b[0m\u001b[0;34m)\u001b[0m\u001b[0;34m]\u001b[0m\u001b[0;34m)\u001b[0m\u001b[0;34m:\u001b[0m\u001b[0;34m\u001b[0m\u001b[0;34m\u001b[0m\u001b[0m\n\u001b[1;32m    373\u001b[0m             raise ValueError(\n\u001b[0;32m--> 374\u001b[0;31m                 \u001b[0;34m\"The specified ratio required to remove samples \"\u001b[0m\u001b[0;34m\u001b[0m\u001b[0;34m\u001b[0m\u001b[0m\n\u001b[0m\u001b[1;32m    375\u001b[0m                 \u001b[0;34m\"from the minority class while trying to \"\u001b[0m\u001b[0;34m\u001b[0m\u001b[0;34m\u001b[0m\u001b[0m\n\u001b[1;32m    376\u001b[0m                 \u001b[0;34m\"generate new samples. Please increase the \"\u001b[0m\u001b[0;34m\u001b[0m\u001b[0;34m\u001b[0m\u001b[0m\n",
      "\u001b[0;31mValueError\u001b[0m: The specified ratio required to remove samples from the minority class while trying to generate new samples. Please increase the ratio."
     ]
    }
   ],
   "source": [
    "X, y = pipeline.fit_resample(X, y)"
   ]
  },
  {
   "cell_type": "code",
   "execution_count": 141,
   "id": "9d6f67c9-8306-49ef-a904-188297da6517",
   "metadata": {},
   "outputs": [],
   "source": [
    "from collections import Counter"
   ]
  },
  {
   "cell_type": "code",
   "execution_count": 142,
   "id": "d3d430fd-6a03-485f-adb8-38f8ee26ea02",
   "metadata": {},
   "outputs": [
    {
     "name": "stdout",
     "output_type": "stream",
     "text": [
      "Counter({0: 13639, 1: 13639})\n"
     ]
    }
   ],
   "source": [
    "counter = Counter(y)\n",
    "print(counter)"
   ]
  },
  {
   "cell_type": "code",
   "execution_count": 143,
   "id": "e8f9159c-3f55-4d3d-bf6a-d348251cad4c",
   "metadata": {},
   "outputs": [],
   "source": [
    "X_train, X_test, y_train, y_test = train_test_split(X, y, random_state=42, stratify=y, test_size=.2)"
   ]
  },
  {
   "cell_type": "code",
   "execution_count": 144,
   "id": "8d9cdb38-46cc-4572-85f5-82ef210438b0",
   "metadata": {},
   "outputs": [
    {
     "data": {
      "text/plain": [
       "((21822, 4), (5456, 4), (21822,), (5456,))"
      ]
     },
     "execution_count": 144,
     "metadata": {},
     "output_type": "execute_result"
    }
   ],
   "source": [
    "X_train.shape, X_test.shape, y_train.shape, y_test.shape"
   ]
  },
  {
   "cell_type": "code",
   "execution_count": 145,
   "id": "79ecec7b-948c-4888-be16-e85a4d748f1e",
   "metadata": {},
   "outputs": [
    {
     "data": {
      "text/plain": [
       "(0.5, 0.5)"
      ]
     },
     "execution_count": 145,
     "metadata": {},
     "output_type": "execute_result"
    }
   ],
   "source": [
    "y_test.sum()/len(y_test), y_train.sum()/len(y_train)"
   ]
  },
  {
   "cell_type": "code",
   "execution_count": 148,
   "id": "41667eba-cc6d-48b0-9620-2a24e897db0d",
   "metadata": {},
   "outputs": [
    {
     "name": "stdout",
     "output_type": "stream",
     "text": [
      "LogReg\n",
      "                 precision    recall  f1-score   support\n",
      "\n",
      "Negative CRAFFT       0.64      0.61      0.62      2728\n",
      "Positive CRAFFT       0.62      0.66      0.64      2728\n",
      "\n",
      "       accuracy                           0.63      5456\n",
      "      macro avg       0.63      0.63      0.63      5456\n",
      "   weighted avg       0.63      0.63      0.63      5456\n",
      "\n",
      "RF\n",
      "                 precision    recall  f1-score   support\n",
      "\n",
      "Negative CRAFFT       0.78      0.69      0.73      2728\n",
      "Positive CRAFFT       0.72      0.80      0.76      2728\n",
      "\n",
      "       accuracy                           0.75      5456\n",
      "      macro avg       0.75      0.75      0.75      5456\n",
      "   weighted avg       0.75      0.75      0.75      5456\n",
      "\n",
      "KNN\n",
      "                 precision    recall  f1-score   support\n",
      "\n",
      "Negative CRAFFT       0.75      0.66      0.70      2728\n",
      "Positive CRAFFT       0.70      0.78      0.74      2728\n",
      "\n",
      "       accuracy                           0.72      5456\n",
      "      macro avg       0.72      0.72      0.72      5456\n",
      "   weighted avg       0.72      0.72      0.72      5456\n",
      "\n",
      "SVM\n",
      "                 precision    recall  f1-score   support\n",
      "\n",
      "Negative CRAFFT       0.64      0.59      0.61      2728\n",
      "Positive CRAFFT       0.62      0.67      0.64      2728\n",
      "\n",
      "       accuracy                           0.63      5456\n",
      "      macro avg       0.63      0.63      0.63      5456\n",
      "   weighted avg       0.63      0.63      0.63      5456\n",
      "\n",
      "GNB\n",
      "                 precision    recall  f1-score   support\n",
      "\n",
      "Negative CRAFFT       0.60      0.64      0.62      2728\n",
      "Positive CRAFFT       0.62      0.58      0.60      2728\n",
      "\n",
      "       accuracy                           0.61      5456\n",
      "      macro avg       0.61      0.61      0.61      5456\n",
      "   weighted avg       0.61      0.61      0.61      5456\n",
      "\n",
      "[09:40:51] WARNING: /Users/travis/build/dmlc/xgboost/src/learner.cc:1095: Starting in XGBoost 1.3.0, the default evaluation metric used with the objective 'binary:logistic' was changed from 'error' to 'logloss'. Explicitly set eval_metric if you'd like to restore the old behavior.\n"
     ]
    },
    {
     "name": "stderr",
     "output_type": "stream",
     "text": [
      "/opt/anaconda3/lib/python3.7/site-packages/xgboost/sklearn.py:1146: UserWarning: The use of label encoder in XGBClassifier is deprecated and will be removed in a future release. To remove this warning, do the following: 1) Pass option use_label_encoder=False when constructing XGBClassifier object; and 2) Encode your labels (y) as integers starting with 0, i.e. 0, 1, 2, ..., [num_class - 1].\n",
      "  warnings.warn(label_encoder_deprecation_msg, UserWarning)\n",
      "/opt/anaconda3/lib/python3.7/site-packages/xgboost/sklearn.py:1146: UserWarning: The use of label encoder in XGBClassifier is deprecated and will be removed in a future release. To remove this warning, do the following: 1) Pass option use_label_encoder=False when constructing XGBClassifier object; and 2) Encode your labels (y) as integers starting with 0, i.e. 0, 1, 2, ..., [num_class - 1].\n",
      "  warnings.warn(label_encoder_deprecation_msg, UserWarning)\n"
     ]
    },
    {
     "name": "stdout",
     "output_type": "stream",
     "text": [
      "[09:40:51] WARNING: /Users/travis/build/dmlc/xgboost/src/learner.cc:1095: Starting in XGBoost 1.3.0, the default evaluation metric used with the objective 'binary:logistic' was changed from 'error' to 'logloss'. Explicitly set eval_metric if you'd like to restore the old behavior.\n"
     ]
    },
    {
     "name": "stderr",
     "output_type": "stream",
     "text": [
      "/opt/anaconda3/lib/python3.7/site-packages/xgboost/sklearn.py:1146: UserWarning: The use of label encoder in XGBClassifier is deprecated and will be removed in a future release. To remove this warning, do the following: 1) Pass option use_label_encoder=False when constructing XGBClassifier object; and 2) Encode your labels (y) as integers starting with 0, i.e. 0, 1, 2, ..., [num_class - 1].\n",
      "  warnings.warn(label_encoder_deprecation_msg, UserWarning)\n"
     ]
    },
    {
     "name": "stdout",
     "output_type": "stream",
     "text": [
      "[09:40:52] WARNING: /Users/travis/build/dmlc/xgboost/src/learner.cc:1095: Starting in XGBoost 1.3.0, the default evaluation metric used with the objective 'binary:logistic' was changed from 'error' to 'logloss'. Explicitly set eval_metric if you'd like to restore the old behavior.\n"
     ]
    },
    {
     "name": "stderr",
     "output_type": "stream",
     "text": [
      "/opt/anaconda3/lib/python3.7/site-packages/xgboost/sklearn.py:1146: UserWarning: The use of label encoder in XGBClassifier is deprecated and will be removed in a future release. To remove this warning, do the following: 1) Pass option use_label_encoder=False when constructing XGBClassifier object; and 2) Encode your labels (y) as integers starting with 0, i.e. 0, 1, 2, ..., [num_class - 1].\n",
      "  warnings.warn(label_encoder_deprecation_msg, UserWarning)\n"
     ]
    },
    {
     "name": "stdout",
     "output_type": "stream",
     "text": [
      "[09:40:52] WARNING: /Users/travis/build/dmlc/xgboost/src/learner.cc:1095: Starting in XGBoost 1.3.0, the default evaluation metric used with the objective 'binary:logistic' was changed from 'error' to 'logloss'. Explicitly set eval_metric if you'd like to restore the old behavior.\n"
     ]
    },
    {
     "name": "stderr",
     "output_type": "stream",
     "text": [
      "/opt/anaconda3/lib/python3.7/site-packages/xgboost/sklearn.py:1146: UserWarning: The use of label encoder in XGBClassifier is deprecated and will be removed in a future release. To remove this warning, do the following: 1) Pass option use_label_encoder=False when constructing XGBClassifier object; and 2) Encode your labels (y) as integers starting with 0, i.e. 0, 1, 2, ..., [num_class - 1].\n",
      "  warnings.warn(label_encoder_deprecation_msg, UserWarning)\n"
     ]
    },
    {
     "name": "stdout",
     "output_type": "stream",
     "text": [
      "[09:40:53] WARNING: /Users/travis/build/dmlc/xgboost/src/learner.cc:1095: Starting in XGBoost 1.3.0, the default evaluation metric used with the objective 'binary:logistic' was changed from 'error' to 'logloss'. Explicitly set eval_metric if you'd like to restore the old behavior.\n"
     ]
    },
    {
     "name": "stderr",
     "output_type": "stream",
     "text": [
      "/opt/anaconda3/lib/python3.7/site-packages/xgboost/sklearn.py:1146: UserWarning: The use of label encoder in XGBClassifier is deprecated and will be removed in a future release. To remove this warning, do the following: 1) Pass option use_label_encoder=False when constructing XGBClassifier object; and 2) Encode your labels (y) as integers starting with 0, i.e. 0, 1, 2, ..., [num_class - 1].\n",
      "  warnings.warn(label_encoder_deprecation_msg, UserWarning)\n"
     ]
    },
    {
     "name": "stdout",
     "output_type": "stream",
     "text": [
      "[09:40:53] WARNING: /Users/travis/build/dmlc/xgboost/src/learner.cc:1095: Starting in XGBoost 1.3.0, the default evaluation metric used with the objective 'binary:logistic' was changed from 'error' to 'logloss'. Explicitly set eval_metric if you'd like to restore the old behavior.\n",
      "XGB\n",
      "                 precision    recall  f1-score   support\n",
      "\n",
      "Negative CRAFFT       0.78      0.69      0.73      2728\n",
      "Positive CRAFFT       0.72      0.80      0.76      2728\n",
      "\n",
      "       accuracy                           0.74      5456\n",
      "      macro avg       0.75      0.74      0.74      5456\n",
      "   weighted avg       0.75      0.74      0.74      5456\n",
      "\n"
     ]
    }
   ],
   "source": [
    "exps2 = run_experiments(X_train, y_train, X_test, y_test)"
   ]
  },
  {
   "cell_type": "code",
   "execution_count": 149,
   "id": "7c907688-4bd3-4438-9043-cdae5131989a",
   "metadata": {},
   "outputs": [],
   "source": [
    "rf = RandomForestClassifier(random_state=42)"
   ]
  },
  {
   "cell_type": "code",
   "execution_count": 150,
   "id": "c241521a-0978-4ab8-becf-deadccc368a4",
   "metadata": {},
   "outputs": [
    {
     "data": {
      "text/plain": [
       "RandomForestClassifier(random_state=42)"
      ]
     },
     "execution_count": 150,
     "metadata": {},
     "output_type": "execute_result"
    }
   ],
   "source": [
    "rf.fit(X_train, y_train)"
   ]
  },
  {
   "cell_type": "code",
   "execution_count": 151,
   "id": "3f7ee825-92e9-4316-a170-ee9515c25566",
   "metadata": {},
   "outputs": [],
   "source": [
    "preds = rf.predict(X_test)"
   ]
  },
  {
   "cell_type": "code",
   "execution_count": 152,
   "id": "1413a066-1d1f-44cc-b2db-e9ac5c213663",
   "metadata": {},
   "outputs": [
    {
     "name": "stdout",
     "output_type": "stream",
     "text": [
      "Accuracy: 0.7476173020527859\n",
      "Precision: 0.7243440717369645\n",
      "Recall: 0.7994868035190615\n",
      "F1: 0.7600627286983794\n"
     ]
    }
   ],
   "source": [
    "print(\"Accuracy:\", accuracy_score(y_test, preds))\n",
    "print(\"Precision:\", precision_score(y_test, preds))\n",
    "print(\"Recall:\", recall_score(y_test, preds))\n",
    "print(\"F1:\", f1_score(y_test, preds))\n"
   ]
  },
  {
   "cell_type": "code",
   "execution_count": 153,
   "id": "4bdaa83d-2e74-4659-b65c-c02210e231d0",
   "metadata": {},
   "outputs": [
    {
     "data": {
      "text/plain": [
       "array([0.11005134, 0.28428418, 0.31683028, 0.2888342 ])"
      ]
     },
     "execution_count": 153,
     "metadata": {},
     "output_type": "execute_result"
    }
   ],
   "source": [
    "rf.feature_importances_"
   ]
  },
  {
   "cell_type": "code",
   "execution_count": 154,
   "id": "287ed94d-43c4-4f6c-ae38-92b808fac80f",
   "metadata": {},
   "outputs": [
    {
     "data": {
      "text/plain": [
       "age_at_dos                    0.316830\n",
       "primary_clm_ins_pkg_name.1    0.288834\n",
       "svc_dprtmnt                   0.284284\n",
       "race                          0.110051\n",
       "dtype: float64"
      ]
     },
     "execution_count": 154,
     "metadata": {},
     "output_type": "execute_result"
    }
   ],
   "source": [
    "important_features = pd.Series(data=rf.feature_importances_, index=X.columns)\n",
    "important_features.sort_values(ascending=False,inplace=True)\n",
    "important_features"
   ]
  },
  {
   "cell_type": "code",
   "execution_count": 155,
   "id": "7668ffdf-35f0-4a2d-918c-9adec98e3f35",
   "metadata": {},
   "outputs": [],
   "source": [
    "param_grid = {'n_estimators': [150, 200, 250, 300], 'criterion': ['gini', 'entropy']}"
   ]
  },
  {
   "cell_type": "code",
   "execution_count": 156,
   "id": "796fe498-0724-48f8-bc8a-a19ac5df06c8",
   "metadata": {},
   "outputs": [],
   "source": [
    "from sklearn.model_selection import GridSearchCV"
   ]
  },
  {
   "cell_type": "code",
   "execution_count": 157,
   "id": "9504fd97-f561-416a-a8d5-7706c1335db5",
   "metadata": {
    "scrolled": true,
    "tags": []
   },
   "outputs": [
    {
     "data": {
      "text/plain": [
       "GridSearchCV(estimator=RandomForestClassifier(random_state=42),\n",
       "             param_grid={'criterion': ['gini', 'entropy'],\n",
       "                         'n_estimators': [150, 200, 250, 300]})"
      ]
     },
     "execution_count": 157,
     "metadata": {},
     "output_type": "execute_result"
    }
   ],
   "source": [
    "grid_rf = GridSearchCV(rf, param_grid)\n",
    "grid_rf.fit(X_train, y_train)"
   ]
  },
  {
   "cell_type": "code",
   "execution_count": 158,
   "id": "1f2946a9-efbe-4840-b8a8-af8f56b25a57",
   "metadata": {},
   "outputs": [
    {
     "data": {
      "text/plain": [
       "RandomForestClassifier(n_estimators=150, random_state=42)"
      ]
     },
     "execution_count": 158,
     "metadata": {},
     "output_type": "execute_result"
    }
   ],
   "source": [
    "grid_rf.best_estimator_"
   ]
  },
  {
   "cell_type": "code",
   "execution_count": 160,
   "id": "a39d7209-d725-477b-81b0-fe286dfc9af1",
   "metadata": {},
   "outputs": [],
   "source": [
    "rf_hyp = RandomForestClassifier(criterion='entropy',\n",
    "                       n_estimators=150, random_state=42)"
   ]
  },
  {
   "cell_type": "code",
   "execution_count": 161,
   "id": "8610cb75-1c99-4190-9d4e-acad5825b6ef",
   "metadata": {},
   "outputs": [
    {
     "data": {
      "text/plain": [
       "RandomForestClassifier(criterion='entropy', n_estimators=150, random_state=42)"
      ]
     },
     "execution_count": 161,
     "metadata": {},
     "output_type": "execute_result"
    }
   ],
   "source": [
    "rf_hyp.fit(X_train, y_train)"
   ]
  },
  {
   "cell_type": "code",
   "execution_count": 162,
   "id": "46a8f571-9a31-4e6c-a741-3622363c269f",
   "metadata": {},
   "outputs": [],
   "source": [
    "preds = rf_hyp.predict(X_test)"
   ]
  },
  {
   "cell_type": "code",
   "execution_count": 163,
   "id": "dbe79a86-39c7-4aa4-bec3-8bcc1355b420",
   "metadata": {},
   "outputs": [
    {
     "name": "stdout",
     "output_type": "stream",
     "text": [
      "Accuracy: 0.7467008797653959\n",
      "Precision: 0.7227001985440106\n",
      "Recall: 0.8005865102639296\n",
      "F1: 0.7596521739130435\n"
     ]
    }
   ],
   "source": [
    "print(\"Accuracy:\", accuracy_score(y_test, preds))\n",
    "print(\"Precision:\", precision_score(y_test, preds))\n",
    "print(\"Recall:\", recall_score(y_test, preds))\n",
    "print(\"F1:\", f1_score(y_test, preds))\n"
   ]
  },
  {
   "cell_type": "code",
   "execution_count": 164,
   "id": "8450984b-0c39-4b80-b0e3-d4cb8f58b2a8",
   "metadata": {},
   "outputs": [
    {
     "data": {
      "text/plain": [
       "array([[1890,  838],\n",
       "       [ 544, 2184]])"
      ]
     },
     "execution_count": 164,
     "metadata": {},
     "output_type": "execute_result"
    }
   ],
   "source": [
    "cf = confusion_matrix(y_test, preds)\n",
    "cf\n",
    "\n",
    "# tn, fp, fn, tp"
   ]
  },
  {
   "cell_type": "code",
   "execution_count": 165,
   "id": "d9eaee29-69cd-4177-a1b1-57d23328184e",
   "metadata": {},
   "outputs": [
    {
     "data": {
      "text/plain": [
       "5456"
      ]
     },
     "execution_count": 165,
     "metadata": {},
     "output_type": "execute_result"
    }
   ],
   "source": [
    "1890+838+544+2184"
   ]
  },
  {
   "cell_type": "code",
   "execution_count": 103,
   "id": "316212b4-fdba-45b9-8eea-4f3aa0ab161d",
   "metadata": {},
   "outputs": [],
   "source": [
    "from sklearn.metrics import roc_curve"
   ]
  },
  {
   "cell_type": "code",
   "execution_count": 104,
   "id": "b1434390-85c7-4b5d-a4d4-bdedfb00098c",
   "metadata": {},
   "outputs": [],
   "source": [
    "fpr, tpr, thresh = roc_curve(y_test, preds)"
   ]
  },
  {
   "cell_type": "code",
   "execution_count": 100,
   "id": "884b9161-2cf6-45a6-873c-d665f864e02e",
   "metadata": {},
   "outputs": [],
   "source": [
    "thresholds = np.linspace(0, 1, 100)\n",
    "thresholds = thresholds.round(2)\n",
    "accuracy = []\n",
    "recall = []\n",
    "precision = []\n",
    "f1 = []\n",
    "df = pd.DataFrame(index=thresholds)\n",
    "for thresh in thresholds: \n",
    "    pred_prob = rf.predict_proba(X_test)\n",
    "    predicted = (pred_prob[:, 1] >= thresh).astype('int')\n",
    "    acc = accuracy_score(y_test, predicted)\n",
    "    rec = recall_score(y_test, predicted)\n",
    "    prec = precision_score(y_test, predicted)\n",
    "    f1sc = f1_score(y_test, predicted)\n",
    "    accuracy.append(acc)\n",
    "    recall.append(rec)\n",
    "    precision.append(prec)\n",
    "    f1.append(f1sc)\n",
    "\n",
    "df['accuracy'] = accuracy\n",
    "df['recall'] = recall\n",
    "df['precision'] = precision\n",
    "df['f1'] = f1"
   ]
  },
  {
   "cell_type": "code",
   "execution_count": 105,
   "id": "4ff41ce8-68b4-4a53-8052-6ab0152ae9f5",
   "metadata": {},
   "outputs": [
    {
     "data": {
      "image/png": "[encoded data removed]",
      "text/plain": [
       "<Figure size 576x396 with 1 Axes>"
      ]
     },
     "metadata": {},
     "output_type": "display_data"
    }
   ],
   "source": [
    "plt.style.use('seaborn')\n",
    "sns.set_style('whitegrid')\n",
    "\n",
    "plt.plot(fpr, tpr, linestyle='--',color='red', marker='.', alpha=0.6, label='Random Forest')\n",
    "plt.plot([0,1], [0,1], linestyle='--', label='Random Guess')\n",
    "\n",
    "plt.title('ROC curve for Test Set')\n",
    "plt.xlabel('False Positive Rate')\n",
    "plt.ylabel('True Positive rate')\n",
    "plt.xlabel('False Positive Rate')\n",
    "plt.ylabel('True Positive Rate')\n",
    "\n",
    "plt.legend(loc='best')\n",
    "plt.show();"
   ]
  },
  {
   "cell_type": "code",
   "execution_count": 106,
   "id": "b367c9a4-9b69-48ef-997a-90de4bb29330",
   "metadata": {},
   "outputs": [],
   "source": [
    "gmeans = np.sqrt(tpr * (1-fpr))"
   ]
  },
  {
   "cell_type": "code",
   "execution_count": 107,
   "id": "128ec98c-6d2d-49bb-babf-f075f6662b8c",
   "metadata": {},
   "outputs": [],
   "source": [
    "ix = np.argmax(gmeans)"
   ]
  },
  {
   "cell_type": "code",
   "execution_count": 108,
   "id": "454e8957-59c0-4d1c-bb57-327a7147336a",
   "metadata": {},
   "outputs": [
    {
     "name": "stdout",
     "output_type": "stream",
     "text": [
      "Best Threshold = 1.000000, G-mean=0.746\n"
     ]
    }
   ],
   "source": [
    "print('Best Threshold = %f, G-mean=%.3f' % (thresh[ix], gmeans[ix]))"
   ]
  },
  {
   "cell_type": "code",
   "execution_count": 101,
   "id": "54fd272c-4190-4884-bf7b-3d41b75bdd40",
   "metadata": {},
   "outputs": [
    {
     "data": {
      "text/plain": [
       "Text(0.5, 0, 'Classification Thresholds')"
      ]
     },
     "execution_count": 101,
     "metadata": {},
     "output_type": "execute_result"
    },
    {
     "data": {
      "image/png": "[encoded data removed]",
      "text/plain": [
       "<Figure size 1080x432 with 1 Axes>"
      ]
     },
     "metadata": {
      "needs_background": "light"
     },
     "output_type": "display_data"
    }
   ],
   "source": [
    "fig, ax = plt.subplots(figsize=(15, 6))\n",
    "sns.set_style('whitegrid')\n",
    "\n",
    "sns.lineplot(x=thresholds, y=precision, ax=ax, color=colors[0], label='Precision', linewidth=4)\n",
    "sns.lineplot(x=thresholds, y=recall, ax=ax, color=colors[1], label='Recall', linewidth=4)\n",
    "sns.lineplot(x=thresholds, y=accuracy, ax=ax, color=colors[2], label='Accuracy', alpha=0.5)\n",
    "sns.lineplot(x=thresholds, y=f1, ax=ax, color=colors[3], label='F1 Score', alpha=0.5)\n",
    "ax.set_title('Model Evaluation Scores for Classification Thresholds', fontsize=16)\n",
    "ax.legend(fontsize=14)\n",
    "ax.set_ylabel('Score')\n",
    "ax.set_xlabel('Classification Thresholds')"
   ]
  },
  {
   "cell_type": "code",
   "execution_count": 109,
   "id": "461f74a9-a168-4a9d-a589-db7d9fb3f348",
   "metadata": {},
   "outputs": [
    {
     "data": {
      "text/plain": [
       "1"
      ]
     },
     "execution_count": 109,
     "metadata": {},
     "output_type": "execute_result"
    }
   ],
   "source": [
    "J = tpr-fpr\n",
    "ix = np.argmax(J)\n",
    "best_thresh = thresh[ix]\n",
    "best_thresh"
   ]
  },
  {
   "cell_type": "code",
   "execution_count": 110,
   "id": "8b08e035-5c94-4f38-8881-32aa2a7c4d5f",
   "metadata": {},
   "outputs": [],
   "source": [
    "from sklearn.metrics import precision_recall_curve"
   ]
  },
  {
   "cell_type": "code",
   "execution_count": 111,
   "id": "29ceda83-58ba-41a5-9ef8-2ba44e3ec215",
   "metadata": {},
   "outputs": [],
   "source": [
    "precision, recall, thresholds = precision_recall_curve(y_test, preds)"
   ]
  },
  {
   "cell_type": "code",
   "execution_count": 112,
   "id": "b3d3f9df-5960-47ba-b492-9326bd5a9053",
   "metadata": {},
   "outputs": [],
   "source": [
    "no_skill = len(y_test[y_test=='True']) / len(y_test)"
   ]
  },
  {
   "cell_type": "code",
   "execution_count": 113,
   "id": "438b5d46-d149-48d7-86ae-6fcb728a8b3d",
   "metadata": {},
   "outputs": [
    {
     "data": {
      "image/png": "[encoded data removed]",
      "text/plain": [
       "<Figure size 576x396 with 1 Axes>"
      ]
     },
     "metadata": {},
     "output_type": "display_data"
    }
   ],
   "source": [
    "plt.plot([0, 1], [no_skill, no_skill], linestyle='--', label='Random Guess')\n",
    "plt.plot(recall, precision, marker = '.', label = 'Random Forest')\n",
    "plt.xlabel('Recall')\n",
    "plt.ylabel('Precision')\n",
    "plt.legend()\n",
    "plt.show();"
   ]
  },
  {
   "cell_type": "code",
   "execution_count": 114,
   "id": "e85384ab-ed97-4818-a893-adce1528185a",
   "metadata": {},
   "outputs": [
    {
     "name": "stdout",
     "output_type": "stream",
     "text": [
      "Best Threshold to balance Precision, Recall = 1.000000, F-Score=0.761\n"
     ]
    }
   ],
   "source": [
    "fscore = (2 * precision * recall) / (precision + recall)\n",
    "ix = np.argmax(fscore)\n",
    "print('Best Threshold to balance Precision, Recall = %f, F-Score=%.3f' % (thresh[ix], fscore[ix]))"
   ]
  },
  {
   "cell_type": "code",
   "execution_count": 118,
   "id": "7434b87b-255d-45ce-b6bd-3bc2af2c7a14",
   "metadata": {},
   "outputs": [],
   "source": [
    "threshold = 0.90\n",
    "\n",
    "pred_prob = rf_hyp.predict_proba(X_test)\n",
    "predicted = (pred_prob [:, 1] >= threshold).astype('int')\n",
    "accuracy = accuracy_score(y_test, preds)\n",
    "recall = recall_score(y_test, preds)\n",
    "precision = precision_score(y_test, preds)\n",
    "f1 = f1_score(y_test, preds)"
   ]
  },
  {
   "cell_type": "code",
   "execution_count": 119,
   "id": "0cd8f78d-b764-45e8-ad6b-03c5490c330b",
   "metadata": {},
   "outputs": [
    {
     "data": {
      "text/plain": [
       "(0.7483504398826979,\n",
       " 0.8020527859237536,\n",
       " 0.7242634889109566,\n",
       " 0.7611758566707253)"
      ]
     },
     "execution_count": 119,
     "metadata": {},
     "output_type": "execute_result"
    }
   ],
   "source": [
    "accuracy, recall, precision, f1"
   ]
  },
  {
   "cell_type": "code",
   "execution_count": 120,
   "id": "727cc899-4fc0-47bc-98a1-9c974dee8cfb",
   "metadata": {},
   "outputs": [
    {
     "data": {
      "text/plain": [
       "array([[2676,   52],\n",
       "       [2017,  711]])"
      ]
     },
     "execution_count": 120,
     "metadata": {},
     "output_type": "execute_result"
    }
   ],
   "source": [
    "cf_thresh = confusion_matrix(y_test, predicted)\n",
    "cf_thresh"
   ]
  },
  {
   "cell_type": "code",
   "execution_count": 122,
   "id": "3bb91b19-0964-441d-b246-7aefa7ddb74f",
   "metadata": {},
   "outputs": [],
   "source": [
    "thresholds = np.linspace(0, 1, 100)\n",
    "thresholds = thresholds.round(2)\n",
    "accuracy = []\n",
    "recall = []\n",
    "precision = []\n",
    "f1 = []\n",
    "df = pd.DataFrame(index=thresholds)\n",
    "for thresh in thresholds: \n",
    "    pred_prob = rf.predict_proba(X_test)\n",
    "    predicted = (pred_prob[:, 1] >= thresh).astype('int')\n",
    "    acc = accuracy_score(y_test, predicted)\n",
    "    rec = recall_score(y_test, predicted)\n",
    "    prec = precision_score(y_test, predicted)\n",
    "    f1sc = f1_score(y_test, predicted)\n",
    "    accuracy.append(acc)\n",
    "    recall.append(rec)\n",
    "    precision.append(prec)\n",
    "    f1.append(f1sc)\n",
    "\n",
    "df['accuracy'] = accuracy\n",
    "df['recall'] = recall\n",
    "df['precision'] = precision\n",
    "df['f1'] = f1\n"
   ]
  },
  {
   "cell_type": "code",
   "execution_count": 125,
   "id": "3c6d82ee-4c5b-4960-94e0-70d00bda5254",
   "metadata": {},
   "outputs": [
    {
     "data": {
      "text/html": [
       "<div>\n",
       "<style scoped>\n",
       "    .dataframe tbody tr th:only-of-type {\n",
       "        vertical-align: middle;\n",
       "    }\n",
       "\n",
       "    .dataframe tbody tr th {\n",
       "        vertical-align: top;\n",
       "    }\n",
       "\n",
       "    .dataframe thead th {\n",
       "        text-align: right;\n",
       "    }\n",
       "</style>\n",
       "<table border=\"1\" class=\"dataframe\">\n",
       "  <thead>\n",
       "    <tr style=\"text-align: right;\">\n",
       "      <th></th>\n",
       "      <th>accuracy</th>\n",
       "      <th>recall</th>\n",
       "      <th>precision</th>\n",
       "      <th>f1</th>\n",
       "    </tr>\n",
       "  </thead>\n",
       "  <tbody>\n",
       "    <tr>\n",
       "      <th>0.99</th>\n",
       "      <td>0.549670</td>\n",
       "      <td>0.104106</td>\n",
       "      <td>0.956229</td>\n",
       "      <td>0.187769</td>\n",
       "    </tr>\n",
       "    <tr>\n",
       "      <th>0.96</th>\n",
       "      <td>0.572397</td>\n",
       "      <td>0.151760</td>\n",
       "      <td>0.956120</td>\n",
       "      <td>0.261942</td>\n",
       "    </tr>\n",
       "    <tr>\n",
       "      <th>1.00</th>\n",
       "      <td>0.543805</td>\n",
       "      <td>0.092009</td>\n",
       "      <td>0.954373</td>\n",
       "      <td>0.167837</td>\n",
       "    </tr>\n",
       "    <tr>\n",
       "      <th>0.97</th>\n",
       "      <td>0.561950</td>\n",
       "      <td>0.130132</td>\n",
       "      <td>0.954301</td>\n",
       "      <td>0.229032</td>\n",
       "    </tr>\n",
       "    <tr>\n",
       "      <th>0.95</th>\n",
       "      <td>0.582661</td>\n",
       "      <td>0.173754</td>\n",
       "      <td>0.953722</td>\n",
       "      <td>0.293953</td>\n",
       "    </tr>\n",
       "    <tr>\n",
       "      <th>0.98</th>\n",
       "      <td>0.556085</td>\n",
       "      <td>0.118035</td>\n",
       "      <td>0.952663</td>\n",
       "      <td>0.210046</td>\n",
       "    </tr>\n",
       "    <tr>\n",
       "      <th>0.94</th>\n",
       "      <td>0.590543</td>\n",
       "      <td>0.191716</td>\n",
       "      <td>0.947464</td>\n",
       "      <td>0.318902</td>\n",
       "    </tr>\n",
       "    <tr>\n",
       "      <th>0.93</th>\n",
       "      <td>0.603739</td>\n",
       "      <td>0.220308</td>\n",
       "      <td>0.944969</td>\n",
       "      <td>0.357313</td>\n",
       "    </tr>\n",
       "    <tr>\n",
       "      <th>0.92</th>\n",
       "      <td>0.612720</td>\n",
       "      <td>0.240103</td>\n",
       "      <td>0.942446</td>\n",
       "      <td>0.382705</td>\n",
       "    </tr>\n",
       "    <tr>\n",
       "      <th>0.91</th>\n",
       "      <td>0.615652</td>\n",
       "      <td>0.247434</td>\n",
       "      <td>0.938804</td>\n",
       "      <td>0.391645</td>\n",
       "    </tr>\n",
       "    <tr>\n",
       "      <th>0.90</th>\n",
       "      <td>0.620968</td>\n",
       "      <td>0.259897</td>\n",
       "      <td>0.935356</td>\n",
       "      <td>0.406770</td>\n",
       "    </tr>\n",
       "    <tr>\n",
       "      <th>0.89</th>\n",
       "      <td>0.630865</td>\n",
       "      <td>0.285557</td>\n",
       "      <td>0.922986</td>\n",
       "      <td>0.436170</td>\n",
       "    </tr>\n",
       "    <tr>\n",
       "      <th>0.88</th>\n",
       "      <td>0.635630</td>\n",
       "      <td>0.298754</td>\n",
       "      <td>0.915730</td>\n",
       "      <td>0.450525</td>\n",
       "    </tr>\n",
       "    <tr>\n",
       "      <th>0.86</th>\n",
       "      <td>0.643512</td>\n",
       "      <td>0.320015</td>\n",
       "      <td>0.906542</td>\n",
       "      <td>0.473043</td>\n",
       "    </tr>\n",
       "    <tr>\n",
       "      <th>0.87</th>\n",
       "      <td>0.641312</td>\n",
       "      <td>0.315616</td>\n",
       "      <td>0.905363</td>\n",
       "      <td>0.468062</td>\n",
       "    </tr>\n",
       "    <tr>\n",
       "      <th>0.85</th>\n",
       "      <td>0.645894</td>\n",
       "      <td>0.326979</td>\n",
       "      <td>0.902834</td>\n",
       "      <td>0.480086</td>\n",
       "    </tr>\n",
       "    <tr>\n",
       "      <th>0.84</th>\n",
       "      <td>0.651760</td>\n",
       "      <td>0.343109</td>\n",
       "      <td>0.896552</td>\n",
       "      <td>0.496288</td>\n",
       "    </tr>\n",
       "    <tr>\n",
       "      <th>0.83</th>\n",
       "      <td>0.656708</td>\n",
       "      <td>0.355938</td>\n",
       "      <td>0.893284</td>\n",
       "      <td>0.509043</td>\n",
       "    </tr>\n",
       "    <tr>\n",
       "      <th>0.82</th>\n",
       "      <td>0.661474</td>\n",
       "      <td>0.368035</td>\n",
       "      <td>0.890861</td>\n",
       "      <td>0.520882</td>\n",
       "    </tr>\n",
       "    <tr>\n",
       "      <th>0.81</th>\n",
       "      <td>0.669355</td>\n",
       "      <td>0.386364</td>\n",
       "      <td>0.890203</td>\n",
       "      <td>0.538855</td>\n",
       "    </tr>\n",
       "    <tr>\n",
       "      <th>0.80</th>\n",
       "      <td>0.670821</td>\n",
       "      <td>0.390029</td>\n",
       "      <td>0.889632</td>\n",
       "      <td>0.542304</td>\n",
       "    </tr>\n",
       "    <tr>\n",
       "      <th>0.79</th>\n",
       "      <td>0.674487</td>\n",
       "      <td>0.398827</td>\n",
       "      <td>0.888889</td>\n",
       "      <td>0.550607</td>\n",
       "    </tr>\n",
       "    <tr>\n",
       "      <th>0.77</th>\n",
       "      <td>0.680902</td>\n",
       "      <td>0.414956</td>\n",
       "      <td>0.886453</td>\n",
       "      <td>0.565293</td>\n",
       "    </tr>\n",
       "    <tr>\n",
       "      <th>0.78</th>\n",
       "      <td>0.677969</td>\n",
       "      <td>0.409091</td>\n",
       "      <td>0.885012</td>\n",
       "      <td>0.559539</td>\n",
       "    </tr>\n",
       "    <tr>\n",
       "      <th>0.76</th>\n",
       "      <td>0.690433</td>\n",
       "      <td>0.444282</td>\n",
       "      <td>0.875090</td>\n",
       "      <td>0.589351</td>\n",
       "    </tr>\n",
       "    <tr>\n",
       "      <th>0.75</th>\n",
       "      <td>0.691166</td>\n",
       "      <td>0.446481</td>\n",
       "      <td>0.874372</td>\n",
       "      <td>0.591119</td>\n",
       "    </tr>\n",
       "    <tr>\n",
       "      <th>0.74</th>\n",
       "      <td>0.694098</td>\n",
       "      <td>0.455645</td>\n",
       "      <td>0.871058</td>\n",
       "      <td>0.598315</td>\n",
       "    </tr>\n",
       "    <tr>\n",
       "      <th>0.73</th>\n",
       "      <td>0.695565</td>\n",
       "      <td>0.459311</td>\n",
       "      <td>0.870744</td>\n",
       "      <td>0.601392</td>\n",
       "    </tr>\n",
       "    <tr>\n",
       "      <th>0.72</th>\n",
       "      <td>0.696298</td>\n",
       "      <td>0.462610</td>\n",
       "      <td>0.868548</td>\n",
       "      <td>0.603683</td>\n",
       "    </tr>\n",
       "    <tr>\n",
       "      <th>0.71</th>\n",
       "      <td>0.698314</td>\n",
       "      <td>0.473240</td>\n",
       "      <td>0.860667</td>\n",
       "      <td>0.610691</td>\n",
       "    </tr>\n",
       "    <tr>\n",
       "      <th>0.70</th>\n",
       "      <td>0.701246</td>\n",
       "      <td>0.482771</td>\n",
       "      <td>0.857422</td>\n",
       "      <td>0.617730</td>\n",
       "    </tr>\n",
       "    <tr>\n",
       "      <th>0.69</th>\n",
       "      <td>0.704362</td>\n",
       "      <td>0.490836</td>\n",
       "      <td>0.856686</td>\n",
       "      <td>0.624097</td>\n",
       "    </tr>\n",
       "    <tr>\n",
       "      <th>0.68</th>\n",
       "      <td>0.713160</td>\n",
       "      <td>0.526026</td>\n",
       "      <td>0.840656</td>\n",
       "      <td>0.647125</td>\n",
       "    </tr>\n",
       "    <tr>\n",
       "      <th>0.67</th>\n",
       "      <td>0.726540</td>\n",
       "      <td>0.574047</td>\n",
       "      <td>0.825949</td>\n",
       "      <td>0.677336</td>\n",
       "    </tr>\n",
       "    <tr>\n",
       "      <th>0.66</th>\n",
       "      <td>0.727273</td>\n",
       "      <td>0.580645</td>\n",
       "      <td>0.821577</td>\n",
       "      <td>0.680412</td>\n",
       "    </tr>\n",
       "    <tr>\n",
       "      <th>0.64</th>\n",
       "      <td>0.738636</td>\n",
       "      <td>0.615469</td>\n",
       "      <td>0.816634</td>\n",
       "      <td>0.701923</td>\n",
       "    </tr>\n",
       "    <tr>\n",
       "      <th>0.65</th>\n",
       "      <td>0.730938</td>\n",
       "      <td>0.597507</td>\n",
       "      <td>0.815000</td>\n",
       "      <td>0.689509</td>\n",
       "    </tr>\n",
       "    <tr>\n",
       "      <th>0.63</th>\n",
       "      <td>0.738087</td>\n",
       "      <td>0.620968</td>\n",
       "      <td>0.810914</td>\n",
       "      <td>0.703342</td>\n",
       "    </tr>\n",
       "    <tr>\n",
       "      <th>0.62</th>\n",
       "      <td>0.737720</td>\n",
       "      <td>0.620968</td>\n",
       "      <td>0.810139</td>\n",
       "      <td>0.703050</td>\n",
       "    </tr>\n",
       "    <tr>\n",
       "      <th>0.61</th>\n",
       "      <td>0.741019</td>\n",
       "      <td>0.652126</td>\n",
       "      <td>0.793134</td>\n",
       "      <td>0.715751</td>\n",
       "    </tr>\n",
       "  </tbody>\n",
       "</table>\n",
       "</div>"
      ],
      "text/plain": [
       "      accuracy    recall  precision        f1\n",
       "0.99  0.549670  0.104106   0.956229  0.187769\n",
       "0.96  0.572397  0.151760   0.956120  0.261942\n",
       "1.00  0.543805  0.092009   0.954373  0.167837\n",
       "0.97  0.561950  0.130132   0.954301  0.229032\n",
       "0.95  0.582661  0.173754   0.953722  0.293953\n",
       "0.98  0.556085  0.118035   0.952663  0.210046\n",
       "0.94  0.590543  0.191716   0.947464  0.318902\n",
       "0.93  0.603739  0.220308   0.944969  0.357313\n",
       "0.92  0.612720  0.240103   0.942446  0.382705\n",
       "0.91  0.615652  0.247434   0.938804  0.391645\n",
       "0.90  0.620968  0.259897   0.935356  0.406770\n",
       "0.89  0.630865  0.285557   0.922986  0.436170\n",
       "0.88  0.635630  0.298754   0.915730  0.450525\n",
       "0.86  0.643512  0.320015   0.906542  0.473043\n",
       "0.87  0.641312  0.315616   0.905363  0.468062\n",
       "0.85  0.645894  0.326979   0.902834  0.480086\n",
       "0.84  0.651760  0.343109   0.896552  0.496288\n",
       "0.83  0.656708  0.355938   0.893284  0.509043\n",
       "0.82  0.661474  0.368035   0.890861  0.520882\n",
       "0.81  0.669355  0.386364   0.890203  0.538855\n",
       "0.80  0.670821  0.390029   0.889632  0.542304\n",
       "0.79  0.674487  0.398827   0.888889  0.550607\n",
       "0.77  0.680902  0.414956   0.886453  0.565293\n",
       "0.78  0.677969  0.409091   0.885012  0.559539\n",
       "0.76  0.690433  0.444282   0.875090  0.589351\n",
       "0.75  0.691166  0.446481   0.874372  0.591119\n",
       "0.74  0.694098  0.455645   0.871058  0.598315\n",
       "0.73  0.695565  0.459311   0.870744  0.601392\n",
       "0.72  0.696298  0.462610   0.868548  0.603683\n",
       "0.71  0.698314  0.473240   0.860667  0.610691\n",
       "0.70  0.701246  0.482771   0.857422  0.617730\n",
       "0.69  0.704362  0.490836   0.856686  0.624097\n",
       "0.68  0.713160  0.526026   0.840656  0.647125\n",
       "0.67  0.726540  0.574047   0.825949  0.677336\n",
       "0.66  0.727273  0.580645   0.821577  0.680412\n",
       "0.64  0.738636  0.615469   0.816634  0.701923\n",
       "0.65  0.730938  0.597507   0.815000  0.689509\n",
       "0.63  0.738087  0.620968   0.810914  0.703342\n",
       "0.62  0.737720  0.620968   0.810139  0.703050\n",
       "0.61  0.741019  0.652126   0.793134  0.715751"
      ]
     },
     "execution_count": 125,
     "metadata": {},
     "output_type": "execute_result"
    }
   ],
   "source": [
    "df.sort_values(by='precision', ascending=False).head(40)"
   ]
  },
  {
   "cell_type": "code",
   "execution_count": 126,
   "id": "b81ed1a1-37d5-4f98-9aa4-32bbc1cc0ba7",
   "metadata": {},
   "outputs": [],
   "source": [
    "thresh = 0.68"
   ]
  },
  {
   "cell_type": "code",
   "execution_count": 127,
   "id": "b5ee930f-a485-4a1e-96a4-7c49be33e4ee",
   "metadata": {},
   "outputs": [],
   "source": [
    "from sklearn.ensemble import GradientBoostingClassifier\n"
   ]
  },
  {
   "cell_type": "code",
   "execution_count": 128,
   "id": "70e11479-6d0b-466f-8a5a-c633545f4457",
   "metadata": {},
   "outputs": [],
   "source": [
    "gbc = GradientBoostingClassifier(random_state=42)"
   ]
  },
  {
   "cell_type": "code",
   "execution_count": 129,
   "id": "e30f78c6-9ff1-424c-9932-e0002bc99265",
   "metadata": {},
   "outputs": [
    {
     "data": {
      "text/plain": [
       "GradientBoostingClassifier(random_state=42)"
      ]
     },
     "execution_count": 129,
     "metadata": {},
     "output_type": "execute_result"
    }
   ],
   "source": [
    "gbc.fit(X_train, y_train)"
   ]
  },
  {
   "cell_type": "code",
   "execution_count": 130,
   "id": "153dbdc6-88bf-4419-bb4b-6acf8e0a6f01",
   "metadata": {},
   "outputs": [],
   "source": [
    "preds_gbc = gbc.predict(X_test)"
   ]
  },
  {
   "cell_type": "code",
   "execution_count": 132,
   "id": "bf240959-5d8c-47c4-98dc-50c39bbb17ec",
   "metadata": {},
   "outputs": [
    {
     "name": "stdout",
     "output_type": "stream",
     "text": [
      "Accuracy: 0.7058284457478006\n",
      "Precision: 0.6887394957983193\n",
      "Recall: 0.751099706744868\n",
      "F1: 0.7185691741188849\n"
     ]
    }
   ],
   "source": [
    "print(\"Accuracy:\",accuracy_score(y_test, preds_gbc))\n",
    "print(\"Precision:\",precision_score(y_test, preds_gbc))\n",
    "print(\"Recall:\",recall_score(y_test, preds_gbc))\n",
    "print(\"F1:\",f1_score(y_test, preds_gbc))\n"
   ]
  },
  {
   "cell_type": "code",
   "execution_count": 142,
   "id": "0b7294b9-3b4d-4aa8-84e8-fc15d39a7db9",
   "metadata": {},
   "outputs": [
    {
     "data": {
      "text/plain": [
       "16    3965\n",
       "15    3868\n",
       "14    3437\n",
       "17    3202\n",
       "13    2889\n",
       "18    1781\n",
       "12    1735\n",
       "19     693\n",
       "20     151\n",
       "11      58\n",
       "21      42\n",
       "22       1\n",
       "Name: age_at_dos, dtype: int64"
      ]
     },
     "execution_count": 142,
     "metadata": {},
     "output_type": "execute_result"
    }
   ],
   "source": [
    "X_train['age_at_dos'].value_counts()"
   ]
  },
  {
   "cell_type": "code",
   "execution_count": 145,
   "id": "489df4fd-cf56-4aec-878c-24caf2b0a379",
   "metadata": {},
   "outputs": [],
   "source": [
    "sample = [[6, 14, 15, 113]]"
   ]
  },
  {
   "cell_type": "code",
   "execution_count": 146,
   "id": "0f6a1fce-853b-48e0-9845-f6e279958553",
   "metadata": {},
   "outputs": [],
   "source": [
    "samp_pred = rf_hyp.predict(sample)"
   ]
  },
  {
   "cell_type": "code",
   "execution_count": 147,
   "id": "bbe75e9b-3d2e-44c2-ba3a-78e1cdfd12b2",
   "metadata": {},
   "outputs": [
    {
     "data": {
      "text/plain": [
       "array([1])"
      ]
     },
     "execution_count": 147,
     "metadata": {},
     "output_type": "execute_result"
    }
   ],
   "source": [
    "samp_pred"
   ]
  },
  {
   "cell_type": "code",
   "execution_count": null,
   "id": "b7b40cf2-4399-4ef5-92f1-55237469b9b9",
   "metadata": {},
   "outputs": [],
   "source": []
  }
 ],
 "metadata": {
  "kernelspec": {
   "display_name": "Python 3",
   "language": "python",
   "name": "python3"
  },
  "language_info": {
   "codemirror_mode": {
    "name": "ipython",
    "version": 3
   },
   "file_extension": ".py",
   "mimetype": "text/x-python",
   "name": "python",
   "nbconvert_exporter": "python",
   "pygments_lexer": "ipython3",
   "version": "3.7.7"
  }
 },
 "nbformat": 4,
 "nbformat_minor": 5
}
