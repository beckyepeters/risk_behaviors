{
 "cells": [
  {
   "cell_type": "markdown",
   "id": "df078422-5f28-4192-8b87-6d6dfede73bf",
   "metadata": {},
   "source": [
    "Clinic 2016 to 2021"
   ]
  },
  {
   "cell_type": "code",
   "execution_count": 40,
   "id": "e023381c-d9b3-47d9-9e19-4b9a4b74d5b0",
   "metadata": {},
   "outputs": [],
   "source": [
    "import pandas as pd\n",
    "import numpy as np\n",
    "import seaborn as sns\n",
    "import matplotlib.pyplot as plt\n",
    "plt.style.use('ggplot')\n",
    "%matplotlib inline\n",
    "import seaborn as sns\n",
    "colors = ['#b166eb', '#8858D4', '#664CC1', '#4B43B2', '#072B8B']\n",
    "sns.set_palette(colors)\n",
    "\n",
    "from sklearn.model_selection import train_test_split, KFold\n",
    "from sklearn.linear_model import LogisticRegression\n",
    "from sklearn.neighbors import KNeighborsClassifier\n",
    "from sklearn.svm import SVC\n",
    "from sklearn.ensemble import RandomForestClassifier\n",
    "from sklearn.naive_bayes import GaussianNB\n",
    "from xgboost import XGBClassifier\n",
    "from sklearn import model_selection \n",
    "from sklearn.utils import class_weight\n",
    "from sklearn.metrics import classification_report, confusion_matrix, accuracy_score, precision_score, f1_score, recall_score\n",
    "\n",
    "from sklearn.preprocessing import LabelEncoder\n",
    "\n",
    "# from scipy.stats import \n",
    "# import statsmodels.api as sm"
   ]
  },
  {
   "cell_type": "code",
   "execution_count": 3,
   "id": "01060dea-5c22-413c-84c3-5325daf2dd75",
   "metadata": {},
   "outputs": [],
   "source": [
    "cln = pd.read_csv('data/cln_2016_21.csv')"
   ]
  },
  {
   "cell_type": "code",
   "execution_count": 4,
   "id": "a2aa9f50-7110-4e4f-8468-a55d5d4b56a9",
   "metadata": {},
   "outputs": [
    {
     "name": "stdout",
     "output_type": "stream",
     "text": [
      "<class 'pandas.core.frame.DataFrame'>\n",
      "RangeIndex: 76106 entries, 0 to 76105\n",
      "Data columns (total 28 columns):\n",
      " #   Column                            Non-Null Count  Dtype  \n",
      "---  ------                            --------------  -----  \n",
      " 0   patientid                         76106 non-null  object \n",
      " 1   patientdob                        76106 non-null  object \n",
      " 2   patient_age                       76106 non-null  int64  \n",
      " 3   patient_zip                       76106 non-null  object \n",
      " 4   race                              76094 non-null  object \n",
      " 5   multiple_races                    76094 non-null  object \n",
      " 6   ethnicity                         76089 non-null  object \n",
      " 7   _cncrns_bt_mtng_bsc_nds__fd_____  32179 non-null  object \n",
      " 8   cln_enc_id                        76106 non-null  int64  \n",
      " 9   enc_Ht_date                       76106 non-null  object \n",
      " 10  enc_Ht                            76106 non-null  object \n",
      " 11  enc_Wt_date                       76106 non-null  object \n",
      " 12  enc_Wt                            76047 non-null  object \n",
      " 13  enc_BMI_date                      76106 non-null  object \n",
      " 14  enc_BMI                           76029 non-null  float64\n",
      " 15  chrt_epsd_id                      0 non-null      float64\n",
      " 16  order_id                          76106 non-null  int64  \n",
      " 17  labrdocid                         73713 non-null  float64\n",
      " 18  order_chartdate                   76106 non-null  object \n",
      " 19  order_name__single_               76106 non-null  object \n",
      " 20  labvalue                          72658 non-null  object \n",
      " 21  labanalyte                        0 non-null      float64\n",
      " 22  labinterpretation                 0 non-null      float64\n",
      " 23  svc_dprtmnt                       76106 non-null  object \n",
      " 24  age_at_dos                        76106 non-null  int64  \n",
      " 25  primary_clm_ins_pkg_name          76106 non-null  object \n",
      " 26  primary_clm_ins_pkg_name.1        76106 non-null  object \n",
      " 27  clm_sldng_fee_ins_pkg_name        0 non-null      float64\n",
      "dtypes: float64(6), int64(4), object(18)\n",
      "memory usage: 16.3+ MB\n"
     ]
    }
   ],
   "source": [
    "cln.info()"
   ]
  },
  {
   "cell_type": "code",
   "execution_count": 156,
   "id": "f53720bc-b133-4776-9488-c8e85d8ebf31",
   "metadata": {},
   "outputs": [
    {
     "data": {
      "text/plain": [
       "40682"
      ]
     },
     "execution_count": 156,
     "metadata": {},
     "output_type": "execute_result"
    }
   ],
   "source": [
    "len(cln.labrdocid.unique())"
   ]
  },
  {
   "cell_type": "code",
   "execution_count": 5,
   "id": "23266f54-4b27-4ba0-a7dc-9808f10580dc",
   "metadata": {},
   "outputs": [
    {
     "data": {
      "text/plain": [
       "(array(['negative', nan, 'positive'], dtype=object),\n",
       " negative    13643\n",
       " positive     1136\n",
       " Name: labvalue, dtype: int64,\n",
       " 343)"
      ]
     },
     "execution_count": 5,
     "metadata": {},
     "output_type": "execute_result"
    }
   ],
   "source": [
    "crafft = cln.loc[(cln['order_name__single_']=='CRAFFT, SUBSTANCE ABUSE SCREENING FOR ADOLESCENTS*')]\n",
    "crafft.labvalue.unique(), crafft.labvalue.value_counts(), crafft.labvalue.isnull().sum()"
   ]
  },
  {
   "cell_type": "code",
   "execution_count": 6,
   "id": "a33b0935-8a72-4e40-b282-f3c10e93b5b2",
   "metadata": {
    "scrolled": true,
    "tags": []
   },
   "outputs": [
    {
     "data": {
      "text/plain": [
       "(array(['0', 'negative', '14', 'positive', '2', '1', nan, '3', '4', '9',\n",
       "        '11', '6', '19', '5', '8', '16', '7', '10', '15', '18/20', '18',\n",
       "        '21', '13', '20', '18 - severe', '27', '24', '12', '25', '23',\n",
       "        '17', 'o', '22', 'O', '1.5', '26'], dtype=object),\n",
       " negative       6325\n",
       " 0              3255\n",
       " 1               819\n",
       " 2               746\n",
       " 3               505\n",
       " positive        501\n",
       " 4               320\n",
       " 6               199\n",
       " 5               193\n",
       " 7               156\n",
       " 8                99\n",
       " 9                98\n",
       " 11               77\n",
       " 10               66\n",
       " 12               64\n",
       " 13               41\n",
       " 14               40\n",
       " 15               31\n",
       " 16               18\n",
       " 18               17\n",
       " 19               13\n",
       " o                12\n",
       " 20               10\n",
       " 17                6\n",
       " 21                6\n",
       " O                 2\n",
       " 22                2\n",
       " 26                2\n",
       " 25                2\n",
       " 24                2\n",
       " 23                1\n",
       " 27                1\n",
       " 18 - severe       1\n",
       " 1.5               1\n",
       " 18/20             1\n",
       " Name: labvalue, dtype: int64,\n",
       " 2313)"
      ]
     },
     "execution_count": 6,
     "metadata": {},
     "output_type": "execute_result"
    }
   ],
   "source": [
    "phq = cln.loc[(cln['order_name__single_']=='PATIENT HEALTH QUESTIONNAIRE-9*')]\n",
    "phq.labvalue.unique(), phq.labvalue.value_counts(), phq.labvalue.isnull().sum()"
   ]
  },
  {
   "cell_type": "code",
   "execution_count": 7,
   "id": "63b6743f-c776-4da1-9301-2a84d9b18ba9",
   "metadata": {
    "scrolled": true,
    "tags": []
   },
   "outputs": [
    {
     "data": {
      "text/plain": [
       "array(['0', 'negative', '3', '1', 'INCOMPLETE', '10', 'positive', '2',\n",
       "       '8', '4', '19', '21', 'Just Health', '4/0/5', '11/0/10', nan, '13',\n",
       "       'Positive for anxiety; long discussion with patient re: resources. He wants to re-engage with this in the fall. He will f/u sooner if any questions or concerns.',\n",
       "       '9', '6/0/5', '17', '18', 'gad 7 = 18', '5', '14',\n",
       "       'CRAFFT 1, GAD7 result 0', 'CRAFFT 0, GAD7 result 0', 'gad7 = 0',\n",
       "       'gad 7 = 0', '15', 'Refer to BHP',\n",
       "       'Scared = 75. Saw BHP yestereday and will see BHP tomorrow.', '24',\n",
       "       '25', 'CRAFFT 1, GAD 7 result 5', 'PHQ 0', '6',\n",
       "       'CRAFFT 0, GAD7 result 1', 'CRAFFT 2, GAD 7results 13', '16',\n",
       "       'Mild improvement from 16 last month', '12',\n",
       "       'CRAFFT 1, GAD7 result 11; After discussion, feel more tied to sleep issues and physical symptoms.',\n",
       "       '7', 'Mild', 'CRAFFT 1, GAD7 results 12',\n",
       "       'CRAFFT 3, GAD7 result 10', 'Gad 7= 3.', 'Mild Depression',\n",
       "       'Gad7 =  6', 'CRAFFT 3, GAD7 result 4',\n",
       "       'CRAFFT 1, GAD7result of 3', 'hx SA, denies SI in the past month',\n",
       "       'Negative', 'mild', '23', '11', '3`',\n",
       "       'teen will ask for BHC at her school',\n",
       "       'item 9 is zero, feels happy, no SI, no hx SA',\n",
       "       'no SI/HI, no SA or self harm',\n",
       "       'item 9 is zero, no SI/HI, doing well', 'item 9 is zero',\n",
       "       'score shows \"\"mild depresion\"\" on Just Health. discussed.',\n",
       "       'item 9 is zero - no SI, no history of attempts, possible mild depression',\n",
       "       'no SI or self harm, no hx SA. Scored 3 for little interest (but enjoys coloring and sports, busy with school but not withdrawn)',\n",
       "       'score of 8: trouble concentrating 3, moving fast 3. No SI, no safety concerns',\n",
       "       'mild depression', 'neg', 'p',\n",
       "       'Item 9 is zero, pt reports symptoms improving over spring break -attributes to school stress',\n",
       "       'item 9 is zero, no SI/HI, positive for concentration/appetite/sleep',\n",
       "       'Item 9 is zero', 'o', 'SA', '22',\n",
       "       'reviewed w/ pt - she scored 3 for little interest and when asked she says she meant nearly every day she enoys doing things (no anhedonia)',\n",
       "       'no SI/HI/self harm/SA', '3n', 'cutting vein, 2yrs ago', '26',\n",
       "       'item 9 is zero, no hx SA, no self harming behaviors, no SI', '20',\n",
       "       'n', 'GAD + (6)',\n",
       "       '2 high scores were for poor sleep and poor attn.  already working with AuMH',\n",
       "       'pt admitted to cutting himself in 2019',\n",
       "       'for sleep issues, feels tired and low concentration',\n",
       "       'Item 9 is zero, no SI/HI, feels happy',\n",
       "       'item 9 is zero, no si, denies hx self harm', '8-Jul',\n",
       "       'total of 9', '1/0/5', 'Mild concern', '7-Jul',\n",
       "       'no si/hi, no hx sa, no self harm',\n",
       "       'Item 9 is zero - pt reports decreased focus this summer, sleeping more because of the summer schedule, picked on by brothers but denies feeling sad/bothered, denies feeling threatened/hurt/unsafe/overwhelmed',\n",
       "       'no si, item 9 is zero', '#NAME?', '0/0/0', '8/0/4', '6/0/10',\n",
       "       'J/H reviewed', '17/13', '#9 NO', 'no SI/self harm, no hx SA',\n",
       "       'answered a yes question', 'met with BHC (Ashley)',\n",
       "       'PHQ13 completed and no referral desired', 'Mild symptoms',\n",
       "       '19/0/12', 'some trouble sleeping, no SI',\n",
       "       'Item 9 is zero, no SI/HI or history of SA',\n",
       "       'Just Health reviewed', 'CRAFFT 2, GAD7 result 10',\n",
       "       'item 9 is zero, no SI/HI or history of suicidal attempt',\n",
       "       'Pt has history of depression and is in remission on meds at this time. GAD 7 results 7',\n",
       "       'Met with Rebecca Gostlin, BHP', '25/17',\n",
       "       'item 9 is zero, no hx SA/SI, no self harming',\n",
       "       'no SI/HI, no hx harm', 'depressed most days', 'decreased score',\n",
       "       'no SI/HI',\n",
       "       'item 9 is zero, no HI/SI/SA, scored 3 for little interest/pleasure but reports enjoying same things as always - soccer, cooking',\n",
       "       'CRAFFT 0, GAD 7 result 0', 'CRAFFT 0 GAD7 result 0',\n",
       "       'borderline positive, no SI/HI, no SA, no self harm',\n",
       "       'improved from previous', 'Gad 7 = 7, SCARED = 8',\n",
       "       'positive on yes questions', '0/0/1',\n",
       "       'Item 9 is zero. No SI/HI. Reports can talk to FOC and friends',\n",
       "       'referred to BHC for school bullying',\n",
       "       'F/u visit planned with BHP in the SBHC',\n",
       "       'item 9 is zero. Scored 2 points for sleep. No SI/HI/SA',\n",
       "       'ppsitive for depressed feeling most days', 'GAD 7 results 20',\n",
       "       'Discussed with Rebecca Gostlin, BHP',\n",
       "       'Discussed with D.Archer, NP', 'gad 7 = 1', '2n',\n",
       "       'CRAFFT 0  GAD7 results of 1', '20/21', 'denies SI/HI, no hx SA',\n",
       "       'item 9 is zero, no SI/HI/SA',\n",
       "       'Responded that it has been somewhat difficult to do work, take care of things at home, or get along with other people',\n",
       "       'item 9 is zero. 1 point each for sleep and troule concentrating',\n",
       "       'Reviewed score of 3 for item 2: pt misread question and states he enjoys things still as much as ever. 2 points for stuttering and 2 points for trouble concentrating on school work sometimes. Item 9 is zero. No depressed mood, SI/HI, or SA',\n",
       "       'f/u at WCC in 2wk', 'suicidal thoughts', 'for self harm',\n",
       "       'no safety concerns', 'score=0',\n",
       "       'Responded yes to feeling depressed/sad most days in the past year',\n",
       "       'Yes for depression', 'recent death of her best friend',\n",
       "       'Cassidy aware', 'positive self harm', '0.5', 'O',\n",
       "       'ITEM 9 IS ZERO', 'no SI, no concerns',\n",
       "       'No concerns, pt reports doing well', 'did not complete',\n",
       "       'total of 0', 'had a yes', 'yes to depressed within the last year',\n",
       "       '2w', 'yes on #10', 'Alfie aware', 'Mild depression', 'pass',\n",
       "       'could not locate results - done on Apex ipad but not in system',\n",
       "       'interviewed, score by interview, no SI/HI',\n",
       "       'negative for SI and negative for self harm, no hx SA',\n",
       "       'Talked to provider', '2 yes questions', 'total of 5',\n",
       "       \"MOC didn't complete\", '8 (mild)',\n",
       "       'see just health and visit note', 'GAD 7 positive', '`', '15.5',\n",
       "       'pt forgot to do PHQ/A. Forgot to finish ASQ',\n",
       "       'pt did not complete',\n",
       "       'item 9 is negative, no SI, no self harm, no hx SA, no desire to die, has goals/plans',\n",
       "       'no SI/SA or self harm', 'did not answe ASQ', 'not compeleted',\n",
       "       '27', 'pt did not fill out screenings',\n",
       "       'No SI/HI, happy most days', 'positive to harm question',\n",
       "       'answered 1 yes question', 'agrees to see Bri here in our office',\n",
       "       'Item 9 is zero, no SI/HI', 'no SI/HI, no hx SA',\n",
       "       'positive but not concerning', 'mom filled it out for him',\n",
       "       'no SI, no self harm, no hx SA, no safety concerns. +prev dx ADHD',\n",
       "       'neg PHQ, pos ASQ for history of SI/SA',\n",
       "       'PHQ-2 completed, no SI/HI, no hx SA. Reports doing well',\n",
       "       'could not find hard copy/score',\n",
       "       'no recent SI, self harm. Remote hx SA. Reviewed with pt and plan formulated, strict precautions given',\n",
       "       'Pt monitored at AMH',\n",
       "       'Item 9 is zero. Highest points for difficulty concentrating and being overly active',\n",
       "       'Scored 1 point each for tired, feeling bad. Negative to all others including item 9. Supplemental questions negative',\n",
       "       'PHQ score from JustHealth. Pt also completed paper PHQ and score=12',\n",
       "       'did not answer ASQ', 'no SI/HI, no self harm, no safety concerns',\n",
       "       'item 9 is zero, no SI/HI or history of SA, no self harm. Feels stressed by weight and school. Was sad and stressed about friend moving but this is no longer happening. Confides in friend. Has interests',\n",
       "       'history of cutting, no history of SA, no SI/plan/intent',\n",
       "       'History of self harm behavior - reviewed, see notes',\n",
       "       'Answered \"\"yes\"\" questions', 'she and dad deny depression',\n",
       "       'score by paper PHQ, tablet PHQ is 0',\n",
       "       'item 9 is zero, no SI/HI, denies s/sx depression',\n",
       "       'never\"\" for suicide questions',\n",
       "       'item 9 is zero. Hx cutting, no SI/HI/SA', 'ASQ not completed',\n",
       "       'Answered a yes questions', 'answered yes to 1 question', 'no si',\n",
       "       '+ for \"\"end life this month\"\", but when I discussed results with her, she states she pressed the wrong thing',\n",
       "       'total of 3', 'never SI',\n",
       "       'for previous suicide ideation. denies problems now.',\n",
       "       'tried to stab self 5-6 yrs ago', 'blank',\n",
       "       'Teen was locked out of the ipad, left before staff aware', '30',\n",
       "       '55', 'Answered 2 to question 9',\n",
       "       'item 9 is zero, no hx SA, no SI. Pt reports some symptoms including fatigue related to not feeling well',\n",
       "       'Total of 14',\n",
       "       'no SI, no self harm, no hx SA, no acute safety concerns',\n",
       "       'ASQ negative upon review and further discussion',\n",
       "       'All responses are zero', 'no SI', 'PHQ 9-11, GAD 7-11',\n",
       "       'Total of 0', '0/0',\n",
       "       'Negative as no SI/HI, item 9 is zero. However, reports depressed most days in the past year and very difficult',\n",
       "       'item 9 is zero, not feeling sad or overwhelmed, no SI/SA, denies stress or concerns at home or school',\n",
       "       'Accidently hurt himself', 'yes question',\n",
       "       'item 9 is zero, all supplemental questions are negative',\n",
       "       'already in therapy and on zoloft', 'yes to sad',\n",
       "       'done via JustHealth tablet',\n",
       "       'Answered yes to tried to kill yourself or made suicidal attempts',\n",
       "       'depressed or sad most days',\n",
       "       'PHQ-A Positive per Sophia (pt did not answer)',\n",
       "       'patient not finshed it', 'unknown, not entered at time of appt',\n",
       "       '+ previous SI 2 years ago', 'no current SI, but + history of SI',\n",
       "       'teen declines BHC referral',\n",
       "       'school stress, sadness sometimes, denies SI/HI/SA, denies safety concerns',\n",
       "       'no SI/HI, SA, or self harm', 'on medication',\n",
       "       'Item 9 is zero. Pt scored 2 points for feeling tied and 1 point for feeling bad',\n",
       "       'yes for depressed in past year',\n",
       "       'item 9 is zero, no SI, no hx SA or safety concerns',\n",
       "       'referred to AuMH', 'Answered yes to the harm questions',\n",
       "       'total of 2',\n",
       "       'somewhat difficult to do work, take care of things, or get along with people',\n",
       "       'severe depression', '18 total and yes to all the harm questions',\n",
       "       'Item 9 is zero. Pt denies any SI/HI or SA. Points mostly for feeling tired after school and for trouble concentrating. Pt feels he is happy the vast majority of days',\n",
       "       \"see Rochelle's notes\", 'total of 4', 'pt did not finish packet',\n",
       "       'item 9 is zero, no safety concerns, no SI/HI, no hx suicidal attempts',\n",
       "       'consistent with moderate depression',\n",
       "       'discussed/assessed, warm handoff',\n",
       "       'no SI/HI, no concerns by interview',\n",
       "       'much improved from previous score!', 'see ROS',\n",
       "       'no SI, no hx SA, no self harm, no safety concerns',\n",
       "       'borderline positive, discussed with teen. offered BHC. she declined today.',\n",
       "       'responded yes to feeling sad or depressed most days in the past year',\n",
       "       'Responded yes to feeling sad or depressed most days',\n",
       "       'no SI, feels happy most days', 'no PHQA',\n",
       "       'Item 9 is zero, feels happy, no SI/HI, has a lot of interests',\n",
       "       'history of suicidal ideation age 11y, no recent/current SI/HI, denies plan/intent',\n",
       "       'see JustHealth', 'no SI, no SA, denies any history of abuse',\n",
       "       \"PT didn't turn  packet in\", 'no SI/HI, self harm, SA',\n",
       "       'item 9 is zero, feels happy, denies concerns',\n",
       "       'item 9 is zero, consistent with possible mild depression',\n",
       "       \"Pt didn't complete\", 'neg SI/self harm/SA', 'GAD 17', 'Dr aware',\n",
       "       'no safety concerns, no SI, SA, or self harm', '4-Apr',\n",
       "       'was PHQ13', 'Item 9 is zero. Happy, no SI/HI, doing well per pt',\n",
       "       'pt has h/o SI >1 year ago, prev at AuMHC, none since',\n",
       "       'SI requiring hospitalization last month', '20/19', 'severe',\n",
       "       'item 9 is negative, no self harm, no ideation for harm, no feelings of not wanting to live (happy with life, has goals and plans)',\n",
       "       'no SI/HI, happy majority of days', 'GAD 7 = 6',\n",
       "       'teen already working with BHC',\n",
       "       'Item 9 is zero. Supplemental questions negative',\n",
       "       'PHQ on tablet negative. Reviewed paper asq, see scanned for notes, overall assessment negative',\n",
       "       'referral made',\n",
       "       'No interim suicidal ideation, no suicidal attempt',\n",
       "       'Item 9 is zero, no SI/HI/SA', 'item 9 is zeo', '0/1/19',\n",
       "       '4 anxiety', 'item 9 is zero, supplemental questions negative',\n",
       "       '15/15', 'moderate',\n",
       "       'Item 9 is zero. Feels happy, no SI/HI. Feeling tired the past week but also has had some SN/RN. No trouble sleeping otherwise. Enjoys playing with brother and hanging out with friends',\n",
       "       'Item 9 is zero, no SI/SA, feels happy most days',\n",
       "       'denies SI, no hx SA, denies self harm',\n",
       "       'item 9 is zero, no SI/HI, no safety concerns, no hx SA attempt/self harm, reports good support',\n",
       "       '11 (initially 15- reviewed and she changed answers to 2 questions)',\n",
       "       'Will contact BHC',\n",
       "       'POSITIVE history of SA age 12y. Denies any attempts or ideation since',\n",
       "       'patient continuing therapy, denies SI/HI', 'Gad7 = 11.',\n",
       "       'Much improvement!', 'Gad -7= 1',\n",
       "       'Is connected with mental health counseling at Axis. SWOS BHP spoke with her counselor, Annie, to discuss care. She is closely monitored and is on waiting list for inpatient care at this time.',\n",
       "       'CRAFFT 4, GAD7 result 6', 'gad7=0',\n",
       "       'Saw BHP yesterday and is scheduled for repeat next week with BHP. No current SI. GAD 7 results 19',\n",
       "       'BHP reviewed screening with pt at time of visit. No concerns. Wording of questions affected responses.',\n",
       "       'gad7=5', 'CRAFFT 2, GAD7 result 1', 'discussed',\n",
       "       'DID NOT FILL OUT FORMS', 'CRAFT 1', '0/0/6', 'anxiety',\n",
       "       '?not saved - could not locate', 'UNK',\n",
       "       'Mild Depression and GAD score 6 (mild concern)',\n",
       "       'does not wish therapy',\n",
       "       'Item 9 is zero. Denies SI or history of SA. +depression/sadness most days in the past year marked \"\"yes\"\"',\n",
       "       'GAD 7- Results 0', 'GAD 7 results of 2',\n",
       "       'Immediate handoff to BHP for safety evaluation, plan established',\n",
       "       'c/w mild depression, no SI/HI, item 9 is zero',\n",
       "       'mom helped her since pt has mild delays',\n",
       "       'CRAFFT 0, GAD7 result 4', 'Gad 7 = 8',\n",
       "       'GAD 7 results 14. CRAFFT 0', 'Item 9 is zero.', 'Gad-7= 2',\n",
       "       'Provider notified', 'CRAFFT 0, GAD7 results 6',\n",
       "       'CRAFFT 0, GAD7 results 0', 'gad 7 = 0.', '2/1/00',\n",
       "       'no SI/HI, no hx SA, no self harm, feels safe and supported',\n",
       "       'Just moved in with aunt and uncle here in US.  Misses his family and friends back in Mexico.',\n",
       "       'item 9 is zero, no SI/HI. 1 point each for eating and sleep',\n",
       "       'Item 9 is zero, no SI/HI or history of SA. Score of 5 boerderline of normal vs. consider mild depression',\n",
       "       'CRAFFT 1, GAD7 result 12', 'mild concern',\n",
       "       'CRAFFT 0, GAD7 result 17',\n",
       "       \"already working with a counselor regularly.  feels like it's helping.  no need for additional help at this time.  NO SI at this time.\",\n",
       "       'no plan ideation, history of cutting, denies suicidal intent/ideation, wants a different life sometimes but does not want to end life or die, no acute safety concerns',\n",
       "       'referral but refused',\n",
       "       'no SI, feels happy, no behavioral/emotional concerns', 'CRAFFT 0',\n",
       "       'Discussed with Debrah Archer, N.P.',\n",
       "       'Negative for recent symptoms but positive history of suicidal attempt',\n",
       "       'provider notified_ JM',\n",
       "       'marked yes for feeling depressed most days, and that these problems have made it somewhat difficult to take care of things at home',\n",
       "       'no SI/HI or SA, no self harm, in therapy once weekly',\n",
       "       'teen just left mother in Mexico and moved here with aunt and uncle.  feels sad and misses his mom.',\n",
       "       'Administered in French, completed by patient',\n",
       "       'Item 9 is zero, no h/o SA, no SI/HI',\n",
       "       'Item 9 is more than half the days, denies SA or SI this month, screen will be scanned into CONF chart',\n",
       "       'item 9 was marked several days, clarified with patient who reports hurting himself when play fighting with friends/wrestling with friends, no self-harm, no suicidal ideation/plan/intent/attempt ever per patient. Thus, negative on review with pt and MOC. Deny safety concerns. Pt feels happy most days',\n",
       "       'teen will look into BHC at her school', 'CRAFT 0, GAD7 result 2',\n",
       "       'see A/P', 'no SI/HI, item 9 is zero',\n",
       "       'in therapies, denied SI/HI/safety concerns in interview',\n",
       "       '8 - incomplete', 'did not finish',\n",
       "       'no SI, no intent, no acute safety concerns, BHP appt scheduled 7/19/18',\n",
       "       'Scared = 49.',\n",
       "       'Discussed with patient by NP with motivational interviewing, including warm hand-off to BHP at the end of this visit.',\n",
       "       'CRAFT 0, GAD7 result 0', 'CRAFT 2, GAD7 results 12',\n",
       "       'CRAFT 0, GAD7 results 0', 'Reviewed with Rebecca Gostlin, BHP',\n",
       "       'Gad 7 Results 9',\n",
       "       'Improvement from last screening- was 17. On Zoloft 50mg for past 3 weeks',\n",
       "       'SCARED- significant for GAD at 9, and SAD at 11, is currently in treatment',\n",
       "       'This is a great improvement from score of 16 2 weeks ago, when new med was added. SCARED scores remained consistent, with GAD 10 and SAD 12',\n",
       "       'CRAFT 0, GAD7 results 14', 'GAD 7 15, Aces 8', '27-Sep', 'J/H',\n",
       "       'item 9 is zero, no history of SA/self harm or SI in the past month',\n",
       "       '1/0/9', 'when asked further misinterpreted data',\n",
       "       'Appt made to see BHP Monday morning.',\n",
       "       'Very mild depression - improving', 'yes to harm question',\n",
       "       'yes to the harm questions', 'Gad - 7 = 0',\n",
       "       'positive for mild depression and mild concer for anxiety on the GAD 7 today',\n",
       "       'GAD7=13', 'Gad7 = 14',\n",
       "       'Pt seen by BHP and will F/u with BHP again this week',\n",
       "       'Patient seen by BHP in an integrataed visit with f/u.', '16-Feb',\n",
       "       'SCARED 65, ACES 3, Connected with BHP in Dove Creek',\n",
       "       'Gad 7 = 13.', 'F/u with BHP', 'Gad 7 = 3.',\n",
       "       'This is on medication- so depression controlled',\n",
       "       'item 9 is zero, no self harm or SI, no hx SA',\n",
       "       'No SI/SA/self harm',\n",
       "       'referred to Axis Health for crisis evaluation.',\n",
       "       'no SI/HI, no self harm, no anhedonia, happy most days',\n",
       "       'GAD 7 score of 11. With discussion, depression and anxiety is closely tied to past trauma.',\n",
       "       'via JustHealth, no SI/HI/SA/self harm',\n",
       "       'no SI/HI, no self harm or safety concerns',\n",
       "       'Followed by Axis Health Systems', 'gad7 = 13', '10/0/0', '24/15',\n",
       "       'item 9 is zero, no SI/self harm or history of SA', '0/0/7',\n",
       "       'GAD 7 = 0.', 'Gad7 = 13.', 'Gad7 = 0', '1/1/00',\n",
       "       'Pos PHQ2, PHQ9 score 3', '+SI, +hx SA',\n",
       "       'hx SA within the past month (see HPI), no SI in past 2 weeks per pt, no suicidal intent per pt',\n",
       "       'Not completed', '13/0/13', 'just Health',\n",
       "       'item 9 is zero, no hx SA or self harm', 'Gad 7 = 2.',\n",
       "       'no si/hi, no self harm or safety concerns', '0/0/4',\n",
       "       'pt reports suicidal ideation/\"\"attempt\"\" age 6y, none since, safety assessment done and plan made',\n",
       "       'item 9 is zero, no SI/HI, no hx of SA or self harm',\n",
       "       'patient declined', 'Last 2 Qs negative',\n",
       "       'answered yes to feeling depressed or sad most days',\n",
       "       'struggling with depression', 'no SI/SA/self harm',\n",
       "       'no SI/self harm/SA',\n",
       "       'Mild concern- after discussion, feel this is negative at this time.',\n",
       "       'nl screen',\n",
       "       'item 9 is zero, no SI or intent, history of SA in the past, reports in a better place now',\n",
       "       'item 9 is zero, no SI or safety concerns', 'positive for SI',\n",
       "       'Discussed with BHP at visit today.', '0 on JH, 1 on paper',\n",
       "       'no si/hi/sa', 'no SI, no hx SI/SA',\n",
       "       'item 9 is zero, no suicidal ideation or intent, hx suicidal attempt in past',\n",
       "       'Patient completed, then accidentally deleted before submitted. Pt declined completing tablet screen again. Meeting with BHP 11/6/18',\n",
       "       'On meds', 'Mild Depression. Warm Handoff to BHP today.',\n",
       "       'no SI, item 9 is zero', 'self harm questions answered yes',\n",
       "       'Discussed with Rebecca Gostling, BHP', 'past SI currently neg',\n",
       "       'item 9 is zero, no SI/HI/self harm', 'autism',\n",
       "       'MOC declined today, states pt has support, denies any concerns, pt also without concerns on interview',\n",
       "       'Improved from 14 prior to start of Wellbutrin 3 weeks ago',\n",
       "       'Answered 1 to question 9', \"Didn't fill out ASQ\",\n",
       "       'no SI/HI, no SA, no self harm', 'done on JustHealth',\n",
       "       'thoughts of cutting, no suicidal plan/intent', '17 mo',\n",
       "       'Discussed with Debrah Archer, N.P',\n",
       "       'This is an increase from 15 in April 2019', 'GAD POSITIVE',\n",
       "       'disregard score on APEX, redid verbally',\n",
       "       'Paper PHQ score is 1 for sleep, tablet score is 0',\n",
       "       'pt has NOT had previous suicidal attempt, has had fleeting thoughts of wanting to stab himself when he is angry without plan/motion/intent. Denies ideation of suicide, denies desire to die or kill himself/others, denies intent',\n",
       "       'score=4', 'positve GAD', 'paper PHQ/ASQ', 'referred to BHP',\n",
       "       'completed on tablet',\n",
       "       'denies interference with ADLs, reports coping well', 'Q#9: 0',\n",
       "       'due to prev SI', \"didn't finish language\",\n",
       "       'Denies depressed mood, guilt, hopelessness, anhedonia, trouble concentrating, changes in sleep/appetite, SI or other concerns by interview',\n",
       "       'Not saved on tablet', 'Positive on ADHD related questions',\n",
       "       'Score = 0'], dtype=object)"
      ]
     },
     "execution_count": 7,
     "metadata": {},
     "output_type": "execute_result"
    }
   ],
   "source": [
    "phq_mfa = cln.loc[(cln['order_name__single_']=='PATIENT HEALTH QUESTIONNAIRE MODIFIED FOR ADOLESCENTS*')]\n",
    "phq_mfa.labvalue.unique()"
   ]
  },
  {
   "cell_type": "code",
   "execution_count": 8,
   "id": "efe8dcd7-affa-48fe-bd83-c08d8b6b691f",
   "metadata": {},
   "outputs": [
    {
     "data": {
      "text/plain": [
       "array(['No', nan, 'Patient did not answer question', 'Yes', \"Don't Know\"],\n",
       "      dtype=object)"
      ]
     },
     "execution_count": 8,
     "metadata": {},
     "output_type": "execute_result"
    }
   ],
   "source": [
    "ts = cln.loc[(cln['order_name__single_']=='TEENSCREEN QUESTIONNAIRE*')]\n",
    "ts.labvalue.unique()"
   ]
  },
  {
   "cell_type": "code",
   "execution_count": 9,
   "id": "37ff7e1a-175c-4585-af99-1cc22844c45e",
   "metadata": {},
   "outputs": [
    {
     "name": "stdout",
     "output_type": "stream",
     "text": [
      "<class 'pandas.core.frame.DataFrame'>\n",
      "Int64Index: 15122 entries, 0 to 76103\n",
      "Data columns (total 28 columns):\n",
      " #   Column                            Non-Null Count  Dtype  \n",
      "---  ------                            --------------  -----  \n",
      " 0   patientid                         15122 non-null  object \n",
      " 1   patientdob                        15122 non-null  object \n",
      " 2   patient_age                       15122 non-null  int64  \n",
      " 3   patient_zip                       15122 non-null  object \n",
      " 4   race                              15121 non-null  object \n",
      " 5   multiple_races                    15121 non-null  object \n",
      " 6   ethnicity                         15118 non-null  object \n",
      " 7   _cncrns_bt_mtng_bsc_nds__fd_____  6439 non-null   object \n",
      " 8   cln_enc_id                        15122 non-null  int64  \n",
      " 9   enc_Ht_date                       15122 non-null  object \n",
      " 10  enc_Ht                            15122 non-null  object \n",
      " 11  enc_Wt_date                       15122 non-null  object \n",
      " 12  enc_Wt                            15111 non-null  object \n",
      " 13  enc_BMI_date                      15122 non-null  object \n",
      " 14  enc_BMI                           15106 non-null  float64\n",
      " 15  chrt_epsd_id                      0 non-null      float64\n",
      " 16  order_id                          15122 non-null  int64  \n",
      " 17  labrdocid                         15087 non-null  float64\n",
      " 18  order_chartdate                   15122 non-null  object \n",
      " 19  order_name__single_               15122 non-null  object \n",
      " 20  labvalue                          14779 non-null  object \n",
      " 21  labanalyte                        0 non-null      float64\n",
      " 22  labinterpretation                 0 non-null      float64\n",
      " 23  svc_dprtmnt                       15122 non-null  object \n",
      " 24  age_at_dos                        15122 non-null  int64  \n",
      " 25  primary_clm_ins_pkg_name          15122 non-null  object \n",
      " 26  primary_clm_ins_pkg_name.1        15122 non-null  object \n",
      " 27  clm_sldng_fee_ins_pkg_name        0 non-null      float64\n",
      "dtypes: float64(6), int64(4), object(18)\n",
      "memory usage: 3.3+ MB\n"
     ]
    }
   ],
   "source": [
    "crafft.info()"
   ]
  },
  {
   "cell_type": "code",
   "execution_count": 10,
   "id": "bba23e42-57c1-43f7-893d-1476a3e8492d",
   "metadata": {},
   "outputs": [
    {
     "name": "stderr",
     "output_type": "stream",
     "text": [
      "/opt/anaconda3/lib/python3.7/site-packages/pandas/core/frame.py:4908: SettingWithCopyWarning: \n",
      "A value is trying to be set on a copy of a slice from a DataFrame\n",
      "\n",
      "See the caveats in the documentation: https://pandas.pydata.org/pandas-docs/stable/user_guide/indexing.html#returning-a-view-versus-a-copy\n",
      "  errors=errors,\n"
     ]
    }
   ],
   "source": [
    "# Remove empty columns\n",
    "crafft.drop(columns=['chrt_epsd_id', 'labanalyte', 'labinterpretation', 'clm_sldng_fee_ins_pkg_name', 'enc_Ht', 'enc_Wt'], inplace=True)"
   ]
  },
  {
   "cell_type": "code",
   "execution_count": 11,
   "id": "a19d5d60-a71d-46c3-9f86-a8247623cf32",
   "metadata": {},
   "outputs": [
    {
     "data": {
      "text/plain": [
       "patientid                            0.000000\n",
       "patientdob                           0.000000\n",
       "patient_age                          0.000000\n",
       "patient_zip                          0.000000\n",
       "race                                 0.006613\n",
       "multiple_races                       0.006613\n",
       "ethnicity                            0.026452\n",
       "_cncrns_bt_mtng_bsc_nds__fd_____    57.419653\n",
       "cln_enc_id                           0.000000\n",
       "enc_Ht_date                          0.000000\n",
       "enc_Wt_date                          0.000000\n",
       "enc_BMI_date                         0.000000\n",
       "enc_BMI                              0.105806\n",
       "order_id                             0.000000\n",
       "labrdocid                            0.231451\n",
       "order_chartdate                      0.000000\n",
       "order_name__single_                  0.000000\n",
       "labvalue                             2.268218\n",
       "svc_dprtmnt                          0.000000\n",
       "age_at_dos                           0.000000\n",
       "primary_clm_ins_pkg_name             0.000000\n",
       "primary_clm_ins_pkg_name.1           0.000000\n",
       "dtype: float64"
      ]
     },
     "execution_count": 11,
     "metadata": {},
     "output_type": "execute_result"
    }
   ],
   "source": [
    "# Inspect columns with high NaNs\n",
    "crafft.isnull().sum() / len(crafft) * 100"
   ]
  },
  {
   "cell_type": "code",
   "execution_count": 12,
   "id": "3a7c3486-916e-4932-b74b-7fe4e8f32f24",
   "metadata": {},
   "outputs": [
    {
     "data": {
      "text/plain": [
       "array([ True,  True,  True,  True,  True,  True,  True,  True,  True,\n",
       "        True,  True,  True,  True,  True,  True,  True,  True,  True,\n",
       "        True,  True,  True,  True,  True,  True,  True,  True,  True,\n",
       "        True,  True,  True,  True,  True,  True,  True,  True,  True,\n",
       "        True,  True,  True,  True,  True,  True,  True,  True,  True,\n",
       "        True,  True,  True,  True,  True,  True,  True,  True,  True,\n",
       "        True,  True,  True,  True,  True,  True,  True,  True,  True,\n",
       "        True,  True,  True,  True,  True,  True,  True,  True,  True,\n",
       "        True,  True,  True,  True,  True,  True,  True,  True,  True,\n",
       "        True,  True,  True,  True,  True,  True,  True,  True,  True,\n",
       "        True,  True,  True,  True,  True,  True,  True,  True,  True,\n",
       "        True,  True,  True,  True,  True,  True,  True,  True,  True,\n",
       "        True,  True,  True,  True,  True,  True,  True,  True,  True,\n",
       "        True,  True,  True,  True,  True,  True,  True,  True,  True,\n",
       "        True,  True,  True,  True,  True,  True,  True,  True,  True,\n",
       "        True,  True,  True,  True,  True,  True,  True,  True,  True,\n",
       "        True,  True,  True,  True,  True,  True,  True,  True,  True,\n",
       "        True,  True,  True,  True])"
      ]
     },
     "execution_count": 12,
     "metadata": {},
     "output_type": "execute_result"
    }
   ],
   "source": [
    "crafft.primary_clm_ins_pkg_name.unique() == crafft['primary_clm_ins_pkg_name.1'].unique()"
   ]
  },
  {
   "cell_type": "code",
   "execution_count": 13,
   "id": "21db296b-2c50-478f-b44f-2ca11ed13626",
   "metadata": {},
   "outputs": [],
   "source": [
    "crafft.drop(columns=['patientid', 'patientdob', 'patient_zip', 'enc_Ht_date', \n",
    "                 'enc_Wt_date', 'enc_BMI_date', 'enc_BMI', 'order_id', 'labrdocid', \n",
    "                 'order_chartdate', 'primary_clm_ins_pkg_name', 'multiple_races', 'cln_enc_id'], inplace=True)"
   ]
  },
  {
   "cell_type": "code",
   "execution_count": 14,
   "id": "9fcd6968-81ec-49f2-b263-858f562ca47a",
   "metadata": {},
   "outputs": [
    {
     "name": "stdout",
     "output_type": "stream",
     "text": [
      "<class 'pandas.core.frame.DataFrame'>\n",
      "Int64Index: 15122 entries, 0 to 76103\n",
      "Data columns (total 9 columns):\n",
      " #   Column                            Non-Null Count  Dtype \n",
      "---  ------                            --------------  ----- \n",
      " 0   patient_age                       15122 non-null  int64 \n",
      " 1   race                              15121 non-null  object\n",
      " 2   ethnicity                         15118 non-null  object\n",
      " 3   _cncrns_bt_mtng_bsc_nds__fd_____  6439 non-null   object\n",
      " 4   order_name__single_               15122 non-null  object\n",
      " 5   labvalue                          14779 non-null  object\n",
      " 6   svc_dprtmnt                       15122 non-null  object\n",
      " 7   age_at_dos                        15122 non-null  int64 \n",
      " 8   primary_clm_ins_pkg_name.1        15122 non-null  object\n",
      "dtypes: int64(2), object(7)\n",
      "memory usage: 1.2+ MB\n"
     ]
    }
   ],
   "source": [
    "crafft.info()"
   ]
  },
  {
   "cell_type": "code",
   "execution_count": 15,
   "id": "a7f9fc79-9fa7-4f9b-870d-efa3d16ac97c",
   "metadata": {},
   "outputs": [],
   "source": [
    "crafft.drop(columns=['_cncrns_bt_mtng_bsc_nds__fd_____'], inplace=True)"
   ]
  },
  {
   "cell_type": "code",
   "execution_count": 16,
   "id": "a2ed49bd-0c0b-4937-9508-730374fbf7e2",
   "metadata": {},
   "outputs": [],
   "source": [
    "crafft.drop(columns=['patient_age'], inplace=True)"
   ]
  },
  {
   "cell_type": "code",
   "execution_count": 17,
   "id": "e9138ca8-5d31-4b53-8dd8-ff5c282d8bfd",
   "metadata": {},
   "outputs": [
    {
     "name": "stderr",
     "output_type": "stream",
     "text": [
      "/opt/anaconda3/lib/python3.7/site-packages/pandas/core/generic.py:6610: SettingWithCopyWarning: \n",
      "A value is trying to be set on a copy of a slice from a DataFrame\n",
      "\n",
      "See the caveats in the documentation: https://pandas.pydata.org/pandas-docs/stable/user_guide/indexing.html#returning-a-view-versus-a-copy\n",
      "  return self._update_inplace(result)\n"
     ]
    }
   ],
   "source": [
    "crafft.race.replace(to_replace={'Black': 'Black or African American', 'African American': 'Black or African American', \n",
    "                               'American Indian': 'American Indian or Alaska Native', \n",
    "                               'Arab': 'Asian', 'Mexican American Indian': 'American Indian or Alaska Native'}, inplace=True)"
   ]
  },
  {
   "cell_type": "code",
   "execution_count": 18,
   "id": "a3937740-9be2-4e0a-a4b4-dba7b169ad36",
   "metadata": {},
   "outputs": [
    {
     "data": {
      "text/plain": [
       "array(['Patient Declined', 'White', 'American Indian or Alaska Native',\n",
       "       'Black or African American', 'Asian',\n",
       "       'Native Hawaiian or Other Pacific Islander', 'Other Race', nan],\n",
       "      dtype=object)"
      ]
     },
     "execution_count": 18,
     "metadata": {},
     "output_type": "execute_result"
    }
   ],
   "source": [
    "crafft.race.unique()"
   ]
  },
  {
   "cell_type": "code",
   "execution_count": 19,
   "id": "4923f1bf-9790-445e-86e0-e8681c6f5bdf",
   "metadata": {},
   "outputs": [
    {
     "name": "stdout",
     "output_type": "stream",
     "text": [
      "<class 'pandas.core.frame.DataFrame'>\n",
      "Int64Index: 15122 entries, 0 to 76103\n",
      "Data columns (total 7 columns):\n",
      " #   Column                      Non-Null Count  Dtype \n",
      "---  ------                      --------------  ----- \n",
      " 0   race                        15121 non-null  object\n",
      " 1   ethnicity                   15118 non-null  object\n",
      " 2   order_name__single_         15122 non-null  object\n",
      " 3   labvalue                    14779 non-null  object\n",
      " 4   svc_dprtmnt                 15122 non-null  object\n",
      " 5   age_at_dos                  15122 non-null  int64 \n",
      " 6   primary_clm_ins_pkg_name.1  15122 non-null  object\n",
      "dtypes: int64(1), object(6)\n",
      "memory usage: 945.1+ KB\n"
     ]
    }
   ],
   "source": [
    "crafft.info()"
   ]
  },
  {
   "cell_type": "code",
   "execution_count": 20,
   "id": "26bc80ed-0b11-4bdf-82fc-23dc07605b9e",
   "metadata": {
    "tags": []
   },
   "outputs": [
    {
     "name": "stderr",
     "output_type": "stream",
     "text": [
      "/opt/anaconda3/lib/python3.7/site-packages/pandas/util/_decorators.py:311: SettingWithCopyWarning: \n",
      "A value is trying to be set on a copy of a slice from a DataFrame\n",
      "\n",
      "See the caveats in the documentation: https://pandas.pydata.org/pandas-docs/stable/user_guide/indexing.html#returning-a-view-versus-a-copy\n",
      "  return func(*args, **kwargs)\n"
     ]
    }
   ],
   "source": [
    "crafft.dropna(axis=0, inplace=True)"
   ]
  },
  {
   "cell_type": "code",
   "execution_count": 21,
   "id": "8e649428-c0c7-4345-882a-b1e6a6a9d4c3",
   "metadata": {},
   "outputs": [
    {
     "name": "stdout",
     "output_type": "stream",
     "text": [
      "<class 'pandas.core.frame.DataFrame'>\n",
      "Int64Index: 14775 entries, 0 to 76103\n",
      "Data columns (total 7 columns):\n",
      " #   Column                      Non-Null Count  Dtype \n",
      "---  ------                      --------------  ----- \n",
      " 0   race                        14775 non-null  object\n",
      " 1   ethnicity                   14775 non-null  object\n",
      " 2   order_name__single_         14775 non-null  object\n",
      " 3   labvalue                    14775 non-null  object\n",
      " 4   svc_dprtmnt                 14775 non-null  object\n",
      " 5   age_at_dos                  14775 non-null  int64 \n",
      " 6   primary_clm_ins_pkg_name.1  14775 non-null  object\n",
      "dtypes: int64(1), object(6)\n",
      "memory usage: 923.4+ KB\n"
     ]
    }
   ],
   "source": [
    "crafft.info()"
   ]
  },
  {
   "cell_type": "code",
   "execution_count": 33,
   "id": "bef8feaa-8395-4aba-901d-df4ba78f5d57",
   "metadata": {},
   "outputs": [],
   "source": [
    "crafft.drop(columns='ethnicity', inplace=True)"
   ]
  },
  {
   "cell_type": "code",
   "execution_count": 42,
   "id": "37254ac7-8301-4aff-8190-eb4687357ab4",
   "metadata": {},
   "outputs": [
    {
     "name": "stdout",
     "output_type": "stream",
     "text": [
      "<class 'pandas.core.frame.DataFrame'>\n",
      "Int64Index: 14775 entries, 0 to 76103\n",
      "Data columns (total 6 columns):\n",
      " #   Column                      Non-Null Count  Dtype \n",
      "---  ------                      --------------  ----- \n",
      " 0   race                        14775 non-null  object\n",
      " 1   order_name__single_         14775 non-null  object\n",
      " 2   labvalue                    14775 non-null  object\n",
      " 3   svc_dprtmnt                 14775 non-null  object\n",
      " 4   age_at_dos                  14775 non-null  int64 \n",
      " 5   primary_clm_ins_pkg_name.1  14775 non-null  object\n",
      "dtypes: int64(1), object(5)\n",
      "memory usage: 808.0+ KB\n"
     ]
    }
   ],
   "source": [
    "crafft.info()"
   ]
  },
  {
   "cell_type": "code",
   "execution_count": 27,
   "id": "24434218-0de5-4dcf-983e-0da9e3e45077",
   "metadata": {},
   "outputs": [],
   "source": [
    "crafft.svc_dprtmnt.replace(to_replace= {'Aurora CONF': 'Aurora', 'Health & Wellness Center at Centennial High School': 'Centennial High School', 'CHS CONF': 'Centennial High School',\n",
    "                           'Dolores CONF': 'Dolores', 'Laredo CONF': 'Laredo', \n",
    "                           'Thornton CONF': 'Thornton', 'Thornton Telehealth': 'Thornton', \n",
    "                           'RFHS CONF': 'Roaring Fork High School', 'Dental- Aurora': 'Aurora', \n",
    "                           'Denver CONF': 'Denver', 'Aurora Telehealth': 'Aurora', \n",
    "                           'BES CONF': 'Basalt Elementary School', 'Dental - Denver': 'Denver', \n",
    "                           'Laredo CONF': 'Laredo', 'BHS CONF': 'Basalt High School', \n",
    "                           'BMS CONF': 'Basalt Middle School', 'Central CONF': 'Central', \n",
    "                                       'SWOS CONF': 'SWOS', 'Dental- Thornton': 'Thornton',\n",
    "                                       'Gateway CONF': 'Gateway'}, inplace=True)"
   ]
  },
  {
   "cell_type": "code",
   "execution_count": 45,
   "id": "10b503bb-e0b6-4186-a5c7-98da7e4d2b84",
   "metadata": {},
   "outputs": [
    {
     "name": "stderr",
     "output_type": "stream",
     "text": [
      "/opt/anaconda3/lib/python3.7/site-packages/pandas/core/generic.py:6610: SettingWithCopyWarning: \n",
      "A value is trying to be set on a copy of a slice from a DataFrame\n",
      "\n",
      "See the caveats in the documentation: https://pandas.pydata.org/pandas-docs/stable/user_guide/indexing.html#returning-a-view-versus-a-copy\n",
      "  return self._update_inplace(result)\n"
     ]
    }
   ],
   "source": [
    "crafft.labvalue.value_counts()\n",
    "crafft.labvalue.replace(to_replace= {'negative': 0, 'positive': 1}, inplace=True)"
   ]
  },
  {
   "cell_type": "code",
   "execution_count": 47,
   "id": "b9a9b02e-ca5d-4876-97b3-cd7792acd375",
   "metadata": {},
   "outputs": [
    {
     "name": "stderr",
     "output_type": "stream",
     "text": [
      "/opt/anaconda3/lib/python3.7/site-packages/pandas/core/frame.py:4908: SettingWithCopyWarning: \n",
      "A value is trying to be set on a copy of a slice from a DataFrame\n",
      "\n",
      "See the caveats in the documentation: https://pandas.pydata.org/pandas-docs/stable/user_guide/indexing.html#returning-a-view-versus-a-copy\n",
      "  errors=errors,\n"
     ]
    }
   ],
   "source": [
    "crafft.drop(columns='order_name__single_', inplace=True)"
   ]
  },
  {
   "cell_type": "code",
   "execution_count": 48,
   "id": "373b59c2-3738-4214-ad7f-7d523f928476",
   "metadata": {},
   "outputs": [
    {
     "name": "stdout",
     "output_type": "stream",
     "text": [
      "<class 'pandas.core.frame.DataFrame'>\n",
      "Int64Index: 14775 entries, 0 to 76103\n",
      "Data columns (total 5 columns):\n",
      " #   Column                      Non-Null Count  Dtype \n",
      "---  ------                      --------------  ----- \n",
      " 0   race                        14775 non-null  object\n",
      " 1   labvalue                    14775 non-null  int64 \n",
      " 2   svc_dprtmnt                 14775 non-null  object\n",
      " 3   age_at_dos                  14775 non-null  int64 \n",
      " 4   primary_clm_ins_pkg_name.1  14775 non-null  object\n",
      "dtypes: int64(2), object(3)\n",
      "memory usage: 692.6+ KB\n"
     ]
    }
   ],
   "source": [
    "crafft.info()"
   ]
  },
  {
   "cell_type": "code",
   "execution_count": 54,
   "id": "5246b3c0-ca78-4a7c-b3ef-52e12ea87930",
   "metadata": {},
   "outputs": [
    {
     "data": {
      "text/plain": [
       "array([5, 6, 0, 2, 1, 3, 4])"
      ]
     },
     "execution_count": 54,
     "metadata": {},
     "output_type": "execute_result"
    }
   ],
   "source": [
    "crafft.race.unique()"
   ]
  },
  {
   "cell_type": "code",
   "execution_count": 51,
   "id": "c7e532c3-315c-4b47-9d55-010a82b858b2",
   "metadata": {},
   "outputs": [],
   "source": [
    "le = LabelEncoder()"
   ]
  },
  {
   "cell_type": "code",
   "execution_count": 53,
   "id": "49833826-023e-4f74-a8ae-7ac554ef6859",
   "metadata": {},
   "outputs": [
    {
     "name": "stderr",
     "output_type": "stream",
     "text": [
      "/opt/anaconda3/lib/python3.7/site-packages/ipykernel_launcher.py:1: SettingWithCopyWarning: \n",
      "A value is trying to be set on a copy of a slice from a DataFrame.\n",
      "Try using .loc[row_indexer,col_indexer] = value instead\n",
      "\n",
      "See the caveats in the documentation: https://pandas.pydata.org/pandas-docs/stable/user_guide/indexing.html#returning-a-view-versus-a-copy\n",
      "  \"\"\"Entry point for launching an IPython kernel.\n"
     ]
    }
   ],
   "source": [
    "crafft['race'] = le.fit_transform(crafft.race.values)"
   ]
  },
  {
   "cell_type": "code",
   "execution_count": 59,
   "id": "9b27b677-a9a7-4004-8532-d2c740671ed1",
   "metadata": {},
   "outputs": [],
   "source": [
    "race_dict = {l: i for (i, l) in enumerate(le.classes_)}\n"
   ]
  },
  {
   "cell_type": "code",
   "execution_count": 60,
   "id": "fd7257ee-9cf6-4a09-9370-1f86dbc8ac8a",
   "metadata": {},
   "outputs": [
    {
     "data": {
      "text/plain": [
       "{'American Indian or Alaska Native': 0,\n",
       " 'Asian': 1,\n",
       " 'Black or African American': 2,\n",
       " 'Native Hawaiian or Other Pacific Islander': 3,\n",
       " 'Other Race': 4,\n",
       " 'Patient Declined': 5,\n",
       " 'White': 6}"
      ]
     },
     "execution_count": 60,
     "metadata": {},
     "output_type": "execute_result"
    }
   ],
   "source": [
    "race_dict"
   ]
  },
  {
   "cell_type": "code",
   "execution_count": 61,
   "id": "afb299e7-48bf-4e2d-a32a-40fa4d9fc638",
   "metadata": {},
   "outputs": [
    {
     "name": "stderr",
     "output_type": "stream",
     "text": [
      "/opt/anaconda3/lib/python3.7/site-packages/ipykernel_launcher.py:1: SettingWithCopyWarning: \n",
      "A value is trying to be set on a copy of a slice from a DataFrame.\n",
      "Try using .loc[row_indexer,col_indexer] = value instead\n",
      "\n",
      "See the caveats in the documentation: https://pandas.pydata.org/pandas-docs/stable/user_guide/indexing.html#returning-a-view-versus-a-copy\n",
      "  \"\"\"Entry point for launching an IPython kernel.\n"
     ]
    }
   ],
   "source": [
    "crafft['svc_dprtmnt'] = le.fit_transform(crafft.svc_dprtmnt.values)"
   ]
  },
  {
   "cell_type": "code",
   "execution_count": 62,
   "id": "7c2d0043-700f-4aae-b74a-02a1a2f0143b",
   "metadata": {},
   "outputs": [],
   "source": [
    "svcdept_dict = {l: i for (i, l) in enumerate(le.classes_)}\n"
   ]
  },
  {
   "cell_type": "code",
   "execution_count": 63,
   "id": "ec43b573-c13f-4820-9a22-3f7b2515e0b2",
   "metadata": {},
   "outputs": [
    {
     "data": {
      "text/plain": [
       "{'Aurora': 0,\n",
       " 'Basalt Elementary School': 1,\n",
       " 'Basalt High School': 2,\n",
       " 'Basalt Middle School': 3,\n",
       " 'Centennial High School': 4,\n",
       " 'Central': 5,\n",
       " 'Crawford': 6,\n",
       " 'Denver': 7,\n",
       " 'Dolores': 8,\n",
       " 'Gateway': 9,\n",
       " 'Lakewood': 10,\n",
       " 'Laredo': 11,\n",
       " 'Roaring Fork High School': 12,\n",
       " 'SWOS': 13,\n",
       " 'Thornton': 14}"
      ]
     },
     "execution_count": 63,
     "metadata": {},
     "output_type": "execute_result"
    }
   ],
   "source": [
    "svcdept_dict"
   ]
  },
  {
   "cell_type": "code",
   "execution_count": 64,
   "id": "cc39bd24-13eb-409d-9a74-4d45e3bf1864",
   "metadata": {},
   "outputs": [
    {
     "name": "stderr",
     "output_type": "stream",
     "text": [
      "/opt/anaconda3/lib/python3.7/site-packages/ipykernel_launcher.py:1: SettingWithCopyWarning: \n",
      "A value is trying to be set on a copy of a slice from a DataFrame.\n",
      "Try using .loc[row_indexer,col_indexer] = value instead\n",
      "\n",
      "See the caveats in the documentation: https://pandas.pydata.org/pandas-docs/stable/user_guide/indexing.html#returning-a-view-versus-a-copy\n",
      "  \"\"\"Entry point for launching an IPython kernel.\n"
     ]
    }
   ],
   "source": [
    "crafft['primary_clm_ins_pkg_name.1'] = le.fit_transform(crafft['primary_clm_ins_pkg_name.1'].values)"
   ]
  },
  {
   "cell_type": "code",
   "execution_count": 65,
   "id": "c7c8c71e-4157-46e9-94fa-b8119845936f",
   "metadata": {},
   "outputs": [],
   "source": [
    "ins_dict = {l: i for (i, l) in enumerate(le.classes_)}\n"
   ]
  },
  {
   "cell_type": "code",
   "execution_count": 66,
   "id": "ce9312c2-6dea-4e26-9001-be1db67787ea",
   "metadata": {
    "scrolled": true,
    "tags": []
   },
   "outputs": [
    {
     "data": {
      "text/plain": [
       "{'*SELF PAY*': 0,\n",
       " 'ABC GRANT': 1,\n",
       " 'ASRM - MultiPlan': 2,\n",
       " 'Administrative Concepts': 3,\n",
       " 'Administrative Concepts (PPO)': 4,\n",
       " 'Administrative Concepts - First Health (PPO)': 5,\n",
       " 'Aetna': 6,\n",
       " 'Aetna (EPO)': 7,\n",
       " 'Aetna (HMO)': 8,\n",
       " 'Aetna (Indemnity)': 9,\n",
       " 'Aetna (POS II)': 10,\n",
       " 'Aetna (POS)': 11,\n",
       " 'Aetna (PPO)': 12,\n",
       " 'Aetna International - Aetna (PPO)': 13,\n",
       " 'Aetna Signature Administrators - GEHA - GEHA (PPO)': 14,\n",
       " 'Aliera Healthcare - MultiPlan (PPO)': 15,\n",
       " 'Aliera Healthcare - PHCS (PPO)': 16,\n",
       " 'All Savers - United Healthcare (EPO)': 17,\n",
       " 'All Savers - United Healthcare (PPO)': 18,\n",
       " 'BCBS-AL (PPO)': 19,\n",
       " 'BCBS-CA Blue Cross of California': 20,\n",
       " 'BCBS-CA Blue Cross of California (PPO)': 21,\n",
       " 'BCBS-CA Blue Shield of California': 22,\n",
       " 'BCBS-CA Blue Shield of California - FEP': 23,\n",
       " 'BCBS-CO': 24,\n",
       " 'BCBS-CO (HMO)': 25,\n",
       " 'BCBS-CO (POS)': 26,\n",
       " 'BCBS-CO (PPO)': 27,\n",
       " 'BCBS-CO - FEP': 28,\n",
       " 'BCBS-GA': 29,\n",
       " 'BCBS-GA (PPO)': 30,\n",
       " 'BCBS-ID Blue Cross': 31,\n",
       " 'BCBS-ID Blue Cross - FEP': 32,\n",
       " 'BCBS-ID Blue Shield': 33,\n",
       " 'BCBS-ID Blue Shield (PPO)': 34,\n",
       " 'BCBS-ID Blue Shield - FEP': 35,\n",
       " 'BCBS-IL': 36,\n",
       " 'BCBS-IL (PPO)': 37,\n",
       " 'BCBS-IN (PPO)': 38,\n",
       " 'BCBS-MA (PPO)': 39,\n",
       " 'BCBS-MD (PPO)': 40,\n",
       " 'BCBS-MI': 41,\n",
       " 'BCBS-MN': 42,\n",
       " 'BCBS-MO (PPO)': 43,\n",
       " 'BCBS-NC (PPO)': 44,\n",
       " 'BCBS-ND': 45,\n",
       " 'BCBS-NJ': 46,\n",
       " 'BCBS-NJ (PPO)': 47,\n",
       " 'BCBS-NM (PPO)': 48,\n",
       " 'BCBS-NY Empire': 49,\n",
       " 'BCBS-OH (PPO)': 50,\n",
       " 'BCBS-PA Highmark BCBS (EPO)': 51,\n",
       " 'BCBS-PA Highmark Blue Shield': 52,\n",
       " 'BCBS-TN': 53,\n",
       " 'BCBS-TN (PPO)': 54,\n",
       " 'BCBS-TX': 55,\n",
       " 'BCBS-TX (PPO)': 56,\n",
       " 'BCBS-WY (PPO)': 57,\n",
       " 'BEACON HEALTH OPTIONS': 58,\n",
       " 'BEACON HEALTH OPTIONS - MEDICAID CO': 59,\n",
       " 'BEHAVIORAL HEALTHCARE INC': 60,\n",
       " 'Beazley Insurance Company': 61,\n",
       " 'Bind Insurance - UnitedHealth Shared Services - United Healthcare (PPO)': 62,\n",
       " 'Bright Health (EPO)': 63,\n",
       " 'Bright Health - Centura Health (EPO)': 64,\n",
       " 'CHAMPVA (CHAMPVA)': 65,\n",
       " 'CNIC Health Solutions': 66,\n",
       " 'COLORADO COMMUNITY HEALTH ALLIANCE (BEHAVIORAL HEALTH)': 67,\n",
       " 'COVID19 HRSA UNINSURED TESTING AND TREATMENT FUND': 68,\n",
       " 'Christian Care Ministry - MultiPlan (PPO)': 69,\n",
       " 'CieloStar - Cofinity (PPO)': 70,\n",
       " 'Cigna': 71,\n",
       " 'Cigna (HMO)': 72,\n",
       " 'Cigna (PPO)': 73,\n",
       " 'Cigna - BayCare Exclusive Network': 74,\n",
       " 'Cigna - Colorado Laborers Health and Welfare Fund (PPO)': 75,\n",
       " 'Cigna - LocalPlus': 76,\n",
       " 'Cigna - Operating Engineers Health & Welfare Fund - Zenith Administrators (PPO)': 77,\n",
       " 'Cofinity (PPO)': 78,\n",
       " 'Cofinity - EBMS (PPO)': 79,\n",
       " 'Cofinity - Meritain Health (PPO)': 80,\n",
       " 'Cofinity - Summit Administration Services (PPO)': 81,\n",
       " 'Cofinity - UCHealth Plan Administrators (PPO)': 82,\n",
       " 'Colorado Access (Medicaid Replacement - Behavioral health)': 83,\n",
       " 'Colorado Access (Medicaid Replacement - HMO)': 84,\n",
       " 'Colorado Access - CHIP - Child Health Plan Plus (CHP+)': 85,\n",
       " 'Denver Health (HMO)': 86,\n",
       " 'Denver Health (Medicaid Replacement - HMO)': 87,\n",
       " 'Denver Health - CHIP - Child Health Plan Plus (CHP+)': 88,\n",
       " 'EBMS': 89,\n",
       " 'EMPLOYER PLAN SERVICES': 90,\n",
       " 'Empire BCBS HealthPlus (Medicaid Replacement - HMO)': 91,\n",
       " 'Freedom Life Insurance Company of America': 92,\n",
       " 'Friday Health Plans of Colorado (PPO)': 93,\n",
       " 'GEHA (PPO)': 94,\n",
       " 'GWH-Cigna - Allegiance Benefit Plan Management - Cigna': 95,\n",
       " 'GWH-Cigna - Cigna': 96,\n",
       " 'GWH-Cigna - Cigna (PPO)': 97,\n",
       " 'GWH-Cigna - Freedom Life Insurance Company of America - Cigna (PPO)': 98,\n",
       " 'GWH-Cigna - HealthPartners - Cigna': 99,\n",
       " 'GWH-Cigna - Healthgram - Cigna (PPO)': 100,\n",
       " 'GWH-Cigna - Lucent Health - Cigna (PPO)': 101,\n",
       " 'GWH-Cigna - Trustmark Small Business - Cigna (PPO)': 102,\n",
       " 'Humana (POS)': 103,\n",
       " 'IBA - PHCS': 104,\n",
       " 'Insurance TPA - PHCS - LifeShield National Insurance Company (PPO)': 105,\n",
       " 'Kaiser Permanente of Colorado': 106,\n",
       " 'Kaiser Permanente of Colorado (HMO)': 107,\n",
       " 'Kaiser Permanente of Colorado - CHIP': 108,\n",
       " 'Kemper Health': 109,\n",
       " 'Key Solutions - Key Benefit Administrators - MultiPlan': 110,\n",
       " 'Liberty Health (Medicare Replacement/Advantage - HMO)': 111,\n",
       " 'Mayo Clinic Health Solutions (PPO)': 112,\n",
       " 'Medicaid-CO (Medicaid)': 113,\n",
       " 'Meritain Health': 114,\n",
       " 'Meritain Health (Indemnity)': 115,\n",
       " 'Meritain Health (PPO)': 116,\n",
       " 'Meritain Health - Aetna (POS II)': 117,\n",
       " 'Meritain Health - National General Accident and Health - Aetna - Minneapolis (PPO)': 118,\n",
       " 'Presbyterian - MultiPlan (PPO)': 119,\n",
       " 'Providence Health Plan': 120,\n",
       " 'ROCKY MOUNTAIN HEALTH PLAN BEHAVIORAL HEALTH': 121,\n",
       " 'Rocky Mountain Health Plans': 122,\n",
       " 'Rocky Mountain Health Plans (HMO)': 123,\n",
       " 'Rocky Mountain Health Plans (Medicaid Replacement - HMO)': 124,\n",
       " 'Rocky Mountain Health Plans - CHIP - Child Health Plan Plus (CHP+)': 125,\n",
       " 'SLIDING FEE SCHEDULE - DISCOUNT': 126,\n",
       " 'Seven Corners - First Health (PPO)': 127,\n",
       " 'Summit Administration Services': 128,\n",
       " 'Summit Administration Services (PPO)': 129,\n",
       " 'TEEN CLINIC (MOVED-BILLED)': 130,\n",
       " 'Tall Tree Administrators (PPO)': 131,\n",
       " 'The Loomis Company': 132,\n",
       " 'The Loomis Company - One Share Health - PHCS (PPO)': 133,\n",
       " 'Tricare West (TRICARE)': 134,\n",
       " 'Tricare West - Health Net Federal Services (TRICARE)': 135,\n",
       " 'Tricare West - Health Net Federal Services - Select (TRICARE - PPO)': 136,\n",
       " 'UCHealth Plan Administrators (PPO)': 137,\n",
       " 'UMR': 138,\n",
       " 'UMR (PPO)': 139,\n",
       " 'UMR - Deseret - United Healthcare (PPO)': 140,\n",
       " 'UMR - United Healthcare': 141,\n",
       " 'UMR - United Healthcare (PPO)': 142,\n",
       " 'United Healthcare': 143,\n",
       " 'United Healthcare (EPO)': 144,\n",
       " 'United Healthcare (HMO)': 145,\n",
       " 'United Healthcare (PPO)': 146,\n",
       " 'United Healthcare - Medica': 147,\n",
       " 'UnitedHealth Shared Services - GEHA (PPO)': 148,\n",
       " 'UnitedHealth Shared Services - United Healthcare': 149,\n",
       " 'UnitedHealth Shared Services - United Healthcare (PPO)': 150,\n",
       " 'UnitedHealthOne': 151,\n",
       " 'UnitedHealthOne - United Healthcare': 152,\n",
       " 'WEB-TPA (PPO)': 153,\n",
       " 'WEB-TPA - First Health (PPO)': 154}"
      ]
     },
     "execution_count": 66,
     "metadata": {},
     "output_type": "execute_result"
    }
   ],
   "source": [
    "ins_dict"
   ]
  },
  {
   "cell_type": "code",
   "execution_count": 67,
   "id": "672e5264-abda-4358-9031-414d04cee0fc",
   "metadata": {},
   "outputs": [],
   "source": [
    "df = crafft.copy()"
   ]
  },
  {
   "cell_type": "code",
   "execution_count": 68,
   "id": "713c02b8-2f59-4a37-a284-f5d33438803f",
   "metadata": {},
   "outputs": [],
   "source": [
    "y = df.pop('labvalue')"
   ]
  },
  {
   "cell_type": "code",
   "execution_count": 79,
   "id": "41141db4-72fa-4fff-a4d0-26247b49c577",
   "metadata": {},
   "outputs": [
    {
     "data": {
      "text/plain": [
       "(1136, 14775)"
      ]
     },
     "execution_count": 79,
     "metadata": {},
     "output_type": "execute_result"
    }
   ],
   "source": [
    "y.sum(), len(X)"
   ]
  },
  {
   "cell_type": "code",
   "execution_count": 69,
   "id": "ca724876-d0bd-47f8-93a0-5ab33f006487",
   "metadata": {},
   "outputs": [],
   "source": [
    "X = df.copy()"
   ]
  },
  {
   "cell_type": "code",
   "execution_count": 70,
   "id": "25c1fd2f-9a65-4edb-a1bc-36cac679c060",
   "metadata": {},
   "outputs": [],
   "source": [
    "X_train, X_test, y_train, y_test = train_test_split(X, y, stratify=y, random_state=42, test_size=.2)"
   ]
  },
  {
   "cell_type": "code",
   "execution_count": null,
   "id": "bce211ff-a579-416e-a3d2-906bfa053248",
   "metadata": {},
   "outputs": [],
   "source": []
  },
  {
   "cell_type": "code",
   "execution_count": 128,
   "id": "942ef6fd-3f08-45f8-bb3d-00e54922a785",
   "metadata": {},
   "outputs": [],
   "source": [
    "def run_experiments(X_train: pd.DataFrame, y_train: pd.DataFrame, \n",
    "                   X_test: pd.DataFrame, y_test: pd.DataFrame) -> pd.DataFrame: \n",
    "    dfs = []\n",
    "    models = [\n",
    "        ('LogReg', LogisticRegression()),\n",
    "        ('RF', RandomForestClassifier(class_weight='balanced')), \n",
    "        ('KNN', KNeighborsClassifier()), \n",
    "        ('SVM', SVC()), \n",
    "        ('GNB', GaussianNB()), \n",
    "        ('XGB', XGBClassifier())\n",
    "    ]\n",
    "    results = []\n",
    "    names = []\n",
    "    scoring = ['accuracy', 'precision', 'recall', \n",
    "               'f1', 'roc_auc']\n",
    "    target_names = ['Negative CRAFFT', 'Positive CRAFFT']\n",
    "    for name, model in models: \n",
    "        kfold = model_selection.KFold(n_splits=5, shuffle=True, random_state=42)\n",
    "        cv_results = model_selection.cross_validate(model, X_train, y_train, cv=kfold, scoring=scoring)\n",
    "        clf = model.fit(X_train, y_train)\n",
    "        y_pred = clf.predict(X_test)\n",
    "        print(name)\n",
    "        print(classification_report(y_test, y_pred, \n",
    "                                   target_names = target_names))\n",
    "        results.append(cv_results)\n",
    "        this_df = pd.DataFrame(cv_results)\n",
    "        this_df['model'] = name\n",
    "        dfs.append(this_df)\n",
    "    \n",
    "    final = pd.concat(dfs, ignore_index=True)\n",
    "    return final"
   ]
  },
  {
   "cell_type": "code",
   "execution_count": 74,
   "id": "ee3733be-ee84-4952-97db-f9072faefae9",
   "metadata": {
    "scrolled": true,
    "tags": []
   },
   "outputs": [
    {
     "name": "stderr",
     "output_type": "stream",
     "text": [
      "/opt/anaconda3/lib/python3.7/site-packages/sklearn/metrics/_classification.py:1248: UndefinedMetricWarning: Precision is ill-defined and being set to 0.0 in labels with no predicted samples. Use `zero_division` parameter to control this behavior.\n",
      "  _warn_prf(average, modifier, msg_start, len(result))\n",
      "/opt/anaconda3/lib/python3.7/site-packages/sklearn/metrics/_classification.py:1248: UndefinedMetricWarning: Precision is ill-defined and being set to 0.0 in labels with no predicted samples. Use `zero_division` parameter to control this behavior.\n",
      "  _warn_prf(average, modifier, msg_start, len(result))\n",
      "/opt/anaconda3/lib/python3.7/site-packages/sklearn/metrics/_classification.py:1248: UndefinedMetricWarning: Precision is ill-defined and being set to 0.0 in labels with no predicted samples. Use `zero_division` parameter to control this behavior.\n",
      "  _warn_prf(average, modifier, msg_start, len(result))\n"
     ]
    },
    {
     "name": "stdout",
     "output_type": "stream",
     "text": [
      "LogReg\n",
      "                 precision    recall  f1-score   support\n",
      "\n",
      "Negative CRAFFT       0.92      1.00      0.96      2728\n",
      "Positive CRAFFT       1.00      0.01      0.02       227\n",
      "\n",
      "       accuracy                           0.92      2955\n",
      "      macro avg       0.96      0.50      0.49      2955\n",
      "   weighted avg       0.93      0.92      0.89      2955\n",
      "\n",
      "RF\n",
      "                 precision    recall  f1-score   support\n",
      "\n",
      "Negative CRAFFT       0.95      0.75      0.84      2728\n",
      "Positive CRAFFT       0.15      0.53      0.24       227\n",
      "\n",
      "       accuracy                           0.74      2955\n",
      "      macro avg       0.55      0.64      0.54      2955\n",
      "   weighted avg       0.89      0.74      0.79      2955\n",
      "\n",
      "KNN\n",
      "                 precision    recall  f1-score   support\n",
      "\n",
      "Negative CRAFFT       0.93      0.99      0.96      2728\n",
      "Positive CRAFFT       0.37      0.07      0.12       227\n",
      "\n",
      "       accuracy                           0.92      2955\n",
      "      macro avg       0.65      0.53      0.54      2955\n",
      "   weighted avg       0.88      0.92      0.89      2955\n",
      "\n"
     ]
    },
    {
     "name": "stderr",
     "output_type": "stream",
     "text": [
      "/opt/anaconda3/lib/python3.7/site-packages/sklearn/metrics/_classification.py:1248: UndefinedMetricWarning: Precision is ill-defined and being set to 0.0 in labels with no predicted samples. Use `zero_division` parameter to control this behavior.\n",
      "  _warn_prf(average, modifier, msg_start, len(result))\n",
      "/opt/anaconda3/lib/python3.7/site-packages/sklearn/metrics/_classification.py:1248: UndefinedMetricWarning: Precision is ill-defined and being set to 0.0 in labels with no predicted samples. Use `zero_division` parameter to control this behavior.\n",
      "  _warn_prf(average, modifier, msg_start, len(result))\n",
      "/opt/anaconda3/lib/python3.7/site-packages/sklearn/metrics/_classification.py:1248: UndefinedMetricWarning: Precision is ill-defined and being set to 0.0 in labels with no predicted samples. Use `zero_division` parameter to control this behavior.\n",
      "  _warn_prf(average, modifier, msg_start, len(result))\n",
      "/opt/anaconda3/lib/python3.7/site-packages/sklearn/metrics/_classification.py:1248: UndefinedMetricWarning: Precision is ill-defined and being set to 0.0 in labels with no predicted samples. Use `zero_division` parameter to control this behavior.\n",
      "  _warn_prf(average, modifier, msg_start, len(result))\n",
      "/opt/anaconda3/lib/python3.7/site-packages/sklearn/metrics/_classification.py:1248: UndefinedMetricWarning: Precision is ill-defined and being set to 0.0 in labels with no predicted samples. Use `zero_division` parameter to control this behavior.\n",
      "  _warn_prf(average, modifier, msg_start, len(result))\n"
     ]
    },
    {
     "name": "stdout",
     "output_type": "stream",
     "text": [
      "SVM\n",
      "                 precision    recall  f1-score   support\n",
      "\n",
      "Negative CRAFFT       0.92      1.00      0.96      2728\n",
      "Positive CRAFFT       0.00      0.00      0.00       227\n",
      "\n",
      "       accuracy                           0.92      2955\n",
      "      macro avg       0.46      0.50      0.48      2955\n",
      "   weighted avg       0.85      0.92      0.89      2955\n",
      "\n",
      "GNB\n",
      "                 precision    recall  f1-score   support\n",
      "\n",
      "Negative CRAFFT       0.92      0.99      0.96      2728\n",
      "Positive CRAFFT       0.24      0.03      0.05       227\n",
      "\n",
      "       accuracy                           0.92      2955\n",
      "      macro avg       0.58      0.51      0.50      2955\n",
      "   weighted avg       0.87      0.92      0.89      2955\n",
      "\n",
      "[21:28:05] WARNING: /Users/travis/build/dmlc/xgboost/src/learner.cc:1095: Starting in XGBoost 1.3.0, the default evaluation metric used with the objective 'binary:logistic' was changed from 'error' to 'logloss'. Explicitly set eval_metric if you'd like to restore the old behavior.\n"
     ]
    },
    {
     "name": "stderr",
     "output_type": "stream",
     "text": [
      "/opt/anaconda3/lib/python3.7/site-packages/sklearn/metrics/_classification.py:1248: UndefinedMetricWarning: Precision and F-score are ill-defined and being set to 0.0 in labels with no predicted samples. Use `zero_division` parameter to control this behavior.\n",
      "  _warn_prf(average, modifier, msg_start, len(result))\n",
      "/opt/anaconda3/lib/python3.7/site-packages/sklearn/metrics/_classification.py:1248: UndefinedMetricWarning: Precision and F-score are ill-defined and being set to 0.0 in labels with no predicted samples. Use `zero_division` parameter to control this behavior.\n",
      "  _warn_prf(average, modifier, msg_start, len(result))\n",
      "/opt/anaconda3/lib/python3.7/site-packages/sklearn/metrics/_classification.py:1248: UndefinedMetricWarning: Precision and F-score are ill-defined and being set to 0.0 in labels with no predicted samples. Use `zero_division` parameter to control this behavior.\n",
      "  _warn_prf(average, modifier, msg_start, len(result))\n",
      "/opt/anaconda3/lib/python3.7/site-packages/xgboost/sklearn.py:1146: UserWarning: The use of label encoder in XGBClassifier is deprecated and will be removed in a future release. To remove this warning, do the following: 1) Pass option use_label_encoder=False when constructing XGBClassifier object; and 2) Encode your labels (y) as integers starting with 0, i.e. 0, 1, 2, ..., [num_class - 1].\n",
      "  warnings.warn(label_encoder_deprecation_msg, UserWarning)\n",
      "/opt/anaconda3/lib/python3.7/site-packages/xgboost/sklearn.py:1146: UserWarning: The use of label encoder in XGBClassifier is deprecated and will be removed in a future release. To remove this warning, do the following: 1) Pass option use_label_encoder=False when constructing XGBClassifier object; and 2) Encode your labels (y) as integers starting with 0, i.e. 0, 1, 2, ..., [num_class - 1].\n",
      "  warnings.warn(label_encoder_deprecation_msg, UserWarning)\n"
     ]
    },
    {
     "name": "stdout",
     "output_type": "stream",
     "text": [
      "[21:28:05] WARNING: /Users/travis/build/dmlc/xgboost/src/learner.cc:1095: Starting in XGBoost 1.3.0, the default evaluation metric used with the objective 'binary:logistic' was changed from 'error' to 'logloss'. Explicitly set eval_metric if you'd like to restore the old behavior.\n"
     ]
    },
    {
     "name": "stderr",
     "output_type": "stream",
     "text": [
      "/opt/anaconda3/lib/python3.7/site-packages/xgboost/sklearn.py:1146: UserWarning: The use of label encoder in XGBClassifier is deprecated and will be removed in a future release. To remove this warning, do the following: 1) Pass option use_label_encoder=False when constructing XGBClassifier object; and 2) Encode your labels (y) as integers starting with 0, i.e. 0, 1, 2, ..., [num_class - 1].\n",
      "  warnings.warn(label_encoder_deprecation_msg, UserWarning)\n"
     ]
    },
    {
     "name": "stdout",
     "output_type": "stream",
     "text": [
      "[21:28:05] WARNING: /Users/travis/build/dmlc/xgboost/src/learner.cc:1095: Starting in XGBoost 1.3.0, the default evaluation metric used with the objective 'binary:logistic' was changed from 'error' to 'logloss'. Explicitly set eval_metric if you'd like to restore the old behavior.\n"
     ]
    },
    {
     "name": "stderr",
     "output_type": "stream",
     "text": [
      "/opt/anaconda3/lib/python3.7/site-packages/xgboost/sklearn.py:1146: UserWarning: The use of label encoder in XGBClassifier is deprecated and will be removed in a future release. To remove this warning, do the following: 1) Pass option use_label_encoder=False when constructing XGBClassifier object; and 2) Encode your labels (y) as integers starting with 0, i.e. 0, 1, 2, ..., [num_class - 1].\n",
      "  warnings.warn(label_encoder_deprecation_msg, UserWarning)\n"
     ]
    },
    {
     "name": "stdout",
     "output_type": "stream",
     "text": [
      "[21:28:05] WARNING: /Users/travis/build/dmlc/xgboost/src/learner.cc:1095: Starting in XGBoost 1.3.0, the default evaluation metric used with the objective 'binary:logistic' was changed from 'error' to 'logloss'. Explicitly set eval_metric if you'd like to restore the old behavior.\n"
     ]
    },
    {
     "name": "stderr",
     "output_type": "stream",
     "text": [
      "/opt/anaconda3/lib/python3.7/site-packages/xgboost/sklearn.py:1146: UserWarning: The use of label encoder in XGBClassifier is deprecated and will be removed in a future release. To remove this warning, do the following: 1) Pass option use_label_encoder=False when constructing XGBClassifier object; and 2) Encode your labels (y) as integers starting with 0, i.e. 0, 1, 2, ..., [num_class - 1].\n",
      "  warnings.warn(label_encoder_deprecation_msg, UserWarning)\n"
     ]
    },
    {
     "name": "stdout",
     "output_type": "stream",
     "text": [
      "[21:28:06] WARNING: /Users/travis/build/dmlc/xgboost/src/learner.cc:1095: Starting in XGBoost 1.3.0, the default evaluation metric used with the objective 'binary:logistic' was changed from 'error' to 'logloss'. Explicitly set eval_metric if you'd like to restore the old behavior.\n"
     ]
    },
    {
     "name": "stderr",
     "output_type": "stream",
     "text": [
      "/opt/anaconda3/lib/python3.7/site-packages/xgboost/sklearn.py:1146: UserWarning: The use of label encoder in XGBClassifier is deprecated and will be removed in a future release. To remove this warning, do the following: 1) Pass option use_label_encoder=False when constructing XGBClassifier object; and 2) Encode your labels (y) as integers starting with 0, i.e. 0, 1, 2, ..., [num_class - 1].\n",
      "  warnings.warn(label_encoder_deprecation_msg, UserWarning)\n"
     ]
    },
    {
     "name": "stdout",
     "output_type": "stream",
     "text": [
      "[21:28:06] WARNING: /Users/travis/build/dmlc/xgboost/src/learner.cc:1095: Starting in XGBoost 1.3.0, the default evaluation metric used with the objective 'binary:logistic' was changed from 'error' to 'logloss'. Explicitly set eval_metric if you'd like to restore the old behavior.\n",
      "XGB\n",
      "                 precision    recall  f1-score   support\n",
      "\n",
      "Negative CRAFFT       0.93      0.99      0.96      2728\n",
      "Positive CRAFFT       0.51      0.10      0.16       227\n",
      "\n",
      "       accuracy                           0.92      2955\n",
      "      macro avg       0.72      0.54      0.56      2955\n",
      "   weighted avg       0.90      0.92      0.90      2955\n",
      "\n"
     ]
    }
   ],
   "source": [
    "exps = run_experiments(X_train, y_train, X_test, y_test)"
   ]
  },
  {
   "cell_type": "code",
   "execution_count": 80,
   "id": "a409088d-1edc-4824-b7df-7482fb8631a9",
   "metadata": {},
   "outputs": [
    {
     "data": {
      "text/html": [
       "<div>\n",
       "<style scoped>\n",
       "    .dataframe tbody tr th:only-of-type {\n",
       "        vertical-align: middle;\n",
       "    }\n",
       "\n",
       "    .dataframe tbody tr th {\n",
       "        vertical-align: top;\n",
       "    }\n",
       "\n",
       "    .dataframe thead th {\n",
       "        text-align: right;\n",
       "    }\n",
       "</style>\n",
       "<table border=\"1\" class=\"dataframe\">\n",
       "  <thead>\n",
       "    <tr style=\"text-align: right;\">\n",
       "      <th></th>\n",
       "      <th>fit_time</th>\n",
       "      <th>score_time</th>\n",
       "      <th>test_accuracy</th>\n",
       "      <th>test_precision_weighted</th>\n",
       "      <th>test_recall_weighted</th>\n",
       "      <th>test_f1_weighted</th>\n",
       "      <th>test_roc_auc</th>\n",
       "      <th>model</th>\n",
       "    </tr>\n",
       "  </thead>\n",
       "  <tbody>\n",
       "    <tr>\n",
       "      <th>0</th>\n",
       "      <td>0.051273</td>\n",
       "      <td>0.011536</td>\n",
       "      <td>0.928511</td>\n",
       "      <td>0.933624</td>\n",
       "      <td>0.928511</td>\n",
       "      <td>0.894510</td>\n",
       "      <td>0.692827</td>\n",
       "      <td>LogReg</td>\n",
       "    </tr>\n",
       "    <tr>\n",
       "      <th>1</th>\n",
       "      <td>0.039366</td>\n",
       "      <td>0.007405</td>\n",
       "      <td>0.916244</td>\n",
       "      <td>0.840245</td>\n",
       "      <td>0.916244</td>\n",
       "      <td>0.876600</td>\n",
       "      <td>0.706329</td>\n",
       "      <td>LogReg</td>\n",
       "    </tr>\n",
       "    <tr>\n",
       "      <th>2</th>\n",
       "      <td>0.032755</td>\n",
       "      <td>0.008569</td>\n",
       "      <td>0.926396</td>\n",
       "      <td>0.858209</td>\n",
       "      <td>0.926396</td>\n",
       "      <td>0.891000</td>\n",
       "      <td>0.711952</td>\n",
       "      <td>LogReg</td>\n",
       "    </tr>\n",
       "    <tr>\n",
       "      <th>3</th>\n",
       "      <td>0.032733</td>\n",
       "      <td>0.006964</td>\n",
       "      <td>0.931049</td>\n",
       "      <td>0.866852</td>\n",
       "      <td>0.931049</td>\n",
       "      <td>0.897805</td>\n",
       "      <td>0.674840</td>\n",
       "      <td>LogReg</td>\n",
       "    </tr>\n",
       "    <tr>\n",
       "      <th>4</th>\n",
       "      <td>0.031814</td>\n",
       "      <td>0.007859</td>\n",
       "      <td>0.913283</td>\n",
       "      <td>0.834085</td>\n",
       "      <td>0.913283</td>\n",
       "      <td>0.871889</td>\n",
       "      <td>0.709639</td>\n",
       "      <td>LogReg</td>\n",
       "    </tr>\n",
       "    <tr>\n",
       "      <th>5</th>\n",
       "      <td>0.441871</td>\n",
       "      <td>0.084087</td>\n",
       "      <td>0.776227</td>\n",
       "      <td>0.894450</td>\n",
       "      <td>0.776227</td>\n",
       "      <td>0.823333</td>\n",
       "      <td>0.683429</td>\n",
       "      <td>RF</td>\n",
       "    </tr>\n",
       "    <tr>\n",
       "      <th>6</th>\n",
       "      <td>0.506246</td>\n",
       "      <td>0.080234</td>\n",
       "      <td>0.747039</td>\n",
       "      <td>0.878988</td>\n",
       "      <td>0.747039</td>\n",
       "      <td>0.797897</td>\n",
       "      <td>0.673211</td>\n",
       "      <td>RF</td>\n",
       "    </tr>\n",
       "    <tr>\n",
       "      <th>7</th>\n",
       "      <td>0.432498</td>\n",
       "      <td>0.094899</td>\n",
       "      <td>0.771151</td>\n",
       "      <td>0.885224</td>\n",
       "      <td>0.771151</td>\n",
       "      <td>0.817798</td>\n",
       "      <td>0.676498</td>\n",
       "      <td>RF</td>\n",
       "    </tr>\n",
       "    <tr>\n",
       "      <th>8</th>\n",
       "      <td>0.437189</td>\n",
       "      <td>0.086491</td>\n",
       "      <td>0.735618</td>\n",
       "      <td>0.893861</td>\n",
       "      <td>0.735618</td>\n",
       "      <td>0.797325</td>\n",
       "      <td>0.674908</td>\n",
       "      <td>RF</td>\n",
       "    </tr>\n",
       "    <tr>\n",
       "      <th>9</th>\n",
       "      <td>0.450046</td>\n",
       "      <td>0.092287</td>\n",
       "      <td>0.747039</td>\n",
       "      <td>0.871556</td>\n",
       "      <td>0.747039</td>\n",
       "      <td>0.795673</td>\n",
       "      <td>0.668934</td>\n",
       "      <td>RF</td>\n",
       "    </tr>\n",
       "    <tr>\n",
       "      <th>10</th>\n",
       "      <td>0.030445</td>\n",
       "      <td>0.100053</td>\n",
       "      <td>0.928088</td>\n",
       "      <td>0.903447</td>\n",
       "      <td>0.928088</td>\n",
       "      <td>0.905765</td>\n",
       "      <td>0.657144</td>\n",
       "      <td>KNN</td>\n",
       "    </tr>\n",
       "    <tr>\n",
       "      <th>11</th>\n",
       "      <td>0.032144</td>\n",
       "      <td>0.099210</td>\n",
       "      <td>0.913283</td>\n",
       "      <td>0.882539</td>\n",
       "      <td>0.913283</td>\n",
       "      <td>0.889437</td>\n",
       "      <td>0.649070</td>\n",
       "      <td>KNN</td>\n",
       "    </tr>\n",
       "    <tr>\n",
       "      <th>12</th>\n",
       "      <td>0.027274</td>\n",
       "      <td>0.085737</td>\n",
       "      <td>0.922166</td>\n",
       "      <td>0.890617</td>\n",
       "      <td>0.922166</td>\n",
       "      <td>0.898952</td>\n",
       "      <td>0.641686</td>\n",
       "      <td>KNN</td>\n",
       "    </tr>\n",
       "    <tr>\n",
       "      <th>13</th>\n",
       "      <td>0.027957</td>\n",
       "      <td>0.086870</td>\n",
       "      <td>0.926819</td>\n",
       "      <td>0.898374</td>\n",
       "      <td>0.926819</td>\n",
       "      <td>0.906200</td>\n",
       "      <td>0.643957</td>\n",
       "      <td>KNN</td>\n",
       "    </tr>\n",
       "    <tr>\n",
       "      <th>14</th>\n",
       "      <td>0.027519</td>\n",
       "      <td>0.085312</td>\n",
       "      <td>0.912860</td>\n",
       "      <td>0.882467</td>\n",
       "      <td>0.912860</td>\n",
       "      <td>0.884831</td>\n",
       "      <td>0.633202</td>\n",
       "      <td>KNN</td>\n",
       "    </tr>\n",
       "    <tr>\n",
       "      <th>15</th>\n",
       "      <td>0.521129</td>\n",
       "      <td>0.725723</td>\n",
       "      <td>0.928088</td>\n",
       "      <td>0.861347</td>\n",
       "      <td>0.928088</td>\n",
       "      <td>0.893473</td>\n",
       "      <td>0.552422</td>\n",
       "      <td>SVM</td>\n",
       "    </tr>\n",
       "    <tr>\n",
       "      <th>16</th>\n",
       "      <td>0.509300</td>\n",
       "      <td>0.668802</td>\n",
       "      <td>0.916667</td>\n",
       "      <td>0.840278</td>\n",
       "      <td>0.916667</td>\n",
       "      <td>0.876812</td>\n",
       "      <td>0.545616</td>\n",
       "      <td>SVM</td>\n",
       "    </tr>\n",
       "    <tr>\n",
       "      <th>17</th>\n",
       "      <td>0.513215</td>\n",
       "      <td>0.663256</td>\n",
       "      <td>0.926396</td>\n",
       "      <td>0.858209</td>\n",
       "      <td>0.926396</td>\n",
       "      <td>0.891000</td>\n",
       "      <td>0.475695</td>\n",
       "      <td>SVM</td>\n",
       "    </tr>\n",
       "    <tr>\n",
       "      <th>18</th>\n",
       "      <td>0.587104</td>\n",
       "      <td>0.796834</td>\n",
       "      <td>0.931049</td>\n",
       "      <td>0.866852</td>\n",
       "      <td>0.931049</td>\n",
       "      <td>0.897805</td>\n",
       "      <td>0.414085</td>\n",
       "      <td>SVM</td>\n",
       "    </tr>\n",
       "    <tr>\n",
       "      <th>19</th>\n",
       "      <td>0.527407</td>\n",
       "      <td>0.676913</td>\n",
       "      <td>0.913283</td>\n",
       "      <td>0.834085</td>\n",
       "      <td>0.913283</td>\n",
       "      <td>0.871889</td>\n",
       "      <td>0.470275</td>\n",
       "      <td>SVM</td>\n",
       "    </tr>\n",
       "    <tr>\n",
       "      <th>20</th>\n",
       "      <td>0.002880</td>\n",
       "      <td>0.006695</td>\n",
       "      <td>0.918782</td>\n",
       "      <td>0.871668</td>\n",
       "      <td>0.918782</td>\n",
       "      <td>0.891611</td>\n",
       "      <td>0.672370</td>\n",
       "      <td>GNB</td>\n",
       "    </tr>\n",
       "    <tr>\n",
       "      <th>21</th>\n",
       "      <td>0.002904</td>\n",
       "      <td>0.006711</td>\n",
       "      <td>0.915398</td>\n",
       "      <td>0.881139</td>\n",
       "      <td>0.915398</td>\n",
       "      <td>0.884891</td>\n",
       "      <td>0.688826</td>\n",
       "      <td>GNB</td>\n",
       "    </tr>\n",
       "    <tr>\n",
       "      <th>22</th>\n",
       "      <td>0.003443</td>\n",
       "      <td>0.008313</td>\n",
       "      <td>0.919628</td>\n",
       "      <td>0.873587</td>\n",
       "      <td>0.919628</td>\n",
       "      <td>0.891204</td>\n",
       "      <td>0.693884</td>\n",
       "      <td>GNB</td>\n",
       "    </tr>\n",
       "    <tr>\n",
       "      <th>23</th>\n",
       "      <td>0.003344</td>\n",
       "      <td>0.007423</td>\n",
       "      <td>0.926396</td>\n",
       "      <td>0.886595</td>\n",
       "      <td>0.926396</td>\n",
       "      <td>0.899830</td>\n",
       "      <td>0.663788</td>\n",
       "      <td>GNB</td>\n",
       "    </tr>\n",
       "    <tr>\n",
       "      <th>24</th>\n",
       "      <td>0.002917</td>\n",
       "      <td>0.009614</td>\n",
       "      <td>0.913283</td>\n",
       "      <td>0.880016</td>\n",
       "      <td>0.913283</td>\n",
       "      <td>0.878020</td>\n",
       "      <td>0.697519</td>\n",
       "      <td>GNB</td>\n",
       "    </tr>\n",
       "    <tr>\n",
       "      <th>25</th>\n",
       "      <td>0.275192</td>\n",
       "      <td>0.012166</td>\n",
       "      <td>0.928088</td>\n",
       "      <td>0.901378</td>\n",
       "      <td>0.928088</td>\n",
       "      <td>0.902186</td>\n",
       "      <td>0.766738</td>\n",
       "      <td>XGB</td>\n",
       "    </tr>\n",
       "    <tr>\n",
       "      <th>26</th>\n",
       "      <td>0.254006</td>\n",
       "      <td>0.015648</td>\n",
       "      <td>0.914975</td>\n",
       "      <td>0.882434</td>\n",
       "      <td>0.914975</td>\n",
       "      <td>0.887122</td>\n",
       "      <td>0.739044</td>\n",
       "      <td>XGB</td>\n",
       "    </tr>\n",
       "    <tr>\n",
       "      <th>27</th>\n",
       "      <td>0.209644</td>\n",
       "      <td>0.013675</td>\n",
       "      <td>0.922166</td>\n",
       "      <td>0.886945</td>\n",
       "      <td>0.922166</td>\n",
       "      <td>0.896562</td>\n",
       "      <td>0.747493</td>\n",
       "      <td>XGB</td>\n",
       "    </tr>\n",
       "    <tr>\n",
       "      <th>28</th>\n",
       "      <td>0.305037</td>\n",
       "      <td>0.012031</td>\n",
       "      <td>0.927665</td>\n",
       "      <td>0.899025</td>\n",
       "      <td>0.927665</td>\n",
       "      <td>0.906171</td>\n",
       "      <td>0.739545</td>\n",
       "      <td>XGB</td>\n",
       "    </tr>\n",
       "    <tr>\n",
       "      <th>29</th>\n",
       "      <td>0.335661</td>\n",
       "      <td>0.013888</td>\n",
       "      <td>0.913283</td>\n",
       "      <td>0.883610</td>\n",
       "      <td>0.913283</td>\n",
       "      <td>0.885099</td>\n",
       "      <td>0.742695</td>\n",
       "      <td>XGB</td>\n",
       "    </tr>\n",
       "  </tbody>\n",
       "</table>\n",
       "</div>"
      ],
      "text/plain": [
       "    fit_time  score_time  test_accuracy  test_precision_weighted  \\\n",
       "0   0.051273    0.011536       0.928511                 0.933624   \n",
       "1   0.039366    0.007405       0.916244                 0.840245   \n",
       "2   0.032755    0.008569       0.926396                 0.858209   \n",
       "3   0.032733    0.006964       0.931049                 0.866852   \n",
       "4   0.031814    0.007859       0.913283                 0.834085   \n",
       "5   0.441871    0.084087       0.776227                 0.894450   \n",
       "6   0.506246    0.080234       0.747039                 0.878988   \n",
       "7   0.432498    0.094899       0.771151                 0.885224   \n",
       "8   0.437189    0.086491       0.735618                 0.893861   \n",
       "9   0.450046    0.092287       0.747039                 0.871556   \n",
       "10  0.030445    0.100053       0.928088                 0.903447   \n",
       "11  0.032144    0.099210       0.913283                 0.882539   \n",
       "12  0.027274    0.085737       0.922166                 0.890617   \n",
       "13  0.027957    0.086870       0.926819                 0.898374   \n",
       "14  0.027519    0.085312       0.912860                 0.882467   \n",
       "15  0.521129    0.725723       0.928088                 0.861347   \n",
       "16  0.509300    0.668802       0.916667                 0.840278   \n",
       "17  0.513215    0.663256       0.926396                 0.858209   \n",
       "18  0.587104    0.796834       0.931049                 0.866852   \n",
       "19  0.527407    0.676913       0.913283                 0.834085   \n",
       "20  0.002880    0.006695       0.918782                 0.871668   \n",
       "21  0.002904    0.006711       0.915398                 0.881139   \n",
       "22  0.003443    0.008313       0.919628                 0.873587   \n",
       "23  0.003344    0.007423       0.926396                 0.886595   \n",
       "24  0.002917    0.009614       0.913283                 0.880016   \n",
       "25  0.275192    0.012166       0.928088                 0.901378   \n",
       "26  0.254006    0.015648       0.914975                 0.882434   \n",
       "27  0.209644    0.013675       0.922166                 0.886945   \n",
       "28  0.305037    0.012031       0.927665                 0.899025   \n",
       "29  0.335661    0.013888       0.913283                 0.883610   \n",
       "\n",
       "    test_recall_weighted  test_f1_weighted  test_roc_auc   model  \n",
       "0               0.928511          0.894510      0.692827  LogReg  \n",
       "1               0.916244          0.876600      0.706329  LogReg  \n",
       "2               0.926396          0.891000      0.711952  LogReg  \n",
       "3               0.931049          0.897805      0.674840  LogReg  \n",
       "4               0.913283          0.871889      0.709639  LogReg  \n",
       "5               0.776227          0.823333      0.683429      RF  \n",
       "6               0.747039          0.797897      0.673211      RF  \n",
       "7               0.771151          0.817798      0.676498      RF  \n",
       "8               0.735618          0.797325      0.674908      RF  \n",
       "9               0.747039          0.795673      0.668934      RF  \n",
       "10              0.928088          0.905765      0.657144     KNN  \n",
       "11              0.913283          0.889437      0.649070     KNN  \n",
       "12              0.922166          0.898952      0.641686     KNN  \n",
       "13              0.926819          0.906200      0.643957     KNN  \n",
       "14              0.912860          0.884831      0.633202     KNN  \n",
       "15              0.928088          0.893473      0.552422     SVM  \n",
       "16              0.916667          0.876812      0.545616     SVM  \n",
       "17              0.926396          0.891000      0.475695     SVM  \n",
       "18              0.931049          0.897805      0.414085     SVM  \n",
       "19              0.913283          0.871889      0.470275     SVM  \n",
       "20              0.918782          0.891611      0.672370     GNB  \n",
       "21              0.915398          0.884891      0.688826     GNB  \n",
       "22              0.919628          0.891204      0.693884     GNB  \n",
       "23              0.926396          0.899830      0.663788     GNB  \n",
       "24              0.913283          0.878020      0.697519     GNB  \n",
       "25              0.928088          0.902186      0.766738     XGB  \n",
       "26              0.914975          0.887122      0.739044     XGB  \n",
       "27              0.922166          0.896562      0.747493     XGB  \n",
       "28              0.927665          0.906171      0.739545     XGB  \n",
       "29              0.913283          0.885099      0.742695     XGB  "
      ]
     },
     "execution_count": 80,
     "metadata": {},
     "output_type": "execute_result"
    }
   ],
   "source": [
    "exps"
   ]
  },
  {
   "cell_type": "code",
   "execution_count": 81,
   "id": "946fb0bc-c911-48f4-9f04-2f70451a3193",
   "metadata": {},
   "outputs": [],
   "source": [
    "# Logistic Regression wins for training speed and metrics"
   ]
  },
  {
   "cell_type": "code",
   "execution_count": 86,
   "id": "5a7bfa3a-d1c6-42b2-b34c-95443bb69d34",
   "metadata": {},
   "outputs": [],
   "source": [
    "lr = LogisticRegression(random_state=42)"
   ]
  },
  {
   "cell_type": "code",
   "execution_count": 96,
   "id": "e6459c6d-d5d2-42e9-810f-c9e86b7fb528",
   "metadata": {},
   "outputs": [],
   "source": [
    "kfold = model_selection.KFold(n_splits=5, shuffle=True, random_state=42)\n",
    "scoring = ['accuracy', 'precision_weighted', 'recall_weighted', \n",
    "               'f1_weighted', 'roc_auc']"
   ]
  },
  {
   "cell_type": "code",
   "execution_count": 97,
   "id": "23d47f50-eee4-4cec-b9c7-1f6154a3720c",
   "metadata": {},
   "outputs": [
    {
     "name": "stderr",
     "output_type": "stream",
     "text": [
      "/opt/anaconda3/lib/python3.7/site-packages/sklearn/metrics/_classification.py:1248: UndefinedMetricWarning: Precision is ill-defined and being set to 0.0 in labels with no predicted samples. Use `zero_division` parameter to control this behavior.\n",
      "  _warn_prf(average, modifier, msg_start, len(result))\n",
      "/opt/anaconda3/lib/python3.7/site-packages/sklearn/metrics/_classification.py:1248: UndefinedMetricWarning: Precision is ill-defined and being set to 0.0 in labels with no predicted samples. Use `zero_division` parameter to control this behavior.\n",
      "  _warn_prf(average, modifier, msg_start, len(result))\n",
      "/opt/anaconda3/lib/python3.7/site-packages/sklearn/metrics/_classification.py:1248: UndefinedMetricWarning: Precision is ill-defined and being set to 0.0 in labels with no predicted samples. Use `zero_division` parameter to control this behavior.\n",
      "  _warn_prf(average, modifier, msg_start, len(result))\n"
     ]
    }
   ],
   "source": [
    "lr_cv_results = model_selection.cross_validate(lr, X_train, y_train, cv=kfold, scoring=scoring)\n",
    "clf = lr.fit(X_train, y_train)\n",
    "y_pred = clf.predict(X_test)"
   ]
  },
  {
   "cell_type": "code",
   "execution_count": 100,
   "id": "372823a5-8a87-456b-9472-929dc4193ca0",
   "metadata": {},
   "outputs": [
    {
     "name": "stdout",
     "output_type": "stream",
     "text": [
      "Accuracy: 0.9238578680203046\n",
      "Precision: 1.0\n",
      "Recall: 0.00881057268722467\n",
      "F1: 0.017467248908296942\n"
     ]
    }
   ],
   "source": [
    "print(\"Accuracy:\", accuracy_score(y_test, y_pred))\n",
    "print(\"Precision:\", precision_score(y_test, y_pred))\n",
    "print(\"Recall:\", recall_score(y_test, y_pred))\n",
    "print(\"F1:\", f1_score(y_test, y_pred))"
   ]
  },
  {
   "cell_type": "code",
   "execution_count": null,
   "id": "a27c9b0c-3f97-4b49-8ff4-621a96597887",
   "metadata": {},
   "outputs": [],
   "source": []
  },
  {
   "cell_type": "code",
   "execution_count": 87,
   "id": "5cb7659c-9fa1-462d-90c2-690a66fe0918",
   "metadata": {},
   "outputs": [
    {
     "data": {
      "text/plain": [
       "LogisticRegression(random_state=42)"
      ]
     },
     "execution_count": 87,
     "metadata": {},
     "output_type": "execute_result"
    }
   ],
   "source": [
    "lr.fit(X_train, y_train)"
   ]
  },
  {
   "cell_type": "code",
   "execution_count": 88,
   "id": "005d352d-8af2-442a-9a8d-fad95dabea4a",
   "metadata": {},
   "outputs": [],
   "source": [
    "preds = lr.predict(X_test)"
   ]
  },
  {
   "cell_type": "code",
   "execution_count": 89,
   "id": "bd088c68-1ff5-4d72-96a1-48c3090e2187",
   "metadata": {},
   "outputs": [
    {
     "name": "stdout",
     "output_type": "stream",
     "text": [
      "Accuracy: 0.9238578680203046\n",
      "Precision: 1.0\n",
      "Recall: 0.00881057268722467\n",
      "F1: 0.017467248908296942\n"
     ]
    }
   ],
   "source": [
    "print(\"Accuracy:\", accuracy_score(y_test, preds))\n",
    "print(\"Precision:\", precision_score(y_test, preds))\n",
    "print(\"Recall:\", recall_score(y_test, preds))\n",
    "print(\"F1:\", f1_score(y_test, preds))"
   ]
  },
  {
   "cell_type": "code",
   "execution_count": 90,
   "id": "9589fe0a-4ec4-433f-8e02-8e5873a00525",
   "metadata": {},
   "outputs": [],
   "source": [
    "xgb = XGBClassifier(random_state=42)"
   ]
  },
  {
   "cell_type": "code",
   "execution_count": 91,
   "id": "5a41f1e6-ee65-4f81-819d-702643ea7578",
   "metadata": {},
   "outputs": [
    {
     "name": "stderr",
     "output_type": "stream",
     "text": [
      "/opt/anaconda3/lib/python3.7/site-packages/xgboost/sklearn.py:1146: UserWarning: The use of label encoder in XGBClassifier is deprecated and will be removed in a future release. To remove this warning, do the following: 1) Pass option use_label_encoder=False when constructing XGBClassifier object; and 2) Encode your labels (y) as integers starting with 0, i.e. 0, 1, 2, ..., [num_class - 1].\n",
      "  warnings.warn(label_encoder_deprecation_msg, UserWarning)\n"
     ]
    },
    {
     "name": "stdout",
     "output_type": "stream",
     "text": [
      "[21:34:50] WARNING: /Users/travis/build/dmlc/xgboost/src/learner.cc:1095: Starting in XGBoost 1.3.0, the default evaluation metric used with the objective 'binary:logistic' was changed from 'error' to 'logloss'. Explicitly set eval_metric if you'd like to restore the old behavior.\n"
     ]
    },
    {
     "data": {
      "text/plain": [
       "XGBClassifier(base_score=0.5, booster='gbtree', colsample_bylevel=1,\n",
       "              colsample_bynode=1, colsample_bytree=1, gamma=0, gpu_id=-1,\n",
       "              importance_type='gain', interaction_constraints='',\n",
       "              learning_rate=0.300000012, max_delta_step=0, max_depth=6,\n",
       "              min_child_weight=1, missing=nan, monotone_constraints='()',\n",
       "              n_estimators=100, n_jobs=8, num_parallel_tree=1, random_state=42,\n",
       "              reg_alpha=0, reg_lambda=1, scale_pos_weight=1, subsample=1,\n",
       "              tree_method='exact', validate_parameters=1, verbosity=None)"
      ]
     },
     "execution_count": 91,
     "metadata": {},
     "output_type": "execute_result"
    }
   ],
   "source": [
    "xgb.fit(X_train, y_train)"
   ]
  },
  {
   "cell_type": "code",
   "execution_count": 92,
   "id": "b83819a6-b571-475d-8690-35ce536d909f",
   "metadata": {},
   "outputs": [],
   "source": [
    "preds = xgb.predict(X_test)"
   ]
  },
  {
   "cell_type": "code",
   "execution_count": 93,
   "id": "6feb5622-2bc3-42d2-81fc-2088678738ba",
   "metadata": {},
   "outputs": [
    {
     "name": "stdout",
     "output_type": "stream",
     "text": [
      "Accuracy: 0.9235194585448393\n",
      "Precision: 0.5116279069767442\n",
      "Recall: 0.09691629955947137\n",
      "F1: 0.16296296296296298\n"
     ]
    }
   ],
   "source": [
    "print(\"Accuracy:\", accuracy_score(y_test, preds))\n",
    "print(\"Precision:\", precision_score(y_test, preds))\n",
    "print(\"Recall:\", recall_score(y_test, preds))\n",
    "print(\"F1:\", f1_score(y_test, preds))"
   ]
  },
  {
   "cell_type": "code",
   "execution_count": 111,
   "id": "362e4839-73dd-4d19-a912-0967e303b55c",
   "metadata": {},
   "outputs": [],
   "source": [
    "import imblearn\n",
    "from imblearn.over_sampling import SMOTE\n",
    "from imblearn.pipeline import Pipeline\n",
    "from imblearn.under_sampling import RandomUnderSampler"
   ]
  },
  {
   "cell_type": "code",
   "execution_count": 112,
   "id": "e12d3702-bf4a-48cf-bd8c-54ec449c4231",
   "metadata": {},
   "outputs": [],
   "source": [
    "over = SMOTE(sampling_strategy=0.1)\n",
    "under = RandomUnderSampler(sampling_strategy=0.5)"
   ]
  },
  {
   "cell_type": "code",
   "execution_count": 113,
   "id": "bbcf323d-1ac1-4961-9d1b-7776d7154578",
   "metadata": {},
   "outputs": [],
   "source": [
    "steps = [('o', over), ('u', under)]"
   ]
  },
  {
   "cell_type": "code",
   "execution_count": 114,
   "id": "5245a665-7372-47e6-9b34-25067b32ed6d",
   "metadata": {},
   "outputs": [],
   "source": [
    "pipeline = Pipeline(steps=steps)"
   ]
  },
  {
   "cell_type": "code",
   "execution_count": 115,
   "id": "bbf18737-d71d-44be-8a54-4a750c89a07f",
   "metadata": {},
   "outputs": [],
   "source": [
    "X, y = pipeline.fit_resample(X, y)"
   ]
  },
  {
   "cell_type": "code",
   "execution_count": 117,
   "id": "9d6f67c9-8306-49ef-a904-188297da6517",
   "metadata": {},
   "outputs": [],
   "source": [
    "from collections import Counter"
   ]
  },
  {
   "cell_type": "code",
   "execution_count": 118,
   "id": "d3d430fd-6a03-485f-adb8-38f8ee26ea02",
   "metadata": {},
   "outputs": [
    {
     "name": "stdout",
     "output_type": "stream",
     "text": [
      "Counter({0: 2726, 1: 1363})\n"
     ]
    }
   ],
   "source": [
    "counter = Counter(y)\n",
    "print(counter)"
   ]
  },
  {
   "cell_type": "code",
   "execution_count": 124,
   "id": "e8f9159c-3f55-4d3d-bf6a-d348251cad4c",
   "metadata": {},
   "outputs": [],
   "source": [
    "X_train, X_test, y_train, y_test = train_test_split(X, y, random_state=42, stratify=y, test_size=.2)"
   ]
  },
  {
   "cell_type": "code",
   "execution_count": 125,
   "id": "8d9cdb38-46cc-4572-85f5-82ef210438b0",
   "metadata": {},
   "outputs": [
    {
     "data": {
      "text/plain": [
       "((3271, 4), (818, 4), (3271,), (818,))"
      ]
     },
     "execution_count": 125,
     "metadata": {},
     "output_type": "execute_result"
    }
   ],
   "source": [
    "X_train.shape, X_test.shape, y_train.shape, y_test.shape"
   ]
  },
  {
   "cell_type": "code",
   "execution_count": 127,
   "id": "79ecec7b-948c-4888-be16-e85a4d748f1e",
   "metadata": {},
   "outputs": [
    {
     "data": {
      "text/plain": [
       "(0.33374083129584353, 0.3332314276979517)"
      ]
     },
     "execution_count": 127,
     "metadata": {},
     "output_type": "execute_result"
    }
   ],
   "source": [
    "y_test.sum()/len(y_test), y_train.sum()/len(y_train)"
   ]
  },
  {
   "cell_type": "code",
   "execution_count": 129,
   "id": "41667eba-cc6d-48b0-9620-2a24e897db0d",
   "metadata": {},
   "outputs": [
    {
     "name": "stdout",
     "output_type": "stream",
     "text": [
      "LogReg\n",
      "                 precision    recall  f1-score   support\n",
      "\n",
      "Negative CRAFFT       0.71      0.92      0.80       545\n",
      "Positive CRAFFT       0.62      0.26      0.37       273\n",
      "\n",
      "       accuracy                           0.70       818\n",
      "      macro avg       0.67      0.59      0.58       818\n",
      "   weighted avg       0.68      0.70      0.66       818\n",
      "\n",
      "RF\n",
      "                 precision    recall  f1-score   support\n",
      "\n",
      "Negative CRAFFT       0.79      0.70      0.74       545\n",
      "Positive CRAFFT       0.51      0.63      0.56       273\n",
      "\n",
      "       accuracy                           0.67       818\n",
      "      macro avg       0.65      0.66      0.65       818\n",
      "   weighted avg       0.69      0.67      0.68       818\n",
      "\n",
      "KNN\n",
      "                 precision    recall  f1-score   support\n",
      "\n",
      "Negative CRAFFT       0.74      0.82      0.78       545\n",
      "Positive CRAFFT       0.55      0.44      0.49       273\n",
      "\n",
      "       accuracy                           0.69       818\n",
      "      macro avg       0.64      0.63      0.63       818\n",
      "   weighted avg       0.68      0.69      0.68       818\n",
      "\n"
     ]
    },
    {
     "name": "stderr",
     "output_type": "stream",
     "text": [
      "/opt/anaconda3/lib/python3.7/site-packages/sklearn/metrics/_classification.py:1248: UndefinedMetricWarning: Precision is ill-defined and being set to 0.0 due to no predicted samples. Use `zero_division` parameter to control this behavior.\n",
      "  _warn_prf(average, modifier, msg_start, len(result))\n",
      "/opt/anaconda3/lib/python3.7/site-packages/sklearn/metrics/_classification.py:1248: UndefinedMetricWarning: Precision is ill-defined and being set to 0.0 due to no predicted samples. Use `zero_division` parameter to control this behavior.\n",
      "  _warn_prf(average, modifier, msg_start, len(result))\n",
      "/opt/anaconda3/lib/python3.7/site-packages/sklearn/metrics/_classification.py:1248: UndefinedMetricWarning: Precision is ill-defined and being set to 0.0 due to no predicted samples. Use `zero_division` parameter to control this behavior.\n",
      "  _warn_prf(average, modifier, msg_start, len(result))\n",
      "/opt/anaconda3/lib/python3.7/site-packages/sklearn/metrics/_classification.py:1248: UndefinedMetricWarning: Precision is ill-defined and being set to 0.0 due to no predicted samples. Use `zero_division` parameter to control this behavior.\n",
      "  _warn_prf(average, modifier, msg_start, len(result))\n",
      "/opt/anaconda3/lib/python3.7/site-packages/sklearn/metrics/_classification.py:1248: UndefinedMetricWarning: Precision is ill-defined and being set to 0.0 due to no predicted samples. Use `zero_division` parameter to control this behavior.\n",
      "  _warn_prf(average, modifier, msg_start, len(result))\n"
     ]
    },
    {
     "name": "stdout",
     "output_type": "stream",
     "text": [
      "SVM\n",
      "                 precision    recall  f1-score   support\n",
      "\n",
      "Negative CRAFFT       0.67      1.00      0.80       545\n",
      "Positive CRAFFT       0.00      0.00      0.00       273\n",
      "\n",
      "       accuracy                           0.67       818\n",
      "      macro avg       0.33      0.50      0.40       818\n",
      "   weighted avg       0.44      0.67      0.53       818\n",
      "\n",
      "GNB\n",
      "                 precision    recall  f1-score   support\n",
      "\n",
      "Negative CRAFFT       0.70      0.91      0.79       545\n",
      "Positive CRAFFT       0.55      0.22      0.32       273\n",
      "\n",
      "       accuracy                           0.68       818\n",
      "      macro avg       0.63      0.57      0.56       818\n",
      "   weighted avg       0.65      0.68      0.63       818\n",
      "\n",
      "[22:18:43] WARNING: /Users/travis/build/dmlc/xgboost/src/learner.cc:1095: Starting in XGBoost 1.3.0, the default evaluation metric used with the objective 'binary:logistic' was changed from 'error' to 'logloss'. Explicitly set eval_metric if you'd like to restore the old behavior.\n"
     ]
    },
    {
     "name": "stderr",
     "output_type": "stream",
     "text": [
      "/opt/anaconda3/lib/python3.7/site-packages/sklearn/metrics/_classification.py:1248: UndefinedMetricWarning: Precision and F-score are ill-defined and being set to 0.0 in labels with no predicted samples. Use `zero_division` parameter to control this behavior.\n",
      "  _warn_prf(average, modifier, msg_start, len(result))\n",
      "/opt/anaconda3/lib/python3.7/site-packages/sklearn/metrics/_classification.py:1248: UndefinedMetricWarning: Precision and F-score are ill-defined and being set to 0.0 in labels with no predicted samples. Use `zero_division` parameter to control this behavior.\n",
      "  _warn_prf(average, modifier, msg_start, len(result))\n",
      "/opt/anaconda3/lib/python3.7/site-packages/sklearn/metrics/_classification.py:1248: UndefinedMetricWarning: Precision and F-score are ill-defined and being set to 0.0 in labels with no predicted samples. Use `zero_division` parameter to control this behavior.\n",
      "  _warn_prf(average, modifier, msg_start, len(result))\n",
      "/opt/anaconda3/lib/python3.7/site-packages/xgboost/sklearn.py:1146: UserWarning: The use of label encoder in XGBClassifier is deprecated and will be removed in a future release. To remove this warning, do the following: 1) Pass option use_label_encoder=False when constructing XGBClassifier object; and 2) Encode your labels (y) as integers starting with 0, i.e. 0, 1, 2, ..., [num_class - 1].\n",
      "  warnings.warn(label_encoder_deprecation_msg, UserWarning)\n",
      "/opt/anaconda3/lib/python3.7/site-packages/xgboost/sklearn.py:1146: UserWarning: The use of label encoder in XGBClassifier is deprecated and will be removed in a future release. To remove this warning, do the following: 1) Pass option use_label_encoder=False when constructing XGBClassifier object; and 2) Encode your labels (y) as integers starting with 0, i.e. 0, 1, 2, ..., [num_class - 1].\n",
      "  warnings.warn(label_encoder_deprecation_msg, UserWarning)\n",
      "/opt/anaconda3/lib/python3.7/site-packages/xgboost/sklearn.py:1146: UserWarning: The use of label encoder in XGBClassifier is deprecated and will be removed in a future release. To remove this warning, do the following: 1) Pass option use_label_encoder=False when constructing XGBClassifier object; and 2) Encode your labels (y) as integers starting with 0, i.e. 0, 1, 2, ..., [num_class - 1].\n",
      "  warnings.warn(label_encoder_deprecation_msg, UserWarning)\n"
     ]
    },
    {
     "name": "stdout",
     "output_type": "stream",
     "text": [
      "[22:18:43] WARNING: /Users/travis/build/dmlc/xgboost/src/learner.cc:1095: Starting in XGBoost 1.3.0, the default evaluation metric used with the objective 'binary:logistic' was changed from 'error' to 'logloss'. Explicitly set eval_metric if you'd like to restore the old behavior.\n",
      "[22:18:43] WARNING: /Users/travis/build/dmlc/xgboost/src/learner.cc:1095: Starting in XGBoost 1.3.0, the default evaluation metric used with the objective 'binary:logistic' was changed from 'error' to 'logloss'. Explicitly set eval_metric if you'd like to restore the old behavior.\n"
     ]
    },
    {
     "name": "stderr",
     "output_type": "stream",
     "text": [
      "/opt/anaconda3/lib/python3.7/site-packages/xgboost/sklearn.py:1146: UserWarning: The use of label encoder in XGBClassifier is deprecated and will be removed in a future release. To remove this warning, do the following: 1) Pass option use_label_encoder=False when constructing XGBClassifier object; and 2) Encode your labels (y) as integers starting with 0, i.e. 0, 1, 2, ..., [num_class - 1].\n",
      "  warnings.warn(label_encoder_deprecation_msg, UserWarning)\n",
      "/opt/anaconda3/lib/python3.7/site-packages/xgboost/sklearn.py:1146: UserWarning: The use of label encoder in XGBClassifier is deprecated and will be removed in a future release. To remove this warning, do the following: 1) Pass option use_label_encoder=False when constructing XGBClassifier object; and 2) Encode your labels (y) as integers starting with 0, i.e. 0, 1, 2, ..., [num_class - 1].\n",
      "  warnings.warn(label_encoder_deprecation_msg, UserWarning)\n"
     ]
    },
    {
     "name": "stdout",
     "output_type": "stream",
     "text": [
      "[22:18:43] WARNING: /Users/travis/build/dmlc/xgboost/src/learner.cc:1095: Starting in XGBoost 1.3.0, the default evaluation metric used with the objective 'binary:logistic' was changed from 'error' to 'logloss'. Explicitly set eval_metric if you'd like to restore the old behavior.\n",
      "[22:18:43] WARNING: /Users/travis/build/dmlc/xgboost/src/learner.cc:1095: Starting in XGBoost 1.3.0, the default evaluation metric used with the objective 'binary:logistic' was changed from 'error' to 'logloss'. Explicitly set eval_metric if you'd like to restore the old behavior.\n",
      "[22:18:43] WARNING: /Users/travis/build/dmlc/xgboost/src/learner.cc:1095: Starting in XGBoost 1.3.0, the default evaluation metric used with the objective 'binary:logistic' was changed from 'error' to 'logloss'. Explicitly set eval_metric if you'd like to restore the old behavior.\n",
      "XGB\n",
      "                 precision    recall  f1-score   support\n",
      "\n",
      "Negative CRAFFT       0.73      0.90      0.81       545\n",
      "Positive CRAFFT       0.63      0.35      0.45       273\n",
      "\n",
      "       accuracy                           0.72       818\n",
      "      macro avg       0.68      0.62      0.63       818\n",
      "   weighted avg       0.70      0.72      0.69       818\n",
      "\n"
     ]
    },
    {
     "name": "stderr",
     "output_type": "stream",
     "text": [
      "/opt/anaconda3/lib/python3.7/site-packages/xgboost/sklearn.py:1146: UserWarning: The use of label encoder in XGBClassifier is deprecated and will be removed in a future release. To remove this warning, do the following: 1) Pass option use_label_encoder=False when constructing XGBClassifier object; and 2) Encode your labels (y) as integers starting with 0, i.e. 0, 1, 2, ..., [num_class - 1].\n",
      "  warnings.warn(label_encoder_deprecation_msg, UserWarning)\n"
     ]
    }
   ],
   "source": [
    "exps2 = run_experiments(X_train, y_train, X_test, y_test)"
   ]
  },
  {
   "cell_type": "code",
   "execution_count": 130,
   "id": "7c907688-4bd3-4438-9043-cdae5131989a",
   "metadata": {},
   "outputs": [],
   "source": [
    "rf = RandomForestClassifier(random_state=42, class_weight='balanced')"
   ]
  },
  {
   "cell_type": "code",
   "execution_count": 131,
   "id": "c241521a-0978-4ab8-becf-deadccc368a4",
   "metadata": {},
   "outputs": [
    {
     "data": {
      "text/plain": [
       "RandomForestClassifier(class_weight='balanced', random_state=42)"
      ]
     },
     "execution_count": 131,
     "metadata": {},
     "output_type": "execute_result"
    }
   ],
   "source": [
    "rf.fit(X_train, y_train)"
   ]
  },
  {
   "cell_type": "code",
   "execution_count": 132,
   "id": "3f7ee825-92e9-4316-a170-ee9515c25566",
   "metadata": {},
   "outputs": [],
   "source": [
    "preds = rf.predict(X_test)"
   ]
  },
  {
   "cell_type": "code",
   "execution_count": 133,
   "id": "1413a066-1d1f-44cc-b2db-e9ac5c213663",
   "metadata": {},
   "outputs": [
    {
     "name": "stdout",
     "output_type": "stream",
     "text": [
      "Accuracy: 0.6748166259168704\n",
      "Precision: 0.5104477611940299\n",
      "Recall: 0.6263736263736264\n",
      "F1: 0.5625000000000001\n"
     ]
    }
   ],
   "source": [
    "print(\"Accuracy:\", accuracy_score(y_test, preds))\n",
    "print(\"Precision:\", precision_score(y_test, preds))\n",
    "print(\"Recall:\", recall_score(y_test, preds))\n",
    "print(\"F1:\", f1_score(y_test, preds))\n"
   ]
  },
  {
   "cell_type": "code",
   "execution_count": 134,
   "id": "4bdaa83d-2e74-4659-b65c-c02210e231d0",
   "metadata": {},
   "outputs": [
    {
     "data": {
      "text/plain": [
       "array([0.12729807, 0.2752991 , 0.3345753 , 0.26282754])"
      ]
     },
     "execution_count": 134,
     "metadata": {},
     "output_type": "execute_result"
    }
   ],
   "source": [
    "rf.feature_importances_"
   ]
  },
  {
   "cell_type": "code",
   "execution_count": 135,
   "id": "287ed94d-43c4-4f6c-ae38-92b808fac80f",
   "metadata": {},
   "outputs": [
    {
     "data": {
      "text/plain": [
       "age_at_dos                    0.334575\n",
       "svc_dprtmnt                   0.275299\n",
       "primary_clm_ins_pkg_name.1    0.262828\n",
       "race                          0.127298\n",
       "dtype: float64"
      ]
     },
     "execution_count": 135,
     "metadata": {},
     "output_type": "execute_result"
    }
   ],
   "source": [
    "important_features = pd.Series(data=rf.feature_importances_, index=X.columns)\n",
    "important_features.sort_values(ascending=False,inplace=True)\n",
    "important_features"
   ]
  },
  {
   "cell_type": "code",
   "execution_count": 140,
   "id": "7668ffdf-35f0-4a2d-918c-9adec98e3f35",
   "metadata": {},
   "outputs": [],
   "source": [
    "param_grid = {'n_estimators': [140, 150, 175, 300], 'criterion': ['gini', 'entropy']}"
   ]
  },
  {
   "cell_type": "code",
   "execution_count": 141,
   "id": "796fe498-0724-48f8-bc8a-a19ac5df06c8",
   "metadata": {},
   "outputs": [],
   "source": [
    "from sklearn.model_selection import GridSearchCV, StratifiedKFold"
   ]
  },
  {
   "cell_type": "code",
   "execution_count": 142,
   "id": "6ea62f64-00db-42d3-b79a-cb484a0c2297",
   "metadata": {},
   "outputs": [],
   "source": [
    "skf = StratifiedKFold()"
   ]
  },
  {
   "cell_type": "code",
   "execution_count": 143,
   "id": "9504fd97-f561-416a-a8d5-7706c1335db5",
   "metadata": {
    "scrolled": true,
    "tags": []
   },
   "outputs": [
    {
     "data": {
      "text/plain": [
       "GridSearchCV(cv=StratifiedKFold(n_splits=5, random_state=None, shuffle=False),\n",
       "             estimator=RandomForestClassifier(class_weight='balanced',\n",
       "                                              random_state=42),\n",
       "             param_grid={'criterion': ['gini', 'entropy'],\n",
       "                         'n_estimators': [140, 150, 175]})"
      ]
     },
     "execution_count": 143,
     "metadata": {},
     "output_type": "execute_result"
    }
   ],
   "source": [
    "grid_rf = GridSearchCV(rf, param_grid, cv=skf)\n",
    "grid_rf.fit(X_train, y_train)"
   ]
  },
  {
   "cell_type": "code",
   "execution_count": 144,
   "id": "1f2946a9-efbe-4840-b8a8-af8f56b25a57",
   "metadata": {},
   "outputs": [
    {
     "data": {
      "text/plain": [
       "RandomForestClassifier(class_weight='balanced', criterion='entropy',\n",
       "                       n_estimators=175, random_state=42)"
      ]
     },
     "execution_count": 144,
     "metadata": {},
     "output_type": "execute_result"
    }
   ],
   "source": [
    "grid_rf.best_estimator_"
   ]
  },
  {
   "cell_type": "code",
   "execution_count": 145,
   "id": "a39d7209-d725-477b-81b0-fe286dfc9af1",
   "metadata": {},
   "outputs": [],
   "source": [
    "rf_hyp = RandomForestClassifier(class_weight='balanced', criterion='entropy',\n",
    "                       n_estimators=175, random_state=42)"
   ]
  },
  {
   "cell_type": "code",
   "execution_count": 146,
   "id": "8610cb75-1c99-4190-9d4e-acad5825b6ef",
   "metadata": {},
   "outputs": [
    {
     "data": {
      "text/plain": [
       "RandomForestClassifier(class_weight='balanced', criterion='entropy',\n",
       "                       n_estimators=175, random_state=42)"
      ]
     },
     "execution_count": 146,
     "metadata": {},
     "output_type": "execute_result"
    }
   ],
   "source": [
    "rf_hyp.fit(X_train, y_train)"
   ]
  },
  {
   "cell_type": "code",
   "execution_count": 148,
   "id": "46a8f571-9a31-4e6c-a741-3622363c269f",
   "metadata": {},
   "outputs": [],
   "source": [
    "preds = rf_hyp.predict(X_test)"
   ]
  },
  {
   "cell_type": "code",
   "execution_count": 149,
   "id": "dbe79a86-39c7-4aa4-bec3-8bcc1355b420",
   "metadata": {},
   "outputs": [
    {
     "name": "stdout",
     "output_type": "stream",
     "text": [
      "Accuracy: 0.6748166259168704\n",
      "Precision: 0.5104477611940299\n",
      "Recall: 0.6263736263736264\n",
      "F1: 0.5625000000000001\n"
     ]
    }
   ],
   "source": [
    "print(\"Accuracy:\", accuracy_score(y_test, preds))\n",
    "print(\"Precision:\", precision_score(y_test, preds))\n",
    "print(\"Recall:\", recall_score(y_test, preds))\n",
    "print(\"F1:\", f1_score(y_test, preds))\n"
   ]
  },
  {
   "cell_type": "code",
   "execution_count": 152,
   "id": "8450984b-0c39-4b80-b0e3-d4cb8f58b2a8",
   "metadata": {},
   "outputs": [
    {
     "data": {
      "text/plain": [
       "array([[381, 164],\n",
       "       [102, 171]])"
      ]
     },
     "execution_count": 152,
     "metadata": {},
     "output_type": "execute_result"
    }
   ],
   "source": [
    "cf = confusion_matrix(y_test, preds)\n",
    "cf"
   ]
  },
  {
   "cell_type": "code",
   "execution_count": 153,
   "id": "884b9161-2cf6-45a6-873c-d665f864e02e",
   "metadata": {},
   "outputs": [],
   "source": [
    "thresholds = np.linspace(0, 1, 100)\n",
    "thresholds = thresholds.round(2)\n",
    "accuracy = []\n",
    "recall = []\n",
    "precision = []\n",
    "f1 = []\n",
    "df = pd.DataFrame(index=thresholds)\n",
    "for thresh in thresholds: \n",
    "    pred_prob = rf.predict_proba(X_test)\n",
    "    predicted = (pred_prob[:, 1] >= thresh).astype('int')\n",
    "    acc = accuracy_score(y_test, predicted)\n",
    "    rec = recall_score(y_test, predicted)\n",
    "    prec = precision_score(y_test, predicted)\n",
    "    f1sc = f1_score(y_test, predicted)\n",
    "    accuracy.append(acc)\n",
    "    recall.append(rec)\n",
    "    precision.append(prec)\n",
    "    f1.append(f1sc)\n",
    "\n",
    "df['accuracy'] = accuracy\n",
    "df['recall'] = recall\n",
    "df['precision'] = precision\n",
    "df['f1'] = f1"
   ]
  },
  {
   "cell_type": "code",
   "execution_count": 154,
   "id": "54fd272c-4190-4884-bf7b-3d41b75bdd40",
   "metadata": {},
   "outputs": [
    {
     "data": {
      "text/plain": [
       "Text(0.5, 0, 'Classification Thresholds')"
      ]
     },
     "execution_count": 154,
     "metadata": {},
     "output_type": "execute_result"
    },
    {
     "data": {
      "image/png": "[encoded data removed]",
      "text/plain": [
       "<Figure size 1080x432 with 1 Axes>"
      ]
     },
     "metadata": {
      "needs_background": "light"
     },
     "output_type": "display_data"
    }
   ],
   "source": [
    "fig, ax = plt.subplots(figsize=(15, 6))\n",
    "sns.set_style('whitegrid')\n",
    "\n",
    "sns.lineplot(x=thresholds, y=precision, ax=ax, color=colors[0], label='Precision', linewidth=4)\n",
    "sns.lineplot(x=thresholds, y=recall, ax=ax, color=colors[1], label='Recall', linewidth=4)\n",
    "sns.lineplot(x=thresholds, y=accuracy, ax=ax, color=colors[2], label='Accuracy', alpha=0.5)\n",
    "sns.lineplot(x=thresholds, y=f1, ax=ax, color=colors[3], label='F1 Score', alpha=0.5)\n",
    "ax.set_title('Model Evaluation Scores for Classification Thresholds', fontsize=16)\n",
    "ax.legend(fontsize=14)\n",
    "ax.set_ylabel('Score')\n",
    "ax.set_xlabel('Classification Thresholds')"
   ]
  },
  {
   "cell_type": "code",
   "execution_count": null,
   "id": "461f74a9-a168-4a9d-a589-db7d9fb3f348",
   "metadata": {},
   "outputs": [],
   "source": []
  }
 ],
 "metadata": {
  "kernelspec": {
   "display_name": "Python 3",
   "language": "python",
   "name": "python3"
  },
  "language_info": {
   "codemirror_mode": {
    "name": "ipython",
    "version": 3
   },
   "file_extension": ".py",
   "mimetype": "text/x-python",
   "name": "python",
   "nbconvert_exporter": "python",
   "pygments_lexer": "ipython3",
   "version": "3.7.7"
  }
 },
 "nbformat": 4,
 "nbformat_minor": 5
}
