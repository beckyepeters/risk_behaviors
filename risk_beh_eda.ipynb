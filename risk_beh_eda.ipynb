{
 "cells": [
  {
   "cell_type": "markdown",
   "id": "6c635d5b-dd8e-4c0b-b649-bce9d8b2861f",
   "metadata": {
    "tags": []
   },
   "source": [
    "### Predicting Youth Risk Behaviors: Modeling the YRBSS"
   ]
  },
  {
   "cell_type": "code",
   "execution_count": 84,
   "id": "d73c1a8b-0fcf-44c0-b17e-2a809acfbd1b",
   "metadata": {},
   "outputs": [],
   "source": [
    "import pandas as pd\n",
    "import numpy as np\n",
    "import seaborn as sns\n",
    "import matplotlib.pyplot as plt\n",
    "plt.style.use('ggplot')\n",
    "%matplotlib inline\n",
    "import seaborn as sns\n",
    "sns.set_style('whitegrid')\n",
    "%config InlineBackend.figure_format ='retina'\n"
   ]
  },
  {
   "cell_type": "code",
   "execution_count": 28,
   "id": "8f874e41-937d-422d-ade8-d3f2da10181c",
   "metadata": {},
   "outputs": [],
   "source": [
    "df = pd.read_csv('data/SADCQ.csv')"
   ]
  },
  {
   "cell_type": "code",
   "execution_count": 77,
   "id": "d0968198-6b52-4e53-8040-949aa668aebe",
   "metadata": {},
   "outputs": [],
   "source": [
    "from IPython.core.interactiveshell import InteractiveShell\n",
    "InteractiveShell.ast_node_interactivity = \"all\""
   ]
  },
  {
   "cell_type": "code",
   "execution_count": 78,
   "id": "7b070f43-892d-4223-b67c-e879558547dd",
   "metadata": {},
   "outputs": [
    {
     "name": "stdout",
     "output_type": "stream",
     "text": [
      "<class 'pandas.core.frame.DataFrame'>\n",
      "RangeIndex: 504249 entries, 0 to 504248\n",
      "Columns: 151 entries, sitecode to qtransgender\n",
      "dtypes: float64(142), int64(6), object(3)\n",
      "memory usage: 580.9+ MB\n"
     ]
    }
   ],
   "source": [
    "df.info()"
   ]
  },
  {
   "cell_type": "code",
   "execution_count": 79,
   "id": "a0e56b0d-fa59-4f16-8607-f1fb68fbb512",
   "metadata": {},
   "outputs": [
    {
     "data": {
      "text/plain": [
       "['sitecode',\n",
       " 'sitename',\n",
       " 'sitetype',\n",
       " 'sitetypenum',\n",
       " 'year',\n",
       " 'survyear',\n",
       " 'weight',\n",
       " 'stratum',\n",
       " 'PSU',\n",
       " 'record',\n",
       " 'age',\n",
       " 'sex',\n",
       " 'grade',\n",
       " 'race4',\n",
       " 'race7',\n",
       " 'stheight',\n",
       " 'stweight',\n",
       " 'bmi',\n",
       " 'bmipct',\n",
       " 'qnobese',\n",
       " 'qnowt',\n",
       " 'q66',\n",
       " 'q65',\n",
       " 'sexid',\n",
       " 'sexid2',\n",
       " 'sexpart',\n",
       " 'sexpart2',\n",
       " 'q8',\n",
       " 'q9',\n",
       " 'q10',\n",
       " 'q11',\n",
       " 'q12',\n",
       " 'q13',\n",
       " 'q14',\n",
       " 'q15',\n",
       " 'q16',\n",
       " 'q17',\n",
       " 'q18',\n",
       " 'q19',\n",
       " 'q20',\n",
       " 'q21',\n",
       " 'q22',\n",
       " 'q23',\n",
       " 'q24',\n",
       " 'q25',\n",
       " 'q26',\n",
       " 'q27',\n",
       " 'q28',\n",
       " 'q29',\n",
       " 'q30',\n",
       " 'q31',\n",
       " 'q32',\n",
       " 'q33',\n",
       " 'q34',\n",
       " 'q35',\n",
       " 'q36',\n",
       " 'q37',\n",
       " 'q38',\n",
       " 'q39',\n",
       " 'q40',\n",
       " 'q41',\n",
       " 'q42',\n",
       " 'q43',\n",
       " 'q44',\n",
       " 'q45',\n",
       " 'q46',\n",
       " 'q47',\n",
       " 'q48',\n",
       " 'q49',\n",
       " 'q50',\n",
       " 'q51',\n",
       " 'q52',\n",
       " 'q53',\n",
       " 'q54',\n",
       " 'q55',\n",
       " 'q56',\n",
       " 'q57',\n",
       " 'q58',\n",
       " 'q59',\n",
       " 'q60',\n",
       " 'q61',\n",
       " 'q62',\n",
       " 'q63',\n",
       " 'q64',\n",
       " 'q67',\n",
       " 'q68',\n",
       " 'q69',\n",
       " 'q70',\n",
       " 'q71',\n",
       " 'q72',\n",
       " 'q73',\n",
       " 'q74',\n",
       " 'q75',\n",
       " 'q76',\n",
       " 'q77',\n",
       " 'q78',\n",
       " 'q79',\n",
       " 'q80',\n",
       " 'q81',\n",
       " 'q82',\n",
       " 'q83',\n",
       " 'q84',\n",
       " 'q85',\n",
       " 'q86',\n",
       " 'q87',\n",
       " 'q88',\n",
       " 'q89',\n",
       " 'qbikehelmet',\n",
       " 'qdrivemarijuana',\n",
       " 'qcelldriving',\n",
       " 'qpropertydamage',\n",
       " 'qbullyweight',\n",
       " 'qbullygender',\n",
       " 'qbullygay',\n",
       " 'qchokeself',\n",
       " 'qcigschool',\n",
       " 'qchewtobschool',\n",
       " 'qalcoholschool',\n",
       " 'qtypealcohol2',\n",
       " 'qhowmarijuana',\n",
       " 'qmarijuanaschool',\n",
       " 'qcurrentopioid',\n",
       " 'qcurrentcocaine',\n",
       " 'qcurrentheroin',\n",
       " 'qcurrentmeth',\n",
       " 'qhallucdrug',\n",
       " 'qprescription30d',\n",
       " 'qgenderexp',\n",
       " 'qtaughtHIV',\n",
       " 'qtaughtsexed',\n",
       " 'qtaughtstd',\n",
       " 'qtaughtcondom',\n",
       " 'qtaughtbc',\n",
       " 'qdietpop',\n",
       " 'qcoffeetea',\n",
       " 'qsportsdrink',\n",
       " 'qenergydrink',\n",
       " 'qsugardrink',\n",
       " 'qwater',\n",
       " 'qfastfood',\n",
       " 'qfoodallergy',\n",
       " 'qwenthungry',\n",
       " 'qmusclestrength',\n",
       " 'qsunscreenuse',\n",
       " 'qindoortanning',\n",
       " 'qsunburn',\n",
       " 'qconcentrating',\n",
       " 'qcurrentasthma',\n",
       " 'qwheresleep',\n",
       " 'qspeakenglish',\n",
       " 'qtransgender']"
      ]
     },
     "execution_count": 79,
     "metadata": {},
     "output_type": "execute_result"
    }
   ],
   "source": [
    "cols = df.columns.tolist()\n",
    "cols"
   ]
  },
  {
   "cell_type": "code",
   "execution_count": 101,
   "id": "8d15b9dc-61d4-499b-925a-8d38eac1023e",
   "metadata": {},
   "outputs": [
    {
     "data": {
      "text/plain": [
       "2.0    0.604967\n",
       "1.0    0.395033\n",
       "Name: q30, dtype: float64"
      ]
     },
     "execution_count": 101,
     "metadata": {},
     "output_type": "execute_result"
    }
   ],
   "source": [
    "df.q30.value_counts(normalize=True)"
   ]
  },
  {
   "cell_type": "code",
   "execution_count": 88,
   "id": "2ee16403-1c65-4e0d-81f7-4c67266c8a7e",
   "metadata": {},
   "outputs": [
    {
     "data": {
      "text/plain": [
       "1.0    437037\n",
       "2.0     22260\n",
       "3.0     12180\n",
       "5.0      7349\n",
       "4.0      3631\n",
       "Name: q15, dtype: int64"
      ]
     },
     "execution_count": 88,
     "metadata": {},
     "output_type": "execute_result"
    }
   ],
   "source": [
    "df.q15.value_counts()"
   ]
  },
  {
   "cell_type": "code",
   "execution_count": 99,
   "id": "e6be2b35-d6f4-4130-8cca-2d036d411cfa",
   "metadata": {},
   "outputs": [
    {
     "data": {
      "text/plain": [
       "4.0    0.179981\n",
       "1.0    0.174771\n",
       "2.0    0.151592\n",
       "5.0    0.147011\n",
       "7.0    0.137337\n",
       "3.0    0.122074\n",
       "6.0    0.087234\n",
       "Name: q79, dtype: float64"
      ]
     },
     "execution_count": 99,
     "metadata": {},
     "output_type": "execute_result"
    }
   ],
   "source": [
    "df.q79.value_counts(normalize=True)"
   ]
  },
  {
   "cell_type": "code",
   "execution_count": 81,
   "id": "17b4685a-7b2d-4b84-a030-b8284a4fea09",
   "metadata": {},
   "outputs": [],
   "source": [
    "df_by_year = df.groupby(by='year')"
   ]
  },
  {
   "cell_type": "code",
   "execution_count": 82,
   "id": "f6f92a16-d096-448a-a1f4-73473a4b2617",
   "metadata": {},
   "outputs": [
    {
     "data": {
      "text/html": [
       "<div>\n",
       "<style scoped>\n",
       "    .dataframe tbody tr th:only-of-type {\n",
       "        vertical-align: middle;\n",
       "    }\n",
       "\n",
       "    .dataframe tbody tr th {\n",
       "        vertical-align: top;\n",
       "    }\n",
       "\n",
       "    .dataframe thead th {\n",
       "        text-align: right;\n",
       "    }\n",
       "</style>\n",
       "<table border=\"1\" class=\"dataframe\">\n",
       "  <thead>\n",
       "    <tr style=\"text-align: right;\">\n",
       "      <th>year</th>\n",
       "      <th>1991</th>\n",
       "      <th>1993</th>\n",
       "      <th>1995</th>\n",
       "      <th>1997</th>\n",
       "      <th>1999</th>\n",
       "      <th>2001</th>\n",
       "      <th>2003</th>\n",
       "      <th>2005</th>\n",
       "      <th>2007</th>\n",
       "      <th>2009</th>\n",
       "      <th>2011</th>\n",
       "      <th>2013</th>\n",
       "      <th>2015</th>\n",
       "      <th>2017</th>\n",
       "      <th>2019</th>\n",
       "    </tr>\n",
       "  </thead>\n",
       "  <tbody>\n",
       "    <tr>\n",
       "      <th>PSU</th>\n",
       "      <td>10404</td>\n",
       "      <td>12650</td>\n",
       "      <td>16207</td>\n",
       "      <td>18192</td>\n",
       "      <td>15990</td>\n",
       "      <td>18052</td>\n",
       "      <td>35692</td>\n",
       "      <td>39859</td>\n",
       "      <td>41173</td>\n",
       "      <td>50964</td>\n",
       "      <td>51038</td>\n",
       "      <td>43482</td>\n",
       "      <td>43286</td>\n",
       "      <td>50490</td>\n",
       "      <td>56770</td>\n",
       "    </tr>\n",
       "    <tr>\n",
       "      <th>age</th>\n",
       "      <td>10404</td>\n",
       "      <td>12650</td>\n",
       "      <td>16207</td>\n",
       "      <td>18192</td>\n",
       "      <td>15990</td>\n",
       "      <td>18052</td>\n",
       "      <td>35692</td>\n",
       "      <td>39859</td>\n",
       "      <td>41173</td>\n",
       "      <td>50964</td>\n",
       "      <td>51038</td>\n",
       "      <td>43482</td>\n",
       "      <td>43286</td>\n",
       "      <td>50490</td>\n",
       "      <td>56770</td>\n",
       "    </tr>\n",
       "    <tr>\n",
       "      <th>bmi</th>\n",
       "      <td>10404</td>\n",
       "      <td>12650</td>\n",
       "      <td>16207</td>\n",
       "      <td>18192</td>\n",
       "      <td>15990</td>\n",
       "      <td>18052</td>\n",
       "      <td>35692</td>\n",
       "      <td>39859</td>\n",
       "      <td>41173</td>\n",
       "      <td>50964</td>\n",
       "      <td>51038</td>\n",
       "      <td>43482</td>\n",
       "      <td>43286</td>\n",
       "      <td>50490</td>\n",
       "      <td>56770</td>\n",
       "    </tr>\n",
       "    <tr>\n",
       "      <th>bmipct</th>\n",
       "      <td>10404</td>\n",
       "      <td>12650</td>\n",
       "      <td>16207</td>\n",
       "      <td>18192</td>\n",
       "      <td>15990</td>\n",
       "      <td>18052</td>\n",
       "      <td>35692</td>\n",
       "      <td>39859</td>\n",
       "      <td>41173</td>\n",
       "      <td>50964</td>\n",
       "      <td>51038</td>\n",
       "      <td>43482</td>\n",
       "      <td>43286</td>\n",
       "      <td>50490</td>\n",
       "      <td>56770</td>\n",
       "    </tr>\n",
       "    <tr>\n",
       "      <th>grade</th>\n",
       "      <td>10404</td>\n",
       "      <td>12650</td>\n",
       "      <td>16207</td>\n",
       "      <td>18192</td>\n",
       "      <td>15990</td>\n",
       "      <td>18052</td>\n",
       "      <td>35692</td>\n",
       "      <td>39859</td>\n",
       "      <td>41173</td>\n",
       "      <td>50964</td>\n",
       "      <td>51038</td>\n",
       "      <td>43482</td>\n",
       "      <td>43286</td>\n",
       "      <td>50490</td>\n",
       "      <td>56770</td>\n",
       "    </tr>\n",
       "    <tr>\n",
       "      <th>...</th>\n",
       "      <td>...</td>\n",
       "      <td>...</td>\n",
       "      <td>...</td>\n",
       "      <td>...</td>\n",
       "      <td>...</td>\n",
       "      <td>...</td>\n",
       "      <td>...</td>\n",
       "      <td>...</td>\n",
       "      <td>...</td>\n",
       "      <td>...</td>\n",
       "      <td>...</td>\n",
       "      <td>...</td>\n",
       "      <td>...</td>\n",
       "      <td>...</td>\n",
       "      <td>...</td>\n",
       "    </tr>\n",
       "    <tr>\n",
       "      <th>stheight</th>\n",
       "      <td>10404</td>\n",
       "      <td>12650</td>\n",
       "      <td>16207</td>\n",
       "      <td>18192</td>\n",
       "      <td>15990</td>\n",
       "      <td>18052</td>\n",
       "      <td>35692</td>\n",
       "      <td>39859</td>\n",
       "      <td>41173</td>\n",
       "      <td>50964</td>\n",
       "      <td>51038</td>\n",
       "      <td>43482</td>\n",
       "      <td>43286</td>\n",
       "      <td>50490</td>\n",
       "      <td>56770</td>\n",
       "    </tr>\n",
       "    <tr>\n",
       "      <th>stratum</th>\n",
       "      <td>10404</td>\n",
       "      <td>12650</td>\n",
       "      <td>16207</td>\n",
       "      <td>18192</td>\n",
       "      <td>15990</td>\n",
       "      <td>18052</td>\n",
       "      <td>35692</td>\n",
       "      <td>39859</td>\n",
       "      <td>41173</td>\n",
       "      <td>50964</td>\n",
       "      <td>51038</td>\n",
       "      <td>43482</td>\n",
       "      <td>43286</td>\n",
       "      <td>50490</td>\n",
       "      <td>56770</td>\n",
       "    </tr>\n",
       "    <tr>\n",
       "      <th>stweight</th>\n",
       "      <td>10404</td>\n",
       "      <td>12650</td>\n",
       "      <td>16207</td>\n",
       "      <td>18192</td>\n",
       "      <td>15990</td>\n",
       "      <td>18052</td>\n",
       "      <td>35692</td>\n",
       "      <td>39859</td>\n",
       "      <td>41173</td>\n",
       "      <td>50964</td>\n",
       "      <td>51038</td>\n",
       "      <td>43482</td>\n",
       "      <td>43286</td>\n",
       "      <td>50490</td>\n",
       "      <td>56770</td>\n",
       "    </tr>\n",
       "    <tr>\n",
       "      <th>survyear</th>\n",
       "      <td>10404</td>\n",
       "      <td>12650</td>\n",
       "      <td>16207</td>\n",
       "      <td>18192</td>\n",
       "      <td>15990</td>\n",
       "      <td>18052</td>\n",
       "      <td>35692</td>\n",
       "      <td>39859</td>\n",
       "      <td>41173</td>\n",
       "      <td>50964</td>\n",
       "      <td>51038</td>\n",
       "      <td>43482</td>\n",
       "      <td>43286</td>\n",
       "      <td>50490</td>\n",
       "      <td>56770</td>\n",
       "    </tr>\n",
       "    <tr>\n",
       "      <th>weight</th>\n",
       "      <td>10404</td>\n",
       "      <td>12650</td>\n",
       "      <td>16207</td>\n",
       "      <td>18192</td>\n",
       "      <td>15990</td>\n",
       "      <td>18052</td>\n",
       "      <td>35692</td>\n",
       "      <td>39859</td>\n",
       "      <td>41173</td>\n",
       "      <td>50964</td>\n",
       "      <td>51038</td>\n",
       "      <td>43482</td>\n",
       "      <td>43286</td>\n",
       "      <td>50490</td>\n",
       "      <td>56770</td>\n",
       "    </tr>\n",
       "  </tbody>\n",
       "</table>\n",
       "<p>150 rows × 15 columns</p>\n",
       "</div>"
      ],
      "text/plain": [
       "year       1991   1993   1995   1997   1999   2001   2003   2005   2007  \\\n",
       "PSU       10404  12650  16207  18192  15990  18052  35692  39859  41173   \n",
       "age       10404  12650  16207  18192  15990  18052  35692  39859  41173   \n",
       "bmi       10404  12650  16207  18192  15990  18052  35692  39859  41173   \n",
       "bmipct    10404  12650  16207  18192  15990  18052  35692  39859  41173   \n",
       "grade     10404  12650  16207  18192  15990  18052  35692  39859  41173   \n",
       "...         ...    ...    ...    ...    ...    ...    ...    ...    ...   \n",
       "stheight  10404  12650  16207  18192  15990  18052  35692  39859  41173   \n",
       "stratum   10404  12650  16207  18192  15990  18052  35692  39859  41173   \n",
       "stweight  10404  12650  16207  18192  15990  18052  35692  39859  41173   \n",
       "survyear  10404  12650  16207  18192  15990  18052  35692  39859  41173   \n",
       "weight    10404  12650  16207  18192  15990  18052  35692  39859  41173   \n",
       "\n",
       "year       2009   2011   2013   2015   2017   2019  \n",
       "PSU       50964  51038  43482  43286  50490  56770  \n",
       "age       50964  51038  43482  43286  50490  56770  \n",
       "bmi       50964  51038  43482  43286  50490  56770  \n",
       "bmipct    50964  51038  43482  43286  50490  56770  \n",
       "grade     50964  51038  43482  43286  50490  56770  \n",
       "...         ...    ...    ...    ...    ...    ...  \n",
       "stheight  50964  51038  43482  43286  50490  56770  \n",
       "stratum   50964  51038  43482  43286  50490  56770  \n",
       "stweight  50964  51038  43482  43286  50490  56770  \n",
       "survyear  50964  51038  43482  43286  50490  56770  \n",
       "weight    50964  51038  43482  43286  50490  56770  \n",
       "\n",
       "[150 rows x 15 columns]"
      ]
     },
     "execution_count": 82,
     "metadata": {},
     "output_type": "execute_result"
    }
   ],
   "source": [
    "df.pivot_table(columns='year', aggfunc=len, fill_value=0)"
   ]
  },
  {
   "cell_type": "code",
   "execution_count": 43,
   "id": "e60d7451-cb96-4001-b6be-92b7fbe4336c",
   "metadata": {},
   "outputs": [
    {
     "data": {
      "text/plain": [
       "array([ 1.,  4.,  5.,  6.,  7., nan,  2.,  3.])"
      ]
     },
     "execution_count": 43,
     "metadata": {},
     "output_type": "execute_result"
    }
   ],
   "source": [
    "df.age.unique()"
   ]
  },
  {
   "cell_type": "code",
   "execution_count": 44,
   "id": "3834c410-7d86-41f9-8b23-9341ff921519",
   "metadata": {},
   "outputs": [],
   "source": [
    "age_dict = {1: '12 yo or younger', 2: '13 yo', 3: '14 yo', \n",
    "           4: '15 yo', 5: '16 yo', 6: '17 yo', 7: '18 yo'}"
   ]
  },
  {
   "cell_type": "code",
   "execution_count": 83,
   "id": "77997653-dfac-4456-9890-fadcae30edb7",
   "metadata": {},
   "outputs": [
    {
     "data": {
      "text/html": [
       "<div>\n",
       "<style scoped>\n",
       "    .dataframe tbody tr th:only-of-type {\n",
       "        vertical-align: middle;\n",
       "    }\n",
       "\n",
       "    .dataframe tbody tr th {\n",
       "        vertical-align: top;\n",
       "    }\n",
       "\n",
       "    .dataframe thead th {\n",
       "        text-align: right;\n",
       "    }\n",
       "</style>\n",
       "<table border=\"1\" class=\"dataframe\">\n",
       "  <thead>\n",
       "    <tr style=\"text-align: right;\">\n",
       "      <th></th>\n",
       "      <th>sitecode</th>\n",
       "      <th>sitename</th>\n",
       "      <th>sitetype</th>\n",
       "      <th>sitetypenum</th>\n",
       "      <th>year</th>\n",
       "      <th>survyear</th>\n",
       "      <th>weight</th>\n",
       "      <th>stratum</th>\n",
       "      <th>PSU</th>\n",
       "      <th>record</th>\n",
       "      <th>...</th>\n",
       "      <th>qwenthungry</th>\n",
       "      <th>qmusclestrength</th>\n",
       "      <th>qsunscreenuse</th>\n",
       "      <th>qindoortanning</th>\n",
       "      <th>qsunburn</th>\n",
       "      <th>qconcentrating</th>\n",
       "      <th>qcurrentasthma</th>\n",
       "      <th>qwheresleep</th>\n",
       "      <th>qspeakenglish</th>\n",
       "      <th>qtransgender</th>\n",
       "    </tr>\n",
       "  </thead>\n",
       "  <tbody>\n",
       "    <tr>\n",
       "      <th>0</th>\n",
       "      <td>CH</td>\n",
       "      <td>Chicago, IL (CH)</td>\n",
       "      <td>District</td>\n",
       "      <td>1</td>\n",
       "      <td>1991</td>\n",
       "      <td>1</td>\n",
       "      <td>76.736100</td>\n",
       "      <td>1</td>\n",
       "      <td>14</td>\n",
       "      <td>3972</td>\n",
       "      <td>...</td>\n",
       "      <td>NaN</td>\n",
       "      <td>2.0</td>\n",
       "      <td>NaN</td>\n",
       "      <td>NaN</td>\n",
       "      <td>NaN</td>\n",
       "      <td>NaN</td>\n",
       "      <td>NaN</td>\n",
       "      <td>NaN</td>\n",
       "      <td>NaN</td>\n",
       "      <td>NaN</td>\n",
       "    </tr>\n",
       "    <tr>\n",
       "      <th>1</th>\n",
       "      <td>CH</td>\n",
       "      <td>Chicago, IL (CH)</td>\n",
       "      <td>District</td>\n",
       "      <td>1</td>\n",
       "      <td>1991</td>\n",
       "      <td>1</td>\n",
       "      <td>58.487169</td>\n",
       "      <td>1</td>\n",
       "      <td>39</td>\n",
       "      <td>7364</td>\n",
       "      <td>...</td>\n",
       "      <td>NaN</td>\n",
       "      <td>1.0</td>\n",
       "      <td>NaN</td>\n",
       "      <td>NaN</td>\n",
       "      <td>NaN</td>\n",
       "      <td>NaN</td>\n",
       "      <td>NaN</td>\n",
       "      <td>NaN</td>\n",
       "      <td>NaN</td>\n",
       "      <td>NaN</td>\n",
       "    </tr>\n",
       "    <tr>\n",
       "      <th>2</th>\n",
       "      <td>CH</td>\n",
       "      <td>Chicago, IL (CH)</td>\n",
       "      <td>District</td>\n",
       "      <td>1</td>\n",
       "      <td>1991</td>\n",
       "      <td>1</td>\n",
       "      <td>40.119000</td>\n",
       "      <td>1</td>\n",
       "      <td>29</td>\n",
       "      <td>7365</td>\n",
       "      <td>...</td>\n",
       "      <td>NaN</td>\n",
       "      <td>8.0</td>\n",
       "      <td>NaN</td>\n",
       "      <td>NaN</td>\n",
       "      <td>NaN</td>\n",
       "      <td>NaN</td>\n",
       "      <td>NaN</td>\n",
       "      <td>NaN</td>\n",
       "      <td>NaN</td>\n",
       "      <td>NaN</td>\n",
       "    </tr>\n",
       "    <tr>\n",
       "      <th>3</th>\n",
       "      <td>CH</td>\n",
       "      <td>Chicago, IL (CH)</td>\n",
       "      <td>District</td>\n",
       "      <td>1</td>\n",
       "      <td>1991</td>\n",
       "      <td>1</td>\n",
       "      <td>72.243300</td>\n",
       "      <td>1</td>\n",
       "      <td>28</td>\n",
       "      <td>7366</td>\n",
       "      <td>...</td>\n",
       "      <td>NaN</td>\n",
       "      <td>8.0</td>\n",
       "      <td>NaN</td>\n",
       "      <td>NaN</td>\n",
       "      <td>NaN</td>\n",
       "      <td>NaN</td>\n",
       "      <td>NaN</td>\n",
       "      <td>NaN</td>\n",
       "      <td>NaN</td>\n",
       "      <td>NaN</td>\n",
       "    </tr>\n",
       "    <tr>\n",
       "      <th>4</th>\n",
       "      <td>CH</td>\n",
       "      <td>Chicago, IL (CH)</td>\n",
       "      <td>District</td>\n",
       "      <td>1</td>\n",
       "      <td>1991</td>\n",
       "      <td>1</td>\n",
       "      <td>73.372100</td>\n",
       "      <td>1</td>\n",
       "      <td>4</td>\n",
       "      <td>9648</td>\n",
       "      <td>...</td>\n",
       "      <td>NaN</td>\n",
       "      <td>2.0</td>\n",
       "      <td>NaN</td>\n",
       "      <td>NaN</td>\n",
       "      <td>NaN</td>\n",
       "      <td>NaN</td>\n",
       "      <td>NaN</td>\n",
       "      <td>NaN</td>\n",
       "      <td>NaN</td>\n",
       "      <td>NaN</td>\n",
       "    </tr>\n",
       "  </tbody>\n",
       "</table>\n",
       "<p>5 rows × 151 columns</p>\n",
       "</div>"
      ],
      "text/plain": [
       "  sitecode          sitename  sitetype  sitetypenum  year  survyear  \\\n",
       "0       CH  Chicago, IL (CH)  District            1  1991         1   \n",
       "1       CH  Chicago, IL (CH)  District            1  1991         1   \n",
       "2       CH  Chicago, IL (CH)  District            1  1991         1   \n",
       "3       CH  Chicago, IL (CH)  District            1  1991         1   \n",
       "4       CH  Chicago, IL (CH)  District            1  1991         1   \n",
       "\n",
       "      weight  stratum  PSU  record  ...  qwenthungry  qmusclestrength  \\\n",
       "0  76.736100        1   14    3972  ...          NaN              2.0   \n",
       "1  58.487169        1   39    7364  ...          NaN              1.0   \n",
       "2  40.119000        1   29    7365  ...          NaN              8.0   \n",
       "3  72.243300        1   28    7366  ...          NaN              8.0   \n",
       "4  73.372100        1    4    9648  ...          NaN              2.0   \n",
       "\n",
       "   qsunscreenuse  qindoortanning  qsunburn  qconcentrating  qcurrentasthma  \\\n",
       "0            NaN             NaN       NaN             NaN             NaN   \n",
       "1            NaN             NaN       NaN             NaN             NaN   \n",
       "2            NaN             NaN       NaN             NaN             NaN   \n",
       "3            NaN             NaN       NaN             NaN             NaN   \n",
       "4            NaN             NaN       NaN             NaN             NaN   \n",
       "\n",
       "   qwheresleep  qspeakenglish  qtransgender  \n",
       "0          NaN            NaN           NaN  \n",
       "1          NaN            NaN           NaN  \n",
       "2          NaN            NaN           NaN  \n",
       "3          NaN            NaN           NaN  \n",
       "4          NaN            NaN           NaN  \n",
       "\n",
       "[5 rows x 151 columns]"
      ]
     },
     "execution_count": 83,
     "metadata": {},
     "output_type": "execute_result"
    }
   ],
   "source": [
    "df.head()"
   ]
  },
  {
   "cell_type": "code",
   "execution_count": 45,
   "id": "6654ec68-564a-4b98-9f7b-07e80c802ff9",
   "metadata": {},
   "outputs": [
    {
     "data": {
      "text/plain": [
       "array([nan,  2.,  1.])"
      ]
     },
     "execution_count": 45,
     "metadata": {},
     "output_type": "execute_result"
    }
   ],
   "source": [
    "df.sex.unique()"
   ]
  },
  {
   "cell_type": "code",
   "execution_count": 46,
   "id": "5c29caa7-8d72-4f9b-a4ba-a293a35e7e08",
   "metadata": {},
   "outputs": [],
   "source": [
    "sex_dict = {1: 'Female', 2: 'Male'}"
   ]
  },
  {
   "cell_type": "code",
   "execution_count": 47,
   "id": "e3649f43-ff31-4b1d-831a-81aacd6f513c",
   "metadata": {},
   "outputs": [
    {
     "data": {
      "text/plain": [
       "array([ 1.,  2.,  3., nan,  4.])"
      ]
     },
     "execution_count": 47,
     "metadata": {},
     "output_type": "execute_result"
    }
   ],
   "source": [
    "df.grade.unique()"
   ]
  },
  {
   "cell_type": "code",
   "execution_count": 69,
   "id": "e46e61b0-57dd-4acd-bf9a-07990169b2b8",
   "metadata": {},
   "outputs": [],
   "source": [
    "grade_dict = {1: '9th Grade', 2: '10th Grade', 3: '11th Grade', \n",
    "             4: '12th Grade'}"
   ]
  },
  {
   "cell_type": "code",
   "execution_count": 49,
   "id": "a2759c40-40ee-4d5a-8eb9-46597c452828",
   "metadata": {},
   "outputs": [
    {
     "data": {
      "text/plain": [
       "array([ 1.,  2.,  3.,  4., nan])"
      ]
     },
     "execution_count": 49,
     "metadata": {},
     "output_type": "execute_result"
    }
   ],
   "source": [
    "df.race4.unique()"
   ]
  },
  {
   "cell_type": "code",
   "execution_count": 50,
   "id": "ba6fd2cb-a76a-4c9e-a390-3e33883d71cc",
   "metadata": {},
   "outputs": [],
   "source": [
    "race4_dict = {1: 'White', 2: 'Black or Af Am', 3: 'Hisp/Latinx', 4: 'All Other Races'}"
   ]
  },
  {
   "cell_type": "code",
   "execution_count": 51,
   "id": "6e8086eb-1284-49c8-8bc6-dc3420ff4a9d",
   "metadata": {},
   "outputs": [
    {
     "data": {
      "text/plain": [
       "array([ 6.,  3.,  4., nan,  2.,  1.,  5.,  7.])"
      ]
     },
     "execution_count": 51,
     "metadata": {},
     "output_type": "execute_result"
    }
   ],
   "source": [
    "df.race7.unique()"
   ]
  },
  {
   "cell_type": "code",
   "execution_count": 52,
   "id": "772ff694-130c-4108-bd19-a56cfea5a745",
   "metadata": {},
   "outputs": [],
   "source": [
    "race7_dict = {1: 'AmInd/AlaskaNat', 2: 'Asian', 3: 'Black or Af Am', \n",
    "             4: 'Hisp/Latinx', 5: 'NatHaw/OtherPacIsl', 6: 'White', 7: 'Multiple Races (Non-Hisp)'}"
   ]
  },
  {
   "cell_type": "code",
   "execution_count": 54,
   "id": "163254e9-7cb1-41ad-8e84-f3b1228f3a2f",
   "metadata": {},
   "outputs": [
    {
     "data": {
      "text/plain": [
       "array([       nan, 1.41999905, 1.67999905, 1.59999905, 1.7       ,\n",
       "       1.84999905, 1.83      , 1.73      , 1.75      , 1.65      ,\n",
       "       1.78      , 1.79999905, 1.62999905, 1.57      , 1.87999905,\n",
       "       1.34999905, 1.91      , 1.98      , 1.95999905, 1.54999905,\n",
       "       1.92999905, 1.51999905, 1.5       , 1.46999905, 1.37      ,\n",
       "       2.06      , 2.00999809, 1.45      , 1.4       , 2.02999809,\n",
       "       2.10999809, 1.29999905, 2.08      , 1.26999905, 1.32      ,\n",
       "       1.9       , 1.24      , 1.21999905, 1.13999905])"
      ]
     },
     "execution_count": 54,
     "metadata": {},
     "output_type": "execute_result"
    }
   ],
   "source": [
    "# How tall are you without your shoes on\n",
    "df.stheight.unique()"
   ]
  },
  {
   "cell_type": "code",
   "execution_count": 56,
   "id": "41b30928-8c7e-4bbf-a6e0-f3a2fc646e20",
   "metadata": {
    "scrolled": true,
    "tags": []
   },
   "outputs": [
    {
     "data": {
      "text/plain": [
       "array([         nan,  50.34996948,  91.62993896,  71.22      ,\n",
       "        79.37993896,  72.57993896,  53.06996948,  68.04      ,\n",
       "        80.29      ,  61.24      ,  52.15996948, 108.86      ,\n",
       "        69.39993896,  50.8       ,  58.96996948,  53.52      ,\n",
       "        49.9       ,  77.56993896,  75.75      ,  81.64993896,\n",
       "        73.48      ,  76.19993896,  83.92      ,  60.78      ,\n",
       "        56.25      ,  87.54      ,  54.43      ,  44.44996948,\n",
       "       105.24      ,  99.79      ,  57.61      ,  46.71996948,\n",
       "        58.06      ,  65.76993896,  68.94993896,  57.15      ,\n",
       "        62.13996948,  63.5       ,  78.47      , 104.32993896,\n",
       "       113.39993896,  66.23      ,  64.86      ,  60.33      ,\n",
       "        70.75993896,  97.51993896,  56.69996948, 102.06      ,\n",
       "        70.31      ,  71.67      ,  45.36      ,  99.33993896,\n",
       "        67.12993896,  52.62      ,  82.1       ,  88.91      ,\n",
       "        92.99      ,  78.01993896,  72.12      ,  90.72      ,\n",
       "        95.25993896,  77.11      ,  45.81      ,  47.62996948,\n",
       "        86.18      ,  75.3       ,  74.38993896,  53.97996948,\n",
       "        59.87996948,  74.83993896,  59.41996948,  62.59996948,\n",
       "        54.88996948, 115.67      ,  61.68996948, 111.12993896,\n",
       "        78.93      ,  63.96      ,  83.00993896,  63.05      ,\n",
       "        80.74      ,  85.73      ,  85.27993896,  58.50996948,\n",
       "        55.34      ,  49.43996948,  82.56      ,  66.68      ,\n",
       "        89.81      , 107.5       ,  55.78996948,  92.52993896,\n",
       "       106.6       ,  88.44993896,  90.26993896, 106.13993896,\n",
       "       117.93993896,  84.81993896, 180.99      , 135.16987793,\n",
       "        87.08993896, 140.15987793,  96.16      ,  73.93993896,\n",
       "        84.37      , 158.75987793,  76.66      ,  97.06993896,\n",
       "        65.31993896, 161.94      ,  69.85      ,  92.07993896,\n",
       "        89.36      , 120.19993896, 117.48      ,  64.41      ,\n",
       "        51.71      ,  44.90996948,  46.27      ,  48.53996948,\n",
       "        67.58993896,  48.99      ,  68.49      ,  43.09      ,\n",
       "        48.08      ,  40.81996948, 124.74      ,  94.35      ,\n",
       "        31.75      ,  83.45993896,  44.        ,  47.16996948,\n",
       "       125.18993896, 100.69993896,  81.18993896,  73.02993896,\n",
       "       127.00993896,  79.82993896, 129.73      , 119.75      ,\n",
       "        98.43      ,  51.25996948, 156.49      , 133.80987793,\n",
       "       116.12      ,  93.43993896, 119.3       , 121.56      ,\n",
       "        93.89993896, 124.29      , 115.20993896, 109.76993896,\n",
       "       140.62      ,  88.        , 129.27987793, 108.41      ,\n",
       "       118.83993896,  91.17      , 105.68993896,  31.29998474,\n",
       "        38.56      , 100.25      ,  98.87993896, 131.09      ,\n",
       "        42.63996948, 141.98      , 136.08      , 167.37987793,\n",
       "        42.18      , 123.82993896, 103.42      , 147.87      ,\n",
       "       101.14993896, 173.27987793,  96.62      ,  95.70993896,\n",
       "       117.02993896, 122.47      , 101.61      , 126.55      ,\n",
       "       118.38993896,  43.55      , 103.87      ,  36.28996948,\n",
       "        41.72996948,  39.91996948,  36.74      ,  35.37996948,\n",
       "       102.97      , 125.64993896, 109.31993896, 114.75993896,\n",
       "       102.50993896, 142.87987793,  29.93998474, 123.37993896,\n",
       "        39.46      , 104.77993896,  40.37      ,  97.98      ,\n",
       "        41.28      ,  39.00996948, 110.22      ,  86.63993896,\n",
       "       120.66      , 112.49      , 162.84      , 107.95993896,\n",
       "       111.58993896, 154.22      , 179.16987793, 114.31      ,\n",
       "       131.53987793, 122.01993896, 130.63987793, 112.04      ,\n",
       "        37.65      , 135.62987793, 113.85      , 107.05      ,\n",
       "       121.11      ,  37.19996948, 128.37      , 142.42987793,\n",
       "       145.14987793, 146.05987793, 151.96      ,  94.8       ,\n",
       "       152.40987793, 126.1       , 148.33      , 110.68      ,\n",
       "       149.69      , 112.94993896, 130.17987793, 137.88987793,\n",
       "       116.57993896, 176.89987793, 143.78987793, 128.82      ,\n",
       "       136.99      , 137.44      ,  38.09996948,  33.11      ,\n",
       "        34.93      , 132.89987793, 155.12987793, 180.08      ,\n",
       "       173.73      , 148.77987793, 172.37      , 139.25987793,\n",
       "       165.55987793, 138.35      ,  35.83      , 176.        ,\n",
       "       134.26987793, 163.29987793,  34.46996948, 147.41987793,\n",
       "       133.36      ,  32.65996948, 166.47      , 139.71      ,\n",
       "       146.50987793, 127.92      , 162.38987793, 141.51987793,\n",
       "       127.45993896, 168.28987793, 145.61      , 132.45      ,\n",
       "       161.02987793,  33.56996948,  34.02      , 132.        ,\n",
       "       170.1       , 144.24      , 134.72      , 122.93      ,\n",
       "       178.72      , 149.23      , 168.74      , 156.03987793,\n",
       "       151.5       , 161.48      , 150.13987793, 156.95      ,\n",
       "       177.80987793, 144.7       , 150.6       , 136.52987793,\n",
       "       167.83      , 155.58      , 163.75      , 146.97      ,\n",
       "       160.12      , 151.04987793, 175.53987793, 171.90987793,\n",
       "       152.86      , 164.2       , 174.63987793, 176.45      ,\n",
       "       175.09      ,  29.48      , 143.34      , 170.54987793,\n",
       "       165.11      ,  30.84      ,  32.21      , 157.39987793,\n",
       "       172.82      ,  28.57998474, 159.66987793, 158.30987793,\n",
       "        19.5       , 160.57      , 169.19      , 153.76987793,\n",
       "       164.65987793, 159.21      , 169.64987793, 157.85      ,\n",
       "        22.68      , 171.46      ,  27.21998474, 141.07      ,\n",
       "       153.32      , 138.79987793, 154.67987793,  19.04998474,\n",
       "       174.17987793, 166.91987793,  22.23      ])"
      ]
     },
     "execution_count": 56,
     "metadata": {},
     "output_type": "execute_result"
    }
   ],
   "source": [
    "# How much do you weigh wo your shoes on? \n",
    "df.stweight.unique()"
   ]
  },
  {
   "cell_type": "code",
   "execution_count": 58,
   "id": "8b460bec-3dec-4357-8e06-ee112316a6f0",
   "metadata": {},
   "outputs": [
    {
     "data": {
      "text/plain": [
       "5711"
      ]
     },
     "execution_count": 58,
     "metadata": {},
     "output_type": "execute_result"
    }
   ],
   "source": [
    "len(df.bmi.unique())"
   ]
  },
  {
   "cell_type": "code",
   "execution_count": 60,
   "id": "b56c3d72-ef14-448d-9757-0922090e3837",
   "metadata": {},
   "outputs": [
    {
     "data": {
      "text/plain": [
       "26551"
      ]
     },
     "execution_count": 60,
     "metadata": {},
     "output_type": "execute_result"
    }
   ],
   "source": [
    "len(df.bmipct.unique())"
   ]
  },
  {
   "cell_type": "code",
   "execution_count": 62,
   "id": "e903ce90-c869-48fe-b181-121deb096370",
   "metadata": {},
   "outputs": [
    {
     "data": {
      "text/plain": [
       "array([nan,  2.,  1.])"
      ]
     },
     "execution_count": 62,
     "metadata": {},
     "output_type": "execute_result"
    }
   ],
   "source": [
    "# Obesity Indicator\n",
    "df.qnobese.unique()"
   ]
  },
  {
   "cell_type": "code",
   "execution_count": 63,
   "id": "9231cc23-dffa-4a91-9a2e-51dec6e4ced9",
   "metadata": {},
   "outputs": [
    {
     "data": {
      "text/plain": [
       "array([nan,  1.,  2.])"
      ]
     },
     "execution_count": 63,
     "metadata": {},
     "output_type": "execute_result"
    }
   ],
   "source": [
    "# Overweight Indicator\n",
    "df.qnowt.unique()"
   ]
  },
  {
   "cell_type": "markdown",
   "id": "164d83c7-81d3-4284-afd5-74cb2ce80750",
   "metadata": {},
   "source": [
    "#### Data Cleaning for Target 1: <br>\n",
    "Question 58: Have you ever had sexual intercourse? \n",
    "(Source for cleaning steps: https://www.tableau.com/learn/articles/what-is-data-cleaning)"
   ]
  },
  {
   "cell_type": "code",
   "execution_count": 115,
   "id": "81d55fee-3ea2-43d9-af72-4a30ad1712b8",
   "metadata": {},
   "outputs": [],
   "source": [
    "# Step 1: Manually Removing Features"
   ]
  },
  {
   "cell_type": "code",
   "execution_count": 103,
   "id": "ed45ff62-109b-4bf7-9035-2b5887a273f0",
   "metadata": {},
   "outputs": [],
   "source": [
    "sex_df = df.copy()"
   ]
  },
  {
   "cell_type": "code",
   "execution_count": 110,
   "id": "392d44e4-38d1-4c93-97d3-afbcd04e2d40",
   "metadata": {},
   "outputs": [
    {
     "data": {
      "text/plain": [
       "(14218, 16364)"
      ]
     },
     "execution_count": 110,
     "metadata": {},
     "output_type": "execute_result"
    }
   ],
   "source": [
    "df.race4.isnull().sum(), df.race7.isnull().sum()"
   ]
  },
  {
   "cell_type": "code",
   "execution_count": 111,
   "id": "7163efb8-8e2c-4633-8f23-ca5489a5661d",
   "metadata": {
    "scrolled": true,
    "tags": []
   },
   "outputs": [],
   "source": [
    "# Step 1a : Remove Irrelevant features\n",
    "\n",
    "to_drop = ['sitecode',\n",
    " 'sitetype',\n",
    " 'sitetypenum',\n",
    " 'survyear',\n",
    " 'weight',\n",
    " 'stratum',\n",
    " 'PSU',\n",
    " 'stheight',\n",
    " 'stweight',\n",
    " 'bmipct',\n",
    " 'qnobese',\n",
    " 'qnowt',\n",
    " 'q66',\n",
    " 'q65',\n",
    " 'sexid',\n",
    " 'sexid2',\n",
    " 'sexpart',\n",
    " 'sexpart2',\n",
    " 'q59',\n",
    " 'q60',\n",
    " 'q61',\n",
    " 'q62',\n",
    " 'q63',\n",
    " 'q64',\n",
    " 'q84',\n",
    " 'q85',\n",
    " 'qbikehelmet',\n",
    " 'qdrivemarijuana',\n",
    " 'qcelldriving',\n",
    " 'qpropertydamage',\n",
    " 'qbullyweight',\n",
    " 'qbullygender',\n",
    " 'qbullygay',\n",
    " 'qchokeself',\n",
    " 'qcigschool',\n",
    " 'qchewtobschool',\n",
    " 'qalcoholschool',\n",
    " 'qtypealcohol2',\n",
    " 'qhowmarijuana',\n",
    " 'qmarijuanaschool',\n",
    " 'qcurrentopioid',\n",
    " 'qcurrentcocaine',\n",
    " 'qcurrentheroin',\n",
    " 'qcurrentmeth',\n",
    " 'qhallucdrug',\n",
    " 'qprescription30d',\n",
    " 'qgenderexp',\n",
    " 'qtaughtHIV',\n",
    " 'qtaughtsexed',\n",
    " 'qtaughtstd',\n",
    " 'qtaughtcondom',\n",
    " 'qtaughtbc',\n",
    " 'qdietpop',\n",
    " 'qcoffeetea',\n",
    " 'qsportsdrink',\n",
    " 'qenergydrink',\n",
    " 'qsugardrink',\n",
    " 'qwater',\n",
    " 'qfastfood',\n",
    " 'qfoodallergy',\n",
    " 'qwenthungry',\n",
    " 'qmusclestrength',\n",
    " 'qsunscreenuse',\n",
    " 'qindoortanning',\n",
    " 'qsunburn',\n",
    " 'qconcentrating',\n",
    " 'qcurrentasthma',\n",
    " 'qwheresleep',\n",
    " 'qspeakenglish',\n",
    " 'qtransgender']"
   ]
  },
  {
   "cell_type": "code",
   "execution_count": 112,
   "id": "65fc8fcc-e5a7-4cc1-90d1-5796547a41cd",
   "metadata": {},
   "outputs": [],
   "source": [
    "sex_df.drop(columns=to_drop, inplace=True)"
   ]
  },
  {
   "cell_type": "code",
   "execution_count": 116,
   "id": "80bef577-a830-4666-bda5-ca2872326a56",
   "metadata": {},
   "outputs": [],
   "source": [
    "# Step 1b. Remove Features with High NaNs"
   ]
  },
  {
   "cell_type": "code",
   "execution_count": 120,
   "id": "7280fddb-b019-4553-9b2d-74a08d8f3f1c",
   "metadata": {},
   "outputs": [],
   "source": [
    "to_drop_nans = ['q10', 'q11', 'q14', 'q19', 'q20', 'q21', 'q22', \n",
    "               'q31', 'q34', 'q35', 'q36', 'q37', 'q39', 'q42', 'q43', \n",
    "               'q44', 'q48', 'q49', 'q71', 'q72', 'q73', \n",
    "               'q74', 'q75', 'q76', 'q77', 'q78', 'q80', \n",
    "               'q83', 'q86', 'q88', 'q89']"
   ]
  },
  {
   "cell_type": "code",
   "execution_count": 121,
   "id": "60544a38-3eac-4c4b-87a3-c8053fb41220",
   "metadata": {},
   "outputs": [],
   "source": [
    "sex_df.drop(columns=to_drop_nans, inplace=True)"
   ]
  },
  {
   "cell_type": "code",
   "execution_count": 130,
   "id": "b4fffc99-2867-4c40-9b57-c837cc656c1b",
   "metadata": {},
   "outputs": [],
   "source": [
    "sex_df.set_index('record', inplace=True)"
   ]
  },
  {
   "cell_type": "code",
   "execution_count": 132,
   "id": "60de9eac-ee09-4bed-8219-a603a211dcbd",
   "metadata": {},
   "outputs": [
    {
     "data": {
      "text/html": [
       "<div>\n",
       "<style scoped>\n",
       "    .dataframe tbody tr th:only-of-type {\n",
       "        vertical-align: middle;\n",
       "    }\n",
       "\n",
       "    .dataframe tbody tr th {\n",
       "        vertical-align: top;\n",
       "    }\n",
       "\n",
       "    .dataframe thead th {\n",
       "        text-align: right;\n",
       "    }\n",
       "</style>\n",
       "<table border=\"1\" class=\"dataframe\">\n",
       "  <thead>\n",
       "    <tr style=\"text-align: right;\">\n",
       "      <th></th>\n",
       "      <th>sitename</th>\n",
       "      <th>year</th>\n",
       "      <th>age</th>\n",
       "      <th>sex</th>\n",
       "      <th>grade</th>\n",
       "      <th>race4</th>\n",
       "      <th>race7</th>\n",
       "      <th>bmi</th>\n",
       "      <th>q8</th>\n",
       "      <th>q9</th>\n",
       "      <th>...</th>\n",
       "      <th>q57</th>\n",
       "      <th>q58</th>\n",
       "      <th>q67</th>\n",
       "      <th>q68</th>\n",
       "      <th>q69</th>\n",
       "      <th>q70</th>\n",
       "      <th>q79</th>\n",
       "      <th>q81</th>\n",
       "      <th>q82</th>\n",
       "      <th>q87</th>\n",
       "    </tr>\n",
       "    <tr>\n",
       "      <th>record</th>\n",
       "      <th></th>\n",
       "      <th></th>\n",
       "      <th></th>\n",
       "      <th></th>\n",
       "      <th></th>\n",
       "      <th></th>\n",
       "      <th></th>\n",
       "      <th></th>\n",
       "      <th></th>\n",
       "      <th></th>\n",
       "      <th></th>\n",
       "      <th></th>\n",
       "      <th></th>\n",
       "      <th></th>\n",
       "      <th></th>\n",
       "      <th></th>\n",
       "      <th></th>\n",
       "      <th></th>\n",
       "      <th></th>\n",
       "      <th></th>\n",
       "      <th></th>\n",
       "    </tr>\n",
       "  </thead>\n",
       "  <tbody>\n",
       "    <tr>\n",
       "      <th>3972</th>\n",
       "      <td>Chicago, IL (CH)</td>\n",
       "      <td>1991</td>\n",
       "      <td>1.0</td>\n",
       "      <td>NaN</td>\n",
       "      <td>1.0</td>\n",
       "      <td>1.0</td>\n",
       "      <td>6.0</td>\n",
       "      <td>NaN</td>\n",
       "      <td>1.0</td>\n",
       "      <td>2.0</td>\n",
       "      <td>...</td>\n",
       "      <td>NaN</td>\n",
       "      <td>NaN</td>\n",
       "      <td>1.0</td>\n",
       "      <td>1.0</td>\n",
       "      <td>NaN</td>\n",
       "      <td>NaN</td>\n",
       "      <td>NaN</td>\n",
       "      <td>4.0</td>\n",
       "      <td>NaN</td>\n",
       "      <td>NaN</td>\n",
       "    </tr>\n",
       "    <tr>\n",
       "      <th>7364</th>\n",
       "      <td>Chicago, IL (CH)</td>\n",
       "      <td>1991</td>\n",
       "      <td>4.0</td>\n",
       "      <td>NaN</td>\n",
       "      <td>1.0</td>\n",
       "      <td>2.0</td>\n",
       "      <td>3.0</td>\n",
       "      <td>NaN</td>\n",
       "      <td>1.0</td>\n",
       "      <td>1.0</td>\n",
       "      <td>...</td>\n",
       "      <td>NaN</td>\n",
       "      <td>NaN</td>\n",
       "      <td>1.0</td>\n",
       "      <td>3.0</td>\n",
       "      <td>NaN</td>\n",
       "      <td>NaN</td>\n",
       "      <td>NaN</td>\n",
       "      <td>6.0</td>\n",
       "      <td>NaN</td>\n",
       "      <td>NaN</td>\n",
       "    </tr>\n",
       "    <tr>\n",
       "      <th>7365</th>\n",
       "      <td>Chicago, IL (CH)</td>\n",
       "      <td>1991</td>\n",
       "      <td>4.0</td>\n",
       "      <td>NaN</td>\n",
       "      <td>1.0</td>\n",
       "      <td>1.0</td>\n",
       "      <td>6.0</td>\n",
       "      <td>NaN</td>\n",
       "      <td>5.0</td>\n",
       "      <td>5.0</td>\n",
       "      <td>...</td>\n",
       "      <td>NaN</td>\n",
       "      <td>2.0</td>\n",
       "      <td>4.0</td>\n",
       "      <td>1.0</td>\n",
       "      <td>NaN</td>\n",
       "      <td>NaN</td>\n",
       "      <td>NaN</td>\n",
       "      <td>6.0</td>\n",
       "      <td>NaN</td>\n",
       "      <td>NaN</td>\n",
       "    </tr>\n",
       "    <tr>\n",
       "      <th>7366</th>\n",
       "      <td>Chicago, IL (CH)</td>\n",
       "      <td>1991</td>\n",
       "      <td>4.0</td>\n",
       "      <td>NaN</td>\n",
       "      <td>2.0</td>\n",
       "      <td>1.0</td>\n",
       "      <td>6.0</td>\n",
       "      <td>NaN</td>\n",
       "      <td>1.0</td>\n",
       "      <td>5.0</td>\n",
       "      <td>...</td>\n",
       "      <td>NaN</td>\n",
       "      <td>NaN</td>\n",
       "      <td>3.0</td>\n",
       "      <td>2.0</td>\n",
       "      <td>NaN</td>\n",
       "      <td>NaN</td>\n",
       "      <td>NaN</td>\n",
       "      <td>6.0</td>\n",
       "      <td>NaN</td>\n",
       "      <td>NaN</td>\n",
       "    </tr>\n",
       "    <tr>\n",
       "      <th>9648</th>\n",
       "      <td>Chicago, IL (CH)</td>\n",
       "      <td>1991</td>\n",
       "      <td>5.0</td>\n",
       "      <td>NaN</td>\n",
       "      <td>2.0</td>\n",
       "      <td>2.0</td>\n",
       "      <td>3.0</td>\n",
       "      <td>NaN</td>\n",
       "      <td>1.0</td>\n",
       "      <td>5.0</td>\n",
       "      <td>...</td>\n",
       "      <td>NaN</td>\n",
       "      <td>1.0</td>\n",
       "      <td>3.0</td>\n",
       "      <td>2.0</td>\n",
       "      <td>NaN</td>\n",
       "      <td>NaN</td>\n",
       "      <td>NaN</td>\n",
       "      <td>1.0</td>\n",
       "      <td>NaN</td>\n",
       "      <td>NaN</td>\n",
       "    </tr>\n",
       "  </tbody>\n",
       "</table>\n",
       "<p>5 rows × 49 columns</p>\n",
       "</div>"
      ],
      "text/plain": [
       "                sitename  year  age  sex  grade  race4  race7  bmi   q8   q9  \\\n",
       "record                                                                         \n",
       "3972    Chicago, IL (CH)  1991  1.0  NaN    1.0    1.0    6.0  NaN  1.0  2.0   \n",
       "7364    Chicago, IL (CH)  1991  4.0  NaN    1.0    2.0    3.0  NaN  1.0  1.0   \n",
       "7365    Chicago, IL (CH)  1991  4.0  NaN    1.0    1.0    6.0  NaN  5.0  5.0   \n",
       "7366    Chicago, IL (CH)  1991  4.0  NaN    2.0    1.0    6.0  NaN  1.0  5.0   \n",
       "9648    Chicago, IL (CH)  1991  5.0  NaN    2.0    2.0    3.0  NaN  1.0  5.0   \n",
       "\n",
       "        ...  q57  q58  q67  q68  q69  q70  q79  q81  q82  q87  \n",
       "record  ...                                                    \n",
       "3972    ...  NaN  NaN  1.0  1.0  NaN  NaN  NaN  4.0  NaN  NaN  \n",
       "7364    ...  NaN  NaN  1.0  3.0  NaN  NaN  NaN  6.0  NaN  NaN  \n",
       "7365    ...  NaN  2.0  4.0  1.0  NaN  NaN  NaN  6.0  NaN  NaN  \n",
       "7366    ...  NaN  NaN  3.0  2.0  NaN  NaN  NaN  6.0  NaN  NaN  \n",
       "9648    ...  NaN  1.0  3.0  2.0  NaN  NaN  NaN  1.0  NaN  NaN  \n",
       "\n",
       "[5 rows x 49 columns]"
      ]
     },
     "execution_count": 132,
     "metadata": {},
     "output_type": "execute_result"
    }
   ],
   "source": [
    "sex_df.head()"
   ]
  },
  {
   "cell_type": "code",
   "execution_count": 123,
   "id": "0ba65de3-234b-4031-af3b-716cd123ab35",
   "metadata": {},
   "outputs": [],
   "source": [
    "# Step 1c: Remove Highly Correlated Features\n",
    "corr = sex_df.corr()"
   ]
  },
  {
   "cell_type": "code",
   "execution_count": 124,
   "id": "0557e6ee-2b9e-477b-af61-c27f5f709e5a",
   "metadata": {},
   "outputs": [
    {
     "data": {
      "text/plain": [
       "<AxesSubplot:>"
      ]
     },
     "execution_count": 124,
     "metadata": {},
     "output_type": "execute_result"
    },
    {
     "data": {
      "image/png": "[encoded data removed]",
      "text/plain": [
       "<Figure size 792x648 with 2 Axes>"
      ]
     },
     "metadata": {
      "image/png": {
       "height": 536,
       "width": 605
      }
     },
     "output_type": "display_data"
    }
   ],
   "source": [
    "mask = np.triu(np.ones_like(corr, dtype=bool))\n",
    "\n",
    "# Set up the matplotlib figure\n",
    "f, ax = plt.subplots(figsize=(11, 9))\n",
    "\n",
    "# Generate a custom diverging colormap\n",
    "cmap = sns.diverging_palette(230, 20, as_cmap=True)\n",
    "\n",
    "# Draw the heatmap with the mask and correct aspect ratio\n",
    "sns.heatmap(corr, mask=mask, cmap=cmap, vmax=.3, center=0,\n",
    "            square=True, linewidths=.5, cbar_kws={\"shrink\": .5})"
   ]
  },
  {
   "cell_type": "code",
   "execution_count": 133,
   "id": "a2426622-e48e-4592-bcae-f646e0a3c6a4",
   "metadata": {},
   "outputs": [
    {
     "data": {
      "text/plain": [
       "q58       1.000000\n",
       "q30       0.319043\n",
       "q8        0.161063\n",
       "q57       0.152051\n",
       "year      0.150702\n",
       "q25       0.100872\n",
       "q26       0.089574\n",
       "q27       0.078168\n",
       "q24       0.072497\n",
       "race4     0.069932\n",
       "q87       0.052482\n",
       "q81       0.049112\n",
       "q67       0.024326\n",
       "race7     0.011499\n",
       "q23       0.010303\n",
       "q68       0.007106\n",
       "q70      -0.000346\n",
       "record   -0.025950\n",
       "q82      -0.070838\n",
       "bmi      -0.074171\n",
       "q79      -0.091292\n",
       "q15      -0.095139\n",
       "q51      -0.100539\n",
       "q55      -0.100692\n",
       "q29      -0.101450\n",
       "q56      -0.103885\n",
       "sex      -0.105147\n",
       "q52      -0.105476\n",
       "q69      -0.116079\n",
       "q28      -0.117312\n",
       "q16      -0.121690\n",
       "q53      -0.126381\n",
       "q13      -0.137533\n",
       "q50      -0.159013\n",
       "q18      -0.162143\n",
       "q54      -0.174973\n",
       "q9       -0.183746\n",
       "q38      -0.183791\n",
       "grade    -0.197420\n",
       "q12      -0.214196\n",
       "q32      -0.221202\n",
       "q33      -0.225683\n",
       "q17      -0.251156\n",
       "age      -0.258376\n",
       "q40      -0.280138\n",
       "q47      -0.304270\n",
       "q41      -0.311020\n",
       "q46      -0.375016\n",
       "q45      -0.396710\n",
       "Name: q58, dtype: float64"
      ]
     },
     "execution_count": 133,
     "metadata": {},
     "output_type": "execute_result"
    }
   ],
   "source": [
    "# More corr features are different enough to keep in for prediction\n",
    "corr.q58.sort_values(ascending=False)"
   ]
  },
  {
   "cell_type": "code",
   "execution_count": 150,
   "id": "6a76a65a-85fb-4669-b159-0d2f8d03a5e7",
   "metadata": {},
   "outputs": [
    {
     "name": "stdout",
     "output_type": "stream",
     "text": [
      "<class 'pandas.core.frame.DataFrame'>\n",
      "Int64Index: 504249 entries, 3972 to 2226523\n",
      "Data columns (total 49 columns):\n",
      " #   Column    Non-Null Count   Dtype  \n",
      "---  ------    --------------   -----  \n",
      " 0   sitename  504249 non-null  object \n",
      " 1   year      504249 non-null  int64  \n",
      " 2   age       502725 non-null  float64\n",
      " 3   sex       500875 non-null  float64\n",
      " 4   grade     498152 non-null  float64\n",
      " 5   race4     490031 non-null  float64\n",
      " 6   race7     487885 non-null  float64\n",
      " 7   bmi       406458 non-null  float64\n",
      " 8   q8        389912 non-null  float64\n",
      " 9   q9        351062 non-null  float64\n",
      " 10  q12       478493 non-null  float64\n",
      " 11  q13       456087 non-null  float64\n",
      " 12  q15       482457 non-null  float64\n",
      " 13  q16       485758 non-null  float64\n",
      " 14  q17       477753 non-null  float64\n",
      " 15  q18       378271 non-null  float64\n",
      " 16  q23       286648 non-null  float64\n",
      " 17  q24       237421 non-null  float64\n",
      " 18  q25       437843 non-null  float64\n",
      " 19  q26       493447 non-null  float64\n",
      " 20  q27       363992 non-null  float64\n",
      " 21  q28       419710 non-null  float64\n",
      " 22  q29       394076 non-null  float64\n",
      " 23  q30       433027 non-null  float64\n",
      " 24  q32       464858 non-null  float64\n",
      " 25  q33       444950 non-null  float64\n",
      " 26  q38       372989 non-null  float64\n",
      " 27  q40       443203 non-null  float64\n",
      " 28  q41       452010 non-null  float64\n",
      " 29  q45       368072 non-null  float64\n",
      " 30  q46       472990 non-null  float64\n",
      " 31  q47       480754 non-null  float64\n",
      " 32  q50       469437 non-null  float64\n",
      " 33  q51       366354 non-null  float64\n",
      " 34  q52       402208 non-null  float64\n",
      " 35  q53       381264 non-null  float64\n",
      " 36  q54       316463 non-null  float64\n",
      " 37  q55       319678 non-null  float64\n",
      " 38  q56       416735 non-null  float64\n",
      " 39  q57       381939 non-null  float64\n",
      " 40  q58       421534 non-null  float64\n",
      " 41  q67       411934 non-null  float64\n",
      " 42  q68       415499 non-null  float64\n",
      " 43  q69       404918 non-null  float64\n",
      " 44  q70       404008 non-null  float64\n",
      " 45  q79       396209 non-null  float64\n",
      " 46  q81       410733 non-null  float64\n",
      " 47  q82       301370 non-null  float64\n",
      " 48  q87       314770 non-null  float64\n",
      "dtypes: float64(47), int64(1), object(1)\n",
      "memory usage: 192.4+ MB\n"
     ]
    }
   ],
   "source": [
    "# Step 2: Fix Structural Errors\n",
    "sex_df.info()"
   ]
  },
  {
   "cell_type": "code",
   "execution_count": 144,
   "id": "c888cebe-c739-4f61-81a1-f8de5f905014",
   "metadata": {},
   "outputs": [
    {
     "data": {
      "text/plain": [
       "array([ 2.,  1.,  5.,  3.,  4., nan])"
      ]
     },
     "execution_count": 144,
     "metadata": {},
     "output_type": "execute_result"
    }
   ],
   "source": [
    "sex_df.q9.unique()"
   ]
  },
  {
   "cell_type": "code",
   "execution_count": 154,
   "id": "1c868dfb-6c9b-4915-b6fd-b24474754200",
   "metadata": {
    "scrolled": true,
    "tags": []
   },
   "outputs": [
    {
     "data": {
      "text/plain": [
       "<AxesSubplot:xlabel='year', ylabel='Count'>"
      ]
     },
     "execution_count": 154,
     "metadata": {},
     "output_type": "execute_result"
    },
    {
     "data": {
      "text/plain": [
       "Text(0.5, 1.0, 'year')"
      ]
     },
     "execution_count": 154,
     "metadata": {},
     "output_type": "execute_result"
    },
    {
     "data": {
      "text/plain": [
       "<AxesSubplot:xlabel='age', ylabel='Count'>"
      ]
     },
     "execution_count": 154,
     "metadata": {},
     "output_type": "execute_result"
    },
    {
     "data": {
      "text/plain": [
       "Text(0.5, 1.0, 'age')"
      ]
     },
     "execution_count": 154,
     "metadata": {},
     "output_type": "execute_result"
    },
    {
     "data": {
      "text/plain": [
       "<AxesSubplot:xlabel='sex', ylabel='Count'>"
      ]
     },
     "execution_count": 154,
     "metadata": {},
     "output_type": "execute_result"
    },
    {
     "data": {
      "text/plain": [
       "Text(0.5, 1.0, 'sex')"
      ]
     },
     "execution_count": 154,
     "metadata": {},
     "output_type": "execute_result"
    },
    {
     "data": {
      "text/plain": [
       "<AxesSubplot:xlabel='grade', ylabel='Count'>"
      ]
     },
     "execution_count": 154,
     "metadata": {},
     "output_type": "execute_result"
    },
    {
     "data": {
      "text/plain": [
       "Text(0.5, 1.0, 'grade')"
      ]
     },
     "execution_count": 154,
     "metadata": {},
     "output_type": "execute_result"
    },
    {
     "data": {
      "text/plain": [
       "<AxesSubplot:xlabel='race4', ylabel='Count'>"
      ]
     },
     "execution_count": 154,
     "metadata": {},
     "output_type": "execute_result"
    },
    {
     "data": {
      "text/plain": [
       "Text(0.5, 1.0, 'race4')"
      ]
     },
     "execution_count": 154,
     "metadata": {},
     "output_type": "execute_result"
    },
    {
     "data": {
      "text/plain": [
       "<AxesSubplot:xlabel='race7', ylabel='Count'>"
      ]
     },
     "execution_count": 154,
     "metadata": {},
     "output_type": "execute_result"
    },
    {
     "data": {
      "text/plain": [
       "Text(0.5, 1.0, 'race7')"
      ]
     },
     "execution_count": 154,
     "metadata": {},
     "output_type": "execute_result"
    },
    {
     "data": {
      "text/plain": [
       "<AxesSubplot:xlabel='bmi', ylabel='Count'>"
      ]
     },
     "execution_count": 154,
     "metadata": {},
     "output_type": "execute_result"
    },
    {
     "data": {
      "text/plain": [
       "Text(0.5, 1.0, 'bmi')"
      ]
     },
     "execution_count": 154,
     "metadata": {},
     "output_type": "execute_result"
    },
    {
     "data": {
      "text/plain": [
       "<AxesSubplot:xlabel='q8', ylabel='Count'>"
      ]
     },
     "execution_count": 154,
     "metadata": {},
     "output_type": "execute_result"
    },
    {
     "data": {
      "text/plain": [
       "Text(0.5, 1.0, 'q8')"
      ]
     },
     "execution_count": 154,
     "metadata": {},
     "output_type": "execute_result"
    },
    {
     "data": {
      "text/plain": [
       "<AxesSubplot:xlabel='q9', ylabel='Count'>"
      ]
     },
     "execution_count": 154,
     "metadata": {},
     "output_type": "execute_result"
    },
    {
     "data": {
      "text/plain": [
       "Text(0.5, 1.0, 'q9')"
      ]
     },
     "execution_count": 154,
     "metadata": {},
     "output_type": "execute_result"
    },
    {
     "data": {
      "text/plain": [
       "<AxesSubplot:xlabel='q12', ylabel='Count'>"
      ]
     },
     "execution_count": 154,
     "metadata": {},
     "output_type": "execute_result"
    },
    {
     "data": {
      "text/plain": [
       "Text(0.5, 1.0, 'q12')"
      ]
     },
     "execution_count": 154,
     "metadata": {},
     "output_type": "execute_result"
    },
    {
     "data": {
      "text/plain": [
       "<AxesSubplot:xlabel='q13', ylabel='Count'>"
      ]
     },
     "execution_count": 154,
     "metadata": {},
     "output_type": "execute_result"
    },
    {
     "data": {
      "text/plain": [
       "Text(0.5, 1.0, 'q13')"
      ]
     },
     "execution_count": 154,
     "metadata": {},
     "output_type": "execute_result"
    },
    {
     "data": {
      "text/plain": [
       "<AxesSubplot:xlabel='q15', ylabel='Count'>"
      ]
     },
     "execution_count": 154,
     "metadata": {},
     "output_type": "execute_result"
    },
    {
     "data": {
      "text/plain": [
       "Text(0.5, 1.0, 'q15')"
      ]
     },
     "execution_count": 154,
     "metadata": {},
     "output_type": "execute_result"
    },
    {
     "data": {
      "text/plain": [
       "<AxesSubplot:xlabel='q16', ylabel='Count'>"
      ]
     },
     "execution_count": 154,
     "metadata": {},
     "output_type": "execute_result"
    },
    {
     "data": {
      "text/plain": [
       "Text(0.5, 1.0, 'q16')"
      ]
     },
     "execution_count": 154,
     "metadata": {},
     "output_type": "execute_result"
    },
    {
     "data": {
      "text/plain": [
       "<AxesSubplot:xlabel='q17', ylabel='Count'>"
      ]
     },
     "execution_count": 154,
     "metadata": {},
     "output_type": "execute_result"
    },
    {
     "data": {
      "text/plain": [
       "Text(0.5, 1.0, 'q17')"
      ]
     },
     "execution_count": 154,
     "metadata": {},
     "output_type": "execute_result"
    },
    {
     "data": {
      "text/plain": [
       "<AxesSubplot:xlabel='q18', ylabel='Count'>"
      ]
     },
     "execution_count": 154,
     "metadata": {},
     "output_type": "execute_result"
    },
    {
     "data": {
      "text/plain": [
       "Text(0.5, 1.0, 'q18')"
      ]
     },
     "execution_count": 154,
     "metadata": {},
     "output_type": "execute_result"
    },
    {
     "data": {
      "text/plain": [
       "<AxesSubplot:xlabel='q23', ylabel='Count'>"
      ]
     },
     "execution_count": 154,
     "metadata": {},
     "output_type": "execute_result"
    },
    {
     "data": {
      "text/plain": [
       "Text(0.5, 1.0, 'q23')"
      ]
     },
     "execution_count": 154,
     "metadata": {},
     "output_type": "execute_result"
    },
    {
     "data": {
      "text/plain": [
       "<AxesSubplot:xlabel='q24', ylabel='Count'>"
      ]
     },
     "execution_count": 154,
     "metadata": {},
     "output_type": "execute_result"
    },
    {
     "data": {
      "text/plain": [
       "Text(0.5, 1.0, 'q24')"
      ]
     },
     "execution_count": 154,
     "metadata": {},
     "output_type": "execute_result"
    },
    {
     "data": {
      "text/plain": [
       "<AxesSubplot:xlabel='q25', ylabel='Count'>"
      ]
     },
     "execution_count": 154,
     "metadata": {},
     "output_type": "execute_result"
    },
    {
     "data": {
      "text/plain": [
       "Text(0.5, 1.0, 'q25')"
      ]
     },
     "execution_count": 154,
     "metadata": {},
     "output_type": "execute_result"
    },
    {
     "data": {
      "text/plain": [
       "<AxesSubplot:xlabel='q26', ylabel='Count'>"
      ]
     },
     "execution_count": 154,
     "metadata": {},
     "output_type": "execute_result"
    },
    {
     "data": {
      "text/plain": [
       "Text(0.5, 1.0, 'q26')"
      ]
     },
     "execution_count": 154,
     "metadata": {},
     "output_type": "execute_result"
    },
    {
     "data": {
      "text/plain": [
       "<AxesSubplot:xlabel='q27', ylabel='Count'>"
      ]
     },
     "execution_count": 154,
     "metadata": {},
     "output_type": "execute_result"
    },
    {
     "data": {
      "text/plain": [
       "Text(0.5, 1.0, 'q27')"
      ]
     },
     "execution_count": 154,
     "metadata": {},
     "output_type": "execute_result"
    },
    {
     "data": {
      "text/plain": [
       "<AxesSubplot:xlabel='q28', ylabel='Count'>"
      ]
     },
     "execution_count": 154,
     "metadata": {},
     "output_type": "execute_result"
    },
    {
     "data": {
      "text/plain": [
       "Text(0.5, 1.0, 'q28')"
      ]
     },
     "execution_count": 154,
     "metadata": {},
     "output_type": "execute_result"
    },
    {
     "data": {
      "text/plain": [
       "<AxesSubplot:xlabel='q29', ylabel='Count'>"
      ]
     },
     "execution_count": 154,
     "metadata": {},
     "output_type": "execute_result"
    },
    {
     "data": {
      "text/plain": [
       "Text(0.5, 1.0, 'q29')"
      ]
     },
     "execution_count": 154,
     "metadata": {},
     "output_type": "execute_result"
    },
    {
     "data": {
      "text/plain": [
       "<AxesSubplot:xlabel='q30', ylabel='Count'>"
      ]
     },
     "execution_count": 154,
     "metadata": {},
     "output_type": "execute_result"
    },
    {
     "data": {
      "text/plain": [
       "Text(0.5, 1.0, 'q30')"
      ]
     },
     "execution_count": 154,
     "metadata": {},
     "output_type": "execute_result"
    },
    {
     "data": {
      "text/plain": [
       "<AxesSubplot:xlabel='q32', ylabel='Count'>"
      ]
     },
     "execution_count": 154,
     "metadata": {},
     "output_type": "execute_result"
    },
    {
     "data": {
      "text/plain": [
       "Text(0.5, 1.0, 'q32')"
      ]
     },
     "execution_count": 154,
     "metadata": {},
     "output_type": "execute_result"
    },
    {
     "data": {
      "text/plain": [
       "<AxesSubplot:xlabel='q33', ylabel='Count'>"
      ]
     },
     "execution_count": 154,
     "metadata": {},
     "output_type": "execute_result"
    },
    {
     "data": {
      "text/plain": [
       "Text(0.5, 1.0, 'q33')"
      ]
     },
     "execution_count": 154,
     "metadata": {},
     "output_type": "execute_result"
    },
    {
     "data": {
      "text/plain": [
       "<AxesSubplot:xlabel='q38', ylabel='Count'>"
      ]
     },
     "execution_count": 154,
     "metadata": {},
     "output_type": "execute_result"
    },
    {
     "data": {
      "text/plain": [
       "Text(0.5, 1.0, 'q38')"
      ]
     },
     "execution_count": 154,
     "metadata": {},
     "output_type": "execute_result"
    },
    {
     "data": {
      "text/plain": [
       "<AxesSubplot:xlabel='q40', ylabel='Count'>"
      ]
     },
     "execution_count": 154,
     "metadata": {},
     "output_type": "execute_result"
    },
    {
     "data": {
      "text/plain": [
       "Text(0.5, 1.0, 'q40')"
      ]
     },
     "execution_count": 154,
     "metadata": {},
     "output_type": "execute_result"
    },
    {
     "data": {
      "text/plain": [
       "<AxesSubplot:xlabel='q41', ylabel='Count'>"
      ]
     },
     "execution_count": 154,
     "metadata": {},
     "output_type": "execute_result"
    },
    {
     "data": {
      "text/plain": [
       "Text(0.5, 1.0, 'q41')"
      ]
     },
     "execution_count": 154,
     "metadata": {},
     "output_type": "execute_result"
    },
    {
     "data": {
      "text/plain": [
       "<AxesSubplot:xlabel='q45', ylabel='Count'>"
      ]
     },
     "execution_count": 154,
     "metadata": {},
     "output_type": "execute_result"
    },
    {
     "data": {
      "text/plain": [
       "Text(0.5, 1.0, 'q45')"
      ]
     },
     "execution_count": 154,
     "metadata": {},
     "output_type": "execute_result"
    },
    {
     "data": {
      "text/plain": [
       "<AxesSubplot:xlabel='q46', ylabel='Count'>"
      ]
     },
     "execution_count": 154,
     "metadata": {},
     "output_type": "execute_result"
    },
    {
     "data": {
      "text/plain": [
       "Text(0.5, 1.0, 'q46')"
      ]
     },
     "execution_count": 154,
     "metadata": {},
     "output_type": "execute_result"
    },
    {
     "data": {
      "text/plain": [
       "<AxesSubplot:xlabel='q47', ylabel='Count'>"
      ]
     },
     "execution_count": 154,
     "metadata": {},
     "output_type": "execute_result"
    },
    {
     "data": {
      "text/plain": [
       "Text(0.5, 1.0, 'q47')"
      ]
     },
     "execution_count": 154,
     "metadata": {},
     "output_type": "execute_result"
    },
    {
     "data": {
      "text/plain": [
       "<AxesSubplot:xlabel='q50', ylabel='Count'>"
      ]
     },
     "execution_count": 154,
     "metadata": {},
     "output_type": "execute_result"
    },
    {
     "data": {
      "text/plain": [
       "Text(0.5, 1.0, 'q50')"
      ]
     },
     "execution_count": 154,
     "metadata": {},
     "output_type": "execute_result"
    },
    {
     "data": {
      "text/plain": [
       "<AxesSubplot:xlabel='q51', ylabel='Count'>"
      ]
     },
     "execution_count": 154,
     "metadata": {},
     "output_type": "execute_result"
    },
    {
     "data": {
      "text/plain": [
       "Text(0.5, 1.0, 'q51')"
      ]
     },
     "execution_count": 154,
     "metadata": {},
     "output_type": "execute_result"
    },
    {
     "data": {
      "text/plain": [
       "<AxesSubplot:xlabel='q52', ylabel='Count'>"
      ]
     },
     "execution_count": 154,
     "metadata": {},
     "output_type": "execute_result"
    },
    {
     "data": {
      "text/plain": [
       "Text(0.5, 1.0, 'q52')"
      ]
     },
     "execution_count": 154,
     "metadata": {},
     "output_type": "execute_result"
    },
    {
     "data": {
      "text/plain": [
       "<AxesSubplot:xlabel='q53', ylabel='Count'>"
      ]
     },
     "execution_count": 154,
     "metadata": {},
     "output_type": "execute_result"
    },
    {
     "data": {
      "text/plain": [
       "Text(0.5, 1.0, 'q53')"
      ]
     },
     "execution_count": 154,
     "metadata": {},
     "output_type": "execute_result"
    },
    {
     "data": {
      "text/plain": [
       "<AxesSubplot:xlabel='q54', ylabel='Count'>"
      ]
     },
     "execution_count": 154,
     "metadata": {},
     "output_type": "execute_result"
    },
    {
     "data": {
      "text/plain": [
       "Text(0.5, 1.0, 'q54')"
      ]
     },
     "execution_count": 154,
     "metadata": {},
     "output_type": "execute_result"
    },
    {
     "data": {
      "text/plain": [
       "<AxesSubplot:xlabel='q55', ylabel='Count'>"
      ]
     },
     "execution_count": 154,
     "metadata": {},
     "output_type": "execute_result"
    },
    {
     "data": {
      "text/plain": [
       "Text(0.5, 1.0, 'q55')"
      ]
     },
     "execution_count": 154,
     "metadata": {},
     "output_type": "execute_result"
    },
    {
     "data": {
      "text/plain": [
       "<AxesSubplot:xlabel='q56', ylabel='Count'>"
      ]
     },
     "execution_count": 154,
     "metadata": {},
     "output_type": "execute_result"
    },
    {
     "data": {
      "text/plain": [
       "Text(0.5, 1.0, 'q56')"
      ]
     },
     "execution_count": 154,
     "metadata": {},
     "output_type": "execute_result"
    },
    {
     "data": {
      "text/plain": [
       "<AxesSubplot:xlabel='q57', ylabel='Count'>"
      ]
     },
     "execution_count": 154,
     "metadata": {},
     "output_type": "execute_result"
    },
    {
     "data": {
      "text/plain": [
       "Text(0.5, 1.0, 'q57')"
      ]
     },
     "execution_count": 154,
     "metadata": {},
     "output_type": "execute_result"
    },
    {
     "data": {
      "text/plain": [
       "<AxesSubplot:xlabel='q58', ylabel='Count'>"
      ]
     },
     "execution_count": 154,
     "metadata": {},
     "output_type": "execute_result"
    },
    {
     "data": {
      "text/plain": [
       "Text(0.5, 1.0, 'q58')"
      ]
     },
     "execution_count": 154,
     "metadata": {},
     "output_type": "execute_result"
    },
    {
     "data": {
      "text/plain": [
       "<AxesSubplot:xlabel='q67', ylabel='Count'>"
      ]
     },
     "execution_count": 154,
     "metadata": {},
     "output_type": "execute_result"
    },
    {
     "data": {
      "text/plain": [
       "Text(0.5, 1.0, 'q67')"
      ]
     },
     "execution_count": 154,
     "metadata": {},
     "output_type": "execute_result"
    },
    {
     "data": {
      "text/plain": [
       "<AxesSubplot:xlabel='q68', ylabel='Count'>"
      ]
     },
     "execution_count": 154,
     "metadata": {},
     "output_type": "execute_result"
    },
    {
     "data": {
      "text/plain": [
       "Text(0.5, 1.0, 'q68')"
      ]
     },
     "execution_count": 154,
     "metadata": {},
     "output_type": "execute_result"
    },
    {
     "data": {
      "text/plain": [
       "<AxesSubplot:xlabel='q69', ylabel='Count'>"
      ]
     },
     "execution_count": 154,
     "metadata": {},
     "output_type": "execute_result"
    },
    {
     "data": {
      "text/plain": [
       "Text(0.5, 1.0, 'q69')"
      ]
     },
     "execution_count": 154,
     "metadata": {},
     "output_type": "execute_result"
    },
    {
     "data": {
      "text/plain": [
       "<AxesSubplot:xlabel='q70', ylabel='Count'>"
      ]
     },
     "execution_count": 154,
     "metadata": {},
     "output_type": "execute_result"
    },
    {
     "data": {
      "text/plain": [
       "Text(0.5, 1.0, 'q70')"
      ]
     },
     "execution_count": 154,
     "metadata": {},
     "output_type": "execute_result"
    },
    {
     "data": {
      "text/plain": [
       "<AxesSubplot:xlabel='q79', ylabel='Count'>"
      ]
     },
     "execution_count": 154,
     "metadata": {},
     "output_type": "execute_result"
    },
    {
     "data": {
      "text/plain": [
       "Text(0.5, 1.0, 'q79')"
      ]
     },
     "execution_count": 154,
     "metadata": {},
     "output_type": "execute_result"
    },
    {
     "data": {
      "text/plain": [
       "<AxesSubplot:xlabel='q81', ylabel='Count'>"
      ]
     },
     "execution_count": 154,
     "metadata": {},
     "output_type": "execute_result"
    },
    {
     "data": {
      "text/plain": [
       "Text(0.5, 1.0, 'q81')"
      ]
     },
     "execution_count": 154,
     "metadata": {},
     "output_type": "execute_result"
    },
    {
     "data": {
      "text/plain": [
       "<AxesSubplot:xlabel='q82', ylabel='Count'>"
      ]
     },
     "execution_count": 154,
     "metadata": {},
     "output_type": "execute_result"
    },
    {
     "data": {
      "text/plain": [
       "Text(0.5, 1.0, 'q82')"
      ]
     },
     "execution_count": 154,
     "metadata": {},
     "output_type": "execute_result"
    },
    {
     "data": {
      "text/plain": [
       "<AxesSubplot:xlabel='q87', ylabel='Count'>"
      ]
     },
     "execution_count": 154,
     "metadata": {},
     "output_type": "execute_result"
    },
    {
     "data": {
      "text/plain": [
       "Text(0.5, 1.0, 'q87')"
      ]
     },
     "execution_count": 154,
     "metadata": {},
     "output_type": "execute_result"
    },
    {
     "data": {
      "image/png": "[encoded data removed]",
      "text/plain": [
       "<Figure size 1080x1080 with 50 Axes>"
      ]
     },
     "metadata": {
      "image/png": {
       "height": 877,
       "width": 917
      }
     },
     "output_type": "display_data"
    }
   ],
   "source": [
    "# Step 3: Filter Unwanted Outliers\n",
    "\n",
    "fig, axs = plt.subplots(nrows = 10, ncols = 5)    # axes is 2d array (3x3)\n",
    "axs = axs.flatten()         # Convert axes to 1d array of length 9\n",
    "fig.set_size_inches(15, 15)\n",
    "\n",
    "for ax, col in zip(axs, sex_df.columns[1:]):\n",
    "    sns.histplot(sex_df[col], ax = ax)\n",
    "    ax.set_title(col);"
   ]
  },
  {
   "cell_type": "code",
   "execution_count": 156,
   "id": "f6d2c1e9-9075-4e2c-a0eb-b3824d20bf1e",
   "metadata": {},
   "outputs": [],
   "source": [
    "# Step 4: Address Missing Values"
   ]
  },
  {
   "cell_type": "code",
   "execution_count": 159,
   "id": "07632702-0e0e-41a8-87fd-79ecc4c9b154",
   "metadata": {},
   "outputs": [
    {
     "data": {
      "text/plain": [
       "sitename     0.000000\n",
       "year         0.000000\n",
       "age          0.302232\n",
       "sex          0.669114\n",
       "grade        1.209125\n",
       "race4        2.819639\n",
       "race7        3.245222\n",
       "bmi         19.393395\n",
       "q8          22.674710\n",
       "q9          30.379237\n",
       "q12          5.107794\n",
       "q13          9.551234\n",
       "q15          4.321674\n",
       "q16          3.667038\n",
       "q17          5.254547\n",
       "q18         24.983292\n",
       "q23         43.153482\n",
       "q24         52.915921\n",
       "q25         13.169287\n",
       "q26          2.142196\n",
       "q27         27.815028\n",
       "q28         16.765328\n",
       "q29         21.848928\n",
       "q30         14.124371\n",
       "q32          7.811815\n",
       "q33         11.759865\n",
       "q38         26.030790\n",
       "q40         12.106320\n",
       "q41         10.359763\n",
       "q45         27.005904\n",
       "q46          6.199120\n",
       "q47          4.659404\n",
       "q50          6.903732\n",
       "q51         27.346609\n",
       "q52         20.236232\n",
       "q53         24.389736\n",
       "q54         37.240728\n",
       "q55         36.603146\n",
       "q56         17.355315\n",
       "q57         24.255874\n",
       "q58         16.403602\n",
       "q67         18.307424\n",
       "q68         17.600432\n",
       "q69         19.698800\n",
       "q70         19.879266\n",
       "q79         21.425923\n",
       "q81         18.545599\n",
       "q82         40.233892\n",
       "q87         37.576475\n",
       "dtype: float64"
      ]
     },
     "execution_count": 159,
     "metadata": {},
     "output_type": "execute_result"
    }
   ],
   "source": [
    "# Drop features with more than 25% NaNs; \n",
    "\n",
    "sex_df.isnull().sum() / len(sex_df) * 100"
   ]
  },
  {
   "cell_type": "code",
   "execution_count": 160,
   "id": "067457b8-1fdc-43cd-8d1c-d753fd56c31f",
   "metadata": {},
   "outputs": [],
   "source": [
    "to_drop_nans_2 = ['q9', 'q18', 'q23', 'q24', 'q27', \n",
    "                 'q38', 'q45', 'q51', 'q52', 'q53', \n",
    "                 'q54', 'q55', 'q56', 'q57', 'q67', \n",
    "                 'q68', 'q69', 'q70', 'q82', 'q87']"
   ]
  },
  {
   "cell_type": "code",
   "execution_count": 161,
   "id": "863ce22a-1a6c-49c8-a5b7-e23e67845435",
   "metadata": {},
   "outputs": [],
   "source": [
    "sex_df.drop(columns=to_drop_nans_2, inplace=True)"
   ]
  },
  {
   "cell_type": "code",
   "execution_count": 162,
   "id": "3abc704c-1d03-4466-ba2e-79bd95d76c53",
   "metadata": {},
   "outputs": [
    {
     "name": "stdout",
     "output_type": "stream",
     "text": [
      "<class 'pandas.core.frame.DataFrame'>\n",
      "Int64Index: 504249 entries, 3972 to 2226523\n",
      "Data columns (total 29 columns):\n",
      " #   Column    Non-Null Count   Dtype  \n",
      "---  ------    --------------   -----  \n",
      " 0   sitename  504249 non-null  object \n",
      " 1   year      504249 non-null  int64  \n",
      " 2   age       502725 non-null  float64\n",
      " 3   sex       500875 non-null  float64\n",
      " 4   grade     498152 non-null  float64\n",
      " 5   race4     490031 non-null  float64\n",
      " 6   race7     487885 non-null  float64\n",
      " 7   bmi       406458 non-null  float64\n",
      " 8   q8        389912 non-null  float64\n",
      " 9   q12       478493 non-null  float64\n",
      " 10  q13       456087 non-null  float64\n",
      " 11  q15       482457 non-null  float64\n",
      " 12  q16       485758 non-null  float64\n",
      " 13  q17       477753 non-null  float64\n",
      " 14  q25       437843 non-null  float64\n",
      " 15  q26       493447 non-null  float64\n",
      " 16  q28       419710 non-null  float64\n",
      " 17  q29       394076 non-null  float64\n",
      " 18  q30       433027 non-null  float64\n",
      " 19  q32       464858 non-null  float64\n",
      " 20  q33       444950 non-null  float64\n",
      " 21  q40       443203 non-null  float64\n",
      " 22  q41       452010 non-null  float64\n",
      " 23  q46       472990 non-null  float64\n",
      " 24  q47       480754 non-null  float64\n",
      " 25  q50       469437 non-null  float64\n",
      " 26  q58       421534 non-null  float64\n",
      " 27  q79       396209 non-null  float64\n",
      " 28  q81       410733 non-null  float64\n",
      "dtypes: float64(27), int64(1), object(1)\n",
      "memory usage: 115.4+ MB\n"
     ]
    }
   ],
   "source": [
    "sex_df.info()"
   ]
  },
  {
   "cell_type": "code",
   "execution_count": 163,
   "id": "12295138-2214-4207-9d0a-873d67d50699",
   "metadata": {},
   "outputs": [
    {
     "data": {
      "text/plain": [
       "2019    56770\n",
       "2011    51038\n",
       "2009    50964\n",
       "2017    50490\n",
       "2013    43482\n",
       "2015    43286\n",
       "2007    41173\n",
       "2005    39859\n",
       "2003    35692\n",
       "1997    18192\n",
       "2001    18052\n",
       "1995    16207\n",
       "1999    15990\n",
       "1993    12650\n",
       "1991    10404\n",
       "Name: year, dtype: int64"
      ]
     },
     "execution_count": 163,
     "metadata": {},
     "output_type": "execute_result"
    }
   ],
   "source": [
    "sex_df.year.value_counts()"
   ]
  },
  {
   "cell_type": "code",
   "execution_count": 165,
   "id": "5dfe862a-b376-489b-8311-036bb66c9e56",
   "metadata": {},
   "outputs": [],
   "source": [
    "# Just keep 2009 - 2019\n",
    "\n",
    "sex_df = sex_df[sex_df['year']>=2009]"
   ]
  },
  {
   "cell_type": "code",
   "execution_count": 166,
   "id": "2dde3de7-0eae-46ce-914a-98b8524d34ee",
   "metadata": {},
   "outputs": [
    {
     "name": "stdout",
     "output_type": "stream",
     "text": [
      "<class 'pandas.core.frame.DataFrame'>\n",
      "Int64Index: 296030 entries, 3961 to 2226523\n",
      "Data columns (total 29 columns):\n",
      " #   Column    Non-Null Count   Dtype  \n",
      "---  ------    --------------   -----  \n",
      " 0   sitename  296030 non-null  object \n",
      " 1   year      296030 non-null  int64  \n",
      " 2   age       295009 non-null  float64\n",
      " 3   sex       293575 non-null  float64\n",
      " 4   grade     291733 non-null  float64\n",
      " 5   race4     284810 non-null  float64\n",
      " 6   race7     284810 non-null  float64\n",
      " 7   bmi       266288 non-null  float64\n",
      " 8   q8        182785 non-null  float64\n",
      " 9   q12       275188 non-null  float64\n",
      " 10  q13       261271 non-null  float64\n",
      " 11  q15       285562 non-null  float64\n",
      " 12  q16       288658 non-null  float64\n",
      " 13  q17       279400 non-null  float64\n",
      " 14  q25       288586 non-null  float64\n",
      " 15  q26       288327 non-null  float64\n",
      " 16  q28       244354 non-null  float64\n",
      " 17  q29       222915 non-null  float64\n",
      " 18  q30       239885 non-null  float64\n",
      " 19  q32       271177 non-null  float64\n",
      " 20  q33       252745 non-null  float64\n",
      " 21  q40       256326 non-null  float64\n",
      " 22  q41       259328 non-null  float64\n",
      " 23  q46       270694 non-null  float64\n",
      " 24  q47       279342 non-null  float64\n",
      " 25  q50       272030 non-null  float64\n",
      " 26  q58       235980 non-null  float64\n",
      " 27  q79       254617 non-null  float64\n",
      " 28  q81       229325 non-null  float64\n",
      "dtypes: float64(27), int64(1), object(1)\n",
      "memory usage: 67.8+ MB\n"
     ]
    }
   ],
   "source": [
    "sex_df.info()"
   ]
  },
  {
   "cell_type": "code",
   "execution_count": 170,
   "id": "825294c4-6e01-4c40-8feb-b2c1c8e0d227",
   "metadata": {},
   "outputs": [],
   "source": [
    "sex = sex_df.dropna(subset=['q58'])"
   ]
  },
  {
   "cell_type": "code",
   "execution_count": 171,
   "id": "863d73a2-a0db-45ab-bea2-e87ec8202803",
   "metadata": {},
   "outputs": [
    {
     "name": "stdout",
     "output_type": "stream",
     "text": [
      "<class 'pandas.core.frame.DataFrame'>\n",
      "Int64Index: 235980 entries, 7354 to 2226523\n",
      "Data columns (total 29 columns):\n",
      " #   Column    Non-Null Count   Dtype  \n",
      "---  ------    --------------   -----  \n",
      " 0   sitename  235980 non-null  object \n",
      " 1   year      235980 non-null  int64  \n",
      " 2   age       235371 non-null  float64\n",
      " 3   sex       234981 non-null  float64\n",
      " 4   grade     233484 non-null  float64\n",
      " 5   race4     228751 non-null  float64\n",
      " 6   race7     228751 non-null  float64\n",
      " 7   bmi       215210 non-null  float64\n",
      " 8   q8        147368 non-null  float64\n",
      " 9   q12       220991 non-null  float64\n",
      " 10  q13       211469 non-null  float64\n",
      " 11  q15       228243 non-null  float64\n",
      " 12  q16       233261 non-null  float64\n",
      " 13  q17       224112 non-null  float64\n",
      " 14  q25       233282 non-null  float64\n",
      " 15  q26       232842 non-null  float64\n",
      " 16  q28       201038 non-null  float64\n",
      " 17  q29       188064 non-null  float64\n",
      " 18  q30       198716 non-null  float64\n",
      " 19  q32       225701 non-null  float64\n",
      " 20  q33       206649 non-null  float64\n",
      " 21  q40       209521 non-null  float64\n",
      " 22  q41       216817 non-null  float64\n",
      " 23  q46       224349 non-null  float64\n",
      " 24  q47       231910 non-null  float64\n",
      " 25  q50       224184 non-null  float64\n",
      " 26  q58       235980 non-null  float64\n",
      " 27  q79       211232 non-null  float64\n",
      " 28  q81       193357 non-null  float64\n",
      "dtypes: float64(27), int64(1), object(1)\n",
      "memory usage: 54.0+ MB\n"
     ]
    }
   ],
   "source": [
    "sex.info()"
   ]
  },
  {
   "cell_type": "code",
   "execution_count": null,
   "id": "725d2acd-bfd1-4b8d-95df-8dfafe9b3149",
   "metadata": {},
   "outputs": [],
   "source": [
    "# Impute missing values with "
   ]
  }
 ],
 "metadata": {
  "kernelspec": {
   "display_name": "Python 3",
   "language": "python",
   "name": "python3"
  },
  "language_info": {
   "codemirror_mode": {
    "name": "ipython",
    "version": 3
   },
   "file_extension": ".py",
   "mimetype": "text/x-python",
   "name": "python",
   "nbconvert_exporter": "python",
   "pygments_lexer": "ipython3",
   "version": "3.7.7"
  }
 },
 "nbformat": 4,
 "nbformat_minor": 5
}
