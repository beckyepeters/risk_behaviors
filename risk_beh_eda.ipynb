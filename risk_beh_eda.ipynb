{
 "cells": [
  {
   "cell_type": "markdown",
   "id": "6c635d5b-dd8e-4c0b-b649-bce9d8b2861f",
   "metadata": {
    "tags": []
   },
   "source": [
    "### Predicting Youth Risk Behaviors: Modeling the YRBSS"
   ]
  },
  {
   "cell_type": "code",
   "execution_count": 9,
   "id": "d73c1a8b-0fcf-44c0-b17e-2a809acfbd1b",
   "metadata": {},
   "outputs": [],
   "source": [
    "import pandas as pd\n",
    "import numpy as np\n",
    "import seaborn as sns\n",
    "import matplotlib.pyplot as plt\n",
    "plt.style.use('ggplot')\n",
    "%matplotlib inline\n",
    "import seaborn as sns\n",
    "sns.set_style('whitegrid')"
   ]
  },
  {
   "cell_type": "code",
   "execution_count": 15,
   "id": "deb4f951-fef3-4067-9bea-53e5834831ad",
   "metadata": {},
   "outputs": [],
   "source": [
    "# this one gives sample sizes based on location & grouped pop\n",
    "alc = pd.read_csv('data/Alcohol and Other Drug Use.csv')"
   ]
  },
  {
   "cell_type": "code",
   "execution_count": 19,
   "id": "763fcc96-334b-4a59-91c8-c06f62ee86c8",
   "metadata": {},
   "outputs": [
    {
     "data": {
      "text/plain": [
       "YEAR                                                                                    2017\n",
       "LocationAbbr                                                                              SA\n",
       "LocationDesc                                                                   San Diego, CA\n",
       "DataSource                                                                             YRBSS\n",
       "Topic                                                             Alcohol and Other Drug Use\n",
       "Subtopic                                                                         Alcohol Use\n",
       "ShortQuestionText                                                     Current binge drinking\n",
       "Greater_Risk_Question                                        Reported current binge drinking\n",
       "Description                                four or more drinks of alcohol in a row (if th...\n",
       "Data_Value_Symbol                                                                          %\n",
       "Data_Value_Type                                                                   Percentage\n",
       "Greater_Risk_Data_Value                                                                  NaN\n",
       "Greater_Risk_Data_Value_Footnote_Symbol                                                  NaN\n",
       "Greater_Risk_Data_Value_Footnote                                                         NaN\n",
       "Greater_Risk_Low_Confidence_Limit                                                        NaN\n",
       "Greater_Risk_High_Confidence_Limit                                                       NaN\n",
       "Lesser_Risk_Question                                      Did not report current binge drink\n",
       "Lesser_Risk_Data_Value                                                                   NaN\n",
       "Lesser_Risk_Data_Value_Footnote_Symbol                                                   NaN\n",
       "Lesser_Risk_Data_Value_Footnote                                                          NaN\n",
       "Lesser_Risk_Low_Confidence_Limit                                                         NaN\n",
       "Lesser_Risk_High_Confidence_Limit                                                        NaN\n",
       "Sample_Size                                                                               12\n",
       "Sex                                                                                    Total\n",
       "Race                                                        American Indian or Alaska Native\n",
       "Grade                                                                                  Total\n",
       "GeoLocation                                                         (32.715738, -117.161084)\n",
       "TopicId                                                                                  C03\n",
       "SubTopicID                                                                               C14\n",
       "QuestionCode                                                                             H44\n",
       "LocationId                                                                             103.0\n",
       "StratID1                                                                                  S1\n",
       "StratID2                                                                                 R10\n",
       "StratID3                                                                                  G1\n",
       "StratificationType                                                                     Local\n",
       "Name: 1, dtype: object"
      ]
     },
     "execution_count": 19,
     "metadata": {},
     "output_type": "execute_result"
    }
   ],
   "source": [
    "alc.loc[1]"
   ]
  },
  {
   "cell_type": "code",
   "execution_count": 20,
   "id": "ffd45378-f19b-4af3-8420-5a0f85975f3b",
   "metadata": {},
   "outputs": [],
   "source": [
    "# by state\n",
    "\n",
    "yrbs = pd.read_csv('data/Youth_Risk_Behavioral_Surveillance_System__YRBSS__Data.csv')"
   ]
  },
  {
   "cell_type": "code",
   "execution_count": 28,
   "id": "789feab4-a1df-4aa8-8ba7-9e908d240769",
   "metadata": {},
   "outputs": [
    {
     "data": {
      "text/plain": [
       "YEAR                                                  1999\n",
       "LocationAbbr                                            MA\n",
       "LocationDesc                                 Massachusetts\n",
       "TopicType                        Tobacco Use - Survey Data\n",
       "TopicDesc                            Cigarette Use (Youth)\n",
       "MeasureDesc                                 Smoking Status\n",
       "SubMeasure                       Frequent Cigarette Smoker\n",
       "DataSource                                           YRBSS\n",
       "Response                                          Frequent\n",
       "Data_Value_Unit                                          %\n",
       "Data_Value_Type                                 Percentage\n",
       "Data_Value                                            20.9\n",
       "Data_Value_Footnote_Symbol                             NaN\n",
       "Data_Value_Footnote                                    NaN\n",
       "Data_Value_Std_Err                                     4.4\n",
       "Low_Confidence_Limit                                  13.3\n",
       "High_Confidence_Limit                                 31.3\n",
       "Sample_Size                                          116.0\n",
       "Gender                                             Overall\n",
       "Age                                               All Ages\n",
       "Race                                         Multiple Race\n",
       "Education                                      High School\n",
       "GeoLocation                   (42.27687047, -72.082690675)\n",
       "TopicTypeId                                            BEH\n",
       "TopicId                                             106BEH\n",
       "MeasureId                                           169SSA\n",
       "StratificationID1                                     1GEN\n",
       "StratificationID2                                     8AGE\n",
       "StratificationID3                                     7RAC\n",
       "StratificationID4                                     2EDU\n",
       "SubMeasureID                                         YRB02\n",
       "DisplayOrder                                             2\n",
       "Name: 0, dtype: object"
      ]
     },
     "execution_count": 28,
     "metadata": {},
     "output_type": "execute_result"
    }
   ],
   "source": [
    "yrbs.loc[0]"
   ]
  },
  {
   "cell_type": "code",
   "execution_count": 37,
   "id": "27ca029d-3379-4db4-ba9d-505fc629f535",
   "metadata": {},
   "outputs": [
    {
     "data": {
      "text/plain": [
       "array(['Frequent Cigarette Smoker', 'Current Cigarette Smoker',\n",
       "       'Current Smokeless Tobacco User', 'Frequent Cigar Smoker',\n",
       "       'Current Cigar Smoker', 'Frequent Smokeless Tobacco User',\n",
       "       'Ever Cigarette Smoker', 'Current E-Cigarette User',\n",
       "       'Ever E-Cigarette User', 'Current Tobacco User',\n",
       "       'Frequent E-Cigarette User'], dtype=object)"
      ]
     },
     "execution_count": 37,
     "metadata": {},
     "output_type": "execute_result"
    }
   ],
   "source": [
    "yrbs.SubMeasure.unique()"
   ]
  },
  {
   "cell_type": "code",
   "execution_count": 23,
   "id": "5f31d756-5de2-43d9-acc0-02f724ce3687",
   "metadata": {},
   "outputs": [
    {
     "data": {
      "text/plain": [
       "<AxesSubplot:xlabel='YEAR', ylabel='Count'>"
      ]
     },
     "execution_count": 23,
     "metadata": {},
     "output_type": "execute_result"
    },
    {
     "data": {
      "image/png": "[encoded data removed]",
      "text/plain": [
       "<Figure size 864x360 with 1 Axes>"
      ]
     },
     "metadata": {},
     "output_type": "display_data"
    }
   ],
   "source": [
    "fig, ax = plt.subplots(figsize=(12, 5))\n",
    "sns.histplot(data = yrbs, x='YEAR')"
   ]
  },
  {
   "cell_type": "code",
   "execution_count": 38,
   "id": "f4d27f58-6b4a-4a93-95b1-e4ba8f572d56",
   "metadata": {},
   "outputs": [],
   "source": [
    "# Places is only 18 and older...could be interesting to compare to predictions from regional data for youth\n",
    "\n",
    "places = pd.read_csv('data/PLACES__Local_Data_for_Better_Health__County_Data_2020_release.csv')"
   ]
  },
  {
   "cell_type": "code",
   "execution_count": 41,
   "id": "313bd2ec-7dd1-477e-b414-b3444bceb89f",
   "metadata": {},
   "outputs": [
    {
     "data": {
      "text/plain": [
       "array(['Current lack of health insurance among adults aged 18-64 years',\n",
       "       'Cancer (excluding skin cancer) among adults aged >=18 years',\n",
       "       'Current asthma among adults aged >=18 years',\n",
       "       'Binge drinking among adults aged >=18 years',\n",
       "       'Obesity among adults aged >=18 years',\n",
       "       'Arthritis among adults aged >=18 years',\n",
       "       'Taking medicine for high blood pressure control among adults aged >=18 years with high blood pressure',\n",
       "       'Coronary heart disease among adults aged >=18 years',\n",
       "       'Mammography use among women aged 50-74 years',\n",
       "       'Visits to doctor for routine checkup within the past year among adults aged >=18 years',\n",
       "       'Stroke among adults aged >=18 years',\n",
       "       'Chronic obstructive pulmonary disease among adults aged >=18 years',\n",
       "       'High blood pressure among adults aged >=18 years',\n",
       "       'Current smoking among adults aged >=18 years',\n",
       "       'Cervical cancer screening among adult women aged 21-65 years',\n",
       "       'All teeth lost among adults aged >=65 years',\n",
       "       'Cholesterol screening among adults aged >=18 years',\n",
       "       'Diagnosed diabetes among adults aged >=18 years',\n",
       "       'Fecal occult blood test, sigmoidoscopy, or colonoscopy among adults aged 50-75 years',\n",
       "       'No leisure-time physical activity among adults aged >=18 years',\n",
       "       'Visits to dentist or dental clinic among adults aged >=18 years',\n",
       "       'Sleeping less than 7 hours among adults aged >=18 years',\n",
       "       'Mental health not good for >=14 days among adults aged >=18 years',\n",
       "       'Chronic kidney disease among adults aged >=18 years',\n",
       "       'Older adult men aged >=65 years who are up to date on a core set of clinical preventive services: Flu shot past year, PPV shot ever, Colorectal cancer screening',\n",
       "       'Physical health not good for >=14 days among adults aged >=18 years',\n",
       "       'High cholesterol among adults aged >=18 years who have been screened in the past 5 years',\n",
       "       'Older adult women aged >=65 years who are up to date on a core set of clinical preventive services: Flu shot past year, PPV shot ever, Colorectal cancer screening, and Mammogram past 2 years'],\n",
       "      dtype=object)"
      ]
     },
     "execution_count": 41,
     "metadata": {},
     "output_type": "execute_result"
    }
   ],
   "source": [
    "places.Measure.unique()"
   ]
  },
  {
   "cell_type": "code",
   "execution_count": 42,
   "id": "fe8ee85f-8f02-4aea-9fb2-6b5e9c5dc332",
   "metadata": {},
   "outputs": [],
   "source": [
    "nsch = pd.read_sas('data/nsch_2019_screener.sas7bdat')"
   ]
  },
  {
   "cell_type": "code",
   "execution_count": 46,
   "id": "b31ef2a3-e577-4dd9-8968-7541b40c1c0d",
   "metadata": {},
   "outputs": [
    {
     "data": {
      "text/html": [
       "<div>\n",
       "<style scoped>\n",
       "    .dataframe tbody tr th:only-of-type {\n",
       "        vertical-align: middle;\n",
       "    }\n",
       "\n",
       "    .dataframe tbody tr th {\n",
       "        vertical-align: top;\n",
       "    }\n",
       "\n",
       "    .dataframe thead th {\n",
       "        text-align: right;\n",
       "    }\n",
       "</style>\n",
       "<table border=\"1\" class=\"dataframe\">\n",
       "  <thead>\n",
       "    <tr style=\"text-align: right;\">\n",
       "      <th></th>\n",
       "      <th>FIPSST</th>\n",
       "      <th>STRATUM</th>\n",
       "      <th>TOTKIDS_R</th>\n",
       "      <th>TENURE</th>\n",
       "      <th>HHLANGUAGE</th>\n",
       "      <th>YEAR</th>\n",
       "      <th>CBSAFP_YN</th>\n",
       "      <th>METRO_YN</th>\n",
       "      <th>MPC_YN</th>\n",
       "      <th>TENURE_IF</th>\n",
       "      <th>...</th>\n",
       "      <th>C_K2Q16</th>\n",
       "      <th>C_K2Q17</th>\n",
       "      <th>C_K2Q18</th>\n",
       "      <th>C_K2Q19</th>\n",
       "      <th>C_K2Q20</th>\n",
       "      <th>C_K2Q21</th>\n",
       "      <th>C_K2Q22</th>\n",
       "      <th>C_K2Q23</th>\n",
       "      <th>C_CSHCN</th>\n",
       "      <th>C_FWS</th>\n",
       "    </tr>\n",
       "  </thead>\n",
       "  <tbody>\n",
       "    <tr>\n",
       "      <th>0</th>\n",
       "      <td>b'12'</td>\n",
       "      <td>b'1'</td>\n",
       "      <td>2.0</td>\n",
       "      <td>1.0</td>\n",
       "      <td>1.0</td>\n",
       "      <td>2019.0</td>\n",
       "      <td>NaN</td>\n",
       "      <td>1.0</td>\n",
       "      <td>2.0</td>\n",
       "      <td>0.0</td>\n",
       "      <td>...</td>\n",
       "      <td>2.0</td>\n",
       "      <td>NaN</td>\n",
       "      <td>NaN</td>\n",
       "      <td>2.0</td>\n",
       "      <td>NaN</td>\n",
       "      <td>NaN</td>\n",
       "      <td>2.0</td>\n",
       "      <td>NaN</td>\n",
       "      <td>2.0</td>\n",
       "      <td>3424.828387</td>\n",
       "    </tr>\n",
       "    <tr>\n",
       "      <th>1</th>\n",
       "      <td>b'12'</td>\n",
       "      <td>b'1'</td>\n",
       "      <td>2.0</td>\n",
       "      <td>1.0</td>\n",
       "      <td>1.0</td>\n",
       "      <td>2019.0</td>\n",
       "      <td>NaN</td>\n",
       "      <td>1.0</td>\n",
       "      <td>2.0</td>\n",
       "      <td>0.0</td>\n",
       "      <td>...</td>\n",
       "      <td>2.0</td>\n",
       "      <td>NaN</td>\n",
       "      <td>NaN</td>\n",
       "      <td>2.0</td>\n",
       "      <td>NaN</td>\n",
       "      <td>NaN</td>\n",
       "      <td>2.0</td>\n",
       "      <td>NaN</td>\n",
       "      <td>2.0</td>\n",
       "      <td>3424.828387</td>\n",
       "    </tr>\n",
       "    <tr>\n",
       "      <th>2</th>\n",
       "      <td>b'05'</td>\n",
       "      <td>b'2A'</td>\n",
       "      <td>2.0</td>\n",
       "      <td>1.0</td>\n",
       "      <td>1.0</td>\n",
       "      <td>2019.0</td>\n",
       "      <td>1.0</td>\n",
       "      <td>1.0</td>\n",
       "      <td>1.0</td>\n",
       "      <td>0.0</td>\n",
       "      <td>...</td>\n",
       "      <td>2.0</td>\n",
       "      <td>NaN</td>\n",
       "      <td>NaN</td>\n",
       "      <td>2.0</td>\n",
       "      <td>NaN</td>\n",
       "      <td>NaN</td>\n",
       "      <td>2.0</td>\n",
       "      <td>NaN</td>\n",
       "      <td>2.0</td>\n",
       "      <td>947.229736</td>\n",
       "    </tr>\n",
       "    <tr>\n",
       "      <th>3</th>\n",
       "      <td>b'05'</td>\n",
       "      <td>b'2A'</td>\n",
       "      <td>2.0</td>\n",
       "      <td>1.0</td>\n",
       "      <td>1.0</td>\n",
       "      <td>2019.0</td>\n",
       "      <td>1.0</td>\n",
       "      <td>1.0</td>\n",
       "      <td>1.0</td>\n",
       "      <td>0.0</td>\n",
       "      <td>...</td>\n",
       "      <td>2.0</td>\n",
       "      <td>NaN</td>\n",
       "      <td>NaN</td>\n",
       "      <td>2.0</td>\n",
       "      <td>NaN</td>\n",
       "      <td>NaN</td>\n",
       "      <td>2.0</td>\n",
       "      <td>NaN</td>\n",
       "      <td>2.0</td>\n",
       "      <td>949.255374</td>\n",
       "    </tr>\n",
       "    <tr>\n",
       "      <th>4</th>\n",
       "      <td>b'54'</td>\n",
       "      <td>b'1'</td>\n",
       "      <td>2.0</td>\n",
       "      <td>2.0</td>\n",
       "      <td>1.0</td>\n",
       "      <td>2019.0</td>\n",
       "      <td>NaN</td>\n",
       "      <td>NaN</td>\n",
       "      <td>NaN</td>\n",
       "      <td>0.0</td>\n",
       "      <td>...</td>\n",
       "      <td>2.0</td>\n",
       "      <td>NaN</td>\n",
       "      <td>NaN</td>\n",
       "      <td>2.0</td>\n",
       "      <td>NaN</td>\n",
       "      <td>NaN</td>\n",
       "      <td>2.0</td>\n",
       "      <td>NaN</td>\n",
       "      <td>1.0</td>\n",
       "      <td>198.119753</td>\n",
       "    </tr>\n",
       "  </tbody>\n",
       "</table>\n",
       "<p>5 rows × 40 columns</p>\n",
       "</div>"
      ],
      "text/plain": [
       "  FIPSST STRATUM  TOTKIDS_R  TENURE  HHLANGUAGE    YEAR  CBSAFP_YN  METRO_YN  \\\n",
       "0  b'12'    b'1'        2.0     1.0         1.0  2019.0        NaN       1.0   \n",
       "1  b'12'    b'1'        2.0     1.0         1.0  2019.0        NaN       1.0   \n",
       "2  b'05'   b'2A'        2.0     1.0         1.0  2019.0        1.0       1.0   \n",
       "3  b'05'   b'2A'        2.0     1.0         1.0  2019.0        1.0       1.0   \n",
       "4  b'54'    b'1'        2.0     2.0         1.0  2019.0        NaN       NaN   \n",
       "\n",
       "   MPC_YN  TENURE_IF  ... C_K2Q16  C_K2Q17  C_K2Q18  C_K2Q19  C_K2Q20  \\\n",
       "0     2.0        0.0  ...     2.0      NaN      NaN      2.0      NaN   \n",
       "1     2.0        0.0  ...     2.0      NaN      NaN      2.0      NaN   \n",
       "2     1.0        0.0  ...     2.0      NaN      NaN      2.0      NaN   \n",
       "3     1.0        0.0  ...     2.0      NaN      NaN      2.0      NaN   \n",
       "4     NaN        0.0  ...     2.0      NaN      NaN      2.0      NaN   \n",
       "\n",
       "   C_K2Q21  C_K2Q22  C_K2Q23  C_CSHCN        C_FWS  \n",
       "0      NaN      2.0      NaN      2.0  3424.828387  \n",
       "1      NaN      2.0      NaN      2.0  3424.828387  \n",
       "2      NaN      2.0      NaN      2.0   947.229736  \n",
       "3      NaN      2.0      NaN      2.0   949.255374  \n",
       "4      NaN      2.0      NaN      1.0   198.119753  \n",
       "\n",
       "[5 rows x 40 columns]"
      ]
     },
     "execution_count": 46,
     "metadata": {},
     "output_type": "execute_result"
    }
   ],
   "source": [
    "nsch.head()"
   ]
  },
  {
   "cell_type": "code",
   "execution_count": 60,
   "id": "817dd135-173f-43a5-8fa8-67cebbbdb8ac",
   "metadata": {},
   "outputs": [],
   "source": [
    "dash_ms = pd.read_csv('data/DASH_-_Youth_Risk_Behavior_Surveillance_System__YRBSS___Middle_School.csv')"
   ]
  },
  {
   "cell_type": "code",
   "execution_count": 62,
   "id": "30684fa4-6516-4d3a-893f-8f66f4adbcae",
   "metadata": {},
   "outputs": [
    {
     "data": {
      "text/plain": [
       "array([2011, 1995, 2001, 2007, 1999, 2005, 2017, 2013, 2015, 2009, 2003,\n",
       "       1997])"
      ]
     },
     "execution_count": 62,
     "metadata": {},
     "output_type": "execute_result"
    }
   ],
   "source": [
    "dash_ms.YEAR.unique()"
   ]
  },
  {
   "cell_type": "code",
   "execution_count": 65,
   "id": "ddeaf11e-0749-48b9-ad89-2e820e1db24f",
   "metadata": {},
   "outputs": [
    {
     "data": {
      "text/plain": [
       "7200"
      ]
     },
     "execution_count": 65,
     "metadata": {},
     "output_type": "execute_result"
    }
   ],
   "source": [
    "len(dash_ms[dash_ms['LocationDesc']=='Colorado'])"
   ]
  },
  {
   "cell_type": "code",
   "execution_count": 63,
   "id": "233cbe33-9359-41a8-9278-d665e8890281",
   "metadata": {},
   "outputs": [],
   "source": [
    "dash_ms_co = dash_ms[dash_ms['LocationDesc']=='Colorado']"
   ]
  },
  {
   "cell_type": "code",
   "execution_count": 64,
   "id": "f75373af-c9fa-4245-8b62-283a5e6a57ed",
   "metadata": {},
   "outputs": [
    {
     "name": "stdout",
     "output_type": "stream",
     "text": [
      "<class 'pandas.core.frame.DataFrame'>\n",
      "Int64Index: 7200 entries, 9 to 750815\n",
      "Data columns (total 35 columns):\n",
      " #   Column                                   Non-Null Count  Dtype  \n",
      "---  ------                                   --------------  -----  \n",
      " 0   YEAR                                     7200 non-null   int64  \n",
      " 1   LocationAbbr                             7200 non-null   object \n",
      " 2   LocationDesc                             7200 non-null   object \n",
      " 3   DataSource                               7200 non-null   object \n",
      " 4   Topic                                    7200 non-null   object \n",
      " 5   Subtopic                                 7200 non-null   object \n",
      " 6   ShortQuestionText                        7200 non-null   object \n",
      " 7   Greater_Risk_Question                    7200 non-null   object \n",
      " 8   Description                              5280 non-null   object \n",
      " 9   Data_Value_Symbol                        7200 non-null   object \n",
      " 10  Data_Value_Type                          7200 non-null   object \n",
      " 11  Greater_Risk_Data_Value                  2054 non-null   float64\n",
      " 12  Greater_Risk_Data_Value_Footnote_Symbol  0 non-null      float64\n",
      " 13  Greater_Risk_Data_Value_Footnote         0 non-null      float64\n",
      " 14  Greater_Risk_Low_Confidence_Limit        2054 non-null   float64\n",
      " 15  Greater_Risk_High_Confidence_Limit       2054 non-null   float64\n",
      " 16  Lesser_Risk_Question                     6816 non-null   object \n",
      " 17  Lesser_Risk_Data_Value                   2054 non-null   float64\n",
      " 18  Lesser_Risk_Data_Value_Footnote_Symbol   0 non-null      float64\n",
      " 19  Lesser_Risk_Data_Value_Footnote          0 non-null      float64\n",
      " 20  Lesser_Risk_Low_Confidence_Limit         2054 non-null   float64\n",
      " 21  Lesser_Risk_High_Confidence_Limit        2054 non-null   float64\n",
      " 22  Sample_Size                              7200 non-null   int64  \n",
      " 23  Sex                                      7200 non-null   object \n",
      " 24  Race                                     7200 non-null   object \n",
      " 25  Grade                                    7200 non-null   object \n",
      " 26  GeoLocation                              7200 non-null   object \n",
      " 27  TopicId                                  7200 non-null   object \n",
      " 28  SubTopicID                               7200 non-null   object \n",
      " 29  QuestionCode                             7200 non-null   object \n",
      " 30  LocationId                               7200 non-null   float64\n",
      " 31  StratID1                                 7200 non-null   object \n",
      " 32  StratID2                                 7200 non-null   object \n",
      " 33  StratID3                                 7200 non-null   object \n",
      " 34  StratificationType                       7200 non-null   object \n",
      "dtypes: float64(11), int64(2), object(22)\n",
      "memory usage: 2.0+ MB\n"
     ]
    }
   ],
   "source": [
    "dash_ms_co.info()"
   ]
  },
  {
   "cell_type": "code",
   "execution_count": 55,
   "id": "49c387ec-ea5a-4d34-bce1-3adcea8795d3",
   "metadata": {},
   "outputs": [
    {
     "name": "stdout",
     "output_type": "stream",
     "text": [
      "<class 'pandas.core.frame.DataFrame'>\n",
      "Int64Index: 7200 entries, 9 to 750815\n",
      "Data columns (total 35 columns):\n",
      " #   Column                                   Non-Null Count  Dtype  \n",
      "---  ------                                   --------------  -----  \n",
      " 0   YEAR                                     7200 non-null   int64  \n",
      " 1   LocationAbbr                             7200 non-null   object \n",
      " 2   LocationDesc                             7200 non-null   object \n",
      " 3   DataSource                               7200 non-null   object \n",
      " 4   Topic                                    7200 non-null   object \n",
      " 5   Subtopic                                 7200 non-null   object \n",
      " 6   ShortQuestionText                        7200 non-null   object \n",
      " 7   Greater_Risk_Question                    7200 non-null   object \n",
      " 8   Description                              5280 non-null   object \n",
      " 9   Data_Value_Symbol                        7200 non-null   object \n",
      " 10  Data_Value_Type                          7200 non-null   object \n",
      " 11  Greater_Risk_Data_Value                  2054 non-null   float64\n",
      " 12  Greater_Risk_Data_Value_Footnote_Symbol  0 non-null      float64\n",
      " 13  Greater_Risk_Data_Value_Footnote         0 non-null      float64\n",
      " 14  Greater_Risk_Low_Confidence_Limit        2054 non-null   float64\n",
      " 15  Greater_Risk_High_Confidence_Limit       2054 non-null   float64\n",
      " 16  Lesser_Risk_Question                     6816 non-null   object \n",
      " 17  Lesser_Risk_Data_Value                   2054 non-null   float64\n",
      " 18  Lesser_Risk_Data_Value_Footnote_Symbol   0 non-null      float64\n",
      " 19  Lesser_Risk_Data_Value_Footnote          0 non-null      float64\n",
      " 20  Lesser_Risk_Low_Confidence_Limit         2054 non-null   float64\n",
      " 21  Lesser_Risk_High_Confidence_Limit        2054 non-null   float64\n",
      " 22  Sample_Size                              7200 non-null   int64  \n",
      " 23  Sex                                      7200 non-null   object \n",
      " 24  Race                                     7200 non-null   object \n",
      " 25  Grade                                    7200 non-null   object \n",
      " 26  GeoLocation                              7200 non-null   object \n",
      " 27  TopicId                                  7200 non-null   object \n",
      " 28  SubTopicID                               7200 non-null   object \n",
      " 29  QuestionCode                             7200 non-null   object \n",
      " 30  LocationId                               7200 non-null   float64\n",
      " 31  StratID1                                 7200 non-null   object \n",
      " 32  StratID2                                 7200 non-null   object \n",
      " 33  StratID3                                 7200 non-null   object \n",
      " 34  StratificationType                       7200 non-null   object \n",
      "dtypes: float64(11), int64(2), object(22)\n",
      "memory usage: 2.0+ MB\n"
     ]
    }
   ],
   "source": [
    "dash_ms_co.Greater_Risk_Data_Valueinfo()"
   ]
  },
  {
   "cell_type": "code",
   "execution_count": null,
   "id": "fbb20165-1388-4da7-a4d3-c832b9d64be9",
   "metadata": {},
   "outputs": [],
   "source": []
  }
 ],
 "metadata": {
  "kernelspec": {
   "display_name": "Python 3",
   "language": "python",
   "name": "python3"
  },
  "language_info": {
   "codemirror_mode": {
    "name": "ipython",
    "version": 3
   },
   "file_extension": ".py",
   "mimetype": "text/x-python",
   "name": "python",
   "nbconvert_exporter": "python",
   "pygments_lexer": "ipython3",
   "version": "3.8.8"
  }
 },
 "nbformat": 4,
 "nbformat_minor": 5
}
